{
 "cells": [
  {
   "cell_type": "markdown",
   "source": "# Сборный проект 2",
   "metadata": {
    "tags": [],
    "cell_id": "00004-3d207795-6d8a-4dfb-8e79-20c7d45d2e8d",
    "deepnote_cell_type": "markdown"
   }
  },
  {
   "cell_type": "markdown",
   "source": "Менеджеры испугались, что дизайнеры сломают все воронки приложения, и попросили провести анализ результатов A/A/B-тестирования, чтобы принятие решения относительно изменений дизайна было обоснованным.",
   "metadata": {
    "tags": [],
    "cell_id": "00005-75c39f94-7921-4f68-9b7a-f3aa93612f4e",
    "deepnote_cell_type": "markdown"
   }
  },
  {
   "cell_type": "markdown",
   "source": "## Структура проекта\n1. [Начало](#inception)\n1. [Предобработка](#preprocessing)\n1. [Анализ](#analisys)\n1. [Выводы](#conclusions)",
   "metadata": {
    "tags": [],
    "cell_id": "00006-1686d6ab-eb7a-4de5-87a5-fa251d64de9d",
    "deepnote_cell_type": "markdown"
   }
  },
  {
   "cell_type": "markdown",
   "source": "## Начало\n<a id='inception' name='inception'></a>\nWe need to go deeper",
   "metadata": {
    "tags": [],
    "cell_id": "00007-c9d51cbf-10e3-4cb8-b980-b1ccd43734a0",
    "deepnote_cell_type": "markdown"
   }
  },
  {
   "cell_type": "code",
   "metadata": {
    "deepnote_to_be_reexecuted": false,
    "execution_millis": 773,
    "execution_start": 1620920335407,
    "source_hash": "e4f1f6f",
    "tags": [],
    "cell_id": "00010-a1843fea-95cb-41fd-9ddc-eab8ec90c93e",
    "deepnote_cell_type": "code"
   },
   "source": "from os import environ\nimport re\n\nimport pandas as pd\nimport numpy as np\nfrom scipy import stats as st\n\nfrom warnings import filterwarnings\nfilterwarnings('ignore')",
   "execution_count": 33,
   "outputs": []
  },
  {
   "cell_type": "code",
   "metadata": {
    "deepnote_to_be_reexecuted": false,
    "execution_millis": 8,
    "execution_start": 1620920336190,
    "source_hash": "82b963e5",
    "tags": [],
    "cell_id": "00011-f1156321-b0eb-45ce-8433-43496dc6cb6d",
    "deepnote_cell_type": "code"
   },
   "source": "pd.set_option(\n    'display.float_format', lambda x: '%.3f' % x\n)",
   "execution_count": 34,
   "outputs": []
  },
  {
   "cell_type": "code",
   "metadata": {
    "deepnote_to_be_reexecuted": false,
    "execution_millis": 6,
    "execution_start": 1620920336220,
    "source_hash": "20000f0",
    "tags": [],
    "cell_id": "00012-8fb46a33-03cf-428e-b4b1-6699b028f55a",
    "deepnote_cell_type": "code"
   },
   "source": "def read_csv(func: 'pd.read_csv'=pd.read_csv) ->pd.DataFrame:\n    \"\"\"Wrapper for pd.read_csv.\"\"\"\n    def wrapper(*args, **kwargs: 'pd.read_csv parameters') -> pd.DataFrame:\n        \"\"\"\n        Return a DataFrame from csv with true and ordered columns and sort by\n        datetime, and display 5 randow rows and df.info().\n        \"\"\"\n        df = func(*args, **kwargs)\n        \n\n        if kwargs.get('names', None) is None:\n            df.columns = [\n                re.sub('([a-z])([A-Z]+)', r'\\1_\\2', col).strip().lower().replace(' ', '_') \n                for col \n                in df.columns\n                ]\n\n        parse_dates = kwargs.get('parse_dates', None)\n        if parse_dates is not None and df.select_dtypes('datetime').isnull:\n            df.iloc[:, parse_dates[0]] = pd.to_datetime(df.iloc[:, parse_dates[0]], unit='s')\n\n        if not df.select_dtypes('datetime').isnull:\n            date_column = df.select_dtypes('datetime').columns[0]\n            df = df.sort_values(date_column).reset_index(drop=True)\n\n        columns_indeces = kwargs.get(\n            'usecols', \n            np.arange(df.shape[1])\n        )\n        df = df.iloc[:, columns_indeces]\n        \n        display(\n            df.sample(5, random_state=42).sort_index()\n        )\n        print()\n        df.info(memory_usage='deep')\n\n        return df\n    return wrapper\n\ntrue_read_csv = read_csv()",
   "execution_count": 35,
   "outputs": []
  },
  {
   "cell_type": "code",
   "metadata": {
    "deepnote_to_be_reexecuted": false,
    "execution_millis": 5097,
    "execution_start": 1620920336234,
    "source_hash": "a5889094",
    "tags": [],
    "cell_id": "00013-db3d0bf6-46bd-4aee-a171-c058f40493a2",
    "deepnote_cell_type": "code"
   },
   "source": "try:\n    PATH = environ['LOGS_EXP']\nexcept KeyError:\n    PATH = '/datasets/logs_exp.csv'\n\ndata = true_read_csv(\n    filepath_or_buffer = PATH, \n    sep='\\t',\n    names = ['event', 'id', 'ts', 'group'],\n    parse_dates = [2],\n    skiprows = [0],\n    dtype = {\n        3: 'category', \n        0: 'category'\n        },\n    usecols = [2, 0, 1, 3]\n)",
   "execution_count": 36,
   "outputs": [
    {
     "data": {
      "text/html": "<div>\n<style scoped>\n    .dataframe tbody tr th:only-of-type {\n        vertical-align: middle;\n    }\n\n    .dataframe tbody tr th {\n        vertical-align: top;\n    }\n\n    .dataframe thead th {\n        text-align: right;\n    }\n</style>\n<table border=\"1\" class=\"dataframe\">\n  <thead>\n    <tr style=\"text-align: right;\">\n      <th></th>\n      <th>ts</th>\n      <th>event</th>\n      <th>id</th>\n      <th>group</th>\n    </tr>\n  </thead>\n  <tbody>\n    <tr>\n      <th>16881</th>\n      <td>2019-08-01 11:36:38</td>\n      <td>CartScreenAppear</td>\n      <td>197027893265565660</td>\n      <td>246</td>\n    </tr>\n    <tr>\n      <th>33362</th>\n      <td>2019-08-01 18:14:01</td>\n      <td>MainScreenAppear</td>\n      <td>3008457239613772584</td>\n      <td>248</td>\n    </tr>\n    <tr>\n      <th>100536</th>\n      <td>2019-08-03 16:44:30</td>\n      <td>PaymentScreenSuccessful</td>\n      <td>2910761286178294850</td>\n      <td>248</td>\n    </tr>\n    <tr>\n      <th>222854</th>\n      <td>2019-08-07 09:55:33</td>\n      <td>MainScreenAppear</td>\n      <td>499118262689586521</td>\n      <td>247</td>\n    </tr>\n    <tr>\n      <th>243827</th>\n      <td>2019-08-07 20:41:35</td>\n      <td>MainScreenAppear</td>\n      <td>4164287718073415198</td>\n      <td>246</td>\n    </tr>\n  </tbody>\n</table>\n</div>",
      "text/plain": "                        ts                    event                   id group\n16881  2019-08-01 11:36:38         CartScreenAppear   197027893265565660   246\n33362  2019-08-01 18:14:01         MainScreenAppear  3008457239613772584   248\n100536 2019-08-03 16:44:30  PaymentScreenSuccessful  2910761286178294850   248\n222854 2019-08-07 09:55:33         MainScreenAppear   499118262689586521   247\n243827 2019-08-07 20:41:35         MainScreenAppear  4164287718073415198   246"
     },
     "metadata": {},
     "output_type": "display_data"
    },
    {
     "name": "stdout",
     "output_type": "stream",
     "text": "\n<class 'pandas.core.frame.DataFrame'>\nRangeIndex: 244126 entries, 0 to 244125\nData columns (total 4 columns):\n #   Column  Non-Null Count   Dtype         \n---  ------  --------------   -----         \n 0   ts      244126 non-null  datetime64[ns]\n 1   event   244126 non-null  category      \n 2   id      244126 non-null  int64         \n 3   group   244126 non-null  category      \ndtypes: category(2), datetime64[ns](1), int64(1)\nmemory usage: 4.2 MB\n"
    }
   ]
  },
  {
   "cell_type": "markdown",
   "source": "Пропусков нет, типы данных нормальные.",
   "metadata": {
    "tags": [],
    "cell_id": "00014-510ab11b-7d29-462f-b33a-deb336af0d98",
    "deepnote_cell_type": "markdown"
   }
  },
  {
   "cell_type": "markdown",
   "source": "---",
   "metadata": {
    "tags": [],
    "cell_id": "00017-e1269da3-51b7-4f9f-ac64-304722e02464",
    "deepnote_cell_type": "markdown"
   }
  },
  {
   "cell_type": "markdown",
   "source": "## Предобработка\n<a id='preprocessing' name='preprocessing'></a>\nПредобработаем их хорошенько",
   "metadata": {
    "tags": [],
    "cell_id": "00018-0038b881-3a1c-41bf-821d-5531f5787e6a",
    "deepnote_cell_type": "markdown"
   }
  },
  {
   "cell_type": "markdown",
   "source": "Для начала проверим данные на самые грубые дубликаты:",
   "metadata": {
    "cell_id": "00019-6e22ea62-581a-4c10-a074-dfc3571fa909",
    "deepnote_cell_type": "markdown"
   }
  },
  {
   "cell_type": "code",
   "metadata": {
    "cell_id": "00020-01281d34-bae3-40ba-8b5f-f4cac37a2beb",
    "deepnote_cell_type": "code"
   },
   "source": "data.duplicated().mean()",
   "execution_count": 37,
   "outputs": [
    {
     "data": {
      "text/plain": "0.0016917493425526163"
     },
     "execution_count": 37,
     "metadata": {},
     "output_type": "execute_result"
    }
   ]
  },
  {
   "cell_type": "markdown",
   "source": "Меньше пятой части процента. Удалим их:",
   "metadata": {
    "cell_id": "00021-e690f89c-16a7-4573-88bf-a5d796754254",
    "deepnote_cell_type": "markdown"
   }
  },
  {
   "cell_type": "code",
   "metadata": {
    "cell_id": "00022-dfd5749b-d295-4e4a-8004-bca85b68a571",
    "deepnote_cell_type": "code"
   },
   "source": "data = data.drop_duplicates().reset_index(drop=True)",
   "execution_count": 38,
   "outputs": []
  },
  {
   "cell_type": "markdown",
   "source": "Продолжим поиском мусора по столбцам.\n<br>\nСобытия:",
   "metadata": {
    "cell_id": "00023-01d0a895-f577-49e8-bd64-8fc5a46f9b4f",
    "deepnote_cell_type": "markdown"
   }
  },
  {
   "cell_type": "code",
   "metadata": {
    "deepnote_to_be_reexecuted": false,
    "execution_millis": 13,
    "execution_start": 1620920341327,
    "source_hash": "c446f709",
    "tags": [],
    "cell_id": "00024-37e2c8b1-8468-4f37-a7f4-dc5836bddbcf",
    "deepnote_cell_type": "code"
   },
   "source": "data['event'].value_counts()",
   "execution_count": 39,
   "outputs": [
    {
     "data": {
      "text/plain": "MainScreenAppear           119101\nOffersScreenAppear          46808\nCartScreenAppear            42668\nPaymentScreenSuccessful     34118\nTutorial                     1018\nName: event, dtype: int64"
     },
     "execution_count": 39,
     "metadata": {},
     "output_type": "execute_result"
    }
   ]
  },
  {
   "cell_type": "markdown",
   "source": "С событиями всё в норме.\n<br>\nПроверим группы:",
   "metadata": {
    "tags": [],
    "cell_id": "00025-91befa65-4f4a-4a11-bb7c-58d7047a301d",
    "deepnote_cell_type": "markdown"
   }
  },
  {
   "cell_type": "code",
   "metadata": {
    "deepnote_to_be_reexecuted": false,
    "execution_millis": 52,
    "execution_start": 1620920341385,
    "source_hash": "fdb94a11",
    "tags": [],
    "cell_id": "00026-c04caba6-2677-471e-b960-45775117d8b5",
    "deepnote_cell_type": "code"
   },
   "source": "data.groupby('group').agg(\n    pct=('id', lambda x: x.nunique() / data['id'].nunique()), \n    nunique=('id', 'nunique'), \n    count=('id', 'count')\n    )",
   "execution_count": 40,
   "outputs": [
    {
     "data": {
      "text/html": "<div>\n<style scoped>\n    .dataframe tbody tr th:only-of-type {\n        vertical-align: middle;\n    }\n\n    .dataframe tbody tr th {\n        vertical-align: top;\n    }\n\n    .dataframe thead th {\n        text-align: right;\n    }\n</style>\n<table border=\"1\" class=\"dataframe\">\n  <thead>\n    <tr style=\"text-align: right;\">\n      <th></th>\n      <th>pct</th>\n      <th>nunique</th>\n      <th>count</th>\n    </tr>\n    <tr>\n      <th>group</th>\n      <th></th>\n      <th></th>\n      <th></th>\n    </tr>\n  </thead>\n  <tbody>\n    <tr>\n      <th>246</th>\n      <td>0.330</td>\n      <td>2489</td>\n      <td>80181</td>\n    </tr>\n    <tr>\n      <th>247</th>\n      <td>0.334</td>\n      <td>2520</td>\n      <td>77950</td>\n    </tr>\n    <tr>\n      <th>248</th>\n      <td>0.337</td>\n      <td>2542</td>\n      <td>85582</td>\n    </tr>\n  </tbody>\n</table>\n</div>",
      "text/plain": "        pct  nunique  count\ngroup                      \n246   0.330     2489  80181\n247   0.334     2520  77950\n248   0.337     2542  85582"
     },
     "execution_count": 40,
     "metadata": {},
     "output_type": "execute_result"
    }
   ]
  },
  {
   "cell_type": "markdown",
   "source": "Заодно проверили корректность разбиения пользователей на группы.\n<br>\nОтклонения в рамках допустимого, мусора нет.\n<br>\nПойдём дальше:",
   "metadata": {
    "tags": [],
    "cell_id": "00027-7785f195-6a3a-43f5-9f8a-c5537a158011",
    "deepnote_cell_type": "markdown"
   }
  },
  {
   "cell_type": "code",
   "metadata": {
    "deepnote_to_be_reexecuted": false,
    "execution_millis": 11,
    "execution_start": 1620920341426,
    "source_hash": "74b5f6b7",
    "tags": [],
    "cell_id": "00028-f0eddee0-ef5b-48e5-affd-1296fc505dc3",
    "deepnote_cell_type": "code"
   },
   "source": "data['ts'].agg(['min', 'max'])",
   "execution_count": 41,
   "outputs": [
    {
     "data": {
      "text/plain": "min   2019-07-25 04:43:36\nmax   2019-08-07 21:15:17\nName: ts, dtype: datetime64[ns]"
     },
     "execution_count": 41,
     "metadata": {},
     "output_type": "execute_result"
    }
   ]
  },
  {
   "cell_type": "markdown",
   "source": "Имеем данные за 07/25 - 08/07. \n<br>\nВзглянем дополнительно на респределение данных по часам:",
   "metadata": {
    "tags": [],
    "cell_id": "00029-c770f6f3-a3db-4fde-8738-117769cf0ec3",
    "deepnote_cell_type": "markdown"
   }
  },
  {
   "cell_type": "code",
   "metadata": {
    "deepnote_to_be_reexecuted": false,
    "execution_millis": 1137,
    "execution_start": 1620920341427,
    "source_hash": "99628ce6",
    "tags": [],
    "cell_id": "00030-3d8f0afb-b59b-486b-a389-88bfcc45010f",
    "deepnote_cell_type": "code"
   },
   "source": "data['ts'].astype('datetime64[h]').hist(bins=100, figsize=(15, 7))",
   "execution_count": 42,
   "outputs": [
    {
     "data": {
      "text/plain": "<matplotlib.axes._subplots.AxesSubplot at 0x7fd3f5b22dd0>"
     },
     "execution_count": 42,
     "metadata": {},
     "output_type": "execute_result"
    },
    {
     "data": {
      "image/png": "[encoded data removed]",
      "text/plain": "<Figure size 1080x504 with 1 Axes>"
     },
     "metadata": {
      "needs_background": "light",
      "image/png": {
       "width": 883,
       "height": 411
      }
     },
     "output_type": "display_data"
    }
   ]
  },
  {
   "cell_type": "markdown",
   "source": "Видно, что полноценные данные имеются только для первой недели августа. \n<br>\nОтфильтруем лишнее:",
   "metadata": {
    "tags": [],
    "cell_id": "00034-a4556dd9-0492-4b76-a2e9-82d1830015ff",
    "deepnote_cell_type": "markdown"
   }
  },
  {
   "cell_type": "code",
   "metadata": {
    "deepnote_to_be_reexecuted": false,
    "execution_millis": 6,
    "execution_start": 1620920342606,
    "source_hash": "8e682b19",
    "tags": [],
    "cell_id": "00035-fef28c73-9f7d-4a01-a590-f0be35e45956",
    "deepnote_cell_type": "code"
   },
   "source": "df = data[data['ts'] >= '2019-08-01'].reset_index(drop=True)\n(df['id'].nunique() / data['id'].nunique()) - 1",
   "execution_count": 43,
   "outputs": [
    {
     "data": {
      "text/plain": "-0.0022513574361011646"
     },
     "execution_count": 43,
     "metadata": {},
     "output_type": "execute_result"
    }
   ]
  },
  {
   "cell_type": "code",
   "metadata": {
    "deepnote_to_be_reexecuted": false,
    "execution_millis": 6,
    "execution_start": 1620920342606,
    "source_hash": "b4e64600",
    "tags": [],
    "cell_id": "00036-2554753d-e26d-4ee9-a932-fe2d7f53e300",
    "deepnote_cell_type": "code"
   },
   "source": "(df['event'].count() / data['event'].count()) - 1",
   "execution_count": 44,
   "outputs": [
    {
     "data": {
      "text/plain": "-0.01159560630741896"
     },
     "execution_count": 44,
     "metadata": {},
     "output_type": "execute_result"
    }
   ]
  },
  {
   "cell_type": "markdown",
   "source": "Исключили всего 1% событий и меньше половины процента пользователей.",
   "metadata": {
    "tags": [],
    "cell_id": "00037-ddf3ad5d-eb19-4f46-b79e-3844da65a73e",
    "deepnote_cell_type": "markdown"
   }
  },
  {
   "cell_type": "code",
   "metadata": {
    "deepnote_to_be_reexecuted": false,
    "execution_millis": 50,
    "execution_start": 1620920342607,
    "source_hash": "d008e864",
    "tags": [],
    "cell_id": "00038-bd02ff6d-56e6-4437-8293-b248ae92c028",
    "deepnote_cell_type": "code"
   },
   "source": "df['id'].value_counts().describe()",
   "execution_count": 45,
   "outputs": [
    {
     "data": {
      "text/plain": "count   7534.000\nmean      31.973\nstd       65.090\nmin        1.000\n25%        9.000\n50%       19.000\n75%       37.000\nmax     2307.000\nName: id, dtype: float64"
     },
     "execution_count": 45,
     "metadata": {},
     "output_type": "execute_result"
    }
   ]
  },
  {
   "cell_type": "markdown",
   "source": "Видно, что распределение количества действий на пользователя перекошено влево, из-за чего среднее количество действий почти в два раза больше медианного. ",
   "metadata": {
    "tags": [],
    "cell_id": "00039-1c96a606-d7db-40ed-b4c1-ec48a8d48187",
    "deepnote_cell_type": "markdown"
   }
  },
  {
   "cell_type": "code",
   "metadata": {
    "deepnote_to_be_reexecuted": false,
    "execution_millis": 797,
    "execution_start": 1620920342650,
    "source_hash": "1ee9b093",
    "tags": [],
    "cell_id": "00040-673232e2-05c9-4683-9c92-8d2115fe74a1",
    "deepnote_cell_type": "code"
   },
   "source": "df.groupby('id')['event'].first().value_counts(normalize=True)",
   "execution_count": 46,
   "outputs": [
    {
     "data": {
      "text/plain": "MainScreenAppear          0.837\nTutorial                  0.104\nOffersScreenAppear        0.038\nPaymentScreenSuccessful   0.013\nCartScreenAppear          0.008\nName: event, dtype: float64"
     },
     "execution_count": 46,
     "metadata": {},
     "output_type": "execute_result"
    }
   ]
  },
  {
   "cell_type": "markdown",
   "source": "Имеем 5% *id*, первое событие для которых не *MainScreenAppear* или *Tutorial*. В принципе, такое вполне может быть, потому что у нас в качестве идентификатора используется *device_id*, но лучше удалить такие *id*, потому что они исказят картину:",
   "metadata": {
    "tags": [],
    "cell_id": "00041-ff0904bc-2629-4615-accf-2fcb13da14c0",
    "deepnote_cell_type": "markdown"
   }
  },
  {
   "cell_type": "code",
   "metadata": {
    "deepnote_to_be_reexecuted": false,
    "execution_millis": 1602,
    "execution_start": 1620920343443,
    "source_hash": "5f65f3e",
    "tags": [],
    "cell_id": "00042-0bbab595-693b-4055-9677-148f9a3215d4",
    "deepnote_cell_type": "code"
   },
   "source": "df = df.groupby('id').filter(lambda x: x.iloc[0, 1] in ['MainScreenAppear', 'Tutorial']).reset_index(drop=True)",
   "execution_count": 47,
   "outputs": []
  },
  {
   "cell_type": "markdown",
   "source": "Проверим так же вхождение пользователей сразу в несколько групп:",
   "metadata": {
    "tags": [],
    "cell_id": "00044-f1ee1854-8f24-4a8c-81cb-6b1c738760ab",
    "deepnote_cell_type": "markdown"
   }
  },
  {
   "cell_type": "code",
   "metadata": {
    "deepnote_to_be_reexecuted": false,
    "execution_millis": 50,
    "execution_start": 1620920345046,
    "source_hash": "8e6e0e76",
    "tags": [],
    "cell_id": "00045-4e246f24-e9e4-42a8-88e1-4b893cc51530",
    "deepnote_cell_type": "code"
   },
   "source": "(df.groupby('id')['group'].nunique() != 1).sum()",
   "execution_count": 48,
   "outputs": [
    {
     "data": {
      "text/plain": "0"
     },
     "execution_count": 48,
     "metadata": {},
     "output_type": "execute_result"
    }
   ]
  },
  {
   "cell_type": "markdown",
   "source": "Всё чисто.\n<br>\nПерейдём к анализу.",
   "metadata": {
    "tags": [],
    "cell_id": "00047-98af0bdb-e39e-4955-bece-ad750e5dc97d",
    "deepnote_cell_type": "markdown"
   }
  },
  {
   "cell_type": "markdown",
   "source": "---",
   "metadata": {
    "tags": [],
    "cell_id": "00048-1313e2d2-f3ca-4f7e-a462-c36a7e32b33e",
    "deepnote_cell_type": "markdown"
   }
  },
  {
   "cell_type": "markdown",
   "source": "## Анализ\n<a id='analisys' name='analisys'></a>\nПосмотрим на разные штуки",
   "metadata": {
    "tags": [],
    "cell_id": "00049-18d09d0e-62da-4ab6-a526-3ef9419fa6b2",
    "deepnote_cell_type": "markdown"
   }
  },
  {
   "cell_type": "markdown",
   "source": "События по числу пользователей:",
   "metadata": {
    "cell_id": "00051-c3a451eb-9a47-4fb3-ac6c-496d69c84ce6",
    "deepnote_cell_type": "markdown"
   }
  },
  {
   "cell_type": "code",
   "metadata": {
    "scrolled": true,
    "cell_id": "00052-1b449a1f-2c71-45d6-94f8-9a37d919592e",
    "deepnote_cell_type": "code"
   },
   "source": "df.groupby('event')['id'].nunique().sort_values(ascending=False)",
   "execution_count": 49,
   "outputs": [
    {
     "data": {
      "text/plain": "event\nMainScreenAppear           7084\nOffersScreenAppear         4147\nCartScreenAppear           3326\nPaymentScreenSuccessful    3138\nTutorial                    830\nName: id, dtype: int64"
     },
     "execution_count": 49,
     "metadata": {},
     "output_type": "execute_result"
    }
   ]
  },
  {
   "cell_type": "markdown",
   "source": "Относительное количество событий:",
   "metadata": {
    "tags": [],
    "cell_id": "00053-36e4193d-bdfd-4a4a-bf7a-b1527bf6b0b3",
    "deepnote_cell_type": "markdown"
   }
  },
  {
   "cell_type": "code",
   "metadata": {
    "deepnote_to_be_reexecuted": false,
    "execution_millis": 12,
    "execution_start": 1620920345099,
    "source_hash": "d86c8d71",
    "tags": [],
    "cell_id": "00054-a58ad7e6-97dd-4096-920c-e32c39fe042e",
    "deepnote_cell_type": "code"
   },
   "source": "df['event'].value_counts(normalize=True)",
   "execution_count": 50,
   "outputs": [
    {
     "data": {
      "text/plain": "MainScreenAppear          0.520\nOffersScreenAppear        0.182\nCartScreenAppear          0.164\nPaymentScreenSuccessful   0.130\nTutorial                  0.005\nName: event, dtype: float64"
     },
     "execution_count": 50,
     "metadata": {},
     "output_type": "execute_result"
    }
   ]
  },
  {
   "cell_type": "code",
   "metadata": {
    "deepnote_to_be_reexecuted": false,
    "execution_millis": 49,
    "execution_start": 1620920345150,
    "source_hash": "aed6b37d",
    "tags": [],
    "cell_id": "00055-c7ef1072-b3b1-4095-b716-435b2d2f1194",
    "deepnote_cell_type": "code"
   },
   "source": "(df.groupby('id')['event'].agg('nunique') == 5).mean()",
   "execution_count": 51,
   "outputs": [
    {
     "data": {
      "text/plain": "0.06461625282167043"
     },
     "execution_count": 51,
     "metadata": {},
     "output_type": "execute_result"
    }
   ]
  },
  {
   "cell_type": "markdown",
   "source": "Всего 6% пользователей прошли через все 5 действий.\n<br>\nОчевидно, что действия расположены по порядку, но *Tutorial* тут лишний.\n<br>\nУберём его:",
   "metadata": {
    "tags": [],
    "cell_id": "00056-46d564cd-1884-418a-a8eb-d4d304092289",
    "deepnote_cell_type": "markdown"
   }
  },
  {
   "cell_type": "code",
   "metadata": {
    "deepnote_to_be_reexecuted": false,
    "execution_millis": 49,
    "execution_start": 1620920345194,
    "source_hash": "b8043e7a",
    "tags": [],
    "cell_id": "00057-2186071b-b081-4df2-9053-de3535cd216a",
    "deepnote_cell_type": "code"
   },
   "source": "(df.query(\"event != 'Tutorial'\").groupby('id')['event'].agg('nunique') == 4).mean()",
   "execution_count": 52,
   "outputs": [
    {
     "data": {
      "text/plain": "0.4414172783738001"
     },
     "execution_count": 52,
     "metadata": {},
     "output_type": "execute_result"
    }
   ]
  },
  {
   "cell_type": "markdown",
   "source": "Получается, почти половина всех пользователей достигла того, чего хотела.\n<br>\nПосмотрим на конверсию из предыдущего шага и из начала:",
   "metadata": {
    "tags": [],
    "cell_id": "00059-512fb929-6a6f-4a05-8adf-c3671887e19d",
    "deepnote_cell_type": "markdown"
   }
  },
  {
   "cell_type": "code",
   "metadata": {
    "deepnote_to_be_reexecuted": false,
    "execution_millis": 99,
    "execution_start": 1620920345238,
    "source_hash": "35a7ba68",
    "tags": [],
    "cell_id": "00060-d37990b5-a4e7-4a63-9236-f189ff25a4df",
    "deepnote_cell_type": "code"
   },
   "source": "cr = df.groupby('event').agg(cr_step=('id', 'nunique')).sort_values('cr_step', ascending=False).pct_change() + 1\ncr['cr'] = cr['cr_step'].cumprod()\ncr.fillna(1).iloc[:4]",
   "execution_count": 53,
   "outputs": [
    {
     "data": {
      "text/html": "<div>\n<style scoped>\n    .dataframe tbody tr th:only-of-type {\n        vertical-align: middle;\n    }\n\n    .dataframe tbody tr th {\n        vertical-align: top;\n    }\n\n    .dataframe thead th {\n        text-align: right;\n    }\n</style>\n<table border=\"1\" class=\"dataframe\">\n  <thead>\n    <tr style=\"text-align: right;\">\n      <th></th>\n      <th>cr_step</th>\n      <th>cr</th>\n    </tr>\n    <tr>\n      <th>event</th>\n      <th></th>\n      <th></th>\n    </tr>\n  </thead>\n  <tbody>\n    <tr>\n      <th>MainScreenAppear</th>\n      <td>1.000</td>\n      <td>1.000</td>\n    </tr>\n    <tr>\n      <th>OffersScreenAppear</th>\n      <td>0.585</td>\n      <td>0.585</td>\n    </tr>\n    <tr>\n      <th>CartScreenAppear</th>\n      <td>0.802</td>\n      <td>0.470</td>\n    </tr>\n    <tr>\n      <th>PaymentScreenSuccessful</th>\n      <td>0.943</td>\n      <td>0.443</td>\n    </tr>\n  </tbody>\n</table>\n</div>",
      "text/plain": "                         cr_step    cr\nevent                                 \nMainScreenAppear           1.000 1.000\nOffersScreenAppear         0.585 0.585\nCartScreenAppear           0.802 0.470\nPaymentScreenSuccessful    0.943 0.443"
     },
     "execution_count": 53,
     "metadata": {},
     "output_type": "execute_result"
    }
   ]
  },
  {
   "cell_type": "markdown",
   "source": "Больше всех пользователей теряется на этапе выбора товара (почти половина).\n<br>\nДо оплаты доходит почти половина всех пользователей (44%)",
   "metadata": {
    "tags": [],
    "cell_id": "00062-b5305081-5f60-4b6f-8379-3cba0d5224ee",
    "deepnote_cell_type": "markdown"
   }
  },
  {
   "cell_type": "markdown",
   "source": "---",
   "metadata": {
    "tags": [],
    "cell_id": "00064-a77cc556-4784-47ba-b5f2-3a5fe7fb7474",
    "deepnote_cell_type": "markdown"
   }
  },
  {
   "cell_type": "markdown",
   "source": "Напишем функцию для определения результатов Z-теста для двух выборок:",
   "metadata": {
    "tags": [],
    "cell_id": "00065-3ef69860-9e30-448d-ac53-931f972aba30",
    "deepnote_cell_type": "markdown"
   }
  },
  {
   "cell_type": "code",
   "metadata": {
    "deepnote_to_be_reexecuted": false,
    "execution_millis": 269301,
    "execution_start": 1620920345330,
    "source_hash": "cdeee570",
    "tags": [],
    "cell_id": "00066-0a2eac65-277a-4558-b908-8d57dc545c9e",
    "deepnote_cell_type": "code"
   },
   "source": "def two_sample_z_test(\n    A: {'type': list, 'help': 'total and success counts from sample A'}, \n    B: {'type': list, 'help': 'total and success counts from sample B'}\n    ) ->{'type': float, 'help': 'p-value for z-test'}:\n    \"\"\"Return p-value for two-sample z-test.\"\"\"\n    p1 = A[1] / A[0]\n    p2 = B[1] / B[0]\n    p = (A[1] + B[1]) / (A[0] + B[0])\n    \n    z_value = (p1 - p2) / np.sqrt(p * (1 - p) * (1/A[0] + 1/B[0]))\n\n    distr = st.norm(0, 1)\n\n    p_value = (1 - distr.cdf(abs(z_value))) * 2\n\n    return '{:.3f}'.format(p_value)",
   "execution_count": 54,
   "outputs": []
  },
  {
   "cell_type": "code",
   "metadata": {
    "cell_id": "00067-302c8ecb-0529-4e5e-9574-afa693cc0ed3",
    "deepnote_cell_type": "code"
   },
   "source": "two_sample_z_test(\n    [2331, 1061],\n    [2357, 1022]\n)",
   "execution_count": 55,
   "outputs": [
    {
     "data": {
      "text/plain": "'0.137'"
     },
     "execution_count": 55,
     "metadata": {},
     "output_type": "execute_result"
    }
   ]
  },
  {
   "cell_type": "markdown",
   "source": "Соберём сводную таблицу с информацией по всем группам:",
   "metadata": {
    "tags": [],
    "cell_id": "00068-019e4ab0-4e64-4fe8-b086-6a496400cb16",
    "deepnote_cell_type": "markdown"
   }
  },
  {
   "cell_type": "code",
   "metadata": {
    "deepnote_to_be_reexecuted": false,
    "execution_millis": 66,
    "execution_start": 1620920345331,
    "source_hash": "9fadcc34",
    "tags": [],
    "cell_id": "00069-867bdcd0-adcc-44dd-bd20-847bd5610aae",
    "deepnote_cell_type": "code"
   },
   "source": "group_pivot = df.query(\"event != 'Tutorial'\").pivot_table(\n    index = 'event',\n    columns = 'group',\n    values = 'id',\n    aggfunc = 'nunique',\n    observed = True,\n)\ngroup_pivot",
   "execution_count": 56,
   "outputs": [
    {
     "data": {
      "text/html": "<div>\n<style scoped>\n    .dataframe tbody tr th:only-of-type {\n        vertical-align: middle;\n    }\n\n    .dataframe tbody tr th {\n        vertical-align: top;\n    }\n\n    .dataframe thead th {\n        text-align: right;\n    }\n</style>\n<table border=\"1\" class=\"dataframe\">\n  <thead>\n    <tr style=\"text-align: right;\">\n      <th>group</th>\n      <th>246</th>\n      <th>247</th>\n      <th>248</th>\n    </tr>\n    <tr>\n      <th>event</th>\n      <th></th>\n      <th></th>\n      <th></th>\n    </tr>\n  </thead>\n  <tbody>\n    <tr>\n      <th>MainScreenAppear</th>\n      <td>2331</td>\n      <td>2357</td>\n      <td>2396</td>\n    </tr>\n    <tr>\n      <th>OffersScreenAppear</th>\n      <td>1390</td>\n      <td>1365</td>\n      <td>1392</td>\n    </tr>\n    <tr>\n      <th>CartScreenAppear</th>\n      <td>1125</td>\n      <td>1098</td>\n      <td>1103</td>\n    </tr>\n    <tr>\n      <th>PaymentScreenSuccessful</th>\n      <td>1061</td>\n      <td>1022</td>\n      <td>1055</td>\n    </tr>\n  </tbody>\n</table>\n</div>",
      "text/plain": "group                     246   247   248\nevent                                    \nMainScreenAppear         2331  2357  2396\nOffersScreenAppear       1390  1365  1392\nCartScreenAppear         1125  1098  1103\nPaymentScreenSuccessful  1061  1022  1055"
     },
     "execution_count": 56,
     "metadata": {},
     "output_type": "execute_result"
    }
   ]
  },
  {
   "cell_type": "markdown",
   "source": "А ещё заодно посмотрим на конверсии по группам:",
   "metadata": {
    "tags": [],
    "cell_id": "00070-b900ca7c-1edb-4136-a039-119556639b02",
    "deepnote_cell_type": "markdown"
   }
  },
  {
   "cell_type": "code",
   "metadata": {
    "deepnote_to_be_reexecuted": false,
    "execution_millis": 28,
    "execution_start": 1620920345393,
    "source_hash": "3b17d7fd",
    "tags": [],
    "cell_id": "00071-28a2b58e-4e6a-4d0f-ab75-1c06841bc27f",
    "deepnote_cell_type": "code"
   },
   "source": "group_pivot.apply(lambda x: x / x[0])",
   "execution_count": 57,
   "outputs": [
    {
     "data": {
      "text/html": "<div>\n<style scoped>\n    .dataframe tbody tr th:only-of-type {\n        vertical-align: middle;\n    }\n\n    .dataframe tbody tr th {\n        vertical-align: top;\n    }\n\n    .dataframe thead th {\n        text-align: right;\n    }\n</style>\n<table border=\"1\" class=\"dataframe\">\n  <thead>\n    <tr style=\"text-align: right;\">\n      <th>group</th>\n      <th>246</th>\n      <th>247</th>\n      <th>248</th>\n    </tr>\n    <tr>\n      <th>event</th>\n      <th></th>\n      <th></th>\n      <th></th>\n    </tr>\n  </thead>\n  <tbody>\n    <tr>\n      <th>MainScreenAppear</th>\n      <td>1.000</td>\n      <td>1.000</td>\n      <td>1.000</td>\n    </tr>\n    <tr>\n      <th>OffersScreenAppear</th>\n      <td>0.596</td>\n      <td>0.579</td>\n      <td>0.581</td>\n    </tr>\n    <tr>\n      <th>CartScreenAppear</th>\n      <td>0.483</td>\n      <td>0.466</td>\n      <td>0.460</td>\n    </tr>\n    <tr>\n      <th>PaymentScreenSuccessful</th>\n      <td>0.455</td>\n      <td>0.434</td>\n      <td>0.440</td>\n    </tr>\n  </tbody>\n</table>\n</div>",
      "text/plain": "group                     246   247   248\nevent                                    \nMainScreenAppear        1.000 1.000 1.000\nOffersScreenAppear      0.596 0.579 0.581\nCartScreenAppear        0.483 0.466 0.460\nPaymentScreenSuccessful 0.455 0.434 0.440"
     },
     "execution_count": 57,
     "metadata": {},
     "output_type": "execute_result"
    }
   ]
  },
  {
   "cell_type": "markdown",
   "source": "На первый взгляд, тестовая группа не имеет никаких отличий по сравнению с контрольными группами. \n<br>\nПроверим, так ли это. Для окончательно убедимся в корректности проведения эксперимента, сравнив показатели двух контрольных групп:",
   "metadata": {
    "tags": [],
    "cell_id": "00073-4e862ee7-be6f-4a18-a1c8-28db5a73358e",
    "deepnote_cell_type": "markdown"
   }
  },
  {
   "cell_type": "markdown",
   "source": "$H_0 - Конверсия\\ в\\ покупку\\ в\\ одной\\ контрольной\\ группе\\ не\\ имеет\\ статистически\\ значимых\\ отличий\\ от\\ конверсии\\ в\\ покупку\\ в\\ другой\\ контрольной\\ группе$\n<br>\n$H_1 - Конверсия\\ в\\ одной\\ контрольной\\ группе\\ имеет\\ статистически\\ значимые\\ отличия\\ от\\ конверсии\\ в\\ другой\\ контрольной\\ группе$\n<br>\n$\\alpha = 5\\%$",
   "metadata": {
    "cell_id": "00074-7ed29539-e3b4-422a-8ae5-42e940aa4887",
    "deepnote_cell_type": "markdown"
   }
  },
  {
   "cell_type": "code",
   "metadata": {
    "deepnote_to_be_reexecuted": false,
    "execution_millis": 8,
    "execution_start": 1620920345418,
    "source_hash": "1e7f2ef9",
    "tags": [],
    "cell_id": "00076-91c75e50-73c5-440b-b742-a008085c912c",
    "deepnote_cell_type": "code"
   },
   "source": "two_sample_z_test(\n    [group_pivot.iloc[0, 0], group_pivot.iloc[3, 0]], \n    [group_pivot.iloc[0, 1], group_pivot.iloc[3, 1]]\n    )",
   "execution_count": 58,
   "outputs": [
    {
     "data": {
      "text/plain": "'0.137'"
     },
     "execution_count": 58,
     "metadata": {},
     "output_type": "execute_result"
    }
   ]
  },
  {
   "cell_type": "markdown",
   "source": "При 5% статистической значимости нет оснований отклонять нулевую гипотезу. \n<br>\nДругими словами, обе тестовые группы **не имеют статистически значимых отличий**.\n<br>\nПосмотрим на **конверсии в другие события**:",
   "metadata": {
    "tags": [],
    "cell_id": "00077-8eebb4f2-98c6-43e5-8dea-00e50e84b3ad",
    "deepnote_cell_type": "markdown"
   }
  },
  {
   "cell_type": "markdown",
   "source": "$H_0 - Конверсия\\ в\\ событие\\ в\\ одной\\ контрольной\\ группе\\ не\\ имеет\\ статистически\\ значимых\\ отличий\\ от\\ конверсии\\ в\\ событие\\ в\\ другой\\ контрольной\\ группе$\n<br>\n$H_1 - Конверсия\\ в\\ событие\\ в\\ одной\\ контрольной\\ группе\\ имеет\\ статистически\\ значимые\\ отличия\\ от\\ конверсии\\ в\\ событие\\ в\\ другой\\ контрольной\\ группе$\n<br>\n$\\alpha = 5\\%$",
   "metadata": {
    "cell_id": "00078-cdf14879-4e57-4901-b2c3-9034fa6aab14",
    "deepnote_cell_type": "markdown"
   }
  },
  {
   "cell_type": "code",
   "metadata": {
    "deepnote_to_be_reexecuted": false,
    "execution_millis": 6,
    "execution_start": 1620920345466,
    "source_hash": "5f8f0f7f",
    "tags": [],
    "cell_id": "00079-90ad8dd3-99a4-4971-9850-bfcfba73071b",
    "deepnote_cell_type": "code"
   },
   "source": "for event in group_pivot.index[1:]:\n    A1 = [\n        group_pivot.loc['MainScreenAppear', '246'], \n        group_pivot.loc[event, '246']\n        ]\n    A2 = [\n        group_pivot.loc['MainScreenAppear', '247'], \n        group_pivot.loc[event, '247']\n    ]\n    print(f'p-value для {event}: {two_sample_z_test(A1, A2)}')",
   "execution_count": 59,
   "outputs": [
    {
     "name": "stdout",
     "output_type": "stream",
     "text": "p-value для OffersScreenAppear: 0.232\np-value для CartScreenAppear: 0.250\np-value для PaymentScreenSuccessful: 0.137\n"
    }
   ]
  },
  {
   "cell_type": "markdown",
   "source": "Для всех событий тестовые группы не имеют между собой никаких отличий. Проведение эксперимента было корректным.\n<br>\nСравним теперь тестовую группу с одной из контрольных:",
   "metadata": {
    "tags": [],
    "cell_id": "00080-bef4a9de-683c-4b80-90dd-8cbf91eb6c93",
    "deepnote_cell_type": "markdown"
   }
  },
  {
   "cell_type": "markdown",
   "source": "$H_0 - Конверсия\\ в\\ событие\\ в\\ тестовой\\ группе\\ не\\ имеет\\ статистически\\ значимых\\ отличий\\ от\\ конверсии\\ в\\ событие\\ в\\ контрольной\\ группе$\n<br>\n$H_1 - Конверсия\\ в\\ событие\\ в\\ тестовой\\ группе\\ имеет\\ статистически\\ значимые\\ отличия\\ от\\ конверсии\\ в\\ событие\\ в\\ контрольной\\ группе$\n<br>\n$\\alpha = 5\\%$",
   "metadata": {
    "cell_id": "00081-eaffcaf0-72d7-4f8f-bdb7-3ead937bcada",
    "deepnote_cell_type": "markdown"
   }
  },
  {
   "cell_type": "code",
   "metadata": {
    "deepnote_to_be_reexecuted": false,
    "execution_millis": 6,
    "execution_start": 1620920345467,
    "source_hash": "b04bc983",
    "tags": [],
    "cell_id": "00082-7f1b53e2-9cbb-46de-bc7c-1006f965d791",
    "deepnote_cell_type": "code"
   },
   "source": "for event in group_pivot.index[1:]:\n    A = [\n        group_pivot.loc['MainScreenAppear', '246'], \n        group_pivot.loc[event, '246']\n        ]\n    B = [\n        group_pivot.loc['MainScreenAppear', '248'], \n        group_pivot.loc[event, '248']\n    ]\n    print(f'p-value для {event}: {two_sample_z_test(A, B)}')",
   "execution_count": 60,
   "outputs": [
    {
     "name": "stdout",
     "output_type": "stream",
     "text": "p-value для OffersScreenAppear: 0.284\np-value для CartScreenAppear: 0.125\np-value для PaymentScreenSuccessful: 0.305\n"
    }
   ]
  },
  {
   "cell_type": "markdown",
   "source": "И с другой:",
   "metadata": {
    "tags": [],
    "cell_id": "00083-997f86c5-3ddd-485c-8056-5742473ff947",
    "deepnote_cell_type": "markdown"
   }
  },
  {
   "cell_type": "markdown",
   "source": "$H_0 - Конверсия\\ в\\ событие\\ в\\ тестовой\\ группе\\ не\\ имеет\\ статистически\\ значимых\\ отличий\\ от\\ конверсии\\ в\\ событие\\ в\\ другой\\ контрольной\\ группе$\n<br>\n$H_1 - Конверсия\\ в\\ событие\\ в\\ тестовой\\ группе\\ имеет\\ статистически\\ значимые\\ отличия\\ от\\ конверсии\\ в\\ событие\\ в\\ другой\\ контрольной\\ группе$\n<br>\n$\\alpha = 5\\%$",
   "metadata": {
    "cell_id": "00084-f6ba3881-11fa-407a-b9fd-efa4757c0139",
    "deepnote_cell_type": "markdown"
   }
  },
  {
   "cell_type": "code",
   "metadata": {
    "deepnote_to_be_reexecuted": false,
    "execution_millis": 52,
    "execution_start": 1620920345467,
    "source_hash": "7dc81f8b",
    "tags": [],
    "cell_id": "00085-efe52781-2d36-4549-ab6f-4c2a4a544cb1",
    "deepnote_cell_type": "code"
   },
   "source": "for event in group_pivot.index[1:]:\n    A = [\n        group_pivot.loc['MainScreenAppear', '247'], \n        group_pivot.loc[event, '247']\n        ]\n    B = [\n        group_pivot.loc['MainScreenAppear', '248'], \n        group_pivot.loc[event, '248']\n    ]\n    print(f'p-value для {event}: {two_sample_z_test(A, B)}')",
   "execution_count": 61,
   "outputs": [
    {
     "name": "stdout",
     "output_type": "stream",
     "text": "p-value для OffersScreenAppear: 0.898\np-value для CartScreenAppear: 0.704\np-value для PaymentScreenSuccessful: 0.641\n"
    }
   ]
  },
  {
   "cell_type": "markdown",
   "source": "Сравним так же тестовую группу с **объединённой контрольной группой**:",
   "metadata": {
    "tags": [],
    "cell_id": "00086-4fa29144-fa07-43fb-90eb-82094276e689",
    "deepnote_cell_type": "markdown"
   }
  },
  {
   "cell_type": "markdown",
   "source": "$H_0 - Конверсия\\ в\\ событие\\ в\\ тестовой\\ группе\\ не\\ имеет\\ статистически\\ значимых\\ отличий\\ от\\ конверсии\\ в\\ событие\\ в\\ объединённой\\ контрольной\\ группе$\n<br>\n$H_1 - Конверсия\\ в\\ событие\\ в\\ тестовой\\ группе\\ имеет\\ статистически\\ значимые\\ отличия\\ от\\ конверсии\\ в\\ событие\\ в\\ объединённой\\ контрольной\\ группе$\n<br>\n$\\alpha = 5\\%$",
   "metadata": {
    "cell_id": "00087-32fb711a-e3fc-4f3c-a59e-f69a884c0334",
    "deepnote_cell_type": "markdown"
   }
  },
  {
   "cell_type": "code",
   "metadata": {
    "deepnote_to_be_reexecuted": false,
    "execution_millis": 9,
    "execution_start": 1620920345510,
    "source_hash": "d027dc1d",
    "tags": [],
    "cell_id": "00088-4e06b0d1-cb38-4e8c-9bf3-316d2c40cdba",
    "deepnote_cell_type": "code"
   },
   "source": "for event in group_pivot.index[1:]:\n    A = [\n        group_pivot.loc['MainScreenAppear', '247'] + group_pivot.loc['MainScreenAppear', '246'], \n        group_pivot.loc[event, '247'] + group_pivot.loc[event, '246']\n        ]\n    B = [\n        group_pivot.loc['MainScreenAppear', '248'], \n        group_pivot.loc[event, '248']\n    ]\n    print(f'p-value для {event}: {two_sample_z_test(A, B)}')",
   "execution_count": 62,
   "outputs": [
    {
     "name": "stdout",
     "output_type": "stream",
     "text": "p-value для OffersScreenAppear: 0.588\np-value для CartScreenAppear: 0.270\np-value для PaymentScreenSuccessful: 0.748\n"
    }
   ]
  },
  {
   "cell_type": "markdown",
   "source": "Все результаты сильно выше уровня статистической значимости ($\\alpha = 5\\%$). Если делать поправку на количество проведённых экспериментов, порог отклонения нулевой гипотезы будет ещё ниже (при использовании самой простой поправки на множественное тестирование - *поправку Бонферрони* - уровень статистической значимости нужно разделить на количество проведённых тестирований, в нашем случае - **6** для сравнения каждого события между обеими контрольными группами и тестовой, и **3** - для сравнения каждого события между объединённой контрольной и тестовой группой).\n<br>\nДаже если изменить $\\alpha$ - ничего не изменится",
   "metadata": {
    "tags": [],
    "cell_id": "00090-85500ee9-0bad-49a6-bbf5-040e720a4b10",
    "deepnote_cell_type": "markdown"
   }
  },
  {
   "cell_type": "markdown",
   "source": "---",
   "metadata": {
    "tags": [],
    "cell_id": "00092-a9a70393-0be7-4da5-a275-d3da50909868",
    "deepnote_cell_type": "markdown"
   }
  },
  {
   "cell_type": "markdown",
   "source": "## Выводы\n<a name='conclusions' id='conclusions'></a>\nПодведём итоги",
   "metadata": {
    "tags": [],
    "cell_id": "00093-44c3cc03-b5f8-4427-ae98-92a8686ff466",
    "deepnote_cell_type": "markdown"
   }
  },
  {
   "cell_type": "markdown",
   "source": "Проведя анализ результатов эксперимента, можно с уверенностью заявить - менеджеры зря боялись за привычки пользователей - шрифт покупкам не помеха. ",
   "metadata": {
    "tags": [],
    "cell_id": "00094-e28339f9-05b0-43ed-af85-be9a0bbdcb15",
    "deepnote_cell_type": "markdown"
   }
  },
  {
   "cell_type": "markdown",
   "source": "<a style='text-decoration:none;line-height:16px;display:flex;color:#5B5B62;padding:10px;justify-content:end;' href='https://deepnote.com?utm_source=created-in-deepnote-cell&projectId=73c6fdc9-2380-4d92-b495-95da9dd36eb1' target=\"_blank\">\n<img alt='Created in deepnote.com' style='display:inline;max-height:16px;margin:0px;margin-right:7.5px;' src='data:image/svg+xml;base64,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' > </img>\nCreated in <span style='font-weight:600;margin-left:4px;'>Deepnote</span></a>",
   "metadata": {
    "tags": [],
    "created_in_deepnote_cell": true,
    "deepnote_cell_type": "markdown"
   }
  }
 ],
 "nbformat": 4,
 "nbformat_minor": 2,
 "metadata": {
  "deepnote": {
   "is_reactive": false
  },
  "deepnote_execution_queue": [],
  "deepnote_notebook_id": "7b5aa035-6dad-435b-badc-6aece5ef478f",
  "kernelspec": {
   "display_name": "Python 3",
   "language": "python",
   "name": "python3"
  },
  "language_info": {
   "codemirror_mode": {
    "name": "ipython",
    "version": 3
   },
   "file_extension": ".py",
   "mimetype": "text/x-python",
   "name": "python",
   "nbconvert_exporter": "python",
   "pygments_lexer": "ipython3",
   "version": "3.7.8"
  },
  "toc": {
   "base_numbering": 1,
   "nav_menu": {},
   "number_sections": true,
   "sideBar": true,
   "skip_h1_title": true,
   "title_cell": "Table of Contents",
   "title_sidebar": "Contents",
   "toc_cell": false,
   "toc_position": {},
   "toc_section_display": true,
   "toc_window_display": false
  }
 }
}