{
 "cells": [
  {
   "cell_type": "markdown",
   "source": "# <s>Космический</s>Финальный проект",
   "metadata": {
    "tags": [],
    "cell_id": "00002-fb327826-9359-45bb-b70e-0dadbc10d848",
    "deepnote_cell_type": "markdown"
   }
  },
  {
   "cell_type": "markdown",
   "source": "Менеджеры из \"Космических Братьев\" хотят узнать, какой рекламный канал является самым приоритетным (или наоборот, при прочих равных), для чего попросили нас проанализировать поведение первых пользователей.",
   "metadata": {
    "tags": [],
    "cell_id": "00003-65d767e9-b8bb-47a7-92df-fde71c7dfc65",
    "deepnote_cell_type": "markdown"
   }
  },
  {
   "cell_type": "markdown",
   "source": "[Презентация](https://drive.google.com/file/d/1PQFu3cKuciT7r-u0vEPprz_EQPAGBlbz/view?usp=sharing)",
   "metadata": {
    "tags": [],
    "cell_id": "00004-3a14cc42-1bc7-4183-95af-08d4d5ea49a1",
    "deepnote_cell_type": "markdown"
   }
  },
  {
   "cell_type": "markdown",
   "source": "---",
   "metadata": {
    "tags": [],
    "cell_id": "00006-54b42cf3-8f07-40dc-bede-f7266f29d5c4",
    "deepnote_cell_type": "markdown"
   }
  },
  {
   "cell_type": "markdown",
   "source": "## Структура проекта\n1. [Начало](#inception)\n1. [Предобработка](#preprocessing)\n1. [EDA](#eda)\n1. [Гипотезы](#hypothesis)\n1. [Выводы](#conclusions)",
   "metadata": {
    "tags": [],
    "cell_id": "00007-92aa5769-2638-46a2-b020-3fc539b6ad8c",
    "deepnote_cell_type": "markdown"
   }
  },
  {
   "cell_type": "markdown",
   "source": "---",
   "metadata": {
    "tags": [],
    "cell_id": "00008-0a072ff4-38c5-464c-8d18-87bccd11ab93",
    "deepnote_cell_type": "markdown"
   }
  },
  {
   "cell_type": "markdown",
   "source": "## Начало\n<a name='inception' id='inception'></a>\nПерестанем прокрастинировать и импортируем библиотеки (хотя бы)",
   "metadata": {
    "tags": [],
    "cell_id": "00009-25bb5e66-54a7-4797-ac68-35aeb01de5ff",
    "deepnote_cell_type": "markdown"
   }
  },
  {
   "cell_type": "code",
   "metadata": {
    "cell_id": "00010-127ed8d1-60d6-47e4-877b-34437fc5b15b",
    "deepnote_cell_type": "code"
   },
   "source": "!pip install pandas seaborn --upgrade -q",
   "outputs": [],
   "execution_count": 1
  },
  {
   "cell_type": "code",
   "metadata": {
    "deepnote_to_be_reexecuted": false,
    "execution_millis": 2957,
    "execution_start": 1625824154180,
    "source_hash": "116cc3c5",
    "tags": [],
    "cell_id": "00011-5132fc78-e598-47b7-b706-05667b67610c",
    "deepnote_cell_type": "code"
   },
   "source": "import re\nfrom os import environ\n\nimport pandas as pd\nimport numpy as np\n\nimport matplotlib.pyplot as plt\nimport seaborn as sns\n\nfrom scipy import stats as st\n\nfrom warnings import filterwarnings\nfilterwarnings('ignore')",
   "outputs": [],
   "execution_count": 2
  },
  {
   "cell_type": "code",
   "metadata": {
    "deepnote_to_be_reexecuted": false,
    "execution_millis": 11,
    "execution_start": 1625824157144,
    "source_hash": "4564ffa5",
    "tags": [],
    "cell_id": "00012-47fc0360-5de4-49f9-b020-079eac03c805",
    "deepnote_cell_type": "code"
   },
   "source": "pd.set_option(\n    'display.float_format', lambda x: '%.3f' % x\n)\n\nsns.set(\n    rc = {\n        'figure.figsize': (17, 7),\n        'figure.dpi': 80,\n        'axes.grid': True,\n        'axes.grid.axis': 'x',\n        'axes.grid.which': 'both',\n        'grid.alpha': .4,\n        'xtick.minor.visible': True,\n        },\n    palette = 'colorblind',\n    style = 'ticks'\n)",
   "outputs": [],
   "execution_count": 3
  },
  {
   "cell_type": "code",
   "metadata": {
    "deepnote_to_be_reexecuted": false,
    "execution_millis": 19,
    "execution_start": 1625824157158,
    "source_hash": "5b50e81d",
    "tags": [],
    "cell_id": "00013-dedba397-72e1-45a8-9012-5605f9b0567f",
    "deepnote_cell_type": "code"
   },
   "source": "def read_csv(func: \"pd.read_csv\" = pd.read_csv) -> pd.DataFrame:\n    \"\"\"Wrapper for pd.read_csv.\"\"\"\n\n    def wrapper(*args, **kwargs: \"pd.read_csv parameters\") -> pd.DataFrame:\n        \"\"\"\n        Return a DataFrame from csv with true and ordered columns and sort by\n        datetime, and display 5 randow rows and df.info().\n        \"\"\"\n        df = func(*args, **kwargs)\n\n        if kwargs.get(\"names\", None) is None:\n            df.columns = [\n                re.sub(\"([a-z])([A-Z]+)\", r\"\\1_\\2\", col)\n                .strip()\n                .lower()\n                .replace(\" \", \"_\")\n                for col in df.columns\n            ]\n\n        parse_dates = kwargs.get(\"parse_dates\", None)\n        if parse_dates is not None and df.select_dtypes(\"datetime\").isnull:\n            df.iloc[:, parse_dates[0]] = pd.to_datetime(\n                df.iloc[:, parse_dates[0]], unit=\"s\"\n            )\n\n        if not df.select_dtypes(\"datetime\").isnull:\n            date_column = df.select_dtypes(\"datetime\").columns[0]\n            df = df.sort_values(date_column).reset_index(drop=True)\n\n        columns_indeces = kwargs.get(\"usecols\", np.arange(df.shape[1]))\n        df = df.iloc[:, columns_indeces]\n\n        display(df.sample(5, random_state=42).sort_index())\n        print(\"---------------------------------\")\n        display(df.describe())\n        print(\"---------------------------------\")\n        df.info(memory_usage=\"deep\")\n\n        return df\n\n    return wrapper\n\n\ntrue_read_csv = read_csv()",
   "outputs": [],
   "execution_count": 4
  },
  {
   "cell_type": "code",
   "metadata": {
    "deepnote_to_be_reexecuted": false,
    "execution_millis": 3142,
    "execution_start": 1625824157181,
    "source_hash": "3406b10f",
    "tags": [],
    "cell_id": "00014-c28f09ee-0799-4390-adbd-bc2bc8843131",
    "deepnote_cell_type": "code"
   },
   "source": "PATH = environ.get('GAME_ACTIONS', '/datasets/game_actions.csv')\n\ndf = true_read_csv(\n    filepath_or_buffer = PATH,\n    parse_dates = [0],\n    )",
   "outputs": [
    {
     "data": {
      "text/html": "<div>\n<style scoped>\n    .dataframe tbody tr th:only-of-type {\n        vertical-align: middle;\n    }\n\n    .dataframe tbody tr th {\n        vertical-align: top;\n    }\n\n    .dataframe thead th {\n        text-align: right;\n    }\n</style>\n<table border=\"1\" class=\"dataframe\">\n  <thead>\n    <tr style=\"text-align: right;\">\n      <th></th>\n      <th>event_datetime</th>\n      <th>event</th>\n      <th>building_type</th>\n      <th>user_id</th>\n      <th>project_type</th>\n    </tr>\n  </thead>\n  <tbody>\n    <tr>\n      <th>16232</th>\n      <td>2020-05-05 21:20:14</td>\n      <td>building</td>\n      <td>assembly_shop</td>\n      <td>4048f2b5-b66e-4a0e-9f57-018a24606f0a</td>\n      <td>NaN</td>\n    </tr>\n    <tr>\n      <th>31495</th>\n      <td>2020-05-07 09:46:44</td>\n      <td>building</td>\n      <td>assembly_shop</td>\n      <td>ff28dc9f-01ef-4a55-a21d-7bbdf36bb508</td>\n      <td>NaN</td>\n    </tr>\n    <tr>\n      <th>63129</th>\n      <td>2020-05-09 23:52:39</td>\n      <td>building</td>\n      <td>spaceport</td>\n      <td>c9f8cc33-5d7a-4842-8946-58167bf6cec9</td>\n      <td>NaN</td>\n    </tr>\n    <tr>\n      <th>81302</th>\n      <td>2020-05-11 08:29:47</td>\n      <td>building</td>\n      <td>spaceport</td>\n      <td>59fded0d-ba20-42d6-b733-d951c9aecab6</td>\n      <td>NaN</td>\n    </tr>\n    <tr>\n      <th>82140</th>\n      <td>2020-05-11 10:51:20</td>\n      <td>building</td>\n      <td>spaceport</td>\n      <td>58b0c0da-3af6-4365-ab1d-b0b95c6f9f7d</td>\n      <td>NaN</td>\n    </tr>\n  </tbody>\n</table>\n</div>",
      "text/plain": "           event_datetime     event  building_type  \\\n16232 2020-05-05 21:20:14  building  assembly_shop   \n31495 2020-05-07 09:46:44  building  assembly_shop   \n63129 2020-05-09 23:52:39  building      spaceport   \n81302 2020-05-11 08:29:47  building      spaceport   \n82140 2020-05-11 10:51:20  building      spaceport   \n\n                                    user_id project_type  \n16232  4048f2b5-b66e-4a0e-9f57-018a24606f0a          NaN  \n31495  ff28dc9f-01ef-4a55-a21d-7bbdf36bb508          NaN  \n63129  c9f8cc33-5d7a-4842-8946-58167bf6cec9          NaN  \n81302  59fded0d-ba20-42d6-b733-d951c9aecab6          NaN  \n82140  58b0c0da-3af6-4365-ab1d-b0b95c6f9f7d          NaN  "
     },
     "metadata": {},
     "output_type": "display_data"
    },
    {
     "name": "stdout",
     "output_type": "stream",
     "text": "---------------------------------\n"
    },
    {
     "data": {
      "text/html": "<div>\n<style scoped>\n    .dataframe tbody tr th:only-of-type {\n        vertical-align: middle;\n    }\n\n    .dataframe tbody tr th {\n        vertical-align: top;\n    }\n\n    .dataframe thead th {\n        text-align: right;\n    }\n</style>\n<table border=\"1\" class=\"dataframe\">\n  <thead>\n    <tr style=\"text-align: right;\">\n      <th></th>\n      <th>event_datetime</th>\n      <th>event</th>\n      <th>building_type</th>\n      <th>user_id</th>\n      <th>project_type</th>\n    </tr>\n  </thead>\n  <tbody>\n    <tr>\n      <th>count</th>\n      <td>135640</td>\n      <td>135640</td>\n      <td>127957</td>\n      <td>135640</td>\n      <td>1866</td>\n    </tr>\n    <tr>\n      <th>unique</th>\n      <td>128790</td>\n      <td>3</td>\n      <td>3</td>\n      <td>13576</td>\n      <td>1</td>\n    </tr>\n    <tr>\n      <th>top</th>\n      <td>2020-05-09 12:35:56</td>\n      <td>building</td>\n      <td>spaceport</td>\n      <td>bf542075-e3a2-4e79-82d8-3838e86d2a25</td>\n      <td>satellite_orbital_assembly</td>\n    </tr>\n    <tr>\n      <th>freq</th>\n      <td>4</td>\n      <td>127957</td>\n      <td>59325</td>\n      <td>22</td>\n      <td>1866</td>\n    </tr>\n    <tr>\n      <th>first</th>\n      <td>2020-05-04 00:00:01</td>\n      <td>NaN</td>\n      <td>NaN</td>\n      <td>NaN</td>\n      <td>NaN</td>\n    </tr>\n    <tr>\n      <th>last</th>\n      <td>2020-06-05 12:32:49</td>\n      <td>NaN</td>\n      <td>NaN</td>\n      <td>NaN</td>\n      <td>NaN</td>\n    </tr>\n  </tbody>\n</table>\n</div>",
      "text/plain": "             event_datetime     event building_type  \\\ncount                135640    135640        127957   \nunique               128790         3             3   \ntop     2020-05-09 12:35:56  building     spaceport   \nfreq                      4    127957         59325   \nfirst   2020-05-04 00:00:01       NaN           NaN   \nlast    2020-06-05 12:32:49       NaN           NaN   \n\n                                     user_id                project_type  \ncount                                 135640                        1866  \nunique                                 13576                           1  \ntop     bf542075-e3a2-4e79-82d8-3838e86d2a25  satellite_orbital_assembly  \nfreq                                      22                        1866  \nfirst                                    NaN                         NaN  \nlast                                     NaN                         NaN  "
     },
     "metadata": {},
     "output_type": "display_data"
    },
    {
     "name": "stdout",
     "output_type": "stream",
     "text": "---------------------------------\n<class 'pandas.core.frame.DataFrame'>\nRangeIndex: 135640 entries, 0 to 135639\nData columns (total 5 columns):\n #   Column          Non-Null Count   Dtype         \n---  ------          --------------   -----         \n 0   event_datetime  135640 non-null  datetime64[ns]\n 1   event           135640 non-null  object        \n 2   building_type   127957 non-null  object        \n 3   user_id         135640 non-null  object        \n 4   project_type    1866 non-null    object        \ndtypes: datetime64[ns](1), object(4)\nmemory usage: 34.3 MB\n"
    }
   ],
   "execution_count": 5
  },
  {
   "cell_type": "markdown",
   "source": "Имеем пропуски в полях *building_type* и *project_type*. В последнем, к тому же, лежит только одно значение (целевое *satellite_orbital_assembly*). Можно заменить его флагом.\n<br>\nСчитаем также файл со списком пользователей:",
   "metadata": {
    "tags": [],
    "cell_id": "00015-f020b145-7a99-4d0e-b1a7-40589f73c3f7",
    "deepnote_cell_type": "markdown"
   }
  },
  {
   "cell_type": "code",
   "metadata": {
    "deepnote_to_be_reexecuted": false,
    "execution_millis": 1089,
    "execution_start": 1625824160370,
    "source_hash": "ed74c8ac",
    "tags": [],
    "cell_id": "00016-6b2e751b-ddd1-4f71-8ceb-ddeea9469b18",
    "deepnote_cell_type": "code"
   },
   "source": "PATH = environ.get('USER_SOURCE', '/datasets/user_source.csv')\n\nusers = true_read_csv(\n    filepath_or_buffer = PATH,\n    )",
   "outputs": [
    {
     "data": {
      "text/html": "<div>\n<style scoped>\n    .dataframe tbody tr th:only-of-type {\n        vertical-align: middle;\n    }\n\n    .dataframe tbody tr th {\n        vertical-align: top;\n    }\n\n    .dataframe thead th {\n        text-align: right;\n    }\n</style>\n<table border=\"1\" class=\"dataframe\">\n  <thead>\n    <tr style=\"text-align: right;\">\n      <th></th>\n      <th>user_id</th>\n      <th>source</th>\n    </tr>\n  </thead>\n  <tbody>\n    <tr>\n      <th>749</th>\n      <td>0db704c1-3e8c-482e-8968-52a19b22e564</td>\n      <td>yandex_direct</td>\n    </tr>\n    <tr>\n      <th>2980</th>\n      <td>36819063-54d7-42ca-ab4a-1fdb6522c504</td>\n      <td>instagram_new_adverts</td>\n    </tr>\n    <tr>\n      <th>8913</th>\n      <td>a78cda94-35c1-4dd2-a9f1-54619216e03e</td>\n      <td>instagram_new_adverts</td>\n    </tr>\n    <tr>\n      <th>9440</th>\n      <td>b20fd385-8818-450e-a899-21ee3c7ff460</td>\n      <td>yandex_direct</td>\n    </tr>\n    <tr>\n      <th>12618</th>\n      <td>ede65546-ef1f-4efe-aadd-0bee68e7527b</td>\n      <td>facebook_ads</td>\n    </tr>\n  </tbody>\n</table>\n</div>",
      "text/plain": "                                    user_id                 source\n749    0db704c1-3e8c-482e-8968-52a19b22e564          yandex_direct\n2980   36819063-54d7-42ca-ab4a-1fdb6522c504  instagram_new_adverts\n8913   a78cda94-35c1-4dd2-a9f1-54619216e03e  instagram_new_adverts\n9440   b20fd385-8818-450e-a899-21ee3c7ff460          yandex_direct\n12618  ede65546-ef1f-4efe-aadd-0bee68e7527b           facebook_ads"
     },
     "metadata": {},
     "output_type": "display_data"
    },
    {
     "name": "stdout",
     "output_type": "stream",
     "text": "---------------------------------\n"
    },
    {
     "data": {
      "text/html": "<div>\n<style scoped>\n    .dataframe tbody tr th:only-of-type {\n        vertical-align: middle;\n    }\n\n    .dataframe tbody tr th {\n        vertical-align: top;\n    }\n\n    .dataframe thead th {\n        text-align: right;\n    }\n</style>\n<table border=\"1\" class=\"dataframe\">\n  <thead>\n    <tr style=\"text-align: right;\">\n      <th></th>\n      <th>user_id</th>\n      <th>source</th>\n    </tr>\n  </thead>\n  <tbody>\n    <tr>\n      <th>count</th>\n      <td>13576</td>\n      <td>13576</td>\n    </tr>\n    <tr>\n      <th>unique</th>\n      <td>13576</td>\n      <td>4</td>\n    </tr>\n    <tr>\n      <th>top</th>\n      <td>0001f83c-c6ac-4621-b7f0-8a28b283ac30</td>\n      <td>yandex_direct</td>\n    </tr>\n    <tr>\n      <th>freq</th>\n      <td>1</td>\n      <td>4817</td>\n    </tr>\n  </tbody>\n</table>\n</div>",
      "text/plain": "                                     user_id         source\ncount                                  13576          13576\nunique                                 13576              4\ntop     0001f83c-c6ac-4621-b7f0-8a28b283ac30  yandex_direct\nfreq                                       1           4817"
     },
     "metadata": {},
     "output_type": "display_data"
    },
    {
     "name": "stdout",
     "output_type": "stream",
     "text": "---------------------------------\n<class 'pandas.core.frame.DataFrame'>\nRangeIndex: 13576 entries, 0 to 13575\nData columns (total 2 columns):\n #   Column   Non-Null Count  Dtype \n---  ------   --------------  ----- \n 0   user_id  13576 non-null  object\n 1   source   13576 non-null  object\ndtypes: object(2)\nmemory usage: 2.2 MB\n"
    }
   ],
   "execution_count": 6
  },
  {
   "cell_type": "markdown",
   "source": "Считаем *costs*:",
   "metadata": {
    "tags": [],
    "cell_id": "00017-95bc05d0-c334-4530-9589-86722bc0cf81",
    "deepnote_cell_type": "markdown"
   }
  },
  {
   "cell_type": "code",
   "metadata": {
    "deepnote_to_be_reexecuted": false,
    "execution_millis": 485,
    "execution_start": 1625824161456,
    "source_hash": "7a6448fb",
    "tags": [],
    "cell_id": "00018-3a8fc535-ad6e-4d86-94d5-05e6611013f0",
    "deepnote_cell_type": "code"
   },
   "source": "costs = pd.read_csv(\n    environ.get('AD_COSTS', '/datasets/ad_costs.csv'),\n    parse_dates = [1]\n)",
   "outputs": [],
   "execution_count": 7
  },
  {
   "cell_type": "markdown",
   "source": "---",
   "metadata": {
    "tags": [],
    "cell_id": "00019-cb5cadb0-1d74-478b-9a8d-671c06d140f0",
    "deepnote_cell_type": "markdown"
   }
  },
  {
   "cell_type": "markdown",
   "source": "## Предобработка\n<a name='preprocessing' id='preprocessing'></a>\nУберём мусор (если найдём), сделаем удобно (если сможем)",
   "metadata": {
    "tags": [],
    "cell_id": "00020-feda4cc2-5937-4ba2-946c-494fbc5f8fa3",
    "deepnote_cell_type": "markdown"
   }
  },
  {
   "cell_type": "markdown",
   "source": "Удалим грубые дубликаты в *df* (в users их нет, по describe сразу было бы видно):",
   "metadata": {
    "tags": [],
    "cell_id": "00021-29a96cc4-1bb5-4cf5-8472-76d03677441c",
    "deepnote_cell_type": "markdown"
   }
  },
  {
   "cell_type": "code",
   "metadata": {
    "deepnote_to_be_reexecuted": false,
    "execution_millis": 133,
    "execution_start": 1625824161950,
    "source_hash": "52feb9d7",
    "tags": [],
    "cell_id": "00022-87476149-5746-4e9c-a6bc-24cf9a3a1767",
    "deepnote_cell_type": "code"
   },
   "source": "df = df.drop_duplicates().reset_index(drop=True)",
   "outputs": [],
   "execution_count": 8
  },
  {
   "cell_type": "markdown",
   "source": "Переименуем некоторе поля для удобства:",
   "metadata": {
    "tags": [],
    "cell_id": "00023-5c2f1fac-c4ee-4a5c-9a89-18a7a40828d7",
    "deepnote_cell_type": "markdown"
   }
  },
  {
   "cell_type": "code",
   "metadata": {
    "deepnote_to_be_reexecuted": false,
    "execution_millis": 14,
    "execution_start": 1625824162089,
    "source_hash": "f30a1003",
    "tags": [],
    "cell_id": "00024-1bae9b32-ae48-4a9d-813b-a2183828f711",
    "deepnote_cell_type": "code"
   },
   "source": "df = df.rename(columns={'event_datetime': 'dt'})",
   "outputs": [],
   "execution_count": 9
  },
  {
   "cell_type": "markdown",
   "source": "Посмотрим на значения во всех полях *df*:",
   "metadata": {
    "tags": [],
    "cell_id": "00025-1659442f-ce3d-422d-8de4-c60ac7b47066",
    "deepnote_cell_type": "markdown"
   }
  },
  {
   "cell_type": "code",
   "metadata": {
    "deepnote_to_be_reexecuted": false,
    "execution_millis": 114,
    "execution_start": 1625824162108,
    "output_cleared": false,
    "source_hash": "d060a485",
    "tags": [],
    "cell_id": "00026-00de69e2-3cc7-49b4-8e71-9039ae46debb",
    "deepnote_cell_type": "code"
   },
   "source": "for col in df:\n    if col is 'dt': continue\n    print(df[col].value_counts(), '\\n', '_'*50)",
   "outputs": [
    {
     "name": "stdout",
     "output_type": "stream",
     "text": "building            127956\nfinished_stage_1      5817\nproject               1866\nName: event, dtype: int64 \n __________________________________________________\nspaceport          59325\nassembly_shop      54494\nresearch_center    14137\nName: building_type, dtype: int64 \n __________________________________________________\nbf542075-e3a2-4e79-82d8-3838e86d2a25    22\nd6aca06a-cd75-4cd8-b8cd-240a3c163884    22\nff841992-d93b-462e-bc6e-18c24a514f36    22\n45935e5d-8f50-4176-83d3-fd545bb2015f    21\n4f57b9dc-faa4-4ced-8c6f-1098d612438c    21\n                                        ..\n1cd22d84-9a82-402a-86ee-185e76eb7a6d     1\n29ecf191-5706-420f-be38-28d52abbb069     1\nd7c40393-6ac1-4a57-9d80-5ecdfe231e7b     1\n7c2021b7-1241-410d-80aa-25cfc8ee720d     1\nf6a91a2f-b1dd-4db2-bf11-532c8f893d24     1\nName: user_id, Length: 13576, dtype: int64 \n __________________________________________________\nsatellite_orbital_assembly    1866\nName: project_type, dtype: int64 \n __________________________________________________\n"
    }
   ],
   "execution_count": 10
  },
  {
   "cell_type": "markdown",
   "source": "Мусора по полям не видно.\n<br>\nВыведем день события в отдельное поле и создадим отдельное поле для часа события:",
   "metadata": {
    "tags": [],
    "cell_id": "00027-e86f6566-fb70-43ce-8cb1-20afbc3f554c",
    "deepnote_cell_type": "markdown"
   }
  },
  {
   "cell_type": "code",
   "metadata": {
    "deepnote_to_be_reexecuted": false,
    "execution_millis": 37,
    "execution_start": 1625824162217,
    "source_hash": "f5b40552",
    "tags": [],
    "cell_id": "00028-dd780d61-5801-45a2-8ade-5e3ef9314472",
    "deepnote_cell_type": "code"
   },
   "source": "df['day'] = df['dt'].astype('datetime64[D]')\ndf['hour'] = df['dt'].dt.hour",
   "outputs": [],
   "execution_count": 11
  },
  {
   "cell_type": "markdown",
   "source": "В таблице *users* добавим флаг завершения уровня и поле со способом завершения:",
   "metadata": {
    "tags": [],
    "cell_id": "00029-4dae3565-cce6-4300-98cf-9f36f8faca52",
    "deepnote_cell_type": "markdown"
   }
  },
  {
   "cell_type": "code",
   "metadata": {
    "deepnote_to_be_reexecuted": false,
    "execution_millis": 807,
    "execution_start": 1625824162258,
    "source_hash": "cbad113c",
    "tags": [],
    "cell_id": "00030-f6edadab-95f0-4763-a18e-5c254eb89119",
    "deepnote_cell_type": "code"
   },
   "source": "users = users.join(\n    df.groupby('user_id')['event']\n    .apply(lambda x: True if 'finished_stage_1' in x.tolist() else False)\n    .rename('finished'),\n    on='user_id',\n)\n\nFINISH = users[users['finished']]['user_id']",
   "outputs": [],
   "execution_count": 12
  },
  {
   "cell_type": "code",
   "metadata": {
    "deepnote_to_be_reexecuted": false,
    "execution_millis": 26,
    "execution_start": 1625824163069,
    "source_hash": "41c4404b",
    "tags": [],
    "cell_id": "00031-11b29065-9d69-41cb-b85e-8c8a1796be38",
    "deepnote_cell_type": "code"
   },
   "source": "filter = df[df['project_type'].notna()]['user_id'].unique()\nusers.loc[users['user_id'].isin(filter), 'how'] = 'project'",
   "outputs": [],
   "execution_count": 13
  },
  {
   "cell_type": "code",
   "metadata": {
    "deepnote_to_be_reexecuted": false,
    "execution_millis": 13,
    "execution_start": 1625824163098,
    "source_hash": "77ca91a0",
    "tags": [],
    "cell_id": "00032-a9e58c43-69fd-42b0-9be5-af34257b7687",
    "deepnote_cell_type": "code"
   },
   "source": "filter = np.logical_xor(users['finished'], users['how'].fillna(False).astype('bool'))\nusers.loc[filter, 'how'] = 'win'",
   "outputs": [],
   "execution_count": 14
  },
  {
   "cell_type": "code",
   "metadata": {
    "deepnote_to_be_reexecuted": false,
    "execution_millis": 18,
    "execution_start": 1625824163115,
    "source_hash": "5a9b953d",
    "tags": [],
    "cell_id": "00033-fe8298eb-742f-4e7a-beda-1eee8f74a3dd",
    "deepnote_cell_type": "code"
   },
   "source": "users = users.fillna({'how': 'not'})",
   "outputs": [],
   "execution_count": 15
  },
  {
   "cell_type": "markdown",
   "source": "Добавим так же первый день для каждого игрока, время до окончания уровня и последний день активности для тех, кто не закончил уровень:",
   "metadata": {
    "tags": [],
    "cell_id": "00034-6515bcf6-3a45-4eb2-8d50-68feb3cd1a08",
    "deepnote_cell_type": "markdown"
   }
  },
  {
   "cell_type": "code",
   "metadata": {
    "deepnote_to_be_reexecuted": false,
    "execution_millis": 3653,
    "execution_start": 1625824163140,
    "source_hash": "10b363b9",
    "tags": [],
    "cell_id": "00035-7b283fe1-c726-483d-a8da-afb2d44acd2a",
    "deepnote_cell_type": "code"
   },
   "source": "users = users.join(\n    df.astype({'dt': 'datetime64[D]'})\n    .groupby('user_id')['dt']\n    .apply(lambda x: x.iloc[0])\n    .rename('first_day'),\n    on='user_id',\n)\n\nusers = users.join(\n    df.query('user_id in @FINISH')\n    .groupby('user_id')\n    .apply(lambda x: (x['dt'].iloc[-1] - x['dt'].iloc[0]))\n    .rename('time_to_finish'),\n    on='user_id',\n)\n\nusers = users.join(\n    df.astype({'dt': 'datetime64[D]'})\n    .groupby('user_id')['dt']\n    .apply(lambda x: x.iloc[-1])\n    .rename('last_day'), \n    on='user_id'\n    )",
   "outputs": [],
   "execution_count": 16
  },
  {
   "cell_type": "markdown",
   "source": "Оставим от названия каналов только сам канал, убрав уточнение (всё равно это просто 4 рекламных канала):",
   "metadata": {
    "tags": [],
    "cell_id": "00036-b590f20b-dcb8-4a83-8337-6ffcbb52b6e6",
    "deepnote_cell_type": "markdown"
   }
  },
  {
   "cell_type": "code",
   "metadata": {
    "deepnote_to_be_reexecuted": false,
    "execution_millis": 0,
    "execution_start": 1625824166831,
    "source_hash": "a2c6a397",
    "tags": [],
    "cell_id": "00037-89a050f0-45f1-40fa-8282-cae6cc1c3959",
    "deepnote_cell_type": "code"
   },
   "source": "for item in (users, costs):\n    item['source'] = item['source'].apply(lambda x: x.split('_')[0])",
   "outputs": [],
   "execution_count": 17
  },
  {
   "cell_type": "markdown",
   "source": "Рассчитаем кумулятивную выручку для каждого канала:",
   "metadata": {
    "tags": [],
    "cell_id": "00038-ea42f1a9-0997-4515-b25d-9e740a2f8da2",
    "deepnote_cell_type": "markdown"
   }
  },
  {
   "cell_type": "code",
   "metadata": {
    "deepnote_to_be_reexecuted": false,
    "execution_millis": 2400521,
    "execution_start": 1625824166842,
    "source_hash": "328288c",
    "tags": [],
    "cell_id": "00039-ae137dd9-ce22-4baa-9098-4965141521a7",
    "deepnote_cell_type": "code"
   },
   "source": "costs['cum_cost'] = costs.groupby('source')['cost'].transform('cumsum')",
   "outputs": [],
   "execution_count": 18
  },
  {
   "cell_type": "markdown",
   "source": "Добавим также канал в *df*:",
   "metadata": {
    "tags": [],
    "cell_id": "00040-e414bc50-8276-4a8e-b9b6-875d51198169",
    "deepnote_cell_type": "markdown"
   }
  },
  {
   "cell_type": "code",
   "metadata": {
    "deepnote_to_be_reexecuted": false,
    "execution_millis": 44,
    "execution_start": 1625824166898,
    "source_hash": "815306b",
    "tags": [],
    "cell_id": "00041-743fb642-e3e3-4a0d-91b8-a42b6cb3e1aa",
    "deepnote_cell_type": "code"
   },
   "source": "df = df.merge(users[['user_id', 'source']], on = 'user_id')",
   "outputs": [],
   "execution_count": 19
  },
  {
   "cell_type": "markdown",
   "source": "---",
   "metadata": {
    "tags": [],
    "cell_id": "00042-10368e27-045a-424f-b834-8e05b5f078ca",
    "deepnote_cell_type": "markdown"
   }
  },
  {
   "cell_type": "markdown",
   "source": "## EDA\n<a name='eda' id='eda'></a>\nПосмотрим на разные штуки, построим разные графики",
   "metadata": {
    "tags": [],
    "cell_id": "00044-b08373c7-bd7d-413f-82eb-13dbdccdf697",
    "deepnote_cell_type": "markdown"
   }
  },
  {
   "cell_type": "markdown",
   "source": "Смотреть на различные пользовательские метрики (DAU, RR) и их динамику во времени особо смысла нет, так как у нас данные всего одной недельной когорты и только для первого уровня, поэтому будем придумывать что-то другое для оценки источников.",
   "metadata": {
    "tags": [],
    "cell_id": "00045-82700202-f954-40e1-9622-41ecd3348037",
    "deepnote_cell_type": "markdown"
   }
  },
  {
   "cell_type": "markdown",
   "source": "Для начала посмотрим на распределение пользователей по ним:",
   "metadata": {
    "deepnote_to_be_reexecuted": false,
    "execution_millis": 19,
    "execution_start": 1625751232183,
    "source_hash": "c33d26bd",
    "tags": [],
    "cell_id": "00046-8698feff-95a7-4a2c-bdf9-d460c35d81e6",
    "deepnote_cell_type": "markdown"
   }
  },
  {
   "cell_type": "code",
   "metadata": {
    "deepnote_to_be_reexecuted": false,
    "execution_millis": 670,
    "execution_start": 1625824166943,
    "source_hash": "51ed1db4",
    "tags": [],
    "cell_id": "00047-c2904dd7-9401-459d-8968-bb7f00c28268",
    "deepnote_cell_type": "code"
   },
   "source": "data = users.groupby('source')['user_id'].nunique().sort_values(ascending=False)\n\nax = sns.barplot(\n    y = data.index,\n    x = data,\n    order = data.index,\n)\n\nfor rect in ax.patches:\n    ax.text(\n        x = rect.get_width(),\n        y = rect.get_y() + rect.get_height() / 1.6,\n        s = '{:.1%}'.format(rect.get_width() / df['user_id'].nunique()),\n    )\n\nplt.title('Количество пользователей по рекламным источникам')\nplt.xlabel('')\nplt.ylabel('Рекламные источники')\n\nplt.show()",
   "outputs": [
    {
     "data": {
      "image/png": "[encoded data removed]",
      "text/plain": "<Figure size 1360x560 with 1 Axes>"
     },
     "metadata": {
      "image/png": {
       "width": 1163,
       "height": 479
      }
     },
     "output_type": "display_data"
    }
   ],
   "execution_count": 20
  },
  {
   "cell_type": "markdown",
   "source": "С хорошим отрывом лидирует *яндекс*. Посмотрим, какой источник сколько стоил:",
   "metadata": {
    "tags": [],
    "cell_id": "00048-7ff68dd5-8f46-4af2-827f-167d324bb33b",
    "deepnote_cell_type": "markdown"
   }
  },
  {
   "cell_type": "code",
   "metadata": {
    "deepnote_to_be_reexecuted": false,
    "execution_millis": 1179,
    "execution_start": 1625824167586,
    "source_hash": "a6601a34",
    "tags": [],
    "cell_id": "00049-8a4341bc-d664-4130-baf7-5d40c8eb1e64",
    "deepnote_cell_type": "code"
   },
   "source": "fig, axes = plt.subplots(2, 1)\n\nfor ax, col in zip(axes.flat, ('cost', 'cum_cost')):\n    sns.lineplot(\n        data = costs,\n        x = 'day',\n        y = col,\n        hue = 'source',\n        ci = None,\n        palette = 'dark',\n        ax = ax\n    )\n    if col == 'cost':\n        ax.set(\n            xticklabels = '',\n            xlabel = '',\n            ylabel = '',\n            title = 'Изменение маркетинговых затрат по каналам во времени'\n            )\n        ax.legend(loc='upper right')\n        continue\n    \n    ax.yaxis.tick_right()\n    ax.set(\n        title = 'Накопительное изменение маркетинговых затрат по каналам',\n        ylabel = ''\n        )\n    ax.legend().remove()",
   "outputs": [
    {
     "data": {
      "image/png": "[encoded data removed]",
      "text/plain": "<Figure size 1360x560 with 2 Axes>"
     },
     "metadata": {
      "image/png": {
       "width": 1153,
       "height": 496
      }
     },
     "output_type": "display_data"
    }
   ],
   "execution_count": 21
  },
  {
   "cell_type": "markdown",
   "source": "По накопительному графику можно сразу увидеть, что *яндекс*, как самый затратный, закономерно дал больше всех пользователей, а *ютуб* - наоборот. Однако с *фэйсбуком* ситуация отличается - по затратам он почти как *яндекс*, тогда как по пользователям - лишь слегка обогнал *ютуб*. *Инстаграм* находится где-то посередине.\nПосмотрим на CAC для каждого канала:",
   "metadata": {
    "tags": [],
    "cell_id": "00050-f5781d9b-43f4-422b-ab82-8f83c61353f6",
    "deepnote_cell_type": "markdown"
   }
  },
  {
   "cell_type": "code",
   "metadata": {
    "deepnote_to_be_reexecuted": false,
    "execution_millis": 12,
    "execution_start": 1625824168819,
    "source_hash": "fb25c473",
    "tags": [],
    "cell_id": "00051-30aebe14-257f-4438-a89e-20842eea956c",
    "deepnote_cell_type": "code"
   },
   "source": "CAC = (\n    costs.groupby('source')['cost'].sum().to_frame()\n    .join(users.groupby('source')['user_id'].nunique())\n    .apply(lambda x: x['cost'] / x['user_id'], axis=1)\n    .rename('cac')\n    )\n\nCAC",
   "outputs": [
    {
     "data": {
      "text/plain": "source\nfacebook    0.785\ninstagram   0.646\nyandex      0.464\nyoutube     0.398\nName: cac, dtype: float64"
     },
     "execution_count": 22,
     "metadata": {},
     "output_type": "execute_result"
    }
   ],
   "execution_count": 22
  },
  {
   "cell_type": "markdown",
   "source": "Оказыается, игроки из фэйсбука ещё и в два раза дороже ютуба, что делает его самым дорогим каналом.\n<br>\nПосмотрим на средний CAC:",
   "metadata": {
    "tags": [],
    "cell_id": "00052-ab082f71-1dca-4e65-a003-ef1e4ef2a667",
    "deepnote_cell_type": "markdown"
   }
  },
  {
   "cell_type": "code",
   "metadata": {
    "deepnote_to_be_reexecuted": false,
    "execution_millis": 110,
    "execution_start": 1625824168820,
    "source_hash": "5c65a389",
    "tags": [],
    "cell_id": "00053-03772224-a98b-4c0e-b870-3590125eff9c",
    "deepnote_cell_type": "code"
   },
   "source": "costs['cost'].sum() / df['user_id'].nunique()",
   "outputs": [
    {
     "data": {
      "text/plain": "0.5600749106355349"
     },
     "execution_count": 23,
     "metadata": {},
     "output_type": "execute_result"
    }
   ],
   "execution_count": 23
  },
  {
   "cell_type": "markdown",
   "source": "Так как никакой информации о монетизации у нас нет, рассчитаем минимальную стоимость показа рекламы для пользователя (сколько нам надо получать с просмотра, чтобы пользователь окупился за первый уровень). Для этого, исходя из того, что рекламу предполагается показывать на экране выбора объекта для строительства, нужно немного углубиться в постройки на первом уровне. \n<br>\nПосмотрим, кто сколько строит:",
   "metadata": {
    "tags": [],
    "cell_id": "00054-dfe3377f-d102-43c8-b3c7-258f469db413",
    "deepnote_cell_type": "markdown"
   }
  },
  {
   "cell_type": "code",
   "metadata": {
    "deepnote_to_be_reexecuted": false,
    "execution_millis": 22,
    "execution_start": 1625824168922,
    "source_hash": "8b1d9f15",
    "tags": [],
    "cell_id": "00055-2f214969-f383-47b3-9ef4-d01d4b55262d",
    "deepnote_cell_type": "code"
   },
   "source": "df.groupby('user_id')['building_type'].count().describe()",
   "outputs": [
    {
     "data": {
      "text/plain": "count   13576.000\nmean        9.425\nstd         3.861\nmin         1.000\n25%         6.000\n50%        10.000\n75%        12.000\nmax        20.000\nName: building_type, dtype: float64"
     },
     "execution_count": 24,
     "metadata": {},
     "output_type": "execute_result"
    }
   ],
   "execution_count": 24
  },
  {
   "cell_type": "markdown",
   "source": "Видно, что каждый игрок построил хотя бы одну постройку, среднее количество - 9 построек, максимальное - 20. Распределение похоже на нормальное, так как медиана рядом со средней. Посмотрим на то же самое в разрезе факта прохождения уровня:",
   "metadata": {
    "tags": [],
    "cell_id": "00056-aec39ef0-7094-411e-915e-aefdf99c9f0a",
    "deepnote_cell_type": "markdown"
   }
  },
  {
   "cell_type": "code",
   "metadata": {
    "deepnote_to_be_reexecuted": false,
    "execution_millis": 205,
    "execution_start": 1625824168940,
    "source_hash": "4b868f2",
    "tags": [],
    "cell_id": "00057-b32f06d9-205d-473a-82bc-15bae34dd6f4",
    "deepnote_cell_type": "code"
   },
   "source": "x = (\n    df.query('user_id not in @FINISH')\n    .groupby('user_id')['building_type']\n    .count()\n    .describe()\n    .rename('not_finished')\n)\ndf.query('user_id in @FINISH').groupby('user_id')[\n    'building_type'\n].count().describe().rename('finished').to_frame().join(x)\n",
   "outputs": [
    {
     "data": {
      "text/html": "<div>\n<style scoped>\n    .dataframe tbody tr th:only-of-type {\n        vertical-align: middle;\n    }\n\n    .dataframe tbody tr th {\n        vertical-align: top;\n    }\n\n    .dataframe thead th {\n        text-align: right;\n    }\n</style>\n<table border=\"1\" class=\"dataframe\">\n  <thead>\n    <tr style=\"text-align: right;\">\n      <th></th>\n      <th>finished</th>\n      <th>not_finished</th>\n    </tr>\n  </thead>\n  <tbody>\n    <tr>\n      <th>count</th>\n      <td>5817.000</td>\n      <td>7759.000</td>\n    </tr>\n    <tr>\n      <th>mean</th>\n      <td>10.450</td>\n      <td>8.657</td>\n    </tr>\n    <tr>\n      <th>std</th>\n      <td>3.184</td>\n      <td>4.136</td>\n    </tr>\n    <tr>\n      <th>min</th>\n      <td>2.000</td>\n      <td>1.000</td>\n    </tr>\n    <tr>\n      <th>25%</th>\n      <td>9.000</td>\n      <td>5.000</td>\n    </tr>\n    <tr>\n      <th>50%</th>\n      <td>11.000</td>\n      <td>8.000</td>\n    </tr>\n    <tr>\n      <th>75%</th>\n      <td>12.000</td>\n      <td>12.000</td>\n    </tr>\n    <tr>\n      <th>max</th>\n      <td>20.000</td>\n      <td>20.000</td>\n    </tr>\n  </tbody>\n</table>\n</div>",
      "text/plain": "       finished  not_finished\ncount  5817.000      7759.000\nmean     10.450         8.657\nstd       3.184         4.136\nmin       2.000         1.000\n25%       9.000         5.000\n50%      11.000         8.000\n75%      12.000        12.000\nmax      20.000        20.000"
     },
     "execution_count": 25,
     "metadata": {},
     "output_type": "execute_result"
    }
   ],
   "execution_count": 25
  },
  {
   "cell_type": "markdown",
   "source": "Видно, что у тех, кто прошёл первый уровень, количество построек в среднем больше, чем у других игроков.\n<br>\nПосчитаем минимальную цену показа:",
   "metadata": {
    "tags": [],
    "cell_id": "00058-dc8f41e9-6ebb-46ff-9a52-773fb5792742",
    "deepnote_cell_type": "markdown"
   }
  },
  {
   "cell_type": "code",
   "metadata": {
    "deepnote_to_be_reexecuted": false,
    "execution_millis": 157,
    "execution_start": 1625824169139,
    "source_hash": "5f3aa45a",
    "tags": [],
    "cell_id": "00059-d7476c54-8033-4f17-b777-f93986eeacb4",
    "deepnote_cell_type": "code"
   },
   "source": "CAC = CAC.to_frame().join(\n    df.groupby(['source', 'user_id'])['building_type']\n    .count()\n    .mean(level=0)\n    .rename('build_cnt')\n)\n\nCAC['min_price'] = CAC['cac'] / CAC['build_cnt']\n\nCAC",
   "outputs": [
    {
     "data": {
      "text/html": "<div>\n<style scoped>\n    .dataframe tbody tr th:only-of-type {\n        vertical-align: middle;\n    }\n\n    .dataframe tbody tr th {\n        vertical-align: top;\n    }\n\n    .dataframe thead th {\n        text-align: right;\n    }\n</style>\n<table border=\"1\" class=\"dataframe\">\n  <thead>\n    <tr style=\"text-align: right;\">\n      <th></th>\n      <th>cac</th>\n      <th>build_cnt</th>\n      <th>min_price</th>\n    </tr>\n    <tr>\n      <th>source</th>\n      <th></th>\n      <th></th>\n      <th></th>\n    </tr>\n  </thead>\n  <tbody>\n    <tr>\n      <th>facebook</th>\n      <td>0.785</td>\n      <td>9.586</td>\n      <td>0.082</td>\n    </tr>\n    <tr>\n      <th>instagram</th>\n      <td>0.646</td>\n      <td>9.506</td>\n      <td>0.068</td>\n    </tr>\n    <tr>\n      <th>yandex</th>\n      <td>0.464</td>\n      <td>9.349</td>\n      <td>0.050</td>\n    </tr>\n    <tr>\n      <th>youtube</th>\n      <td>0.398</td>\n      <td>9.299</td>\n      <td>0.043</td>\n    </tr>\n  </tbody>\n</table>\n</div>",
      "text/plain": "            cac  build_cnt  min_price\nsource                               \nfacebook  0.785      9.586      0.082\ninstagram 0.646      9.506      0.068\nyandex    0.464      9.349      0.050\nyoutube   0.398      9.299      0.043"
     },
     "execution_count": 26,
     "metadata": {},
     "output_type": "execute_result"
    }
   ],
   "execution_count": 26
  },
  {
   "cell_type": "code",
   "metadata": {
    "deepnote_to_be_reexecuted": false,
    "execution_millis": 100,
    "execution_start": 1625824169287,
    "source_hash": "b23926de",
    "tags": [],
    "cell_id": "00060-a8252d99-db4b-4c36-b2dd-1ac24e1fb2aa",
    "deepnote_cell_type": "code"
   },
   "source": "(df.groupby(['source', 'user_id'])['building_type']\n    .count()\n    .mean(level=0)\n    .rename('build_cnt'))",
   "outputs": [
    {
     "data": {
      "text/plain": "source\nfacebook    9.586\ninstagram   9.506\nyandex      9.349\nyoutube     9.299\nName: build_cnt, dtype: float64"
     },
     "execution_count": 27,
     "metadata": {},
     "output_type": "execute_result"
    }
   ],
   "execution_count": 27
  },
  {
   "cell_type": "markdown",
   "source": "Cредний показатель:",
   "metadata": {
    "deepnote_to_be_reexecuted": false,
    "execution_millis": 10,
    "execution_start": 1625752443324,
    "source_hash": "b5737fde",
    "tags": [],
    "cell_id": "00061-53c28620-f28c-4ee4-8f28-3fade5c3ceec",
    "deepnote_cell_type": "markdown"
   }
  },
  {
   "cell_type": "code",
   "metadata": {
    "deepnote_to_be_reexecuted": false,
    "execution_millis": 69,
    "execution_start": 1625824169382,
    "source_hash": "6f9418f0",
    "tags": [],
    "cell_id": "00062-cd015553-e79b-4cd5-a2cf-920c9be6dda0",
    "deepnote_cell_type": "code"
   },
   "source": "(costs['cost'].sum() / df['user_id'].nunique()) / df.groupby('user_id')[\n    'building_type'\n].count().mean()",
   "outputs": [
    {
     "data": {
      "text/plain": "0.05942337199340415"
     },
     "execution_count": 28,
     "metadata": {},
     "output_type": "execute_result"
    }
   ],
   "execution_count": 28
  },
  {
   "cell_type": "markdown",
   "source": "Добавим для наглядности ещё количество игроков в табличку:",
   "metadata": {
    "tags": [],
    "cell_id": "00063-0b3d5938-2a82-4948-873c-d36f23e0e039",
    "deepnote_cell_type": "markdown"
   }
  },
  {
   "cell_type": "code",
   "metadata": {
    "deepnote_to_be_reexecuted": false,
    "execution_millis": 58,
    "execution_start": 1625824169448,
    "source_hash": "4056290c",
    "tags": [],
    "cell_id": "00064-a3cdafc7-f287-4896-9bf2-a2467582fa35",
    "deepnote_cell_type": "code"
   },
   "source": "CAC = CAC.join(users.groupby('source')['user_id'].count().rename('cnt_users'))",
   "outputs": [],
   "execution_count": 29
  },
  {
   "cell_type": "markdown",
   "source": "Получается, чтобы пользователь, пришедший из фейсбука, начал приносить деньги, нужно чтобы стоимость просмотра рекламы была выше 0.082, для ютуба же эта цифра в 2 раза ниже. В среднем цена показа должна быть выше 0.06.",
   "metadata": {
    "tags": [],
    "cell_id": "00065-7833d991-1b2e-438a-bb24-a9bcd47fac7b",
    "deepnote_cell_type": "markdown"
   }
  },
  {
   "cell_type": "markdown",
   "source": "Посмотрим теперь, какое количество времени надо игрокам, чтобы пройти первый уровень:",
   "metadata": {
    "tags": [],
    "cell_id": "00066-b69d1c75-c56b-48d0-bd68-1e87143b4472",
    "deepnote_cell_type": "markdown"
   }
  },
  {
   "cell_type": "code",
   "metadata": {
    "deepnote_to_be_reexecuted": false,
    "execution_millis": 2494,
    "execution_start": 1625824169506,
    "source_hash": "e8261445",
    "tags": [],
    "cell_id": "00067-58c8fee7-cb59-47fd-a112-809325241d35",
    "deepnote_cell_type": "code"
   },
   "source": "df.query(\"user_id in @FINISH\").groupby('user_id').apply(lambda x: (x['dt'].iloc[-1] - x['dt'].iloc[0]).ceil('D')).describe()",
   "outputs": [
    {
     "data": {
      "text/plain": "count                          5817\nmean     12 days 08:41:35.306859205\nstd       4 days 01:55:45.409398676\nmin                 1 days 00:00:00\n25%                10 days 00:00:00\n50%                12 days 00:00:00\n75%                15 days 00:00:00\nmax                31 days 00:00:00\ndtype: object"
     },
     "execution_count": 30,
     "metadata": {},
     "output_type": "execute_result"
    }
   ],
   "execution_count": 30
  },
  {
   "cell_type": "markdown",
   "source": "Среднее количество времени, которое нужно игрокам на прохождение первого уровня - 12 дней.\nПосмотрим на то, сколько дней нужно игрокам, чтобы потерять интерес к игре (не пройти первый уровень и перестать заходить):",
   "metadata": {
    "tags": [],
    "cell_id": "00068-36ff1404-db13-437d-a698-4d0df774559b",
    "deepnote_cell_type": "markdown"
   }
  },
  {
   "cell_type": "code",
   "metadata": {
    "deepnote_to_be_reexecuted": false,
    "execution_millis": 3445,
    "execution_start": 1625824171990,
    "source_hash": "9e829cb0",
    "tags": [],
    "cell_id": "00073-dfacf3cd-d054-4cef-ab6a-d6a776cd6546",
    "deepnote_cell_type": "code"
   },
   "source": "df.query(\"user_id not in @FINISH\").groupby('user_id').apply(lambda x: (x['dt'].iloc[-1] - x['dt'].iloc[0]).ceil('D')).describe()",
   "outputs": [
    {
     "data": {
      "text/plain": "count                          7759\nmean     10 days 06:40:19.177729088\nstd       4 days 08:41:39.199758156\nmin                 0 days 00:00:00\n25%                 7 days 00:00:00\n50%                10 days 00:00:00\n75%                13 days 00:00:00\nmax                30 days 00:00:00\ndtype: object"
     },
     "execution_count": 33,
     "metadata": {},
     "output_type": "execute_result"
    }
   ],
   "execution_count": 33
  },
  {
   "cell_type": "markdown",
   "source": "Игроки перестают играть быстрее, чем заканчивают уровень (вот это открытие :D).\n<br>\nПосмотрим на то же самое, но в разрезе рекламных источников:",
   "metadata": {
    "tags": [],
    "cell_id": "00074-f190c6de-1bce-4709-84b8-efeab2a1c633",
    "deepnote_cell_type": "markdown"
   }
  },
  {
   "cell_type": "code",
   "metadata": {
    "deepnote_to_be_reexecuted": false,
    "execution_millis": 2645,
    "execution_start": 1625824175326,
    "source_hash": "cf0af319",
    "tags": [],
    "cell_id": "00079-de21bd1f-7a1f-4d6a-a4af-c188ce42681a",
    "deepnote_cell_type": "code"
   },
   "source": "result = pd.DataFrame()\nfor source in df['source'].unique():\n    temp = df.query(\"user_id in @FINISH and source == @source\").groupby('user_id').apply(lambda x: (x['dt'].iloc[-1] - x['dt'].iloc[0]).ceil('D')).describe().rename(source)\n    result = result.join(temp, how='right')\n\nresult",
   "outputs": [
    {
     "data": {
      "text/html": "<div>\n<style scoped>\n    .dataframe tbody tr th:only-of-type {\n        vertical-align: middle;\n    }\n\n    .dataframe tbody tr th {\n        vertical-align: top;\n    }\n\n    .dataframe thead th {\n        text-align: right;\n    }\n</style>\n<table border=\"1\" class=\"dataframe\">\n  <thead>\n    <tr style=\"text-align: right;\">\n      <th></th>\n      <th>youtube</th>\n      <th>facebook</th>\n      <th>instagram</th>\n      <th>yandex</th>\n    </tr>\n  </thead>\n  <tbody>\n    <tr>\n      <th>count</th>\n      <td>1159</td>\n      <td>1150</td>\n      <td>1466</td>\n      <td>2042</td>\n    </tr>\n    <tr>\n      <th>mean</th>\n      <td>12 days 09:40:13.459879206</td>\n      <td>12 days 08:22:07.304347826</td>\n      <td>12 days 09:46:24.720327421</td>\n      <td>12 days 07:32:43.956904995</td>\n    </tr>\n    <tr>\n      <th>std</th>\n      <td>4 days 01:05:02.802771451</td>\n      <td>4 days 01:31:34.246002185</td>\n      <td>4 days 00:55:29.991411320</td>\n      <td>4 days 03:23:50.093822051</td>\n    </tr>\n    <tr>\n      <th>min</th>\n      <td>1 days 00:00:00</td>\n      <td>2 days 00:00:00</td>\n      <td>1 days 00:00:00</td>\n      <td>1 days 00:00:00</td>\n    </tr>\n    <tr>\n      <th>25%</th>\n      <td>10 days 00:00:00</td>\n      <td>10 days 00:00:00</td>\n      <td>10 days 00:00:00</td>\n      <td>10 days 00:00:00</td>\n    </tr>\n    <tr>\n      <th>50%</th>\n      <td>12 days 00:00:00</td>\n      <td>12 days 00:00:00</td>\n      <td>12 days 00:00:00</td>\n      <td>12 days 00:00:00</td>\n    </tr>\n    <tr>\n      <th>75%</th>\n      <td>15 days 00:00:00</td>\n      <td>15 days 00:00:00</td>\n      <td>15 days 00:00:00</td>\n      <td>15 days 00:00:00</td>\n    </tr>\n    <tr>\n      <th>max</th>\n      <td>28 days 00:00:00</td>\n      <td>31 days 00:00:00</td>\n      <td>31 days 00:00:00</td>\n      <td>31 days 00:00:00</td>\n    </tr>\n  </tbody>\n</table>\n</div>",
      "text/plain": "                          youtube                    facebook  \\\ncount                        1159                        1150   \nmean   12 days 09:40:13.459879206  12 days 08:22:07.304347826   \nstd     4 days 01:05:02.802771451   4 days 01:31:34.246002185   \nmin               1 days 00:00:00             2 days 00:00:00   \n25%              10 days 00:00:00            10 days 00:00:00   \n50%              12 days 00:00:00            12 days 00:00:00   \n75%              15 days 00:00:00            15 days 00:00:00   \nmax              28 days 00:00:00            31 days 00:00:00   \n\n                        instagram                      yandex  \ncount                        1466                        2042  \nmean   12 days 09:46:24.720327421  12 days 07:32:43.956904995  \nstd     4 days 00:55:29.991411320   4 days 03:23:50.093822051  \nmin               1 days 00:00:00             1 days 00:00:00  \n25%              10 days 00:00:00            10 days 00:00:00  \n50%              12 days 00:00:00            12 days 00:00:00  \n75%              15 days 00:00:00            15 days 00:00:00  \nmax              31 days 00:00:00            31 days 00:00:00  "
     },
     "execution_count": 35,
     "metadata": {},
     "output_type": "execute_result"
    }
   ],
   "execution_count": 35
  },
  {
   "cell_type": "markdown",
   "source": "Источники почти никак не отличаются во времени оттока игроков.\n<br>\nПопробуем это визуализировать:",
   "metadata": {
    "tags": [],
    "cell_id": "00080-64ecd81f-3f1e-4e95-836a-416692ee7d93",
    "deepnote_cell_type": "markdown"
   }
  },
  {
   "cell_type": "code",
   "metadata": {
    "deepnote_to_be_reexecuted": false,
    "execution_millis": 3075,
    "execution_start": 1625824177973,
    "source_hash": "e7ce2f15",
    "tags": [],
    "cell_id": "00081-c69315a9-5250-468e-a377-b190c09cc7ac",
    "deepnote_cell_type": "code"
   },
   "source": "data = (\n    users[~users['finished']][['source', 'user_id', 'first_day', 'last_day']]\n    .pivot_table(\n        index='source', columns='last_day', values='user_id', aggfunc='nunique'\n    )\n    .apply(lambda x: x / users.groupby('source')['user_id'].nunique())\n)\n\ndata['mean'] = data.mean(axis=1)\nax = sns.heatmap(data=data, square=True, cbar=None, annot=True, fmt='.1%')\nplt.xticks(rotation=0)\nax.set_xticklabels(\n    item.get_text()[8:10] for item in ax.get_xticklabels() if item.get_text()\n)\n\nplt.title('Отток игроков, не завершивших уровень, среди исследуемой когорты по каналам')\nplt.show()",
   "outputs": [
    {
     "data": {
      "image/png": "[encoded data removed]",
      "text/plain": "<Figure size 1360x560 with 1 Axes>"
     },
     "metadata": {
      "image/png": {
       "width": 1160,
       "height": 205
      }
     },
     "output_type": "display_data"
    }
   ],
   "execution_count": 36
  },
  {
   "cell_type": "markdown",
   "source": "Посмотрим на среднее время прохождения первого уровня в зависимости от стратегии:",
   "metadata": {
    "tags": [],
    "cell_id": "00084-0e7eb699-2742-4fbf-a5f2-b1feb29dd31b",
    "deepnote_cell_type": "markdown"
   }
  },
  {
   "cell_type": "code",
   "metadata": {
    "deepnote_to_be_reexecuted": false,
    "execution_millis": 49,
    "execution_start": 1625824181044,
    "source_hash": "fdca221b",
    "tags": [],
    "cell_id": "00085-04d6f128-d86f-4b42-aa83-b600046cafe3",
    "deepnote_cell_type": "code"
   },
   "source": "temp = users[users['how']=='project']['time_to_finish'].describe().rename(\n    'by_station'\n).to_frame().join(users[users['how']=='win']['time_to_finish'].describe().rename('by_win'))\n\ntemp",
   "outputs": [
    {
     "data": {
      "text/html": "<div>\n<style scoped>\n    .dataframe tbody tr th:only-of-type {\n        vertical-align: middle;\n    }\n\n    .dataframe tbody tr th {\n        vertical-align: top;\n    }\n\n    .dataframe thead th {\n        text-align: right;\n    }\n</style>\n<table border=\"1\" class=\"dataframe\">\n  <thead>\n    <tr style=\"text-align: right;\">\n      <th></th>\n      <th>by_station</th>\n      <th>by_win</th>\n    </tr>\n  </thead>\n  <tbody>\n    <tr>\n      <th>count</th>\n      <td>1866</td>\n      <td>3951</td>\n    </tr>\n    <tr>\n      <th>mean</th>\n      <td>13 days 11:00:49.135048231</td>\n      <td>11 days 02:30:24.076183244</td>\n    </tr>\n    <tr>\n      <th>std</th>\n      <td>3 days 12:11:01.977069676</td>\n      <td>4 days 02:17:54.287406787</td>\n    </tr>\n    <tr>\n      <th>min</th>\n      <td>5 days 03:22:27</td>\n      <td>0 days 09:39:01</td>\n    </tr>\n    <tr>\n      <th>25%</th>\n      <td>10 days 22:49:58.750000</td>\n      <td>8 days 07:01:19.500000</td>\n    </tr>\n    <tr>\n      <th>50%</th>\n      <td>13 days 00:45:41</td>\n      <td>10 days 19:01:37</td>\n    </tr>\n    <tr>\n      <th>75%</th>\n      <td>15 days 13:47:23.750000</td>\n      <td>13 days 10:33:17.500000</td>\n    </tr>\n    <tr>\n      <th>max</th>\n      <td>29 days 03:13:43</td>\n      <td>30 days 21:58:53</td>\n    </tr>\n  </tbody>\n</table>\n</div>",
      "text/plain": "                       by_station                      by_win\ncount                        1866                        3951\nmean   13 days 11:00:49.135048231  11 days 02:30:24.076183244\nstd     3 days 12:11:01.977069676   4 days 02:17:54.287406787\nmin               5 days 03:22:27             0 days 09:39:01\n25%       10 days 22:49:58.750000      8 days 07:01:19.500000\n50%              13 days 00:45:41            10 days 19:01:37\n75%       15 days 13:47:23.750000     13 days 10:33:17.500000\nmax              29 days 03:13:43            30 days 21:58:53"
     },
     "execution_count": 37,
     "metadata": {},
     "output_type": "execute_result"
    }
   ],
   "execution_count": 37
  },
  {
   "cell_type": "markdown",
   "source": "Победой над другим игроком уровень заканчивают в среднем быстрее, чем реализацией проекта. Убедимся в этом с помощью стат.тестов.",
   "metadata": {
    "tags": [],
    "cell_id": "00086-e2fb29d6-36d7-4d4a-be2b-238324858150",
    "deepnote_cell_type": "markdown"
   }
  },
  {
   "cell_type": "markdown",
   "source": "Так же посмотрим на распределение количества построек по рекламным каналам:",
   "metadata": {
    "tags": [],
    "cell_id": "00076-b27c52f5-a1e5-4c64-afee-2f270484d20c",
    "deepnote_cell_type": "markdown"
   }
  },
  {
   "cell_type": "code",
   "metadata": {
    "scrolled": false,
    "cell_id": "00071-eb6c7f98-e53e-4a52-b717-7a3718cd8bf0",
    "deepnote_cell_type": "code"
   },
   "source": "sns.histplot(\n    data = df.groupby(['source', 'user_id'])['building_type'].count().reset_index(),\n    x = 'building_type',\n    hue = 'source',\n    multiple = 'fill'\n)\n\nplt.title('Относительное распределение количества построек по каналам')\nplt.ylabel('')\nplt.xlabel('Количество построек')\nplt.show()",
   "outputs": [
    {
     "data": {
      "image/png": "[encoded data removed]",
      "text/plain": "<Figure size 1360x560 with 1 Axes>"
     },
     "metadata": {
      "image/png": {
       "width": 1113,
       "height": 496
      }
     },
     "output_type": "display_data"
    }
   ],
   "execution_count": 44
  },
  {
   "cell_type": "markdown",
   "source": "И на конверсию в прохождение уровня по каналам и предпочтительную стратегию:",
   "metadata": {
    "tags": [],
    "cell_id": "00079-7fb460e1-9ce1-4e9a-a1fa-1f4756e1e558",
    "deepnote_cell_type": "markdown"
   }
  },
  {
   "cell_type": "code",
   "metadata": {
    "scrolled": false,
    "cell_id": "00076-eb08cd83-760f-4d3e-ac14-3a308edc99ce",
    "deepnote_cell_type": "code"
   },
   "source": "data = (users.groupby('source')['finished'].mean()\n        .sort_values(ascending=False)\n        .reset_index())\nax = sns.barplot(\n    data = data,\n    y = 'source',\n    x = 'finished',\n    color = '#0b3536',\n    label = 'Конверсия в прохождение уровня',\n    alpha = .9\n)\nmean = data['finished'].mean()\nplt.axvline(mean, color='#0b3536', label='Средняя конверсия')\n\nplt.xticks(ticks=np.append(plt.xticks()[0], mean))\nplt.gca().get_xticklabels()[-1].set(color = '#0b3536', size=20) \n\ndata = ((\n    users.query(\"how == 'win'\").groupby('source')['user_id'].count() \n    / users.groupby('source')['user_id'].count())\n    .reset_index())\nsns.barplot(\n    data = data,\n    y = 'source',\n    x = 'user_id',\n    color = '#f54123',\n    label = 'Победа над игроком',\n    alpha = .9\n)\nmean = data['user_id'].mean()\nplt.axvline(mean, color='#f54123', label='Средняя победа')\n\nplt.xticks(ticks=np.append(plt.xticks()[0], mean))\nplt.gca().get_xticklabels()[-1].set(color = '#f54123', size=20)  \n\nfor i, rect in enumerate(ax.patches):\n    ax.text(\n        rect.get_width(), \n        rect.get_y() + rect.get_height() / 1.75,\n        ' {:.2%}'.format(rect.get_width()),\n        color='#0b3536' if i < 4 else '#f54123'\n        )\nax.set_xticklabels('{:,.0%}'.format(item) for item in ax.get_xticks())\n\nplt.axvline()\nplt.title('Конверсия по источникам')\nplt.legend(loc='lower left')\nplt.xlabel('')\nplt.ylabel('')\nplt.show()",
   "outputs": [
    {
     "data": {
      "image/png": "[encoded data removed]",
      "text/plain": "<Figure size 1360x560 with 1 Axes>"
     },
     "metadata": {
      "image/png": {
       "width": 1156,
       "height": 486
      }
     },
     "output_type": "display_data"
    }
   ],
   "execution_count": 34
  },
  {
   "cell_type": "markdown",
   "source": "---",
   "metadata": {
    "tags": [],
    "cell_id": "00087-acd607ab-37c0-429c-af12-d1cd61bbf31b",
    "deepnote_cell_type": "markdown"
   }
  },
  {
   "cell_type": "markdown",
   "source": "## Гипотезы\n<a name='hypothesis' id='hypothesis'></a>\nПроверим гипотезы на прочность",
   "metadata": {
    "tags": [],
    "cell_id": "00088-38fcf004-2b06-402d-82e6-63edf3d11512",
    "deepnote_cell_type": "markdown"
   }
  },
  {
   "cell_type": "markdown",
   "source": "Начнём с пары функций:",
   "metadata": {
    "tags": [],
    "cell_id": "00089-8fdbfe12-af1f-4d69-9477-e229c5c10a32",
    "deepnote_cell_type": "markdown"
   }
  },
  {
   "cell_type": "code",
   "metadata": {
    "deepnote_to_be_reexecuted": false,
    "execution_millis": 16,
    "execution_start": 1625824181088,
    "source_hash": "455ce429",
    "tags": [],
    "cell_id": "00090-fd848dac-71ca-4e66-94e8-daab673c3504",
    "deepnote_cell_type": "code"
   },
   "source": "def select_test(A, B, alpha=.05):\n\n    result1 = st.shapiro(A)[1] < alpha\n    result2 = st.shapiro(B)[1] < alpha\n    if result1 or result2:\n        print('Распределение не нормальное, используем Манна-Уитни:')\n        mw_test(A, B)\n    else:\n        print(f'Распределение нормальное, используем t-test:')\n        ttest_st(A, B)\n\ndef ttest_st(A, B, alpha=.05):\n\n    result = st.ttest_ind(A, B).pvalue\n    if result < alpha:\n        print('Отвергаем H0, p-value:', result)\n    else:\n        print('Не получилось отвергнуть H0,  p-value:', result)\n\ndef mw_test(A, B, alpha=.05):\n\n    result = st.mannwhitneyu(A, B).pvalue\n    if result < alpha:\n        print('Отвергаем H0, p-value:', result)\n    else:\n        print('Не получилось отвергнуть H0,  p-value:', result)\n\ndef two_sample_z_test(A, B):\n\n    p1 = A[1] / A[0]\n    p2 = B[1] / B[0]\n    p = (A[1] + B[1]) / (A[0] + B[0])\n    \n    z_value = (p1 - p2) / np.sqrt(p * (1 - p) * (1/A[0] + 1/B[0]))\n\n    distr = st.norm(0, 1)\n\n    p_value = (1 - distr.cdf(abs(z_value))) * 2\n\n    return p_value",
   "outputs": [],
   "execution_count": 38
  },
  {
   "cell_type": "markdown",
   "source": "Продолжим формулированием гипотез:",
   "metadata": {
    "tags": [],
    "cell_id": "00091-080588f9-0b28-4fd1-bb1e-50883f37d183",
    "deepnote_cell_type": "markdown"
   }
  },
  {
   "cell_type": "code",
   "metadata": {
    "cell_id": "00092-8d9d1d0c-fefd-422b-8009-712509e39ebb",
    "deepnote_cell_type": "code"
   },
   "source": "temp.loc['mean']",
   "outputs": [
    {
     "data": {
      "text/plain": "by_station    13 days 11:00:49.135048231\nby_win        11 days 02:30:24.076183244\nName: mean, dtype: object"
     },
     "execution_count": 39,
     "metadata": {},
     "output_type": "execute_result"
    }
   ],
   "execution_count": 39
  },
  {
   "cell_type": "markdown",
   "source": "$H_0 - {среднее\\ время\\ завершения\\ уровня\\ не\\ отличается\\ в\\ зависимости\\ от\\ выбора\\ стратегии}$\n<br>\n$H_1 - {среднее\\ время\\ завершения\\ уровня\\ отличается\\ в\\ зависимости\\ от\\ выбора\\ стратегии}$\n<br>\n$\\alpha = 5\\%$",
   "metadata": {
    "tags": [],
    "cell_id": "00093-9ac7ae6b-9a4e-47c6-ae19-b1081960540f",
    "deepnote_cell_type": "markdown"
   }
  },
  {
   "cell_type": "markdown",
   "source": "И закончим непосредственно проверкой:",
   "metadata": {
    "tags": [],
    "cell_id": "00094-8c80e23c-7df3-452a-b792-e9209852272a",
    "deepnote_cell_type": "markdown"
   }
  },
  {
   "cell_type": "code",
   "metadata": {
    "deepnote_to_be_reexecuted": false,
    "execution_millis": 29,
    "execution_start": 1625824181109,
    "scrolled": true,
    "source_hash": "93be7308",
    "tags": [],
    "cell_id": "00095-28c83872-06f9-448c-aeac-391d0f7e3c91",
    "deepnote_cell_type": "code"
   },
   "source": "A = users.loc[users['how']=='project', 'time_to_finish']\nB = users.loc[users['how']=='win', 'time_to_finish']\nselect_test(A, B)",
   "outputs": [
    {
     "name": "stdout",
     "output_type": "stream",
     "text": "Распределение не нормальное, используем Манна-Уитни:\nОтвергаем H0, p-value: 5.614022360822264e-107\n"
    }
   ],
   "execution_count": 40
  },
  {
   "cell_type": "markdown",
   "source": "Проверим ещё гипотезу о равенстве конверсий для всех каналов:",
   "metadata": {
    "tags": [],
    "cell_id": "00096-b1076f75-87b4-4c01-887a-ba7e83ddf1ba",
    "deepnote_cell_type": "markdown"
   }
  },
  {
   "cell_type": "code",
   "metadata": {
    "cell_id": "00097-4816ce62-045d-4d32-9e12-4d10686b0680",
    "deepnote_cell_type": "code"
   },
   "source": "users.groupby('source')['finished'].mean()",
   "outputs": [
    {
     "data": {
      "text/plain": "source\nfacebook    0.422\ninstagram   0.438\nyandex      0.424\nyoutube     0.431\nName: finished, dtype: float64"
     },
     "execution_count": 41,
     "metadata": {},
     "output_type": "execute_result"
    }
   ],
   "execution_count": 41
  },
  {
   "cell_type": "markdown",
   "source": "$H_0 - {конверсия\\ во\\ всех\\ каналах\\ одинаковая}$\n<br>\n$H_1 - {конверсия\\ отличается}$\n<br>\n$\\alpha = 5\\%$",
   "metadata": {
    "tags": [],
    "cell_id": "00098-ed091559-77f2-4cec-a0ad-9fddd95729a8",
    "deepnote_cell_type": "markdown"
   }
  },
  {
   "cell_type": "code",
   "metadata": {
    "deepnote_to_be_reexecuted": false,
    "execution_millis": 86,
    "execution_start": 1625824181135,
    "source_hash": "1428fb3e",
    "tags": [],
    "cell_id": "00099-1fbf1519-1736-454a-a984-a8ff23f1a2bb",
    "deepnote_cell_type": "code"
   },
   "source": "pivot = users.pivot_table(\n    index = 'finished',\n    columns = 'source',\n    values = 'user_id',\n    aggfunc = 'nunique',\n    margins = True,\n    margins_name = 'all'\n).drop(columns='all', index=[False]).rename(index={True: 'finish'})",
   "outputs": [],
   "execution_count": 42
  },
  {
   "cell_type": "code",
   "metadata": {
    "deepnote_to_be_reexecuted": false,
    "execution_millis": 25,
    "execution_start": 1625824181224,
    "source_hash": "96f556e9",
    "tags": [],
    "cell_id": "00100-66e04f76-e294-460a-b7e3-e177796e0ac1",
    "deepnote_cell_type": "code"
   },
   "source": "for i1, source1 in np.ndenumerate(pivot.columns):\n    for i2, source2 in np.ndenumerate(pivot.columns):\n        if i1[0] >= i2[0]: continue\n        result = two_sample_z_test(\n             A = [pivot.loc['all', source1], pivot.loc['finish', source1]],\n             B = [pivot.loc['all', source2], pivot.loc['finish', source2]]\n        )\n        print(f'{source1}-{source2} - {result}')",
   "outputs": [
    {
     "name": "stdout",
     "output_type": "stream",
     "text": "facebook-instagram - 0.20644137086490777\nfacebook-yandex - 0.8624388026512437\nfacebook-youtube - 0.4737412931629539\ninstagram-yandex - 0.20595754565724533\ninstagram-youtube - 0.6123664865502236\nyandex-youtube - 0.5244230207169549\n"
    }
   ],
   "execution_count": 43
  },
  {
   "cell_type": "markdown",
   "source": "Итоговые значения p-value довольное большие, и даже без поправки на множественное тестирование отклонить нулевую гипотезу не получится. Значит конверсия в прохождение первого уровня примерно одинакова для каждого источника.\n<br>\nИсходя из всего этого, выбор в сторону какого-либо канала стоит делать сугубо на основе минимальной цены показа рекламы и CAC, потому что каких-то значимых отличий у каналов больше нет. Но об этом - в нашем следующем разделе.",
   "metadata": {
    "tags": [],
    "cell_id": "00101-175c2ef6-00b3-4efc-a469-91b7ac705476",
    "deepnote_cell_type": "markdown"
   }
  },
  {
   "cell_type": "markdown",
   "source": "---",
   "metadata": {
    "tags": [],
    "cell_id": "00104-ccad05ba-aa9f-4887-9d4c-f93d0fe9949d",
    "deepnote_cell_type": "markdown"
   }
  },
  {
   "cell_type": "markdown",
   "source": "## Выводы\n<a id='conclusions' name='conclusions'></a>\nПодведём итоги ",
   "metadata": {
    "tags": [],
    "cell_id": "00105-3b0799d5-493a-4114-8097-bc14f5508cd8",
    "deepnote_cell_type": "markdown"
   }
  },
  {
   "cell_type": "markdown",
   "source": "Из всех игроков, пришедших с 4 по 10 мая (13576 пользователей), закончили уровень 5817 человек (43%), из которых проект реализовали 1866 участников, а победили 3951 космобратьев (32% и 68% от прошедших первый уровень соответственно). Конверсия 43% в прохождение уровня одинакова для всех рекламных источников. Среднее количество построек по всем каналам меньше 10 (как у всех игроков, так и у тех, кто не прошёл первый уровень). В общем, активность игроков из разных каналов примерно одинаковая по всем интересующим нас аспектам, что оставляет нам единственный вариант делать выбор в пользу какого-либо канала на основе CAC и других данных по каналам.\n\n\nА эти другие данные по каналам нам говорят следующее: \n- от **фейсбука** точно стоит отказаться - игроки с этого канала самые дорогие по привлечению, им нужно показывать самую дорогую рекламу для окупаемости за первый уровень. \n- Точно стоит оставить и развивать **яндекс** (там пользователи стоят в 2 раза дешевле фейсбука и их почти в 2 раза проще окупить (минимальная цена рекламы почти в 2 раза ниже)) и **ютуб** (самый дешёвый по привлечению и самый простой по окупаемости (минимальная минимальная цена рекламы)). \n- **Инстаграм** средний как по стоимости привлечения новых игроков, так и по их окупаемости, если получится снизить эти показатели, то будет прекрасно.\n\n\nЛюбые пользовательские метрики и любую динамику во времени смотреть на имеющихся данных не имеет особого смысла, так как они у нас не полные.",
   "metadata": {
    "tags": [],
    "cell_id": "00106-c59a2b2e-3e14-44f5-bb86-74ba496756eb",
    "deepnote_cell_type": "markdown"
   }
  },
  {
   "cell_type": "markdown",
   "source": "---",
   "metadata": {
    "tags": [],
    "cell_id": "00109-3e5f1984-966d-4ed4-9491-aba06a2f6b01",
    "deepnote_cell_type": "markdown"
   }
  },
  {
   "cell_type": "markdown",
   "source": "<a style='text-decoration:none;line-height:16px;display:flex;color:#5B5B62;padding:10px;justify-content:end;' href='https://deepnote.com?utm_source=created-in-deepnote-cell&projectId=73c6fdc9-2380-4d92-b495-95da9dd36eb1' target=\"_blank\">\n<img alt='Created in deepnote.com' style='display:inline;max-height:16px;margin:0px;margin-right:7.5px;' src='data:image/svg+xml;base64,PD94bWwgdmVyc2lvbj0iMS4wIiBlbmNvZGluZz0iVVRGLTgiPz4KPHN2ZyB3aWR0aD0iODBweCIgaGVpZ2h0PSI4MHB4IiB2aWV3Qm94PSIwIDAgODAgODAiIHZlcnNpb249IjEuMSIgeG1sbnM9Imh0dHA6Ly93d3cudzMub3JnLzIwMDAvc3ZnIiB4bWxuczp4bGluaz0iaHR0cDovL3d3dy53My5vcmcvMTk5OS94bGluayI+CiAgICA8IS0tIEdlbmVyYXRvcjogU2tldGNoIDU0LjEgKDc2NDkwKSAtIGh0dHBzOi8vc2tldGNoYXBwLmNvbSAtLT4KICAgIDx0aXRsZT5Hcm91cCAzPC90aXRsZT4KICAgIDxkZXNjPkNyZWF0ZWQgd2l0aCBTa2V0Y2guPC9kZXNjPgogICAgPGcgaWQ9IkxhbmRpbmciIHN0cm9rZT0ibm9uZSIgc3Ryb2tlLXdpZHRoPSIxIiBmaWxsPSJub25lIiBmaWxsLXJ1bGU9ImV2ZW5vZGQiPgogICAgICAgIDxnIGlkPSJBcnRib2FyZCIgdHJhbnNmb3JtPSJ0cmFuc2xhdGUoLTEyMzUuMDAwMDAwLCAtNzkuMDAwMDAwKSI+CiAgICAgICAgICAgIDxnIGlkPSJHcm91cC0zIiB0cmFuc2Zvcm09InRyYW5zbGF0ZSgxMjM1LjAwMDAwMCwgNzkuMDAwMDAwKSI+CiAgICAgICAgICAgICAgICA8cG9seWdvbiBpZD0iUGF0aC0yMCIgZmlsbD0iIzAyNjVCNCIgcG9pbnRzPSIyLjM3NjIzNzYyIDgwIDM4LjA0NzY2NjcgODAgNTcuODIxNzgyMiA3My44MDU3NTkyIDU3LjgyMTc4MjIgMzIuNzU5MjczOSAzOS4xNDAyMjc4IDMxLjY4MzE2ODMiPjwvcG9seWdvbj4KICAgICAgICAgICAgICAgIDxwYXRoIGQ9Ik0zNS4wMDc3MTgsODAgQzQyLjkwNjIwMDcsNzYuNDU0OTM1OCA0Ny41NjQ5MTY3LDcxLjU0MjI2NzEgNDguOTgzODY2LDY1LjI2MTk5MzkgQzUxLjExMjI4OTksNTUuODQxNTg0MiA0MS42NzcxNzk1LDQ5LjIxMjIyODQgMjUuNjIzOTg0Niw0OS4yMTIyMjg0IEMyNS40ODQ5Mjg5LDQ5LjEyNjg0NDggMjkuODI2MTI5Niw0My4yODM4MjQ4IDM4LjY0NzU4NjksMzEuNjgzMTY4MyBMNzIuODcxMjg3MSwzMi41NTQ0MjUgTDY1LjI4MDk3Myw2Ny42NzYzNDIxIEw1MS4xMTIyODk5LDc3LjM3NjE0NCBMMzUuMDA3NzE4LDgwIFoiIGlkPSJQYXRoLTIyIiBmaWxsPSIjMDAyODY4Ij48L3BhdGg+CiAgICAgICAgICAgICAgICA8cGF0aCBkPSJNMCwzNy43MzA0NDA1IEwyNy4xMTQ1MzcsMC4yNTcxMTE0MzYgQzYyLjM3MTUxMjMsLTEuOTkwNzE3MDEgODAsMTAuNTAwMzkyNyA4MCwzNy43MzA0NDA1IEM4MCw2NC45NjA0ODgyIDY0Ljc3NjUwMzgsNzkuMDUwMzQxNCAzNC4zMjk1MTEzLDgwIEM0Ny4wNTUzNDg5LDc3LjU2NzA4MDggNTMuNDE4MjY3Nyw3MC4zMTM2MTAzIDUzLjQxODI2NzcsNTguMjM5NTg4NSBDNTMuNDE4MjY3Nyw0MC4xMjg1NTU3IDM2LjMwMzk1NDQsMzcuNzMwNDQwNSAyNS4yMjc0MTcsMzcuNzMwNDQwNSBDMTcuODQzMDU4NiwzNy43MzA0NDA1IDkuNDMzOTE5NjYsMzcuNzMwNDQwNSAwLDM3LjczMDQ0MDUgWiIgaWQ9IlBhdGgtMTkiIGZpbGw9IiMzNzkzRUYiPjwvcGF0aD4KICAgICAgICAgICAgPC9nPgogICAgICAgIDwvZz4KICAgIDwvZz4KPC9zdmc+' > </img>\nCreated in <span style='font-weight:600;margin-left:4px;'>Deepnote</span></a>",
   "metadata": {
    "tags": [],
    "created_in_deepnote_cell": true,
    "deepnote_cell_type": "markdown"
   }
  }
 ],
 "nbformat": 4,
 "nbformat_minor": 2,
 "metadata": {
  "ExecuteTimeLog": [
   {
    "duration": 1093,
    "start_time": "2021-07-09T09:51:08.028Z"
   },
   {
    "duration": 4,
    "start_time": "2021-07-09T09:51:09.122Z"
   },
   {
    "duration": 10,
    "start_time": "2021-07-09T09:51:09.129Z"
   },
   {
    "duration": 593,
    "start_time": "2021-07-09T09:51:09.142Z"
   },
   {
    "duration": 73,
    "start_time": "2021-07-09T09:51:09.736Z"
   },
   {
    "duration": 17,
    "start_time": "2021-07-09T09:51:09.811Z"
   },
   {
    "duration": 75,
    "start_time": "2021-07-09T09:51:09.830Z"
   },
   {
    "duration": 15,
    "start_time": "2021-07-09T09:51:09.908Z"
   },
   {
    "duration": 73,
    "start_time": "2021-07-09T09:51:09.926Z"
   },
   {
    "duration": 22,
    "start_time": "2021-07-09T09:51:10.001Z"
   },
   {
    "duration": 931,
    "start_time": "2021-07-09T09:51:10.024Z"
   },
   {
    "duration": 12,
    "start_time": "2021-07-09T09:51:10.956Z"
   },
   {
    "duration": 19,
    "start_time": "2021-07-09T09:51:10.969Z"
   },
   {
    "duration": 9,
    "start_time": "2021-07-09T09:51:10.990Z"
   },
   {
    "duration": 2338,
    "start_time": "2021-07-09T09:51:11.001Z"
   },
   {
    "duration": 8,
    "start_time": "2021-07-09T09:51:13.341Z"
   },
   {
    "duration": 18,
    "start_time": "2021-07-09T09:51:13.351Z"
   },
   {
    "duration": 63,
    "start_time": "2021-07-09T09:51:13.371Z"
   },
   {
    "duration": 389,
    "start_time": "2021-07-09T09:51:13.436Z"
   },
   {
    "duration": 721,
    "start_time": "2021-07-09T09:51:13.827Z"
   },
   {
    "duration": 15,
    "start_time": "2021-07-09T09:51:14.549Z"
   },
   {
    "duration": 34,
    "start_time": "2021-07-09T09:51:14.566Z"
   },
   {
    "duration": 50,
    "start_time": "2021-07-09T09:51:14.604Z"
   },
   {
    "duration": 88,
    "start_time": "2021-07-09T09:51:14.657Z"
   },
   {
    "duration": 106,
    "start_time": "2021-07-09T09:51:14.747Z"
   },
   {
    "duration": 48,
    "start_time": "2021-07-09T09:51:14.855Z"
   },
   {
    "duration": 39,
    "start_time": "2021-07-09T09:51:14.905Z"
   },
   {
    "duration": 6,
    "start_time": "2021-07-09T09:51:14.946Z"
   },
   {
    "duration": 1221,
    "start_time": "2021-07-09T09:51:14.954Z"
   },
   {
    "duration": 1575,
    "start_time": "2021-07-09T09:51:16.176Z"
   },
   {
    "duration": 1236,
    "start_time": "2021-07-09T09:51:17.752Z"
   },
   {
    "duration": 1411,
    "start_time": "2021-07-09T09:51:18.990Z"
   },
   {
    "duration": 19,
    "start_time": "2021-07-09T09:51:20.402Z"
   },
   {
    "duration": 8,
    "start_time": "2021-07-09T09:51:20.422Z"
   },
   {
    "duration": 11,
    "start_time": "2021-07-09T09:51:20.432Z"
   },
   {
    "duration": 4999,
    "start_time": "2021-07-09T09:51:20.445Z"
   },
   {
    "duration": -243,
    "start_time": "2021-07-09T09:51:25.689Z"
   },
   {
    "duration": 4571,
    "start_time": "2021-07-09T09:53:31.865Z"
   },
   {
    "duration": 16,
    "start_time": "2021-07-09T09:53:50.411Z"
   },
   {
    "duration": 7213,
    "start_time": "2021-07-09T09:56:01.625Z"
   },
   {
    "duration": 2335,
    "start_time": "2021-07-09T09:56:22.701Z"
   },
   {
    "duration": 1118,
    "start_time": "2021-07-09T09:56:25.039Z"
   },
   {
    "duration": 4,
    "start_time": "2021-07-09T09:56:26.159Z"
   },
   {
    "duration": 36,
    "start_time": "2021-07-09T09:56:26.165Z"
   },
   {
    "duration": 405,
    "start_time": "2021-07-09T09:56:26.203Z"
   },
   {
    "duration": 50,
    "start_time": "2021-07-09T09:56:26.610Z"
   },
   {
    "duration": 16,
    "start_time": "2021-07-09T09:56:26.662Z"
   },
   {
    "duration": 74,
    "start_time": "2021-07-09T09:56:26.680Z"
   },
   {
    "duration": 6,
    "start_time": "2021-07-09T09:56:26.756Z"
   },
   {
    "duration": 55,
    "start_time": "2021-07-09T09:56:26.763Z"
   },
   {
    "duration": 20,
    "start_time": "2021-07-09T09:56:26.820Z"
   },
   {
    "duration": 202,
    "start_time": "2021-07-09T09:56:26.842Z"
   },
   {
    "duration": 12,
    "start_time": "2021-07-09T09:56:27.045Z"
   },
   {
    "duration": 16,
    "start_time": "2021-07-09T09:56:27.059Z"
   },
   {
    "duration": 17,
    "start_time": "2021-07-09T09:56:27.077Z"
   },
   {
    "duration": 1885,
    "start_time": "2021-07-09T09:56:27.096Z"
   },
   {
    "duration": 11,
    "start_time": "2021-07-09T09:56:28.983Z"
   },
   {
    "duration": 4,
    "start_time": "2021-07-09T09:56:28.996Z"
   },
   {
    "duration": 43,
    "start_time": "2021-07-09T09:56:29.002Z"
   },
   {
    "duration": 521,
    "start_time": "2021-07-09T09:56:29.046Z"
   },
   {
    "duration": 732,
    "start_time": "2021-07-09T09:56:29.569Z"
   },
   {
    "duration": 12,
    "start_time": "2021-07-09T09:56:30.303Z"
   },
   {
    "duration": 462,
    "start_time": "2021-07-09T09:56:30.318Z"
   },
   {
    "duration": 336,
    "start_time": "2021-07-09T09:56:30.781Z"
   },
   {
    "duration": 524,
    "start_time": "2021-07-09T09:56:31.119Z"
   },
   {
    "duration": 292,
    "start_time": "2021-07-09T09:56:31.644Z"
   },
   {
    "duration": 126,
    "start_time": "2021-07-09T09:56:31.938Z"
   },
   {
    "duration": 48,
    "start_time": "2021-07-09T09:56:32.065Z"
   },
   {
    "duration": 6,
    "start_time": "2021-07-09T09:56:32.115Z"
   },
   {
    "duration": 1732,
    "start_time": "2021-07-09T09:56:32.123Z"
   },
   {
    "duration": 2294,
    "start_time": "2021-07-09T09:56:33.856Z"
   },
   {
    "duration": 1803,
    "start_time": "2021-07-09T09:56:36.152Z"
   },
   {
    "duration": 1469,
    "start_time": "2021-07-09T09:56:37.956Z"
   },
   {
    "duration": 19,
    "start_time": "2021-07-09T09:56:39.427Z"
   },
   {
    "duration": 14,
    "start_time": "2021-07-09T09:56:39.448Z"
   },
   {
    "duration": 38,
    "start_time": "2021-07-09T09:56:39.464Z"
   },
   {
    "duration": 66,
    "start_time": "2021-07-09T09:56:39.504Z"
   },
   {
    "duration": 18,
    "start_time": "2021-07-09T09:56:39.571Z"
   },
   {
    "duration": 17,
    "start_time": "2021-07-09T09:56:39.595Z"
   },
   {
    "duration": 295,
    "start_time": "2021-07-09T09:57:46.012Z"
   },
   {
    "duration": 3,
    "start_time": "2021-07-09T09:58:05.378Z"
   },
   {
    "duration": 2249,
    "start_time": "2021-07-09T09:58:58.410Z"
   },
   {
    "duration": 1172,
    "start_time": "2021-07-09T09:59:00.661Z"
   },
   {
    "duration": 4,
    "start_time": "2021-07-09T09:59:01.836Z"
   },
   {
    "duration": 11,
    "start_time": "2021-07-09T09:59:01.842Z"
   },
   {
    "duration": 419,
    "start_time": "2021-07-09T09:59:01.854Z"
   },
   {
    "duration": 63,
    "start_time": "2021-07-09T09:59:02.275Z"
   },
   {
    "duration": 16,
    "start_time": "2021-07-09T09:59:02.340Z"
   },
   {
    "duration": 71,
    "start_time": "2021-07-09T09:59:02.358Z"
   },
   {
    "duration": 5,
    "start_time": "2021-07-09T09:59:02.431Z"
   },
   {
    "duration": 50,
    "start_time": "2021-07-09T09:59:02.438Z"
   },
   {
    "duration": 23,
    "start_time": "2021-07-09T09:59:02.490Z"
   },
   {
    "duration": 202,
    "start_time": "2021-07-09T09:59:02.515Z"
   },
   {
    "duration": 11,
    "start_time": "2021-07-09T09:59:02.718Z"
   },
   {
    "duration": 5,
    "start_time": "2021-07-09T09:59:02.731Z"
   },
   {
    "duration": 13,
    "start_time": "2021-07-09T09:59:02.737Z"
   },
   {
    "duration": 1904,
    "start_time": "2021-07-09T09:59:02.751Z"
   },
   {
    "duration": 9,
    "start_time": "2021-07-09T09:59:04.657Z"
   },
   {
    "duration": 27,
    "start_time": "2021-07-09T09:59:04.668Z"
   },
   {
    "duration": 58,
    "start_time": "2021-07-09T09:59:04.697Z"
   },
   {
    "duration": 464,
    "start_time": "2021-07-09T09:59:04.757Z"
   },
   {
    "duration": 778,
    "start_time": "2021-07-09T09:59:05.223Z"
   },
   {
    "duration": 15,
    "start_time": "2021-07-09T09:59:06.004Z"
   },
   {
    "duration": 16,
    "start_time": "2021-07-09T09:59:06.022Z"
   },
   {
    "duration": 70,
    "start_time": "2021-07-09T09:59:06.040Z"
   },
   {
    "duration": 104,
    "start_time": "2021-07-09T09:59:06.112Z"
   },
   {
    "duration": 53,
    "start_time": "2021-07-09T09:59:06.217Z"
   },
   {
    "duration": 74,
    "start_time": "2021-07-09T09:59:06.272Z"
   },
   {
    "duration": 62,
    "start_time": "2021-07-09T09:59:06.347Z"
   },
   {
    "duration": 6,
    "start_time": "2021-07-09T09:59:06.411Z"
   },
   {
    "duration": 1800,
    "start_time": "2021-07-09T09:59:06.419Z"
   },
   {
    "duration": 2413,
    "start_time": "2021-07-09T09:59:08.221Z"
   },
   {
    "duration": 1821,
    "start_time": "2021-07-09T09:59:10.636Z"
   },
   {
    "duration": 1449,
    "start_time": "2021-07-09T09:59:12.459Z"
   },
   {
    "duration": 18,
    "start_time": "2021-07-09T09:59:13.910Z"
   },
   {
    "duration": 6,
    "start_time": "2021-07-09T09:59:13.930Z"
   },
   {
    "duration": 12,
    "start_time": "2021-07-09T09:59:13.937Z"
   },
   {
    "duration": 70,
    "start_time": "2021-07-09T09:59:13.951Z"
   },
   {
    "duration": 10,
    "start_time": "2021-07-09T09:59:14.023Z"
   },
   {
    "duration": 117,
    "start_time": "2021-07-10T09:35:54.455Z"
   },
   {
    "duration": 114,
    "start_time": "2021-07-10T09:38:01.156Z"
   },
   {
    "duration": 427,
    "start_time": "2021-07-10T10:25:59.059Z"
   },
   {
    "duration": 10561,
    "start_time": "2021-07-10T10:26:05.066Z"
   },
   {
    "duration": 1672,
    "start_time": "2021-07-10T10:26:15.631Z"
   },
   {
    "duration": 7,
    "start_time": "2021-07-10T10:26:17.309Z"
   },
   {
    "duration": 19,
    "start_time": "2021-07-10T10:26:17.319Z"
   },
   {
    "duration": 649,
    "start_time": "2021-07-10T10:26:17.341Z"
   },
   {
    "duration": 126,
    "start_time": "2021-07-10T10:26:17.992Z"
   },
   {
    "duration": 25,
    "start_time": "2021-07-10T10:26:18.121Z"
   },
   {
    "duration": 105,
    "start_time": "2021-07-10T10:26:18.150Z"
   },
   {
    "duration": 9,
    "start_time": "2021-07-10T10:26:18.258Z"
   },
   {
    "duration": 66,
    "start_time": "2021-07-10T10:26:18.270Z"
   },
   {
    "duration": 34,
    "start_time": "2021-07-10T10:26:18.339Z"
   },
   {
    "duration": 346,
    "start_time": "2021-07-10T10:26:18.376Z"
   },
   {
    "duration": 17,
    "start_time": "2021-07-10T10:26:18.725Z"
   },
   {
    "duration": 9,
    "start_time": "2021-07-10T10:26:18.745Z"
   },
   {
    "duration": 11,
    "start_time": "2021-07-10T10:26:18.756Z"
   },
   {
    "duration": 3720,
    "start_time": "2021-07-10T10:26:18.769Z"
   },
   {
    "duration": 18,
    "start_time": "2021-07-10T10:26:22.492Z"
   },
   {
    "duration": 10,
    "start_time": "2021-07-10T10:26:22.513Z"
   },
   {
    "duration": 89,
    "start_time": "2021-07-10T10:26:22.526Z"
   },
   {
    "duration": 674,
    "start_time": "2021-07-10T10:26:22.617Z"
   },
   {
    "duration": 1169,
    "start_time": "2021-07-10T10:26:23.294Z"
   },
   {
    "duration": 19,
    "start_time": "2021-07-10T10:26:24.465Z"
   },
   {
    "duration": 25,
    "start_time": "2021-07-10T10:26:24.510Z"
   },
   {
    "duration": 50,
    "start_time": "2021-07-10T10:26:24.538Z"
   },
   {
    "duration": 142,
    "start_time": "2021-07-10T10:26:24.609Z"
   },
   {
    "duration": 87,
    "start_time": "2021-07-10T10:26:24.753Z"
   },
   {
    "duration": 79,
    "start_time": "2021-07-10T10:26:24.843Z"
   },
   {
    "duration": 63,
    "start_time": "2021-07-10T10:26:24.925Z"
   },
   {
    "duration": 21,
    "start_time": "2021-07-10T10:26:24.990Z"
   },
   {
    "duration": 3083,
    "start_time": "2021-07-10T10:26:25.014Z"
   },
   {
    "duration": 4104,
    "start_time": "2021-07-10T10:26:28.099Z"
   },
   {
    "duration": 27,
    "start_time": "2021-07-10T10:26:32.205Z"
   },
   {
    "duration": 3221,
    "start_time": "2021-07-10T10:26:32.234Z"
   },
   {
    "duration": 2297,
    "start_time": "2021-07-10T10:26:35.457Z"
   },
   {
    "duration": 28,
    "start_time": "2021-07-10T10:26:37.756Z"
   },
   {
    "duration": 31,
    "start_time": "2021-07-10T10:26:37.786Z"
   },
   {
    "duration": 20,
    "start_time": "2021-07-10T10:26:37.820Z"
   },
   {
    "duration": 100,
    "start_time": "2021-07-10T10:26:37.842Z"
   },
   {
    "duration": 15,
    "start_time": "2021-07-10T10:26:37.945Z"
   },
   {
    "duration": 15,
    "start_time": "2021-07-10T10:27:50.441Z"
   },
   {
    "duration": 641,
    "start_time": "2021-07-10T10:28:15.589Z"
   },
   {
    "duration": 9,
    "start_time": "2021-07-10T10:28:21.013Z"
   },
   {
    "duration": 131,
    "start_time": "2021-07-10T10:31:30.432Z"
   },
   {
    "duration": 132,
    "start_time": "2021-07-10T10:31:33.678Z"
   },
   {
    "duration": 20,
    "start_time": "2021-07-10T10:31:41.519Z"
   },
   {
    "duration": 410,
    "start_time": "2021-07-10T10:32:43.103Z"
   },
   {
    "duration": 480,
    "start_time": "2021-07-10T10:32:47.519Z"
   },
   {
    "duration": 10,
    "start_time": "2021-07-10T10:37:59.657Z"
   },
   {
    "duration": 400,
    "start_time": "2021-07-10T10:38:15.526Z"
   },
   {
    "duration": 469,
    "start_time": "2021-07-10T10:38:32.195Z"
   },
   {
    "duration": 454,
    "start_time": "2021-07-10T10:39:33.925Z"
   },
   {
    "duration": 415,
    "start_time": "2021-07-10T10:39:47.043Z"
   },
   {
    "duration": 414,
    "start_time": "2021-07-10T10:40:06.162Z"
   },
   {
    "duration": 419,
    "start_time": "2021-07-10T10:40:13.534Z"
   },
   {
    "duration": 422,
    "start_time": "2021-07-10T10:40:17.721Z"
   },
   {
    "duration": 423,
    "start_time": "2021-07-10T10:40:50.893Z"
   },
   {
    "duration": 26,
    "start_time": "2021-07-10T10:41:46.761Z"
   },
   {
    "duration": 7,
    "start_time": "2021-07-10T10:42:03.407Z"
   },
   {
    "duration": 2293,
    "start_time": "2021-07-10T10:42:48.076Z"
   },
   {
    "duration": 631,
    "start_time": "2021-07-10T10:44:30.360Z"
   },
   {
    "duration": 651,
    "start_time": "2021-07-10T10:44:49.778Z"
   },
   {
    "duration": 630,
    "start_time": "2021-07-10T10:45:14.566Z"
   },
   {
    "duration": 615,
    "start_time": "2021-07-10T10:46:26.439Z"
   },
   {
    "duration": 670,
    "start_time": "2021-07-10T10:46:31.935Z"
   },
   {
    "duration": 623,
    "start_time": "2021-07-10T10:47:09.178Z"
   },
   {
    "duration": 630,
    "start_time": "2021-07-10T10:47:37.793Z"
   },
   {
    "duration": 409,
    "start_time": "2021-07-10T11:37:55.474Z"
   },
   {
    "duration": 528,
    "start_time": "2021-07-10T11:38:10.909Z"
   },
   {
    "duration": 508,
    "start_time": "2021-07-10T11:38:20.949Z"
   },
   {
    "duration": 105,
    "start_time": "2021-07-10T11:38:52.724Z"
   },
   {
    "duration": 13,
    "start_time": "2021-07-10T11:38:57.951Z"
   },
   {
    "duration": 1453,
    "start_time": "2021-07-10T11:40:00.256Z"
   },
   {
    "duration": 346,
    "start_time": "2021-07-10T11:40:22.907Z"
   },
   {
    "duration": 108,
    "start_time": "2021-07-10T11:41:19.274Z"
   },
   {
    "duration": 550,
    "start_time": "2021-07-10T11:41:24.443Z"
   },
   {
    "duration": 10,
    "start_time": "2021-07-10T11:41:36.811Z"
   },
   {
    "duration": 12,
    "start_time": "2021-07-10T11:42:19.191Z"
   },
   {
    "duration": 13,
    "start_time": "2021-07-10T11:42:44.514Z"
   },
   {
    "duration": 12,
    "start_time": "2021-07-10T11:42:59.530Z"
   },
   {
    "duration": 15,
    "start_time": "2021-07-10T11:43:31.191Z"
   },
   {
    "duration": 17,
    "start_time": "2021-07-10T11:43:50.297Z"
   },
   {
    "duration": 13,
    "start_time": "2021-07-10T11:44:00.214Z"
   },
   {
    "duration": 333,
    "start_time": "2021-07-10T11:44:17.585Z"
   },
   {
    "duration": 13,
    "start_time": "2021-07-10T11:44:28.770Z"
   },
   {
    "duration": 13,
    "start_time": "2021-07-10T11:44:39.934Z"
   },
   {
    "duration": 13,
    "start_time": "2021-07-10T11:44:55.193Z"
   },
   {
    "duration": 27,
    "start_time": "2021-07-10T11:45:56.538Z"
   },
   {
    "duration": 13,
    "start_time": "2021-07-10T11:46:08.831Z"
   },
   {
    "duration": 11,
    "start_time": "2021-07-10T11:46:10.885Z"
   },
   {
    "duration": 13,
    "start_time": "2021-07-10T11:46:21.620Z"
   },
   {
    "duration": 15,
    "start_time": "2021-07-10T11:46:31.720Z"
   },
   {
    "duration": 18,
    "start_time": "2021-07-10T11:47:00.920Z"
   },
   {
    "duration": 534,
    "start_time": "2021-07-10T11:47:31.524Z"
   },
   {
    "duration": 599,
    "start_time": "2021-07-10T11:47:44.672Z"
   },
   {
    "duration": 20,
    "start_time": "2021-07-10T11:48:09.840Z"
   },
   {
    "duration": 651,
    "start_time": "2021-07-10T11:48:17.252Z"
   },
   {
    "duration": 345,
    "start_time": "2021-07-10T11:49:37.547Z"
   },
   {
    "duration": 22,
    "start_time": "2021-07-10T11:49:42.824Z"
   },
   {
    "duration": 21,
    "start_time": "2021-07-10T11:49:57.670Z"
   },
   {
    "duration": 621,
    "start_time": "2021-07-10T11:50:08.848Z"
   },
   {
    "duration": 706,
    "start_time": "2021-07-10T11:50:25.027Z"
   },
   {
    "duration": 621,
    "start_time": "2021-07-10T11:50:40.918Z"
   },
   {
    "duration": 619,
    "start_time": "2021-07-10T11:50:46.686Z"
   },
   {
    "duration": 647,
    "start_time": "2021-07-10T11:52:15.125Z"
   },
   {
    "duration": 1131,
    "start_time": "2021-07-10T11:52:36.078Z"
   },
   {
    "duration": 650,
    "start_time": "2021-07-10T11:52:42.709Z"
   },
   {
    "duration": 650,
    "start_time": "2021-07-10T11:53:06.395Z"
   },
   {
    "duration": 652,
    "start_time": "2021-07-10T11:53:19.516Z"
   },
   {
    "duration": 645,
    "start_time": "2021-07-10T11:53:26.511Z"
   },
   {
    "duration": 658,
    "start_time": "2021-07-10T11:53:30.851Z"
   },
   {
    "duration": 663,
    "start_time": "2021-07-10T11:53:34.989Z"
   },
   {
    "duration": 947,
    "start_time": "2021-07-10T11:53:55.676Z"
   },
   {
    "duration": 637,
    "start_time": "2021-07-10T11:54:10.852Z"
   },
   {
    "duration": 663,
    "start_time": "2021-07-10T11:54:24.736Z"
   },
   {
    "duration": 691,
    "start_time": "2021-07-10T11:54:34.806Z"
   },
   {
    "duration": 842,
    "start_time": "2021-07-10T11:54:47.118Z"
   },
   {
    "duration": 105,
    "start_time": "2021-07-10T11:54:51.767Z"
   },
   {
    "duration": 738,
    "start_time": "2021-07-10T11:54:54.593Z"
   },
   {
    "duration": 761,
    "start_time": "2021-07-10T11:55:01.011Z"
   },
   {
    "duration": 679,
    "start_time": "2021-07-10T11:55:33.736Z"
   },
   {
    "duration": 659,
    "start_time": "2021-07-10T11:55:37.955Z"
   },
   {
    "duration": 750,
    "start_time": "2021-07-10T11:55:54.074Z"
   },
   {
    "duration": 685,
    "start_time": "2021-07-10T11:56:10.927Z"
   },
   {
    "duration": 337,
    "start_time": "2021-07-10T11:56:45.682Z"
   },
   {
    "duration": 888,
    "start_time": "2021-07-10T11:56:53.742Z"
   },
   {
    "duration": 624,
    "start_time": "2021-07-10T11:56:56.598Z"
   },
   {
    "duration": 184,
    "start_time": "2021-07-10T11:58:16.106Z"
   },
   {
    "duration": 16,
    "start_time": "2021-07-10T11:58:19.817Z"
   },
   {
    "duration": 790,
    "start_time": "2021-07-10T11:58:55.746Z"
   },
   {
    "duration": 123,
    "start_time": "2021-07-10T12:00:15.743Z"
   },
   {
    "duration": 118,
    "start_time": "2021-07-10T12:00:17.996Z"
   },
   {
    "duration": 109,
    "start_time": "2021-07-10T12:00:20.004Z"
   },
   {
    "duration": 120,
    "start_time": "2021-07-10T12:00:23.045Z"
   },
   {
    "duration": 26,
    "start_time": "2021-07-10T12:00:25.444Z"
   },
   {
    "duration": 21,
    "start_time": "2021-07-10T12:00:50.353Z"
   },
   {
    "duration": 821,
    "start_time": "2021-07-10T12:00:59.217Z"
   },
   {
    "duration": 821,
    "start_time": "2021-07-10T12:01:34.380Z"
   },
   {
    "duration": 947,
    "start_time": "2021-07-10T12:01:57.916Z"
   },
   {
    "duration": 845,
    "start_time": "2021-07-10T12:02:15.685Z"
   },
   {
    "duration": 787,
    "start_time": "2021-07-10T12:02:33.757Z"
   },
   {
    "duration": 842,
    "start_time": "2021-07-10T12:03:01.021Z"
   },
   {
    "duration": 854,
    "start_time": "2021-07-10T12:03:43.878Z"
   },
   {
    "duration": 870,
    "start_time": "2021-07-10T12:04:17.010Z"
   },
   {
    "duration": 873,
    "start_time": "2021-07-10T12:05:59.892Z"
   },
   {
    "duration": 846,
    "start_time": "2021-07-10T12:06:35.534Z"
   },
   {
    "duration": 773,
    "start_time": "2021-07-10T12:06:54.404Z"
   },
   {
    "duration": 776,
    "start_time": "2021-07-10T12:07:20.699Z"
   },
   {
    "duration": 779,
    "start_time": "2021-07-10T12:07:46.376Z"
   },
   {
    "duration": 728,
    "start_time": "2021-07-10T12:07:53.191Z"
   },
   {
    "duration": 943,
    "start_time": "2021-07-10T12:08:11.969Z"
   },
   {
    "duration": 688,
    "start_time": "2021-07-10T12:08:37.945Z"
   },
   {
    "duration": 822,
    "start_time": "2021-07-10T12:08:57.627Z"
   },
   {
    "duration": 1156,
    "start_time": "2021-07-10T12:09:11.120Z"
   },
   {
    "duration": 912,
    "start_time": "2021-07-10T12:10:33.143Z"
   },
   {
    "duration": 890,
    "start_time": "2021-07-10T12:10:38.695Z"
   },
   {
    "duration": 879,
    "start_time": "2021-07-10T12:10:43.262Z"
   },
   {
    "duration": 883,
    "start_time": "2021-07-10T12:10:47.558Z"
   },
   {
    "duration": 898,
    "start_time": "2021-07-10T12:11:03.562Z"
   },
   {
    "duration": 943,
    "start_time": "2021-07-10T12:11:10.983Z"
   },
   {
    "duration": 835,
    "start_time": "2021-07-10T12:11:33.927Z"
   },
   {
    "duration": 839,
    "start_time": "2021-07-10T12:11:39.925Z"
   },
   {
    "duration": 1190,
    "start_time": "2021-07-10T12:12:27.101Z"
   },
   {
    "duration": 925,
    "start_time": "2021-07-10T12:13:14.046Z"
   },
   {
    "duration": 865,
    "start_time": "2021-07-10T12:14:54.102Z"
   },
   {
    "duration": 121,
    "start_time": "2021-07-10T12:15:35.296Z"
   },
   {
    "duration": 832,
    "start_time": "2021-07-10T12:15:42.999Z"
   },
   {
    "duration": 2422,
    "start_time": "2021-07-10T12:15:47.263Z"
   },
   {
    "duration": 1327,
    "start_time": "2021-07-10T12:16:03.855Z"
   },
   {
    "duration": 1274,
    "start_time": "2021-07-10T12:17:28.499Z"
   },
   {
    "duration": 810,
    "start_time": "2021-07-10T12:17:55.338Z"
   },
   {
    "duration": 866,
    "start_time": "2021-07-10T12:18:03.063Z"
   },
   {
    "duration": 838,
    "start_time": "2021-07-10T12:18:19.181Z"
   },
   {
    "duration": 840,
    "start_time": "2021-07-10T12:19:43.004Z"
   },
   {
    "duration": 155,
    "start_time": "2021-07-10T12:21:20.667Z"
   },
   {
    "duration": 68,
    "start_time": "2021-07-10T12:21:23.210Z"
   },
   {
    "duration": 76,
    "start_time": "2021-07-10T12:21:36.939Z"
   },
   {
    "duration": 408,
    "start_time": "2021-07-10T12:22:22.255Z"
   },
   {
    "duration": 5759,
    "start_time": "2021-07-10T12:22:41.438Z"
   },
   {
    "duration": 4247,
    "start_time": "2021-07-10T12:23:02.756Z"
   },
   {
    "duration": 1581,
    "start_time": "2021-07-10T12:23:07.007Z"
   },
   {
    "duration": 6,
    "start_time": "2021-07-10T12:23:08.592Z"
   },
   {
    "duration": 14,
    "start_time": "2021-07-10T12:23:08.601Z"
   },
   {
    "duration": 709,
    "start_time": "2021-07-10T12:23:08.618Z"
   },
   {
    "duration": 108,
    "start_time": "2021-07-10T12:23:09.330Z"
   },
   {
    "duration": 17,
    "start_time": "2021-07-10T12:23:09.441Z"
   },
   {
    "duration": 161,
    "start_time": "2021-07-10T12:23:09.462Z"
   },
   {
    "duration": 10,
    "start_time": "2021-07-10T12:23:09.627Z"
   },
   {
    "duration": 97,
    "start_time": "2021-07-10T12:23:09.640Z"
   },
   {
    "duration": 32,
    "start_time": "2021-07-10T12:23:09.739Z"
   },
   {
    "duration": 342,
    "start_time": "2021-07-10T12:23:09.773Z"
   },
   {
    "duration": 18,
    "start_time": "2021-07-10T12:23:10.117Z"
   },
   {
    "duration": 20,
    "start_time": "2021-07-10T12:23:10.138Z"
   },
   {
    "duration": 12,
    "start_time": "2021-07-10T12:23:10.160Z"
   },
   {
    "duration": 3613,
    "start_time": "2021-07-10T12:23:10.174Z"
   },
   {
    "duration": 20,
    "start_time": "2021-07-10T12:23:13.789Z"
   },
   {
    "duration": 6,
    "start_time": "2021-07-10T12:23:13.811Z"
   },
   {
    "duration": 95,
    "start_time": "2021-07-10T12:23:13.820Z"
   },
   {
    "duration": 743,
    "start_time": "2021-07-10T12:23:13.917Z"
   },
   {
    "duration": 1119,
    "start_time": "2021-07-10T12:23:14.662Z"
   },
   {
    "duration": 31,
    "start_time": "2021-07-10T12:23:15.783Z"
   },
   {
    "duration": 23,
    "start_time": "2021-07-10T12:23:15.819Z"
   },
   {
    "duration": 77,
    "start_time": "2021-07-10T12:23:15.845Z"
   },
   {
    "duration": 151,
    "start_time": "2021-07-10T12:23:15.925Z"
   },
   {
    "duration": 89,
    "start_time": "2021-07-10T12:23:16.078Z"
   },
   {
    "duration": 86,
    "start_time": "2021-07-10T12:23:16.169Z"
   },
   {
    "duration": 71,
    "start_time": "2021-07-10T12:23:16.258Z"
   },
   {
    "duration": 9,
    "start_time": "2021-07-10T12:23:16.331Z"
   },
   {
    "duration": 3294,
    "start_time": "2021-07-10T12:23:16.342Z"
   },
   {
    "duration": 2032,
    "start_time": "2021-07-10T12:23:19.640Z"
   },
   {
    "duration": 4056,
    "start_time": "2021-07-10T12:23:21.676Z"
   },
   {
    "duration": 894,
    "start_time": "2021-07-10T12:23:25.734Z"
   },
   {
    "duration": 3095,
    "start_time": "2021-07-10T12:23:26.631Z"
   },
   {
    "duration": 2356,
    "start_time": "2021-07-10T12:23:29.728Z"
   },
   {
    "duration": 42,
    "start_time": "2021-07-10T12:23:32.087Z"
   },
   {
    "duration": 13,
    "start_time": "2021-07-10T12:23:32.132Z"
   },
   {
    "duration": 35,
    "start_time": "2021-07-10T12:23:32.147Z"
   },
   {
    "duration": 25,
    "start_time": "2021-07-10T12:23:32.185Z"
   },
   {
    "duration": 484,
    "start_time": "2021-07-10T12:23:32.213Z"
   },
   {
    "duration": 107,
    "start_time": "2021-07-10T12:23:32.701Z"
   },
   {
    "duration": 19,
    "start_time": "2021-07-10T12:23:32.811Z"
   },
   {
    "duration": 1414,
    "start_time": "2021-07-10T12:24:16.076Z"
   },
   {
    "duration": 1401,
    "start_time": "2021-07-10T12:24:27.311Z"
   },
   {
    "duration": 1539,
    "start_time": "2021-07-10T12:25:27.911Z"
   },
   {
    "duration": 1422,
    "start_time": "2021-07-10T12:25:42.658Z"
   },
   {
    "duration": 1402,
    "start_time": "2021-07-10T12:25:55.153Z"
   },
   {
    "duration": 9,
    "start_time": "2021-07-10T12:28:05.726Z"
   },
   {
    "duration": 13029,
    "start_time": "2021-07-11T08:14:17.927Z"
   },
   {
    "duration": 1591,
    "start_time": "2021-07-11T08:14:30.961Z"
   },
   {
    "duration": 6,
    "start_time": "2021-07-11T08:14:32.555Z"
   },
   {
    "duration": 29,
    "start_time": "2021-07-11T08:14:32.564Z"
   },
   {
    "duration": 720,
    "start_time": "2021-07-11T08:14:32.596Z"
   },
   {
    "duration": 100,
    "start_time": "2021-07-11T08:14:33.318Z"
   },
   {
    "duration": 33,
    "start_time": "2021-07-11T08:14:33.421Z"
   },
   {
    "duration": 147,
    "start_time": "2021-07-11T08:14:33.460Z"
   },
   {
    "duration": 12,
    "start_time": "2021-07-11T08:14:33.611Z"
   },
   {
    "duration": 93,
    "start_time": "2021-07-11T08:14:33.627Z"
   },
   {
    "duration": 60,
    "start_time": "2021-07-11T08:14:33.723Z"
   },
   {
    "duration": 607,
    "start_time": "2021-07-11T08:14:33.787Z"
   },
   {
    "duration": 27,
    "start_time": "2021-07-11T08:14:34.397Z"
   },
   {
    "duration": 28,
    "start_time": "2021-07-11T08:14:34.427Z"
   },
   {
    "duration": 14,
    "start_time": "2021-07-11T08:14:34.458Z"
   },
   {
    "duration": 6929,
    "start_time": "2021-07-11T08:14:34.476Z"
   },
   {
    "duration": 14,
    "start_time": "2021-07-11T08:14:41.409Z"
   },
   {
    "duration": 29,
    "start_time": "2021-07-11T08:14:41.425Z"
   },
   {
    "duration": 74,
    "start_time": "2021-07-11T08:14:41.457Z"
   },
   {
    "duration": 740,
    "start_time": "2021-07-11T08:14:41.534Z"
   },
   {
    "duration": 1131,
    "start_time": "2021-07-11T08:14:42.277Z"
   },
   {
    "duration": 18,
    "start_time": "2021-07-11T08:14:43.411Z"
   },
   {
    "duration": 24,
    "start_time": "2021-07-11T08:14:43.458Z"
   },
   {
    "duration": 74,
    "start_time": "2021-07-11T08:14:43.485Z"
   },
   {
    "duration": 142,
    "start_time": "2021-07-11T08:14:43.562Z"
   },
   {
    "duration": 93,
    "start_time": "2021-07-11T08:14:43.706Z"
   },
   {
    "duration": 82,
    "start_time": "2021-07-11T08:14:43.802Z"
   },
   {
    "duration": 78,
    "start_time": "2021-07-11T08:14:43.887Z"
   },
   {
    "duration": 11,
    "start_time": "2021-07-11T08:14:43.968Z"
   },
   {
    "duration": 2952,
    "start_time": "2021-07-11T08:14:43.981Z"
   },
   {
    "duration": 1395,
    "start_time": "2021-07-11T08:14:46.936Z"
   },
   {
    "duration": 1412,
    "start_time": "2021-07-11T08:14:48.334Z"
   },
   {
    "duration": 4284,
    "start_time": "2021-07-11T08:14:49.749Z"
   },
   {
    "duration": 1266,
    "start_time": "2021-07-11T08:14:54.036Z"
   },
   {
    "duration": 3041,
    "start_time": "2021-07-11T08:14:55.305Z"
   },
   {
    "duration": 2946,
    "start_time": "2021-07-11T08:14:58.355Z"
   },
   {
    "duration": 55,
    "start_time": "2021-07-11T08:15:01.305Z"
   },
   {
    "duration": 16,
    "start_time": "2021-07-11T08:15:01.364Z"
   },
   {
    "duration": 30,
    "start_time": "2021-07-11T08:15:01.384Z"
   },
   {
    "duration": 28,
    "start_time": "2021-07-11T08:15:01.418Z"
   },
   {
    "duration": 18,
    "start_time": "2021-07-11T08:15:01.453Z"
   },
   {
    "duration": 120,
    "start_time": "2021-07-11T08:15:01.474Z"
   },
   {
    "duration": 22,
    "start_time": "2021-07-11T08:15:01.598Z"
   },
   {
    "duration": 1432,
    "start_time": "2021-07-11T08:16:41.004Z"
   }
  ],
  "deepnote": {
   "is_reactive": false
  },
  "deepnote_execution_queue": [],
  "deepnote_notebook_id": "5766f71a-06cb-41f3-8c37-b238774f23ea",
  "kernelspec": {
   "display_name": "Python 3",
   "language": "python",
   "name": "python3"
  },
  "language_info": {
   "codemirror_mode": {
    "name": "ipython",
    "version": 3
   },
   "file_extension": ".py",
   "mimetype": "text/x-python",
   "name": "python",
   "nbconvert_exporter": "python",
   "pygments_lexer": "ipython3",
   "version": "3.7.8"
  },
  "toc": {
   "base_numbering": 1,
   "nav_menu": {
    "height": "217px",
    "width": "160px"
   },
   "number_sections": false,
   "sideBar": false,
   "skip_h1_title": false,
   "title_cell": "Table of Contents",
   "title_sidebar": "Contents",
   "toc_cell": false,
   "toc_position": {},
   "toc_section_display": false,
   "toc_window_display": false
  }
 }
}