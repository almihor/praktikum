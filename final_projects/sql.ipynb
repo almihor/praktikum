{
 "cells": [
  {
   "cell_type": "markdown",
   "source": "# Книжный сервис",
   "metadata": {
    "tags": [],
    "cell_id": "00000-41e160d5-3b90-4a34-9170-5edb03314803",
    "deepnote_cell_type": "markdown"
   }
  },
  {
   "cell_type": "markdown",
   "source": "Нужно проанализировать основую информацию о книгах, издательствах, авторах, пользовательских обзорах книг, чтобы можно было на основе аналитики сформулировать ценностное предложение для нового сервиса чтения книг по подписке.",
   "metadata": {
    "tags": [],
    "cell_id": "00001-4ae416db-c97c-40d5-abf8-8bb35413d549",
    "deepnote_cell_type": "markdown"
   }
  },
  {
   "cell_type": "markdown",
   "source": "## Структура\n1. [Начало](#inception)\n1. [SQL](#sql)\n1. [Выводы](#conclusions)",
   "metadata": {
    "tags": [],
    "cell_id": "00002-0e67339a-4dd3-4a76-8b30-7d2caef418d5",
    "deepnote_cell_type": "markdown"
   }
  },
  {
   "cell_type": "markdown",
   "source": "---",
   "metadata": {
    "tags": [],
    "cell_id": "00003-5ce9da57-e237-45c6-a2c4-5fcb982664db",
    "deepnote_cell_type": "markdown"
   }
  },
  {
   "cell_type": "markdown",
   "source": "## Начало\n<a name='inception' id='inception'></a>\nПерестанем мечтать о том, как сделаем последний проект, и начнём его делать",
   "metadata": {
    "tags": [],
    "cell_id": "00003-46b0cd3e-45cd-4275-8127-0c9720985e84",
    "deepnote_cell_type": "markdown"
   }
  },
  {
   "cell_type": "code",
   "metadata": {
    "tags": [],
    "cell_id": "00000-c184160c-a90e-4401-93e8-04373cc10224",
    "deepnote_to_be_reexecuted": false,
    "source_hash": "f28aa5ad",
    "execution_start": 1626259726265,
    "execution_millis": 4153,
    "deepnote_cell_type": "code"
   },
   "source": "!pip install python-dotenv -q",
   "execution_count": null,
   "outputs": []
  },
  {
   "cell_type": "code",
   "metadata": {
    "tags": [],
    "cell_id": "00000-5b1bdc0d-d2e6-42c7-bbc1-204d75a7f1dd",
    "deepnote_to_be_reexecuted": false,
    "source_hash": "6433b431",
    "execution_start": 1626612176351,
    "execution_millis": 1,
    "deepnote_cell_type": "code"
   },
   "source": "import pandas as pd\nimport matplotlib.pyplot as plt\nimport seaborn as sns\nfrom sqlalchemy import create_engine\n# from dotenv import load_dotenv\nfrom os import environ",
   "execution_count": 2,
   "outputs": []
  },
  {
   "cell_type": "code",
   "metadata": {
    "tags": [],
    "cell_id": "00002-36542e55-3b42-4977-ac77-bb8595bba2de",
    "deepnote_to_be_reexecuted": false,
    "source_hash": "a990621b",
    "execution_start": 1626259732478,
    "execution_millis": 0,
    "deepnote_cell_type": "code"
   },
   "source": "load_dotenv()",
   "execution_count": null,
   "outputs": [
    {
     "output_type": "execute_result",
     "execution_count": 3,
     "data": {
      "text/plain": "True"
     },
     "metadata": {}
    }
   ]
  },
  {
   "cell_type": "code",
   "metadata": {
    "tags": [],
    "cell_id": "00008-6e319b26-0ebd-49a4-9a38-3c395f035a00",
    "deepnote_to_be_reexecuted": false,
    "source_hash": "8ad15361",
    "execution_start": 1626612179176,
    "execution_millis": 5,
    "deepnote_cell_type": "code"
   },
   "source": "sns.set(\n    rc = {\n        'figure.figsize': (17, 7),\n        'figure.dpi': 80,\n        'axes.grid': True,\n        'axes.grid.axis': 'x',\n        'axes.grid.which': 'both',\n        'grid.alpha': .4,\n        'xtick.minor.visible': True,\n        },\n    palette = 'colorblind',\n    style = 'ticks'\n)",
   "execution_count": 3,
   "outputs": []
  },
  {
   "cell_type": "code",
   "metadata": {
    "tags": [],
    "cell_id": "00003-f4c37c1d-4a85-4316-b94c-4df233217c3e",
    "deepnote_to_be_reexecuted": false,
    "source_hash": "3b2a0469",
    "execution_start": 1626612181316,
    "execution_millis": 39,
    "deepnote_cell_type": "code"
   },
   "source": "connection_string = 'postgresql://{}:{}@{}:{}/{}'.format(\n    environ.get('USER'),\n    environ.get('PASSWORD'),\n    environ.get('HOST'),\n    environ.get('PORT'),\n    environ.get('DB')\n    )\n\nengine = create_engine(\n    connection_string, \n    connect_args={'sslmode':'require'}\n    )",
   "execution_count": 4,
   "outputs": []
  },
  {
   "cell_type": "code",
   "metadata": {
    "tags": [],
    "cell_id": "00004-b8c827c3-c32f-4f32-a358-1afd0ef8a3bd",
    "deepnote_to_be_reexecuted": false,
    "source_hash": "e2600bff",
    "execution_start": 1626612183632,
    "execution_millis": 5,
    "deepnote_cell_type": "code"
   },
   "source": "def sql(query):\n  return pd.io.sql.read_sql(query, engine)",
   "execution_count": 5,
   "outputs": []
  },
  {
   "cell_type": "markdown",
   "source": "---",
   "metadata": {
    "tags": [],
    "cell_id": "00010-4e5d72c4-4b9a-43a9-9112-a1aa97b68c07",
    "deepnote_cell_type": "markdown"
   }
  },
  {
   "cell_type": "markdown",
   "source": "## SQL\n<a name='sql' id='sql'></a>\nПроанализируем что должны",
   "metadata": {
    "tags": [],
    "cell_id": "00011-05d2bc53-139c-41fa-a4a7-ddc5892f4946",
    "deepnote_cell_type": "markdown"
   }
  },
  {
   "cell_type": "markdown",
   "source": "Для начала посмотрим на список таблиц:",
   "metadata": {
    "tags": [],
    "cell_id": "00012-db855227-10f9-48fb-ac43-3b4b1384d438",
    "deepnote_cell_type": "markdown"
   }
  },
  {
   "cell_type": "code",
   "source": "q = \"\"\"\nSELECT * FROM books\n\"\"\"\nsql(q)",
   "metadata": {
    "tags": [],
    "cell_id": "00014-8a310659-cb1c-40ef-b39c-339ae01be1dc",
    "deepnote_to_be_reexecuted": false,
    "source_hash": "1609fde6",
    "execution_start": 1626612261786,
    "execution_millis": 3086,
    "deepnote_cell_type": "code"
   },
   "outputs": [
    {
     "output_type": "execute_result",
     "execution_count": 6,
     "data": {
      "application/vnd.deepnote.dataframe.v2+json": {
       "row_count": 1000,
       "column_count": 6,
       "columns": [
        {
         "name": "book_id",
         "dtype": "int64",
         "stats": {
          "unique_count": 1000,
          "nan_count": 0,
          "min": "1",
          "max": "1000",
          "histogram": [
           {
            "bin_start": 1,
            "bin_end": 100.9,
            "count": 100
           },
           {
            "bin_start": 100.9,
            "bin_end": 200.8,
            "count": 100
           },
           {
            "bin_start": 200.8,
            "bin_end": 300.70000000000005,
            "count": 100
           },
           {
            "bin_start": 300.70000000000005,
            "bin_end": 400.6,
            "count": 100
           },
           {
            "bin_start": 400.6,
            "bin_end": 500.5,
            "count": 100
           },
           {
            "bin_start": 500.5,
            "bin_end": 600.4000000000001,
            "count": 100
           },
           {
            "bin_start": 600.4000000000001,
            "bin_end": 700.3000000000001,
            "count": 100
           },
           {
            "bin_start": 700.3000000000001,
            "bin_end": 800.2,
            "count": 100
           },
           {
            "bin_start": 800.2,
            "bin_end": 900.1,
            "count": 100
           },
           {
            "bin_start": 900.1,
            "bin_end": 1000,
            "count": 100
           }
          ]
         }
        },
        {
         "name": "author_id",
         "dtype": "int64",
         "stats": {
          "unique_count": 636,
          "nan_count": 0,
          "min": "1",
          "max": "636",
          "histogram": [
           {
            "bin_start": 1,
            "bin_end": 64.5,
            "count": 99
           },
           {
            "bin_start": 64.5,
            "bin_end": 128,
            "count": 100
           },
           {
            "bin_start": 128,
            "bin_end": 191.5,
            "count": 86
           },
           {
            "bin_start": 191.5,
            "bin_end": 255,
            "count": 93
           },
           {
            "bin_start": 255,
            "bin_end": 318.5,
            "count": 124
           },
           {
            "bin_start": 318.5,
            "bin_end": 382,
            "count": 105
           },
           {
            "bin_start": 382,
            "bin_end": 445.5,
            "count": 98
           },
           {
            "bin_start": 445.5,
            "bin_end": 509,
            "count": 92
           },
           {
            "bin_start": 509,
            "bin_end": 572.5,
            "count": 118
           },
           {
            "bin_start": 572.5,
            "bin_end": 636,
            "count": 85
           }
          ]
         }
        },
        {
         "name": "title",
         "dtype": "object",
         "stats": {
          "unique_count": 999,
          "nan_count": 0,
          "categories": [
           {
            "name": "Memoirs of a Geisha",
            "count": 2
           },
           {
            "name": "'Salem's Lot",
            "count": 1
           },
           {
            "name": "997 others",
            "count": 997
           }
          ]
         }
        },
        {
         "name": "num_pages",
         "dtype": "int64",
         "stats": {
          "unique_count": 454,
          "nan_count": 0,
          "min": "14",
          "max": "2690",
          "histogram": [
           {
            "bin_start": 14,
            "bin_end": 281.6,
            "count": 308
           },
           {
            "bin_start": 281.6,
            "bin_end": 549.2,
            "count": 547
           },
           {
            "bin_start": 549.2,
            "bin_end": 816.8000000000001,
            "count": 97
           },
           {
            "bin_start": 816.8000000000001,
            "bin_end": 1084.4,
            "count": 34
           },
           {
            "bin_start": 1084.4,
            "bin_end": 1352,
            "count": 7
           },
           {
            "bin_start": 1352,
            "bin_end": 1619.6000000000001,
            "count": 4
           },
           {
            "bin_start": 1619.6000000000001,
            "bin_end": 1887.2000000000003,
            "count": 1
           },
           {
            "bin_start": 1887.2000000000003,
            "bin_end": 2154.8,
            "count": 1
           },
           {
            "bin_start": 2154.8,
            "bin_end": 2422.4,
            "count": 0
           },
           {
            "bin_start": 2422.4,
            "bin_end": 2690,
            "count": 1
           }
          ]
         }
        },
        {
         "name": "publication_date",
         "dtype": "object",
         "stats": {
          "unique_count": 618,
          "nan_count": 0,
          "categories": [
           {
            "name": "2006-08-29",
            "count": 10
           },
           {
            "name": "2004-06-01",
            "count": 10
           },
           {
            "name": "616 others",
            "count": 980
           }
          ]
         }
        },
        {
         "name": "publisher_id",
         "dtype": "int64",
         "stats": {
          "unique_count": 340,
          "nan_count": 0,
          "min": "1",
          "max": "340",
          "histogram": [
           {
            "bin_start": 1,
            "bin_end": 34.9,
            "count": 103
           },
           {
            "bin_start": 34.9,
            "bin_end": 68.8,
            "count": 109
           },
           {
            "bin_start": 68.8,
            "bin_end": 102.69999999999999,
            "count": 84
           },
           {
            "bin_start": 102.69999999999999,
            "bin_end": 136.6,
            "count": 117
           },
           {
            "bin_start": 136.6,
            "bin_end": 170.5,
            "count": 65
           },
           {
            "bin_start": 170.5,
            "bin_end": 204.39999999999998,
            "count": 85
           },
           {
            "bin_start": 204.39999999999998,
            "bin_end": 238.29999999999998,
            "count": 144
           },
           {
            "bin_start": 238.29999999999998,
            "bin_end": 272.2,
            "count": 87
           },
           {
            "bin_start": 272.2,
            "bin_end": 306.09999999999997,
            "count": 96
           },
           {
            "bin_start": 306.09999999999997,
            "bin_end": 340,
            "count": 110
           }
          ]
         }
        },
        {
         "name": "_deepnote_index_column",
         "dtype": "int64"
        }
       ],
       "rows_top": [
        {
         "book_id": 1,
         "author_id": 546,
         "title": "'Salem's Lot",
         "num_pages": 594,
         "publication_date": "2005-11-01",
         "publisher_id": 93,
         "_deepnote_index_column": 0
        },
        {
         "book_id": 2,
         "author_id": 465,
         "title": "1 000 Places to See Before You Die",
         "num_pages": 992,
         "publication_date": "2003-05-22",
         "publisher_id": 336,
         "_deepnote_index_column": 1
        },
        {
         "book_id": 3,
         "author_id": 407,
         "title": "13 Little Blue Envelopes (Little Blue Envelope  #1)",
         "num_pages": 322,
         "publication_date": "2010-12-21",
         "publisher_id": 135,
         "_deepnote_index_column": 2
        },
        {
         "book_id": 4,
         "author_id": 82,
         "title": "1491: New Revelations of the Americas Before Columbus",
         "num_pages": 541,
         "publication_date": "2006-10-10",
         "publisher_id": 309,
         "_deepnote_index_column": 3
        },
        {
         "book_id": 5,
         "author_id": 125,
         "title": "1776",
         "num_pages": 386,
         "publication_date": "2006-07-04",
         "publisher_id": 268,
         "_deepnote_index_column": 4
        },
        {
         "book_id": 6,
         "author_id": 257,
         "title": "1st to Die (Women's Murder Club  #1)",
         "num_pages": 424,
         "publication_date": "2005-05-20",
         "publisher_id": 116,
         "_deepnote_index_column": 5
        },
        {
         "book_id": 7,
         "author_id": 258,
         "title": "2nd Chance (Women's Murder Club  #2)",
         "num_pages": 400,
         "publication_date": "2005-05-20",
         "publisher_id": 116,
         "_deepnote_index_column": 6
        },
        {
         "book_id": 8,
         "author_id": 260,
         "title": "4th of July (Women's Murder Club  #4)",
         "num_pages": 448,
         "publication_date": "2006-06-01",
         "publisher_id": 318,
         "_deepnote_index_column": 7
        },
        {
         "book_id": 9,
         "author_id": 563,
         "title": "A Beautiful Mind",
         "num_pages": 461,
         "publication_date": "2002-02-04",
         "publisher_id": 104,
         "_deepnote_index_column": 8
        },
        {
         "book_id": 10,
         "author_id": 445,
         "title": "A Bend in the Road",
         "num_pages": 341,
         "publication_date": "2005-04-01",
         "publisher_id": 116,
         "_deepnote_index_column": 9
        },
        {
         "book_id": 11,
         "author_id": 130,
         "title": "A Breath of Snow and Ashes (Outlander  #6)",
         "num_pages": 980,
         "publication_date": "2006-08-29",
         "publisher_id": 83,
         "_deepnote_index_column": 10
        },
        {
         "book_id": 12,
         "author_id": 541,
         "title": "A Brief History of Time",
         "num_pages": 212,
         "publication_date": "1998-09-01",
         "publisher_id": 36,
         "_deepnote_index_column": 11
        },
        {
         "book_id": 13,
         "author_id": 359,
         "title": "A Caress of Twilight (Merry Gentry  #2)",
         "num_pages": 348,
         "publication_date": "2005-03-15",
         "publisher_id": 33,
         "_deepnote_index_column": 12
        },
        {
         "book_id": 14,
         "author_id": 85,
         "title": "A Christmas Carol and Other Christmas Writings",
         "num_pages": 288,
         "publication_date": "2003-10-30",
         "publisher_id": 217,
         "_deepnote_index_column": 13
        },
        {
         "book_id": 15,
         "author_id": 198,
         "title": "A Clash of Kings  (A Song of Ice and Fire  #2)",
         "num_pages": 969,
         "publication_date": "2002-05-28",
         "publisher_id": 35,
         "_deepnote_index_column": 14
        },
        {
         "book_id": 16,
         "author_id": 505,
         "title": "A Crown of Swords (The Wheel of Time  #7)",
         "num_pages": 880,
         "publication_date": "1997-11-15",
         "publisher_id": 297,
         "_deepnote_index_column": 15
        },
        {
         "book_id": 17,
         "author_id": 94,
         "title": "A Dirty Job (Grim Reaper  #1)",
         "num_pages": 387,
         "publication_date": "2006-03-21",
         "publisher_id": 331,
         "_deepnote_index_column": 16
        },
        {
         "book_id": 18,
         "author_id": 129,
         "title": "A Drink Before the War (Kenzie & Gennaro  #1)",
         "num_pages": 282,
         "publication_date": "2003-09-15",
         "publisher_id": 178,
         "_deepnote_index_column": 17
        },
        {
         "book_id": 19,
         "author_id": 517,
         "title": "A Fine Balance",
         "num_pages": 603,
         "publication_date": "2001-11-30",
         "publisher_id": 309,
         "_deepnote_index_column": 18
        },
        {
         "book_id": 20,
         "author_id": 349,
         "title": "A Fistful of Charms (The Hollows  #4)",
         "num_pages": 510,
         "publication_date": "2006-06-27",
         "publisher_id": 143,
         "_deepnote_index_column": 19
        },
        {
         "book_id": 21,
         "author_id": 440,
         "title": "A Game of You (The Sandman  #5)",
         "num_pages": 192,
         "publication_date": "1999-03-10",
         "publisher_id": 305,
         "_deepnote_index_column": 20
        },
        {
         "book_id": 22,
         "author_id": 368,
         "title": "A Great and Terrible Beauty (Gemma Doyle #1)",
         "num_pages": 403,
         "publication_date": "2003-12-09",
         "publisher_id": 276,
         "_deepnote_index_column": 21
        },
        {
         "book_id": 23,
         "author_id": 571,
         "title": "A Hat Full of Sky (Discworld  #32; Tiffany Aching  #2)",
         "num_pages": 352,
         "publication_date": "2005-05-05",
         "publisher_id": 66,
         "_deepnote_index_column": 22
        },
        {
         "book_id": 24,
         "author_id": 118,
         "title": "A Heartbreaking Work of Staggering Genius",
         "num_pages": 485,
         "publication_date": "2001-02-13",
         "publisher_id": 309,
         "_deepnote_index_column": 23
        },
        {
         "book_id": 25,
         "author_id": 333,
         "title": "A History of God: The 4 000-Year Quest of Judaism  Christianity  and Islam",
         "num_pages": 460,
         "publication_date": "2004-03-02",
         "publisher_id": 115,
         "_deepnote_index_column": 24
        },
        {
         "book_id": 26,
         "author_id": 351,
         "title": "A Hunger Like No Other (Immortals After Dark  #1)",
         "num_pages": 356,
         "publication_date": "2006-04-01",
         "publisher_id": 231,
         "_deepnote_index_column": 25
        },
        {
         "book_id": 27,
         "author_id": 171,
         "title": "A Lesson Before Dying",
         "num_pages": 256,
         "publication_date": "1997-09-28",
         "publisher_id": 309,
         "_deepnote_index_column": 26
        },
        {
         "book_id": 28,
         "author_id": 534,
         "title": "A Light in the Attic",
         "num_pages": 176,
         "publication_date": "2002-10-07",
         "publisher_id": 146,
         "_deepnote_index_column": 27
        },
        {
         "book_id": 29,
         "author_id": 176,
         "title": "A Little Princess",
         "num_pages": 242,
         "publication_date": "2002-02-26",
         "publisher_id": 212,
         "_deepnote_index_column": 28
        },
        {
         "book_id": 30,
         "author_id": 447,
         "title": "A Long Way Down",
         "num_pages": 368,
         "publication_date": "2006-05-02",
         "publisher_id": 247,
         "_deepnote_index_column": 29
        },
        {
         "book_id": 31,
         "author_id": 233,
         "title": "A Long Way Gone: Memoirs of a Boy Soldier",
         "num_pages": 229,
         "publication_date": "2007-02-13",
         "publisher_id": 252,
         "_deepnote_index_column": 30
        },
        {
         "book_id": 32,
         "author_id": 495,
         "title": "A Long Way from Chicago (A Long Way from Chicago  #1)",
         "num_pages": 160,
         "publication_date": "2004-04-12",
         "publisher_id": 235,
         "_deepnote_index_column": 31
        },
        {
         "book_id": 33,
         "author_id": 353,
         "title": "A Man Without a Country",
         "num_pages": 160,
         "publication_date": "2007-01-16",
         "publisher_id": 243,
         "_deepnote_index_column": 32
        },
        {
         "book_id": 34,
         "author_id": 268,
         "title": "A Map of the World",
         "num_pages": 400,
         "publication_date": "1999-12-03",
         "publisher_id": 16,
         "_deepnote_index_column": 33
        },
        {
         "book_id": 35,
         "author_id": 254,
         "title": "A Million Little Pieces",
         "num_pages": 515,
         "publication_date": "2005-09-22",
         "publisher_id": 16,
         "_deepnote_index_column": 34
        },
        {
         "book_id": 36,
         "author_id": 169,
         "title": "A Moveable Feast",
         "num_pages": 192,
         "publication_date": "2012-09-06",
         "publisher_id": 309,
         "_deepnote_index_column": 35
        },
        {
         "book_id": 37,
         "author_id": 3,
         "title": "A Murder Is Announced (Miss Marple  #5)",
         "num_pages": 288,
         "publication_date": "2006-09-30",
         "publisher_id": 50,
         "_deepnote_index_column": 36
        },
        {
         "book_id": 38,
         "author_id": 302,
         "title": "A Painted House",
         "num_pages": 384,
         "publication_date": "2004-02-03",
         "publisher_id": 35,
         "_deepnote_index_column": 37
        },
        {
         "book_id": 39,
         "author_id": 148,
         "title": "A Passage to India",
         "num_pages": 376,
         "publication_date": "2005-08-30",
         "publisher_id": 212,
         "_deepnote_index_column": 38
        },
        {
         "book_id": 40,
         "author_id": 225,
         "title": "A People's History of the United States",
         "num_pages": 729,
         "publication_date": "2005-08-02",
         "publisher_id": 129,
         "_deepnote_index_column": 39
        },
        {
         "book_id": 41,
         "author_id": 256,
         "title": "A Portrait of the Artist as a Young Man",
         "num_pages": 329,
         "publication_date": "2003-03-25",
         "publisher_id": 217,
         "_deepnote_index_column": 40
        },
        {
         "book_id": 42,
         "author_id": 153,
         "title": "A Princess of Mars (Barsoom  #1)",
         "num_pages": 186,
         "publication_date": "2007-01-30",
         "publisher_id": 212,
         "_deepnote_index_column": 41
        },
        {
         "book_id": 43,
         "author_id": 377,
         "title": "A Quick Bite (Argeneau #1)",
         "num_pages": 360,
         "publication_date": "2020-03-31",
         "publisher_id": 28,
         "_deepnote_index_column": 42
        },
        {
         "book_id": 44,
         "author_id": 604,
         "title": "A Room of One's Own",
         "num_pages": 112,
         "publication_date": "2000-01-01",
         "publisher_id": 212,
         "_deepnote_index_column": 43
        },
        {
         "book_id": 45,
         "author_id": 147,
         "title": "A Room with a View",
         "num_pages": 119,
         "publication_date": "2005-01-01",
         "publisher_id": 90,
         "_deepnote_index_column": 44
        },
        {
         "book_id": 46,
         "author_id": 477,
         "title": "A Scanner Darkly",
         "num_pages": 219,
         "publication_date": "2006-08-17",
         "publisher_id": 114,
         "_deepnote_index_column": 45
        },
        {
         "book_id": 47,
         "author_id": 308,
         "title": "A Separate Peace",
         "num_pages": 208,
         "publication_date": "2003-09-30",
         "publisher_id": 258,
         "_deepnote_index_column": 46
        },
        {
         "book_id": 48,
         "author_id": 56,
         "title": "A Short History of Nearly Everything",
         "num_pages": 544,
         "publication_date": "2004-09-14",
         "publisher_id": 56,
         "_deepnote_index_column": 47
        },
        {
         "book_id": 49,
         "author_id": 569,
         "title": "A Streetcar Named Desire",
         "num_pages": 107,
         "publication_date": "1952-12-01",
         "publisher_id": 97,
         "_deepnote_index_column": 48
        },
        {
         "book_id": 50,
         "author_id": 269,
         "title": "A Thousand Acres",
         "num_pages": 371,
         "publication_date": "2003-12-02",
         "publisher_id": 15,
         "_deepnote_index_column": 49
        },
        {
         "book_id": 51,
         "author_id": 54,
         "title": "A Tree Grows in Brooklyn",
         "num_pages": 496,
         "publication_date": "2006-05-30",
         "publisher_id": 135,
         "_deepnote_index_column": 50
        },
        {
         "book_id": 52,
         "author_id": 56,
         "title": "A Walk in the Woods: Rediscovering America on the Appalachian Trail",
         "num_pages": 397,
         "publication_date": "2006-12-26",
         "publisher_id": 16,
         "_deepnote_index_column": 51
        },
        {
         "book_id": 53,
         "author_id": 445,
         "title": "A Walk to Remember",
         "num_pages": 240,
         "publication_date": "2004-09-01",
         "publisher_id": 116,
         "_deepnote_index_column": 52
        },
        {
         "book_id": 54,
         "author_id": 215,
         "title": "A Wild Sheep Chase (The Rat  #3)",
         "num_pages": 353,
         "publication_date": "2002-04-09",
         "publisher_id": 309,
         "_deepnote_index_column": 53
        },
        {
         "book_id": 55,
         "author_id": 51,
         "title": "A Woman of Substance (Emma Harte Saga #1)",
         "num_pages": 928,
         "publication_date": "2005-12-01",
         "publisher_id": 118,
         "_deepnote_index_column": 54
        },
        {
         "book_id": 56,
         "author_id": 475,
         "title": "A Year in Provence",
         "num_pages": 207,
         "publication_date": "1991-06-04",
         "publisher_id": 309,
         "_deepnote_index_column": 55
        },
        {
         "book_id": 57,
         "author_id": 602,
         "title": "Act of Treason (Mitch Rapp  #9)",
         "num_pages": 432,
         "publication_date": "2006-10-10",
         "publisher_id": 27,
         "_deepnote_index_column": 56
        },
        {
         "book_id": 58,
         "author_id": 2,
         "title": "Aesop's Fables",
         "num_pages": 306,
         "publication_date": "2003-04-10",
         "publisher_id": 203,
         "_deepnote_index_column": 57
        },
        {
         "book_id": 59,
         "author_id": 216,
         "title": "After Dark",
         "num_pages": 191,
         "publication_date": "2007-05-08",
         "publisher_id": 169,
         "_deepnote_index_column": 58
        },
        {
         "book_id": 60,
         "author_id": 533,
         "title": "Ahab's Wife  or The Star-Gazer",
         "num_pages": 704,
         "publication_date": "2005-08-02",
         "publisher_id": 333,
         "_deepnote_index_column": 59
        },
        {
         "book_id": 61,
         "author_id": 567,
         "title": "Alanna: The First Adventure (Song of the Lioness  #1)",
         "num_pages": 274,
         "publication_date": "2005-01-01",
         "publisher_id": 274,
         "_deepnote_index_column": 60
        },
        {
         "book_id": 62,
         "author_id": 461,
         "title": "Alas  Babylon",
         "num_pages": 323,
         "publication_date": "2005-07-05",
         "publisher_id": 130,
         "_deepnote_index_column": 61
        },
        {
         "book_id": 63,
         "author_id": 518,
         "title": "Alexander Hamilton",
         "num_pages": 818,
         "publication_date": "2005-03-29",
         "publisher_id": 212,
         "_deepnote_index_column": 62
        },
        {
         "book_id": 64,
         "author_id": 366,
         "title": "Alice in Wonderland",
         "num_pages": 92,
         "publication_date": "2004-09-07",
         "publisher_id": 115,
         "_deepnote_index_column": 63
        },
        {
         "book_id": 65,
         "author_id": 367,
         "title": "Alice's Adventures in Wonderland & Through the Looking-Glass",
         "num_pages": 239,
         "publication_date": "2000-12-01",
         "publisher_id": 219,
         "_deepnote_index_column": 64
        },
        {
         "book_id": 66,
         "author_id": 510,
         "title": "All the King's Men",
         "num_pages": 439,
         "publication_date": "1996-09-01",
         "publisher_id": 125,
         "_deepnote_index_column": 65
        },
        {
         "book_id": 67,
         "author_id": 409,
         "title": "All-American Girl (All-American Girl  #1)",
         "num_pages": 398,
         "publication_date": "2003-07-22",
         "publisher_id": 144,
         "_deepnote_index_column": 66
        },
        {
         "book_id": 68,
         "author_id": 369,
         "title": "Alone (Detective D.D. Warren  #1)",
         "num_pages": 451,
         "publication_date": "2005-12-27",
         "publisher_id": 35,
         "_deepnote_index_column": 67
        },
        {
         "book_id": 69,
         "author_id": 257,
         "title": "Along Came a Spider (Alex Cross  #1)",
         "num_pages": 449,
         "publication_date": "2003-08-01",
         "publisher_id": 116,
         "_deepnote_index_column": 68
        },
        {
         "book_id": 70,
         "author_id": 430,
         "title": "American Gods (American Gods  #1)",
         "num_pages": 635,
         "publication_date": "2005-03-04",
         "publisher_id": 150,
         "_deepnote_index_column": 69
        },
        {
         "book_id": 71,
         "author_id": 480,
         "title": "American Pastoral (The American Trilogy  #1)",
         "num_pages": 432,
         "publication_date": "1998-03-05",
         "publisher_id": 309,
         "_deepnote_index_column": 70
        },
        {
         "book_id": 72,
         "author_id": 228,
         "title": "Amsterdam",
         "num_pages": 208,
         "publication_date": "1999-11-02",
         "publisher_id": 17,
         "_deepnote_index_column": 71
        },
        {
         "book_id": 73,
         "author_id": 455,
         "title": "An Ideal Husband",
         "num_pages": 78,
         "publication_date": "2001-02-05",
         "publisher_id": 96,
         "_deepnote_index_column": 72
        },
        {
         "book_id": 74,
         "author_id": 3,
         "title": "And Then There Were None",
         "num_pages": 264,
         "publication_date": "2004-05-03",
         "publisher_id": 284,
         "_deepnote_index_column": 73
        },
        {
         "book_id": 75,
         "author_id": 106,
         "title": "Angels & Demons (Robert Langdon  #1)",
         "num_pages": 736,
         "publication_date": "2006-04-01",
         "publisher_id": 229,
         "_deepnote_index_column": 74
        },
        {
         "book_id": 76,
         "author_id": 452,
         "title": "Angels Fall",
         "num_pages": 391,
         "publication_date": "2006-07-11",
         "publisher_id": 236,
         "_deepnote_index_column": 75
        },
        {
         "book_id": 77,
         "author_id": 414,
         "title": "Angels Flight (Harry Bosch  #6; Harry Bosch Universe  #7)",
         "num_pages": 454,
         "publication_date": "2000-01-05",
         "publisher_id": 327,
         "_deepnote_index_column": 76
        },
        {
         "book_id": 78,
         "author_id": 50,
         "title": "Animal  Vegetable  Miracle: A Year of Food Life",
         "num_pages": 370,
         "publication_date": "2007-05-01",
         "publisher_id": 135,
         "_deepnote_index_column": 77
        },
        {
         "book_id": 79,
         "author_id": 195,
         "title": "Animal Farm",
         "num_pages": 122,
         "publication_date": "2003-05-06",
         "publisher_id": 186,
         "_deepnote_index_column": 78
        },
        {
         "book_id": 80,
         "author_id": 196,
         "title": "Animal Farm / 1984",
         "num_pages": 400,
         "publication_date": "2003-06-01",
         "publisher_id": 157,
         "_deepnote_index_column": 79
        },
        {
         "book_id": 81,
         "author_id": 362,
         "title": "Anna Karenina",
         "num_pages": 960,
         "publication_date": "2002-11-05",
         "publisher_id": 265,
         "_deepnote_index_column": 80
        },
        {
         "book_id": 82,
         "author_id": 417,
         "title": "Anne Frank Remembered: The Story of the Woman Who Helped to Hide the Frank Family",
         "num_pages": 252,
         "publication_date": "1988-04-15",
         "publisher_id": 299,
         "_deepnote_index_column": 81
        },
        {
         "book_id": 83,
         "author_id": 174,
         "title": "Anne Rice's The Vampire Lestat: A Graphic Novel",
         "num_pages": 404,
         "publication_date": "1991-11-30",
         "publisher_id": 33,
         "_deepnote_index_column": 82
        }
       ],
       "rows_bottom": [
        {
         "book_id": 918,
         "author_id": 471,
         "title": "The Zahir",
         "num_pages": 336,
         "publication_date": "2006-07-03",
         "publisher_id": 139,
         "_deepnote_index_column": 917
        },
        {
         "book_id": 919,
         "author_id": 635,
         "title": "Their Eyes Were Watching God",
         "num_pages": 219,
         "publication_date": "2006-05-30",
         "publisher_id": 14,
         "_deepnote_index_column": 918
        },
        {
         "book_id": 920,
         "author_id": 157,
         "title": "Theodore Rex",
         "num_pages": 555,
         "publication_date": "2002-10-01",
         "publisher_id": 243,
         "_deepnote_index_column": 919
        },
        {
         "book_id": 921,
         "author_id": 423,
         "title": "Think and Grow Rich: The Landmark Bestseller Now Revised and Updated for the 21st Century",
         "num_pages": 320,
         "publication_date": "2005-09-01",
         "publisher_id": 289,
         "_deepnote_index_column": 920
        },
        {
         "book_id": 922,
         "author_id": 490,
         "title": "Thinner",
         "num_pages": 320,
         "publication_date": "1996-09-01",
         "publisher_id": 265,
         "_deepnote_index_column": 921
        },
        {
         "book_id": 923,
         "author_id": 528,
         "title": "This Lullaby",
         "num_pages": 345,
         "publication_date": "2004-03-08",
         "publisher_id": 278,
         "_deepnote_index_column": 922
        },
        {
         "book_id": 924,
         "author_id": 178,
         "title": "This Present Darkness (Darkness  #1)",
         "num_pages": 376,
         "publication_date": "2003-06-26",
         "publisher_id": 67,
         "_deepnote_index_column": 923
        },
        {
         "book_id": 925,
         "author_id": 285,
         "title": "Three Men in a Boat (Three Men  #1)",
         "num_pages": 185,
         "publication_date": "1994-10-01",
         "publisher_id": 212,
         "_deepnote_index_column": 924
        },
        {
         "book_id": 926,
         "author_id": 446,
         "title": "Three Weeks With My Brother",
         "num_pages": 368,
         "publication_date": "2006-01-03",
         "publisher_id": 116,
         "_deepnote_index_column": 925
        },
        {
         "book_id": 927,
         "author_id": 270,
         "title": "Three to Get Deadly (Stephanie Plum  #3)",
         "num_pages": 321,
         "publication_date": "1998-07-15",
         "publisher_id": 284,
         "_deepnote_index_column": 926
        },
        {
         "book_id": 928,
         "author_id": 422,
         "title": "Throne of Jade (Temeraire  #2)",
         "num_pages": 398,
         "publication_date": "2006-04-25",
         "publisher_id": 77,
         "_deepnote_index_column": 927
        },
        {
         "book_id": 929,
         "author_id": 167,
         "title": "Thunderstruck",
         "num_pages": 463,
         "publication_date": "2006-10-24",
         "publisher_id": 69,
         "_deepnote_index_column": 928
        },
        {
         "book_id": 930,
         "author_id": 566,
         "title": "To Green Angel Tower (Memory  Sorrow  and Thorn  #3)",
         "num_pages": 1083,
         "publication_date": "2005-05-03",
         "publisher_id": 70,
         "_deepnote_index_column": 929
        },
        {
         "book_id": 931,
         "author_id": 270,
         "title": "To the Nines (Stephanie Plum  #9)",
         "num_pages": 320,
         "publication_date": "2004-06-05",
         "publisher_id": 284,
         "_deepnote_index_column": 930
        },
        {
         "book_id": 932,
         "author_id": 293,
         "title": "Touching the Void: The True Story of One Man's Miraculous Survival",
         "num_pages": 218,
         "publication_date": "2004-02-03",
         "publisher_id": 129,
         "_deepnote_index_column": 931
        },
        {
         "book_id": 933,
         "author_id": 230,
         "title": "Trainspotting",
         "num_pages": 344,
         "publication_date": "1998-03-06",
         "publisher_id": 261,
         "_deepnote_index_column": 932
        },
        {
         "book_id": 934,
         "author_id": 30,
         "title": "Traveling Mercies: Some Thoughts on Faith",
         "num_pages": 275,
         "publication_date": "2000-02-15",
         "publisher_id": 15,
         "_deepnote_index_column": 933
        },
        {
         "book_id": 935,
         "author_id": 311,
         "title": "Travels with Charley: In Search of America",
         "num_pages": 214,
         "publication_date": "2002-02-05",
         "publisher_id": 210,
         "_deepnote_index_column": 934
        },
        {
         "book_id": 936,
         "author_id": 507,
         "title": "Treasure Island",
         "num_pages": 311,
         "publication_date": "2001-09-15",
         "publisher_id": 166,
         "_deepnote_index_column": 935
        },
        {
         "book_id": 937,
         "author_id": 567,
         "title": "Trickster's Choice (Daughter of the Lioness  #1)",
         "num_pages": 453,
         "publication_date": "2004-09-17",
         "publisher_id": 257,
         "_deepnote_index_column": 936
        },
        {
         "book_id": 938,
         "author_id": 336,
         "title": "Triptych (Will Trent  #1)",
         "num_pages": 393,
         "publication_date": "2006-08-15",
         "publisher_id": 79,
         "_deepnote_index_column": 937
        },
        {
         "book_id": 939,
         "author_id": 220,
         "title": "Tropic of Cancer",
         "num_pages": 318,
         "publication_date": "1994-01-06",
         "publisher_id": 119,
         "_deepnote_index_column": 938
        },
        {
         "book_id": 940,
         "author_id": 445,
         "title": "True Believer (Jeremy Marsh & Lexie Darnell  #1)",
         "num_pages": 465,
         "publication_date": "2006-04-11",
         "publisher_id": 116,
         "_deepnote_index_column": 939
        },
        {
         "book_id": 941,
         "author_id": 125,
         "title": "Truman",
         "num_pages": 1120,
         "publication_date": "1993-06-14",
         "publisher_id": 268,
         "_deepnote_index_column": 940
        },
        {
         "book_id": 942,
         "author_id": 24,
         "title": "Truth and Beauty",
         "num_pages": 257,
         "publication_date": "2005-04-05",
         "publisher_id": 129,
         "_deepnote_index_column": 941
        },
        {
         "book_id": 943,
         "author_id": 70,
         "title": "Tsubasa: RESERVoir CHRoNiCLE  Vol. 1",
         "num_pages": 197,
         "publication_date": "2004-04-27",
         "publisher_id": 76,
         "_deepnote_index_column": 942
        },
        {
         "book_id": 944,
         "author_id": 626,
         "title": "Twelfth Night",
         "num_pages": 272,
         "publication_date": "2004-07-01",
         "publisher_id": 275,
         "_deepnote_index_column": 943
        },
        {
         "book_id": 945,
         "author_id": 270,
         "title": "Twelve Sharp (Stephanie Plum  #12)",
         "num_pages": 310,
         "publication_date": "2006-06-20",
         "publisher_id": 284,
         "_deepnote_index_column": 944
        },
        {
         "book_id": 946,
         "author_id": 459,
         "title": "Twenty Love Poems and a Song of Despair",
         "num_pages": 70,
         "publication_date": "2006-12-26",
         "publisher_id": 217,
         "_deepnote_index_column": 945
        },
        {
         "book_id": 947,
         "author_id": 327,
         "title": "Twenty Thousand Leagues Under the Sea (Extraordinary Voyages  #6)",
         "num_pages": 394,
         "publication_date": "2002-04-01",
         "publisher_id": 43,
         "_deepnote_index_column": 946
        },
        {
         "book_id": 948,
         "author_id": 554,
         "title": "Twilight (Twilight  #1)",
         "num_pages": 501,
         "publication_date": "2006-09-06",
         "publisher_id": 176,
         "_deepnote_index_column": 947
        },
        {
         "book_id": 949,
         "author_id": 478,
         "title": "Ubik",
         "num_pages": 288,
         "publication_date": "2006-05-01",
         "publisher_id": 171,
         "_deepnote_index_column": 948
        },
        {
         "book_id": 950,
         "author_id": 531,
         "title": "Uglies (Uglies  #1)",
         "num_pages": 425,
         "publication_date": "2005-02-08",
         "publisher_id": 274,
         "_deepnote_index_column": 949
        },
        {
         "book_id": 951,
         "author_id": 540,
         "title": "Undaunted Courage: The Pioneering First Mission to Explore America's Wild Frontier",
         "num_pages": 592,
         "publication_date": "2003-10-06",
         "publisher_id": 269,
         "_deepnote_index_column": 950
        },
        {
         "book_id": 952,
         "author_id": 581,
         "title": "Utopia",
         "num_pages": 135,
         "publication_date": "2003-05-06",
         "publisher_id": 217,
         "_deepnote_index_column": 951
        },
        {
         "book_id": 953,
         "author_id": 5,
         "title": "V for Vendetta",
         "num_pages": 296,
         "publication_date": "2005-11-01",
         "publisher_id": 305,
         "_deepnote_index_column": 952
        },
        {
         "book_id": 954,
         "author_id": 572,
         "title": "Vanish (Rizzoli & Isles  #5)",
         "num_pages": 401,
         "publication_date": "2006-08-29",
         "publisher_id": 33,
         "_deepnote_index_column": 953
        },
        {
         "book_id": 955,
         "author_id": 291,
         "title": "Vanishing Acts",
         "num_pages": 426,
         "publication_date": "2005-11-15",
         "publisher_id": 329,
         "_deepnote_index_column": 954
        },
        {
         "book_id": 956,
         "author_id": 623,
         "title": "Vanity Fair",
         "num_pages": 867,
         "publication_date": "2003-01-30",
         "publisher_id": 212,
         "_deepnote_index_column": 955
        },
        {
         "book_id": 957,
         "author_id": 127,
         "title": "Velocity",
         "num_pages": 460,
         "publication_date": "2006-04-25",
         "publisher_id": 35,
         "_deepnote_index_column": 956
        },
        {
         "book_id": 958,
         "author_id": 472,
         "title": "Veronika Decides to Die",
         "num_pages": 210,
         "publication_date": "2006-06-01",
         "publisher_id": 129,
         "_deepnote_index_column": 957
        },
        {
         "book_id": 959,
         "author_id": 130,
         "title": "Voyager (Outlander  #3)",
         "num_pages": 870,
         "publication_date": "2001-08-07",
         "publisher_id": 83,
         "_deepnote_index_column": 958
        },
        {
         "book_id": 960,
         "author_id": 218,
         "title": "Walden",
         "num_pages": 352,
         "publication_date": "2004-04-18",
         "publisher_id": 233,
         "_deepnote_index_column": 959
        },
        {
         "book_id": 961,
         "author_id": 363,
         "title": "War and Peace",
         "num_pages": 1392,
         "publication_date": "1998-06-25",
         "publisher_id": 203,
         "_deepnote_index_column": 960
        },
        {
         "book_id": 962,
         "author_id": 221,
         "title": "War and Remembrance (The Henry Family  #2)",
         "num_pages": 1042,
         "publication_date": "2002-02-05",
         "publisher_id": 31,
         "_deepnote_index_column": 961
        },
        {
         "book_id": 963,
         "author_id": 527,
         "title": "Water for Elephants",
         "num_pages": 335,
         "publication_date": "2007-05-01",
         "publisher_id": 12,
         "_deepnote_index_column": 962
        },
        {
         "book_id": 964,
         "author_id": 390,
         "title": "Watermelon (Walsh Family  #1)",
         "num_pages": 520,
         "publication_date": "2005-07-07",
         "publisher_id": 20,
         "_deepnote_index_column": 963
        },
        {
         "book_id": 965,
         "author_id": 107,
         "title": "Way of the Peaceful Warrior: A Book That Changes Lives",
         "num_pages": 240,
         "publication_date": "2006-04-13",
         "publisher_id": 120,
         "_deepnote_index_column": 964
        },
        {
         "book_id": 966,
         "author_id": 323,
         "title": "We Were the Mulvaneys",
         "num_pages": 454,
         "publication_date": "1997-09-01",
         "publisher_id": 226,
         "_deepnote_index_column": 965
        },
        {
         "book_id": 967,
         "author_id": 282,
         "title": "Welcome to Temptation (Dempseys  #1)",
         "num_pages": 416,
         "publication_date": "2004-07-11",
         "publisher_id": 283,
         "_deepnote_index_column": 966
        },
        {
         "book_id": 968,
         "author_id": 118,
         "title": "What Is the What",
         "num_pages": 475,
         "publication_date": "2006-10-18",
         "publisher_id": 181,
         "_deepnote_index_column": 967
        },
        {
         "book_id": 969,
         "author_id": 257,
         "title": "When the Wind Blows (When the Wind Blows  #1)",
         "num_pages": 416,
         "publication_date": "2000-04-01",
         "publisher_id": 116,
         "_deepnote_index_column": 968
        },
        {
         "book_id": 970,
         "author_id": 404,
         "title": "Where Are the Children?",
         "num_pages": 304,
         "publication_date": "2005-07-01",
         "publisher_id": 229,
         "_deepnote_index_column": 969
        },
        {
         "book_id": 971,
         "author_id": 60,
         "title": "Where the Heart Is",
         "num_pages": 376,
         "publication_date": "1998-06-01",
         "publisher_id": 116,
         "_deepnote_index_column": 970
        },
        {
         "book_id": 972,
         "author_id": 313,
         "title": "Wherever You Go  There You Are: Mindfulness Meditation in Everyday Life",
         "num_pages": 304,
         "publication_date": "2005-01-05",
         "publisher_id": 122,
         "_deepnote_index_column": 971
        },
        {
         "book_id": 973,
         "author_id": 559,
         "title": "While I Was Gone",
         "num_pages": 304,
         "publication_date": "2000-05-12",
         "publisher_id": 33,
         "_deepnote_index_column": 972
        },
        {
         "book_id": 974,
         "author_id": 243,
         "title": "White Fang",
         "num_pages": 252,
         "publication_date": "2001-01-01",
         "publisher_id": 256,
         "_deepnote_index_column": 973
        },
        {
         "book_id": 975,
         "author_id": 135,
         "title": "White Noise",
         "num_pages": 320,
         "publication_date": "1999-06-01",
         "publisher_id": 212,
         "_deepnote_index_column": 974
        },
        {
         "book_id": 976,
         "author_id": 272,
         "title": "White Oleander",
         "num_pages": 446,
         "publication_date": "2001-09-01",
         "publisher_id": 176,
         "_deepnote_index_column": 975
        },
        {
         "book_id": 977,
         "author_id": 633,
         "title": "White Teeth",
         "num_pages": 448,
         "publication_date": "2001-06-12",
         "publisher_id": 309,
         "_deepnote_index_column": 976
        },
        {
         "book_id": 978,
         "author_id": 539,
         "title": "Who Moved My Cheese?",
         "num_pages": 96,
         "publication_date": "2002-02-07",
         "publisher_id": 304,
         "_deepnote_index_column": 977
        },
        {
         "book_id": 979,
         "author_id": 158,
         "title": "Who's Afraid of Virginia Woolf?",
         "num_pages": 272,
         "publication_date": "2006-08-01",
         "publisher_id": 186,
         "_deepnote_index_column": 978
        },
        {
         "book_id": 980,
         "author_id": 122,
         "title": "Wicked: The Grimmerie",
         "num_pages": 192,
         "publication_date": "2005-10-26",
         "publisher_id": 122,
         "_deepnote_index_column": 979
        },
        {
         "book_id": 981,
         "author_id": 567,
         "title": "Wild Magic (Immortals  #1)",
         "num_pages": 362,
         "publication_date": "2005-06-01",
         "publisher_id": 274,
         "_deepnote_index_column": 980
        },
        {
         "book_id": 982,
         "author_id": 331,
         "title": "Wild Swans: Three Daughters of China",
         "num_pages": 562,
         "publication_date": "2003-08-12",
         "publisher_id": 268,
         "_deepnote_index_column": 981
        },
        {
         "book_id": 983,
         "author_id": 298,
         "title": "Wild at Heart: Discovering the Secret of a Man's Soul",
         "num_pages": 256,
         "publication_date": "2001-04-01",
         "publisher_id": 291,
         "_deepnote_index_column": 982
        },
        {
         "book_id": 984,
         "author_id": 310,
         "title": "Winter Prey (Lucas Davenport  #5)",
         "num_pages": 400,
         "publication_date": "1994-03-01",
         "publisher_id": 45,
         "_deepnote_index_column": 983
        },
        {
         "book_id": 985,
         "author_id": 505,
         "title": "Winter's Heart (The Wheel of Time  #9)",
         "num_pages": 780,
         "publication_date": "2002-01-07",
         "publisher_id": 298,
         "_deepnote_index_column": 984
        },
        {
         "book_id": 986,
         "author_id": 571,
         "title": "Wintersmith (Discworld  #35; Tiffany Aching  #3)",
         "num_pages": 325,
         "publication_date": "2006-10-01",
         "publisher_id": 142,
         "_deepnote_index_column": 985
        },
        {
         "book_id": 987,
         "author_id": 571,
         "title": "Witches Abroad (Discworld  #12; Witches #3)",
         "num_pages": 374,
         "publication_date": "2002-07-30",
         "publisher_id": 143,
         "_deepnote_index_column": 986
        },
        {
         "book_id": 988,
         "author_id": 361,
         "title": "Without Fail (Jack Reacher  #6)",
         "num_pages": 14,
         "publication_date": "2002-05-17",
         "publisher_id": 55,
         "_deepnote_index_column": 987
        },
        {
         "book_id": 989,
         "author_id": 585,
         "title": "Without Remorse (John Clark  #1; Jack Ryan Universe Publication Order #6)",
         "num_pages": 750,
         "publication_date": "1994-08-01",
         "publisher_id": 46,
         "_deepnote_index_column": 988
        },
        {
         "book_id": 990,
         "author_id": 570,
         "title": "Wizard's First Rule (Sword of Truth  #1)",
         "num_pages": 836,
         "publication_date": "2003-04-14",
         "publisher_id": 297,
         "_deepnote_index_column": 989
        },
        {
         "book_id": 991,
         "author_id": 567,
         "title": "Wolf-Speaker (Immortals  #2)",
         "num_pages": 344,
         "publication_date": "2005-06-01",
         "publisher_id": 274,
         "_deepnote_index_column": 990
        },
        {
         "book_id": 992,
         "author_id": 543,
         "title": "Wolves of the Calla (The Dark Tower  #5)",
         "num_pages": 931,
         "publication_date": "2006-02-01",
         "publisher_id": 229,
         "_deepnote_index_column": 991
        },
        {
         "book_id": 993,
         "author_id": 80,
         "title": "Women",
         "num_pages": 291,
         "publication_date": "2014-07-29",
         "publisher_id": 99,
         "_deepnote_index_column": 992
        },
        {
         "book_id": 994,
         "author_id": 408,
         "title": "World War Z: An Oral History of the Zombie War",
         "num_pages": 342,
         "publication_date": "2006-09-12",
         "publisher_id": 68,
         "_deepnote_index_column": 993
        },
        {
         "book_id": 995,
         "author_id": 438,
         "title": "World's End (The Sandman  #8)",
         "num_pages": 160,
         "publication_date": "1999-07-16",
         "publisher_id": 305,
         "_deepnote_index_column": 994
        },
        {
         "book_id": 996,
         "author_id": 571,
         "title": "Wyrd Sisters (Discworld  #6; Witches #2)",
         "num_pages": 265,
         "publication_date": "2001-02-06",
         "publisher_id": 147,
         "_deepnote_index_column": 995
        },
        {
         "book_id": 997,
         "author_id": 454,
         "title": "Xenocide (Ender's Saga  #3)",
         "num_pages": 592,
         "publication_date": "1996-07-15",
         "publisher_id": 297,
         "_deepnote_index_column": 996
        },
        {
         "book_id": 998,
         "author_id": 201,
         "title": "Year of Wonders",
         "num_pages": 358,
         "publication_date": "2002-04-30",
         "publisher_id": 212,
         "_deepnote_index_column": 997
        },
        {
         "book_id": 999,
         "author_id": 94,
         "title": "You Suck (A Love Story  #2)",
         "num_pages": 328,
         "publication_date": "2007-01-16",
         "publisher_id": 331,
         "_deepnote_index_column": 998
        },
        {
         "book_id": 1000,
         "author_id": 509,
         "title": "Zen and the Art of Motorcycle Maintenance: An Inquiry Into Values (Phaedrus  #1)",
         "num_pages": 540,
         "publication_date": "2006-04-25",
         "publisher_id": 143,
         "_deepnote_index_column": 999
        }
       ]
      },
      "text/plain": "     book_id  author_id                                              title  \\\n0          1        546                                       'Salem's Lot   \n1          2        465                 1 000 Places to See Before You Die   \n2          3        407  13 Little Blue Envelopes (Little Blue Envelope...   \n3          4         82  1491: New Revelations of the Americas Before C...   \n4          5        125                                               1776   \n..       ...        ...                                                ...   \n995      996        571           Wyrd Sisters (Discworld  #6; Witches #2)   \n996      997        454                        Xenocide (Ender's Saga  #3)   \n997      998        201                                    Year of Wonders   \n998      999         94                        You Suck (A Love Story  #2)   \n999     1000        509  Zen and the Art of Motorcycle Maintenance: An ...   \n\n     num_pages publication_date  publisher_id  \n0          594       2005-11-01            93  \n1          992       2003-05-22           336  \n2          322       2010-12-21           135  \n3          541       2006-10-10           309  \n4          386       2006-07-04           268  \n..         ...              ...           ...  \n995        265       2001-02-06           147  \n996        592       1996-07-15           297  \n997        358       2002-04-30           212  \n998        328       2007-01-16           331  \n999        540       2006-04-25           143  \n\n[1000 rows x 6 columns]",
      "text/html": "<div>\n<style scoped>\n    .dataframe tbody tr th:only-of-type {\n        vertical-align: middle;\n    }\n\n    .dataframe tbody tr th {\n        vertical-align: top;\n    }\n\n    .dataframe thead th {\n        text-align: right;\n    }\n</style>\n<table border=\"1\" class=\"dataframe\">\n  <thead>\n    <tr style=\"text-align: right;\">\n      <th></th>\n      <th>book_id</th>\n      <th>author_id</th>\n      <th>title</th>\n      <th>num_pages</th>\n      <th>publication_date</th>\n      <th>publisher_id</th>\n    </tr>\n  </thead>\n  <tbody>\n    <tr>\n      <th>0</th>\n      <td>1</td>\n      <td>546</td>\n      <td>'Salem's Lot</td>\n      <td>594</td>\n      <td>2005-11-01</td>\n      <td>93</td>\n    </tr>\n    <tr>\n      <th>1</th>\n      <td>2</td>\n      <td>465</td>\n      <td>1 000 Places to See Before You Die</td>\n      <td>992</td>\n      <td>2003-05-22</td>\n      <td>336</td>\n    </tr>\n    <tr>\n      <th>2</th>\n      <td>3</td>\n      <td>407</td>\n      <td>13 Little Blue Envelopes (Little Blue Envelope...</td>\n      <td>322</td>\n      <td>2010-12-21</td>\n      <td>135</td>\n    </tr>\n    <tr>\n      <th>3</th>\n      <td>4</td>\n      <td>82</td>\n      <td>1491: New Revelations of the Americas Before C...</td>\n      <td>541</td>\n      <td>2006-10-10</td>\n      <td>309</td>\n    </tr>\n    <tr>\n      <th>4</th>\n      <td>5</td>\n      <td>125</td>\n      <td>1776</td>\n      <td>386</td>\n      <td>2006-07-04</td>\n      <td>268</td>\n    </tr>\n    <tr>\n      <th>...</th>\n      <td>...</td>\n      <td>...</td>\n      <td>...</td>\n      <td>...</td>\n      <td>...</td>\n      <td>...</td>\n    </tr>\n    <tr>\n      <th>995</th>\n      <td>996</td>\n      <td>571</td>\n      <td>Wyrd Sisters (Discworld  #6; Witches #2)</td>\n      <td>265</td>\n      <td>2001-02-06</td>\n      <td>147</td>\n    </tr>\n    <tr>\n      <th>996</th>\n      <td>997</td>\n      <td>454</td>\n      <td>Xenocide (Ender's Saga  #3)</td>\n      <td>592</td>\n      <td>1996-07-15</td>\n      <td>297</td>\n    </tr>\n    <tr>\n      <th>997</th>\n      <td>998</td>\n      <td>201</td>\n      <td>Year of Wonders</td>\n      <td>358</td>\n      <td>2002-04-30</td>\n      <td>212</td>\n    </tr>\n    <tr>\n      <th>998</th>\n      <td>999</td>\n      <td>94</td>\n      <td>You Suck (A Love Story  #2)</td>\n      <td>328</td>\n      <td>2007-01-16</td>\n      <td>331</td>\n    </tr>\n    <tr>\n      <th>999</th>\n      <td>1000</td>\n      <td>509</td>\n      <td>Zen and the Art of Motorcycle Maintenance: An ...</td>\n      <td>540</td>\n      <td>2006-04-25</td>\n      <td>143</td>\n    </tr>\n  </tbody>\n</table>\n<p>1000 rows × 6 columns</p>\n</div>"
     },
     "metadata": {}
    }
   ],
   "execution_count": 6
  },
  {
   "cell_type": "code",
   "metadata": {
    "tags": [],
    "cell_id": "00013-62e34b03-cc29-4ca7-9e41-9496c1b26592",
    "deepnote_to_be_reexecuted": false,
    "source_hash": "4600bed0",
    "execution_start": 1626259732626,
    "execution_millis": 2654,
    "deepnote_cell_type": "code"
   },
   "source": "q = \"\"\"\nSELECT \n    table_name \nFROM \n    information_schema.tables \nWHERE \n    table_schema = 'public'\n\"\"\"\n\ntables = sql(q)\ntables",
   "execution_count": null,
   "outputs": [
    {
     "output_type": "execute_result",
     "execution_count": 7,
     "data": {
      "application/vnd.deepnote.dataframe.v2+json": {
       "row_count": 8,
       "column_count": 1,
       "columns": [
        {
         "name": "table_name",
         "dtype": "object",
         "stats": {
          "unique_count": 8,
          "nan_count": 0,
          "categories": [
           {
            "name": "advertisment_costs",
            "count": 1
           },
           {
            "name": "authors",
            "count": 1
           },
           {
            "name": "6 others",
            "count": 6
           }
          ]
         }
        },
        {
         "name": "_deepnote_index_column",
         "dtype": "int64"
        }
       ],
       "rows_top": [
        {
         "table_name": "advertisment_costs",
         "_deepnote_index_column": 0
        },
        {
         "table_name": "authors",
         "_deepnote_index_column": 1
        },
        {
         "table_name": "books",
         "_deepnote_index_column": 2
        },
        {
         "table_name": "orders",
         "_deepnote_index_column": 3
        },
        {
         "table_name": "publishers",
         "_deepnote_index_column": 4
        },
        {
         "table_name": "ratings",
         "_deepnote_index_column": 5
        },
        {
         "table_name": "reviews",
         "_deepnote_index_column": 6
        },
        {
         "table_name": "visits",
         "_deepnote_index_column": 7
        }
       ],
       "rows_bottom": null
      },
      "text/plain": "           table_name\n0  advertisment_costs\n1             authors\n2               books\n3              orders\n4          publishers\n5             ratings\n6             reviews\n7              visits",
      "text/html": "<div>\n<style scoped>\n    .dataframe tbody tr th:only-of-type {\n        vertical-align: middle;\n    }\n\n    .dataframe tbody tr th {\n        vertical-align: top;\n    }\n\n    .dataframe thead th {\n        text-align: right;\n    }\n</style>\n<table border=\"1\" class=\"dataframe\">\n  <thead>\n    <tr style=\"text-align: right;\">\n      <th></th>\n      <th>table_name</th>\n    </tr>\n  </thead>\n  <tbody>\n    <tr>\n      <th>0</th>\n      <td>advertisment_costs</td>\n    </tr>\n    <tr>\n      <th>1</th>\n      <td>authors</td>\n    </tr>\n    <tr>\n      <th>2</th>\n      <td>books</td>\n    </tr>\n    <tr>\n      <th>3</th>\n      <td>orders</td>\n    </tr>\n    <tr>\n      <th>4</th>\n      <td>publishers</td>\n    </tr>\n    <tr>\n      <th>5</th>\n      <td>ratings</td>\n    </tr>\n    <tr>\n      <th>6</th>\n      <td>reviews</td>\n    </tr>\n    <tr>\n      <th>7</th>\n      <td>visits</td>\n    </tr>\n  </tbody>\n</table>\n</div>"
     },
     "metadata": {}
    }
   ]
  },
  {
   "cell_type": "markdown",
   "source": "Видны странные лишние таблицы (стоит известить администраторов БД)\n<br>\nПосмотрим теперь на первые строки каждой нужной таблицы:",
   "metadata": {
    "tags": [],
    "cell_id": "00014-9672a7d7-fc4a-4c9d-812f-8aca21d3940a",
    "deepnote_cell_type": "markdown"
   }
  },
  {
   "cell_type": "code",
   "metadata": {
    "tags": [],
    "cell_id": "00014-d863428f-77ff-490d-ae43-1f36eba43b0e",
    "deepnote_to_be_reexecuted": false,
    "source_hash": "21cb3d23",
    "execution_start": 1626259735276,
    "execution_millis": 3856,
    "deepnote_cell_type": "code"
   },
   "source": "for table in (tables['table_name']):\n    if table in ('advertisment_costs', 'visits', 'orders'): continue\n    \n    q = f\"\"\"\n    SELECT * FROM {table} LIMIT 5\n    \"\"\"\n    \n    print(table)\n    display(sql(q))\n    print('-'*100)",
   "execution_count": null,
   "outputs": [
    {
     "name": "stdout",
     "text": "authors\n",
     "output_type": "stream"
    },
    {
     "data": {
      "application/vnd.deepnote.dataframe.v2+json": {
       "row_count": 5,
       "column_count": 2,
       "columns": [
        {
         "name": "author_id",
         "dtype": "int64",
         "stats": {
          "unique_count": 5,
          "nan_count": 0,
          "min": "1",
          "max": "5",
          "histogram": [
           {
            "bin_start": 1,
            "bin_end": 1.4,
            "count": 1
           },
           {
            "bin_start": 1.4,
            "bin_end": 1.8,
            "count": 0
           },
           {
            "bin_start": 1.8,
            "bin_end": 2.2,
            "count": 1
           },
           {
            "bin_start": 2.2,
            "bin_end": 2.6,
            "count": 0
           },
           {
            "bin_start": 2.6,
            "bin_end": 3,
            "count": 0
           },
           {
            "bin_start": 3,
            "bin_end": 3.4000000000000004,
            "count": 1
           },
           {
            "bin_start": 3.4000000000000004,
            "bin_end": 3.8000000000000003,
            "count": 0
           },
           {
            "bin_start": 3.8000000000000003,
            "bin_end": 4.2,
            "count": 1
           },
           {
            "bin_start": 4.2,
            "bin_end": 4.6,
            "count": 0
           },
           {
            "bin_start": 4.6,
            "bin_end": 5,
            "count": 1
           }
          ]
         }
        },
        {
         "name": "author",
         "dtype": "object",
         "stats": {
          "unique_count": 5,
          "nan_count": 0,
          "categories": [
           {
            "name": "A.S. Byatt",
            "count": 1
           },
           {
            "name": "Aesop/Laura Harris/Laura Gibbs",
            "count": 1
           },
           {
            "name": "3 others",
            "count": 3
           }
          ]
         }
        },
        {
         "name": "_deepnote_index_column",
         "dtype": "int64"
        }
       ],
       "rows_top": [
        {
         "author_id": 1,
         "author": "A.S. Byatt",
         "_deepnote_index_column": 0
        },
        {
         "author_id": 2,
         "author": "Aesop/Laura Harris/Laura Gibbs",
         "_deepnote_index_column": 1
        },
        {
         "author_id": 3,
         "author": "Agatha Christie",
         "_deepnote_index_column": 2
        },
        {
         "author_id": 4,
         "author": "Alan Brennert",
         "_deepnote_index_column": 3
        },
        {
         "author_id": 5,
         "author": "Alan Moore/David   Lloyd",
         "_deepnote_index_column": 4
        }
       ],
       "rows_bottom": null
      },
      "text/plain": "   author_id                          author\n0          1                      A.S. Byatt\n1          2  Aesop/Laura Harris/Laura Gibbs\n2          3                 Agatha Christie\n3          4                   Alan Brennert\n4          5        Alan Moore/David   Lloyd",
      "text/html": "<div>\n<style scoped>\n    .dataframe tbody tr th:only-of-type {\n        vertical-align: middle;\n    }\n\n    .dataframe tbody tr th {\n        vertical-align: top;\n    }\n\n    .dataframe thead th {\n        text-align: right;\n    }\n</style>\n<table border=\"1\" class=\"dataframe\">\n  <thead>\n    <tr style=\"text-align: right;\">\n      <th></th>\n      <th>author_id</th>\n      <th>author</th>\n    </tr>\n  </thead>\n  <tbody>\n    <tr>\n      <th>0</th>\n      <td>1</td>\n      <td>A.S. Byatt</td>\n    </tr>\n    <tr>\n      <th>1</th>\n      <td>2</td>\n      <td>Aesop/Laura Harris/Laura Gibbs</td>\n    </tr>\n    <tr>\n      <th>2</th>\n      <td>3</td>\n      <td>Agatha Christie</td>\n    </tr>\n    <tr>\n      <th>3</th>\n      <td>4</td>\n      <td>Alan Brennert</td>\n    </tr>\n    <tr>\n      <th>4</th>\n      <td>5</td>\n      <td>Alan Moore/David   Lloyd</td>\n    </tr>\n  </tbody>\n</table>\n</div>"
     },
     "metadata": {},
     "output_type": "display_data"
    },
    {
     "name": "stdout",
     "text": "----------------------------------------------------------------------------------------------------\nbooks\n",
     "output_type": "stream"
    },
    {
     "data": {
      "application/vnd.deepnote.dataframe.v2+json": {
       "row_count": 5,
       "column_count": 6,
       "columns": [
        {
         "name": "book_id",
         "dtype": "int64",
         "stats": {
          "unique_count": 5,
          "nan_count": 0,
          "min": "1",
          "max": "5",
          "histogram": [
           {
            "bin_start": 1,
            "bin_end": 1.4,
            "count": 1
           },
           {
            "bin_start": 1.4,
            "bin_end": 1.8,
            "count": 0
           },
           {
            "bin_start": 1.8,
            "bin_end": 2.2,
            "count": 1
           },
           {
            "bin_start": 2.2,
            "bin_end": 2.6,
            "count": 0
           },
           {
            "bin_start": 2.6,
            "bin_end": 3,
            "count": 0
           },
           {
            "bin_start": 3,
            "bin_end": 3.4000000000000004,
            "count": 1
           },
           {
            "bin_start": 3.4000000000000004,
            "bin_end": 3.8000000000000003,
            "count": 0
           },
           {
            "bin_start": 3.8000000000000003,
            "bin_end": 4.2,
            "count": 1
           },
           {
            "bin_start": 4.2,
            "bin_end": 4.6,
            "count": 0
           },
           {
            "bin_start": 4.6,
            "bin_end": 5,
            "count": 1
           }
          ]
         }
        },
        {
         "name": "author_id",
         "dtype": "int64",
         "stats": {
          "unique_count": 5,
          "nan_count": 0,
          "min": "82",
          "max": "546",
          "histogram": [
           {
            "bin_start": 82,
            "bin_end": 128.4,
            "count": 2
           },
           {
            "bin_start": 128.4,
            "bin_end": 174.8,
            "count": 0
           },
           {
            "bin_start": 174.8,
            "bin_end": 221.2,
            "count": 0
           },
           {
            "bin_start": 221.2,
            "bin_end": 267.6,
            "count": 0
           },
           {
            "bin_start": 267.6,
            "bin_end": 314,
            "count": 0
           },
           {
            "bin_start": 314,
            "bin_end": 360.4,
            "count": 0
           },
           {
            "bin_start": 360.4,
            "bin_end": 406.8,
            "count": 0
           },
           {
            "bin_start": 406.8,
            "bin_end": 453.2,
            "count": 1
           },
           {
            "bin_start": 453.2,
            "bin_end": 499.59999999999997,
            "count": 1
           },
           {
            "bin_start": 499.59999999999997,
            "bin_end": 546,
            "count": 1
           }
          ]
         }
        },
        {
         "name": "title",
         "dtype": "object",
         "stats": {
          "unique_count": 5,
          "nan_count": 0,
          "categories": [
           {
            "name": "'Salem's Lot",
            "count": 1
           },
           {
            "name": "1 000 Places to See Before You Die",
            "count": 1
           },
           {
            "name": "3 others",
            "count": 3
           }
          ]
         }
        },
        {
         "name": "num_pages",
         "dtype": "int64",
         "stats": {
          "unique_count": 5,
          "nan_count": 0,
          "min": "322",
          "max": "992",
          "histogram": [
           {
            "bin_start": 322,
            "bin_end": 389,
            "count": 2
           },
           {
            "bin_start": 389,
            "bin_end": 456,
            "count": 0
           },
           {
            "bin_start": 456,
            "bin_end": 523,
            "count": 0
           },
           {
            "bin_start": 523,
            "bin_end": 590,
            "count": 1
           },
           {
            "bin_start": 590,
            "bin_end": 657,
            "count": 1
           },
           {
            "bin_start": 657,
            "bin_end": 724,
            "count": 0
           },
           {
            "bin_start": 724,
            "bin_end": 791,
            "count": 0
           },
           {
            "bin_start": 791,
            "bin_end": 858,
            "count": 0
           },
           {
            "bin_start": 858,
            "bin_end": 925,
            "count": 0
           },
           {
            "bin_start": 925,
            "bin_end": 992,
            "count": 1
           }
          ]
         }
        },
        {
         "name": "publication_date",
         "dtype": "object",
         "stats": {
          "unique_count": 5,
          "nan_count": 0,
          "categories": [
           {
            "name": "2005-11-01",
            "count": 1
           },
           {
            "name": "2003-05-22",
            "count": 1
           },
           {
            "name": "3 others",
            "count": 3
           }
          ]
         }
        },
        {
         "name": "publisher_id",
         "dtype": "int64",
         "stats": {
          "unique_count": 5,
          "nan_count": 0,
          "min": "93",
          "max": "336",
          "histogram": [
           {
            "bin_start": 93,
            "bin_end": 117.3,
            "count": 1
           },
           {
            "bin_start": 117.3,
            "bin_end": 141.6,
            "count": 1
           },
           {
            "bin_start": 141.6,
            "bin_end": 165.9,
            "count": 0
           },
           {
            "bin_start": 165.9,
            "bin_end": 190.2,
            "count": 0
           },
           {
            "bin_start": 190.2,
            "bin_end": 214.5,
            "count": 0
           },
           {
            "bin_start": 214.5,
            "bin_end": 238.8,
            "count": 0
           },
           {
            "bin_start": 238.8,
            "bin_end": 263.1,
            "count": 0
           },
           {
            "bin_start": 263.1,
            "bin_end": 287.4,
            "count": 1
           },
           {
            "bin_start": 287.4,
            "bin_end": 311.70000000000005,
            "count": 1
           },
           {
            "bin_start": 311.70000000000005,
            "bin_end": 336,
            "count": 1
           }
          ]
         }
        },
        {
         "name": "_deepnote_index_column",
         "dtype": "int64"
        }
       ],
       "rows_top": [
        {
         "book_id": 1,
         "author_id": 546,
         "title": "'Salem's Lot",
         "num_pages": 594,
         "publication_date": "2005-11-01",
         "publisher_id": 93,
         "_deepnote_index_column": 0
        },
        {
         "book_id": 2,
         "author_id": 465,
         "title": "1 000 Places to See Before You Die",
         "num_pages": 992,
         "publication_date": "2003-05-22",
         "publisher_id": 336,
         "_deepnote_index_column": 1
        },
        {
         "book_id": 3,
         "author_id": 407,
         "title": "13 Little Blue Envelopes (Little Blue Envelope  #1)",
         "num_pages": 322,
         "publication_date": "2010-12-21",
         "publisher_id": 135,
         "_deepnote_index_column": 2
        },
        {
         "book_id": 4,
         "author_id": 82,
         "title": "1491: New Revelations of the Americas Before Columbus",
         "num_pages": 541,
         "publication_date": "2006-10-10",
         "publisher_id": 309,
         "_deepnote_index_column": 3
        },
        {
         "book_id": 5,
         "author_id": 125,
         "title": "1776",
         "num_pages": 386,
         "publication_date": "2006-07-04",
         "publisher_id": 268,
         "_deepnote_index_column": 4
        }
       ],
       "rows_bottom": null
      },
      "text/plain": "   book_id  author_id                                              title  \\\n0        1        546                                       'Salem's Lot   \n1        2        465                 1 000 Places to See Before You Die   \n2        3        407  13 Little Blue Envelopes (Little Blue Envelope...   \n3        4         82  1491: New Revelations of the Americas Before C...   \n4        5        125                                               1776   \n\n   num_pages publication_date  publisher_id  \n0        594       2005-11-01            93  \n1        992       2003-05-22           336  \n2        322       2010-12-21           135  \n3        541       2006-10-10           309  \n4        386       2006-07-04           268  ",
      "text/html": "<div>\n<style scoped>\n    .dataframe tbody tr th:only-of-type {\n        vertical-align: middle;\n    }\n\n    .dataframe tbody tr th {\n        vertical-align: top;\n    }\n\n    .dataframe thead th {\n        text-align: right;\n    }\n</style>\n<table border=\"1\" class=\"dataframe\">\n  <thead>\n    <tr style=\"text-align: right;\">\n      <th></th>\n      <th>book_id</th>\n      <th>author_id</th>\n      <th>title</th>\n      <th>num_pages</th>\n      <th>publication_date</th>\n      <th>publisher_id</th>\n    </tr>\n  </thead>\n  <tbody>\n    <tr>\n      <th>0</th>\n      <td>1</td>\n      <td>546</td>\n      <td>'Salem's Lot</td>\n      <td>594</td>\n      <td>2005-11-01</td>\n      <td>93</td>\n    </tr>\n    <tr>\n      <th>1</th>\n      <td>2</td>\n      <td>465</td>\n      <td>1 000 Places to See Before You Die</td>\n      <td>992</td>\n      <td>2003-05-22</td>\n      <td>336</td>\n    </tr>\n    <tr>\n      <th>2</th>\n      <td>3</td>\n      <td>407</td>\n      <td>13 Little Blue Envelopes (Little Blue Envelope...</td>\n      <td>322</td>\n      <td>2010-12-21</td>\n      <td>135</td>\n    </tr>\n    <tr>\n      <th>3</th>\n      <td>4</td>\n      <td>82</td>\n      <td>1491: New Revelations of the Americas Before C...</td>\n      <td>541</td>\n      <td>2006-10-10</td>\n      <td>309</td>\n    </tr>\n    <tr>\n      <th>4</th>\n      <td>5</td>\n      <td>125</td>\n      <td>1776</td>\n      <td>386</td>\n      <td>2006-07-04</td>\n      <td>268</td>\n    </tr>\n  </tbody>\n</table>\n</div>"
     },
     "metadata": {},
     "output_type": "display_data"
    },
    {
     "name": "stdout",
     "text": "----------------------------------------------------------------------------------------------------\npublishers\n",
     "output_type": "stream"
    },
    {
     "data": {
      "application/vnd.deepnote.dataframe.v2+json": {
       "row_count": 5,
       "column_count": 2,
       "columns": [
        {
         "name": "publisher_id",
         "dtype": "int64",
         "stats": {
          "unique_count": 5,
          "nan_count": 0,
          "min": "1",
          "max": "5",
          "histogram": [
           {
            "bin_start": 1,
            "bin_end": 1.4,
            "count": 1
           },
           {
            "bin_start": 1.4,
            "bin_end": 1.8,
            "count": 0
           },
           {
            "bin_start": 1.8,
            "bin_end": 2.2,
            "count": 1
           },
           {
            "bin_start": 2.2,
            "bin_end": 2.6,
            "count": 0
           },
           {
            "bin_start": 2.6,
            "bin_end": 3,
            "count": 0
           },
           {
            "bin_start": 3,
            "bin_end": 3.4000000000000004,
            "count": 1
           },
           {
            "bin_start": 3.4000000000000004,
            "bin_end": 3.8000000000000003,
            "count": 0
           },
           {
            "bin_start": 3.8000000000000003,
            "bin_end": 4.2,
            "count": 1
           },
           {
            "bin_start": 4.2,
            "bin_end": 4.6,
            "count": 0
           },
           {
            "bin_start": 4.6,
            "bin_end": 5,
            "count": 1
           }
          ]
         }
        },
        {
         "name": "publisher",
         "dtype": "object",
         "stats": {
          "unique_count": 5,
          "nan_count": 0,
          "categories": [
           {
            "name": "Ace",
            "count": 1
           },
           {
            "name": "Ace Book",
            "count": 1
           },
           {
            "name": "3 others",
            "count": 3
           }
          ]
         }
        },
        {
         "name": "_deepnote_index_column",
         "dtype": "int64"
        }
       ],
       "rows_top": [
        {
         "publisher_id": 1,
         "publisher": "Ace",
         "_deepnote_index_column": 0
        },
        {
         "publisher_id": 2,
         "publisher": "Ace Book",
         "_deepnote_index_column": 1
        },
        {
         "publisher_id": 3,
         "publisher": "Ace Books",
         "_deepnote_index_column": 2
        },
        {
         "publisher_id": 4,
         "publisher": "Ace Hardcover",
         "_deepnote_index_column": 3
        },
        {
         "publisher_id": 5,
         "publisher": "Addison Wesley Publishing Company",
         "_deepnote_index_column": 4
        }
       ],
       "rows_bottom": null
      },
      "text/plain": "   publisher_id                          publisher\n0             1                                Ace\n1             2                           Ace Book\n2             3                          Ace Books\n3             4                      Ace Hardcover\n4             5  Addison Wesley Publishing Company",
      "text/html": "<div>\n<style scoped>\n    .dataframe tbody tr th:only-of-type {\n        vertical-align: middle;\n    }\n\n    .dataframe tbody tr th {\n        vertical-align: top;\n    }\n\n    .dataframe thead th {\n        text-align: right;\n    }\n</style>\n<table border=\"1\" class=\"dataframe\">\n  <thead>\n    <tr style=\"text-align: right;\">\n      <th></th>\n      <th>publisher_id</th>\n      <th>publisher</th>\n    </tr>\n  </thead>\n  <tbody>\n    <tr>\n      <th>0</th>\n      <td>1</td>\n      <td>Ace</td>\n    </tr>\n    <tr>\n      <th>1</th>\n      <td>2</td>\n      <td>Ace Book</td>\n    </tr>\n    <tr>\n      <th>2</th>\n      <td>3</td>\n      <td>Ace Books</td>\n    </tr>\n    <tr>\n      <th>3</th>\n      <td>4</td>\n      <td>Ace Hardcover</td>\n    </tr>\n    <tr>\n      <th>4</th>\n      <td>5</td>\n      <td>Addison Wesley Publishing Company</td>\n    </tr>\n  </tbody>\n</table>\n</div>"
     },
     "metadata": {},
     "output_type": "display_data"
    },
    {
     "name": "stdout",
     "text": "----------------------------------------------------------------------------------------------------\nratings\n",
     "output_type": "stream"
    },
    {
     "data": {
      "application/vnd.deepnote.dataframe.v2+json": {
       "row_count": 5,
       "column_count": 4,
       "columns": [
        {
         "name": "rating_id",
         "dtype": "int64",
         "stats": {
          "unique_count": 5,
          "nan_count": 0,
          "min": "1",
          "max": "5",
          "histogram": [
           {
            "bin_start": 1,
            "bin_end": 1.4,
            "count": 1
           },
           {
            "bin_start": 1.4,
            "bin_end": 1.8,
            "count": 0
           },
           {
            "bin_start": 1.8,
            "bin_end": 2.2,
            "count": 1
           },
           {
            "bin_start": 2.2,
            "bin_end": 2.6,
            "count": 0
           },
           {
            "bin_start": 2.6,
            "bin_end": 3,
            "count": 0
           },
           {
            "bin_start": 3,
            "bin_end": 3.4000000000000004,
            "count": 1
           },
           {
            "bin_start": 3.4000000000000004,
            "bin_end": 3.8000000000000003,
            "count": 0
           },
           {
            "bin_start": 3.8000000000000003,
            "bin_end": 4.2,
            "count": 1
           },
           {
            "bin_start": 4.2,
            "bin_end": 4.6,
            "count": 0
           },
           {
            "bin_start": 4.6,
            "bin_end": 5,
            "count": 1
           }
          ]
         }
        },
        {
         "name": "book_id",
         "dtype": "int64",
         "stats": {
          "unique_count": 2,
          "nan_count": 0,
          "min": "1",
          "max": "2",
          "histogram": [
           {
            "bin_start": 1,
            "bin_end": 1.1,
            "count": 3
           },
           {
            "bin_start": 1.1,
            "bin_end": 1.2,
            "count": 0
           },
           {
            "bin_start": 1.2,
            "bin_end": 1.3,
            "count": 0
           },
           {
            "bin_start": 1.3,
            "bin_end": 1.4,
            "count": 0
           },
           {
            "bin_start": 1.4,
            "bin_end": 1.5,
            "count": 0
           },
           {
            "bin_start": 1.5,
            "bin_end": 1.6,
            "count": 0
           },
           {
            "bin_start": 1.6,
            "bin_end": 1.7000000000000002,
            "count": 0
           },
           {
            "bin_start": 1.7000000000000002,
            "bin_end": 1.8,
            "count": 0
           },
           {
            "bin_start": 1.8,
            "bin_end": 1.9,
            "count": 0
           },
           {
            "bin_start": 1.9,
            "bin_end": 2,
            "count": 2
           }
          ]
         }
        },
        {
         "name": "username",
         "dtype": "object",
         "stats": {
          "unique_count": 5,
          "nan_count": 0,
          "categories": [
           {
            "name": "ryanfranco",
            "count": 1
           },
           {
            "name": "grantpatricia",
            "count": 1
           },
           {
            "name": "3 others",
            "count": 3
           }
          ]
         }
        },
        {
         "name": "rating",
         "dtype": "int64",
         "stats": {
          "unique_count": 4,
          "nan_count": 0,
          "min": "2",
          "max": "5",
          "histogram": [
           {
            "bin_start": 2,
            "bin_end": 2.3,
            "count": 2
           },
           {
            "bin_start": 2.3,
            "bin_end": 2.6,
            "count": 0
           },
           {
            "bin_start": 2.6,
            "bin_end": 2.9,
            "count": 0
           },
           {
            "bin_start": 2.9,
            "bin_end": 3.2,
            "count": 1
           },
           {
            "bin_start": 3.2,
            "bin_end": 3.5,
            "count": 0
           },
           {
            "bin_start": 3.5,
            "bin_end": 3.8,
            "count": 0
           },
           {
            "bin_start": 3.8,
            "bin_end": 4.1,
            "count": 1
           },
           {
            "bin_start": 4.1,
            "bin_end": 4.4,
            "count": 0
           },
           {
            "bin_start": 4.4,
            "bin_end": 4.699999999999999,
            "count": 0
           },
           {
            "bin_start": 4.699999999999999,
            "bin_end": 5,
            "count": 1
           }
          ]
         }
        },
        {
         "name": "_deepnote_index_column",
         "dtype": "int64"
        }
       ],
       "rows_top": [
        {
         "rating_id": 1,
         "book_id": 1,
         "username": "ryanfranco",
         "rating": 4,
         "_deepnote_index_column": 0
        },
        {
         "rating_id": 2,
         "book_id": 1,
         "username": "grantpatricia",
         "rating": 2,
         "_deepnote_index_column": 1
        },
        {
         "rating_id": 3,
         "book_id": 1,
         "username": "brandtandrea",
         "rating": 5,
         "_deepnote_index_column": 2
        },
        {
         "rating_id": 4,
         "book_id": 2,
         "username": "lorichen",
         "rating": 3,
         "_deepnote_index_column": 3
        },
        {
         "rating_id": 5,
         "book_id": 2,
         "username": "mariokeller",
         "rating": 2,
         "_deepnote_index_column": 4
        }
       ],
       "rows_bottom": null
      },
      "text/plain": "   rating_id  book_id       username  rating\n0          1        1     ryanfranco       4\n1          2        1  grantpatricia       2\n2          3        1   brandtandrea       5\n3          4        2       lorichen       3\n4          5        2    mariokeller       2",
      "text/html": "<div>\n<style scoped>\n    .dataframe tbody tr th:only-of-type {\n        vertical-align: middle;\n    }\n\n    .dataframe tbody tr th {\n        vertical-align: top;\n    }\n\n    .dataframe thead th {\n        text-align: right;\n    }\n</style>\n<table border=\"1\" class=\"dataframe\">\n  <thead>\n    <tr style=\"text-align: right;\">\n      <th></th>\n      <th>rating_id</th>\n      <th>book_id</th>\n      <th>username</th>\n      <th>rating</th>\n    </tr>\n  </thead>\n  <tbody>\n    <tr>\n      <th>0</th>\n      <td>1</td>\n      <td>1</td>\n      <td>ryanfranco</td>\n      <td>4</td>\n    </tr>\n    <tr>\n      <th>1</th>\n      <td>2</td>\n      <td>1</td>\n      <td>grantpatricia</td>\n      <td>2</td>\n    </tr>\n    <tr>\n      <th>2</th>\n      <td>3</td>\n      <td>1</td>\n      <td>brandtandrea</td>\n      <td>5</td>\n    </tr>\n    <tr>\n      <th>3</th>\n      <td>4</td>\n      <td>2</td>\n      <td>lorichen</td>\n      <td>3</td>\n    </tr>\n    <tr>\n      <th>4</th>\n      <td>5</td>\n      <td>2</td>\n      <td>mariokeller</td>\n      <td>2</td>\n    </tr>\n  </tbody>\n</table>\n</div>"
     },
     "metadata": {},
     "output_type": "display_data"
    },
    {
     "name": "stdout",
     "text": "----------------------------------------------------------------------------------------------------\nreviews\n",
     "output_type": "stream"
    },
    {
     "data": {
      "application/vnd.deepnote.dataframe.v2+json": {
       "row_count": 5,
       "column_count": 4,
       "columns": [
        {
         "name": "review_id",
         "dtype": "int64",
         "stats": {
          "unique_count": 5,
          "nan_count": 0,
          "min": "1",
          "max": "5",
          "histogram": [
           {
            "bin_start": 1,
            "bin_end": 1.4,
            "count": 1
           },
           {
            "bin_start": 1.4,
            "bin_end": 1.8,
            "count": 0
           },
           {
            "bin_start": 1.8,
            "bin_end": 2.2,
            "count": 1
           },
           {
            "bin_start": 2.2,
            "bin_end": 2.6,
            "count": 0
           },
           {
            "bin_start": 2.6,
            "bin_end": 3,
            "count": 0
           },
           {
            "bin_start": 3,
            "bin_end": 3.4000000000000004,
            "count": 1
           },
           {
            "bin_start": 3.4000000000000004,
            "bin_end": 3.8000000000000003,
            "count": 0
           },
           {
            "bin_start": 3.8000000000000003,
            "bin_end": 4.2,
            "count": 1
           },
           {
            "bin_start": 4.2,
            "bin_end": 4.6,
            "count": 0
           },
           {
            "bin_start": 4.6,
            "bin_end": 5,
            "count": 1
           }
          ]
         }
        },
        {
         "name": "book_id",
         "dtype": "int64",
         "stats": {
          "unique_count": 3,
          "nan_count": 0,
          "min": "1",
          "max": "3",
          "histogram": [
           {
            "bin_start": 1,
            "bin_end": 1.2,
            "count": 2
           },
           {
            "bin_start": 1.2,
            "bin_end": 1.4,
            "count": 0
           },
           {
            "bin_start": 1.4,
            "bin_end": 1.6,
            "count": 0
           },
           {
            "bin_start": 1.6,
            "bin_end": 1.8,
            "count": 0
           },
           {
            "bin_start": 1.8,
            "bin_end": 2,
            "count": 0
           },
           {
            "bin_start": 2,
            "bin_end": 2.2,
            "count": 1
           },
           {
            "bin_start": 2.2,
            "bin_end": 2.4000000000000004,
            "count": 0
           },
           {
            "bin_start": 2.4000000000000004,
            "bin_end": 2.6,
            "count": 0
           },
           {
            "bin_start": 2.6,
            "bin_end": 2.8,
            "count": 0
           },
           {
            "bin_start": 2.8,
            "bin_end": 3,
            "count": 2
           }
          ]
         }
        },
        {
         "name": "username",
         "dtype": "object",
         "stats": {
          "unique_count": 5,
          "nan_count": 0,
          "categories": [
           {
            "name": "brandtandrea",
            "count": 1
           },
           {
            "name": "ryanfranco",
            "count": 1
           },
           {
            "name": "3 others",
            "count": 3
           }
          ]
         }
        },
        {
         "name": "text",
         "dtype": "object",
         "stats": {
          "unique_count": 5,
          "nan_count": 0,
          "categories": [
           {
            "name": "Mention society tell send professor analysis. Over provide race technology continue these.",
            "count": 1
           },
           {
            "name": "Foot glass pretty audience hit themselves. Among admit investment argue security.",
            "count": 1
           },
           {
            "name": "3 others",
            "count": 3
           }
          ]
         }
        },
        {
         "name": "_deepnote_index_column",
         "dtype": "int64"
        }
       ],
       "rows_top": [
        {
         "review_id": 1,
         "book_id": 1,
         "username": "brandtandrea",
         "text": "Mention society tell send professor analysis. Over provide race technology continue these.",
         "_deepnote_index_column": 0
        },
        {
         "review_id": 2,
         "book_id": 1,
         "username": "ryanfranco",
         "text": "Foot glass pretty audience hit themselves. Among admit investment argue security.",
         "_deepnote_index_column": 1
        },
        {
         "review_id": 3,
         "book_id": 2,
         "username": "lorichen",
         "text": "Listen treat keep worry. Miss husband tax but person sport treatment industry. Kitchen decision dee…",
         "_deepnote_index_column": 2
        },
        {
         "review_id": 4,
         "book_id": 3,
         "username": "johnsonamanda",
         "text": "Finally month interesting blue could nature cultural bit. Prepare beat finish grow that smile teach…",
         "_deepnote_index_column": 3
        },
        {
         "review_id": 5,
         "book_id": 3,
         "username": "scotttamara",
         "text": "Nation purpose heavy give wait song will. List dinner another whole positive radio fast. Music staf…",
         "_deepnote_index_column": 4
        }
       ],
       "rows_bottom": null
      },
      "text/plain": "   review_id  book_id       username  \\\n0          1        1   brandtandrea   \n1          2        1     ryanfranco   \n2          3        2       lorichen   \n3          4        3  johnsonamanda   \n4          5        3    scotttamara   \n\n                                                text  \n0  Mention society tell send professor analysis. ...  \n1  Foot glass pretty audience hit themselves. Amo...  \n2  Listen treat keep worry. Miss husband tax but ...  \n3  Finally month interesting blue could nature cu...  \n4  Nation purpose heavy give wait song will. List...  ",
      "text/html": "<div>\n<style scoped>\n    .dataframe tbody tr th:only-of-type {\n        vertical-align: middle;\n    }\n\n    .dataframe tbody tr th {\n        vertical-align: top;\n    }\n\n    .dataframe thead th {\n        text-align: right;\n    }\n</style>\n<table border=\"1\" class=\"dataframe\">\n  <thead>\n    <tr style=\"text-align: right;\">\n      <th></th>\n      <th>review_id</th>\n      <th>book_id</th>\n      <th>username</th>\n      <th>text</th>\n    </tr>\n  </thead>\n  <tbody>\n    <tr>\n      <th>0</th>\n      <td>1</td>\n      <td>1</td>\n      <td>brandtandrea</td>\n      <td>Mention society tell send professor analysis. ...</td>\n    </tr>\n    <tr>\n      <th>1</th>\n      <td>2</td>\n      <td>1</td>\n      <td>ryanfranco</td>\n      <td>Foot glass pretty audience hit themselves. Amo...</td>\n    </tr>\n    <tr>\n      <th>2</th>\n      <td>3</td>\n      <td>2</td>\n      <td>lorichen</td>\n      <td>Listen treat keep worry. Miss husband tax but ...</td>\n    </tr>\n    <tr>\n      <th>3</th>\n      <td>4</td>\n      <td>3</td>\n      <td>johnsonamanda</td>\n      <td>Finally month interesting blue could nature cu...</td>\n    </tr>\n    <tr>\n      <th>4</th>\n      <td>5</td>\n      <td>3</td>\n      <td>scotttamara</td>\n      <td>Nation purpose heavy give wait song will. List...</td>\n    </tr>\n  </tbody>\n</table>\n</div>"
     },
     "metadata": {},
     "output_type": "display_data"
    },
    {
     "name": "stdout",
     "text": "----------------------------------------------------------------------------------------------------\n",
     "output_type": "stream"
    }
   ]
  },
  {
   "cell_type": "markdown",
   "source": "Посчитаем, сколько книг вышло в этом тысячелетии:",
   "metadata": {
    "tags": [],
    "cell_id": "00016-e3e0aea5-7132-4914-af69-2225aeff4a4d",
    "deepnote_to_be_reexecuted": false,
    "source_hash": "cfdd11c7",
    "execution_start": 1626252865126,
    "execution_millis": 11,
    "deepnote_cell_type": "markdown"
   }
  },
  {
   "cell_type": "code",
   "metadata": {
    "tags": [],
    "cell_id": "00017-73dbd3b4-e016-42fc-84c8-d1c5b92f337d",
    "deepnote_to_be_reexecuted": false,
    "source_hash": "e17ca380",
    "execution_start": 1626259739136,
    "execution_millis": 768,
    "deepnote_cell_type": "code"
   },
   "source": "q = \"\"\"\nSELECT \n    COUNT(t.book_id) as book_cnt\nFROM \n    books t\nWHERE \n    date(t.publication_date) >= '2000-01-01'\n\"\"\"\n\nsql(q)",
   "execution_count": null,
   "outputs": [
    {
     "output_type": "execute_result",
     "execution_count": 9,
     "data": {
      "application/vnd.deepnote.dataframe.v2+json": {
       "row_count": 1,
       "column_count": 1,
       "columns": [
        {
         "name": "book_cnt",
         "dtype": "int64",
         "stats": {
          "unique_count": 1,
          "nan_count": 0,
          "min": "821",
          "max": "821",
          "histogram": [
           {
            "bin_start": 820.5,
            "bin_end": 820.6,
            "count": 0
           },
           {
            "bin_start": 820.6,
            "bin_end": 820.7,
            "count": 0
           },
           {
            "bin_start": 820.7,
            "bin_end": 820.8,
            "count": 0
           },
           {
            "bin_start": 820.8,
            "bin_end": 820.9,
            "count": 0
           },
           {
            "bin_start": 820.9,
            "bin_end": 821,
            "count": 0
           },
           {
            "bin_start": 821,
            "bin_end": 821.1,
            "count": 1
           },
           {
            "bin_start": 821.1,
            "bin_end": 821.2,
            "count": 0
           },
           {
            "bin_start": 821.2,
            "bin_end": 821.3,
            "count": 0
           },
           {
            "bin_start": 821.3,
            "bin_end": 821.4,
            "count": 0
           },
           {
            "bin_start": 821.4,
            "bin_end": 821.5,
            "count": 0
           }
          ]
         }
        },
        {
         "name": "_deepnote_index_column",
         "dtype": "int64"
        }
       ],
       "rows_top": [
        {
         "book_cnt": 821,
         "_deepnote_index_column": 0
        }
       ],
       "rows_bottom": null
      },
      "text/plain": "   book_cnt\n0       821",
      "text/html": "<div>\n<style scoped>\n    .dataframe tbody tr th:only-of-type {\n        vertical-align: middle;\n    }\n\n    .dataframe tbody tr th {\n        vertical-align: top;\n    }\n\n    .dataframe thead th {\n        text-align: right;\n    }\n</style>\n<table border=\"1\" class=\"dataframe\">\n  <thead>\n    <tr style=\"text-align: right;\">\n      <th></th>\n      <th>book_cnt</th>\n    </tr>\n  </thead>\n  <tbody>\n    <tr>\n      <th>0</th>\n      <td>821</td>\n    </tr>\n  </tbody>\n</table>\n</div>"
     },
     "metadata": {}
    }
   ]
  },
  {
   "cell_type": "markdown",
   "source": "В нашей базе 821 книг, которые вышли в этом веке.\n<br>\nПосмотрим на количество обзоров и среднюю оценку для каждой книги:",
   "metadata": {
    "tags": [],
    "cell_id": "00018-ca58b90c-a947-4c96-a336-dce69b3b3ac6",
    "deepnote_cell_type": "markdown"
   }
  },
  {
   "cell_type": "code",
   "metadata": {
    "tags": [],
    "cell_id": "00019-6a7aaa0a-419a-4e13-b048-4acedcfdd69d",
    "deepnote_to_be_reexecuted": false,
    "source_hash": "32433c91",
    "execution_start": 1626259739902,
    "execution_millis": 1047,
    "output_cleared": false,
    "deepnote_cell_type": "code"
   },
   "source": "q = \"\"\"\nSELECT\n    b.title,\n    COUNT(distinct re.review_id) as review_cnt,\n    AVG(ra.rating) as avg_rating\nFROM\n    books b\nLEFT JOIN\n    reviews re on b.book_id = re.book_id\nLEFT JOIN\n    ratings ra on b.book_id = ra.book_id\nGROUP BY\n    b.book_id\nORDER BY\n    review_cnt DESC\n\"\"\"\n\ntemp = sql(q)\ntemp.head()",
   "execution_count": null,
   "outputs": [
    {
     "output_type": "execute_result",
     "execution_count": 10,
     "data": {
      "application/vnd.deepnote.dataframe.v2+json": {
       "row_count": 5,
       "column_count": 3,
       "columns": [
        {
         "name": "title",
         "dtype": "object",
         "stats": {
          "unique_count": 5,
          "nan_count": 0,
          "categories": [
           {
            "name": "Twilight (Twilight  #1)",
            "count": 1
           },
           {
            "name": "Water for Elephants",
            "count": 1
           },
           {
            "name": "3 others",
            "count": 3
           }
          ]
         }
        },
        {
         "name": "review_cnt",
         "dtype": "int64",
         "stats": {
          "unique_count": 2,
          "nan_count": 0,
          "min": "6",
          "max": "7",
          "histogram": [
           {
            "bin_start": 6,
            "bin_end": 6.1,
            "count": 4
           },
           {
            "bin_start": 6.1,
            "bin_end": 6.2,
            "count": 0
           },
           {
            "bin_start": 6.2,
            "bin_end": 6.3,
            "count": 0
           },
           {
            "bin_start": 6.3,
            "bin_end": 6.4,
            "count": 0
           },
           {
            "bin_start": 6.4,
            "bin_end": 6.5,
            "count": 0
           },
           {
            "bin_start": 6.5,
            "bin_end": 6.6,
            "count": 0
           },
           {
            "bin_start": 6.6,
            "bin_end": 6.7,
            "count": 0
           },
           {
            "bin_start": 6.7,
            "bin_end": 6.8,
            "count": 0
           },
           {
            "bin_start": 6.8,
            "bin_end": 6.9,
            "count": 0
           },
           {
            "bin_start": 6.9,
            "bin_end": 7,
            "count": 1
           }
          ]
         }
        },
        {
         "name": "avg_rating",
         "dtype": "float64",
         "stats": {
          "unique_count": 5,
          "nan_count": 0,
          "min": "3.6625",
          "max": "4.414634146341464",
          "histogram": [
           {
            "bin_start": 3.6625,
            "bin_end": 3.7377134146341464,
            "count": 1
           },
           {
            "bin_start": 3.7377134146341464,
            "bin_end": 3.8129268292682927,
            "count": 0
           },
           {
            "bin_start": 3.8129268292682927,
            "bin_end": 3.888140243902439,
            "count": 0
           },
           {
            "bin_start": 3.888140243902439,
            "bin_end": 3.9633536585365854,
            "count": 0
           },
           {
            "bin_start": 3.9633536585365854,
            "bin_end": 4.038567073170732,
            "count": 1
           },
           {
            "bin_start": 4.038567073170732,
            "bin_end": 4.1137804878048785,
            "count": 1
           },
           {
            "bin_start": 4.1137804878048785,
            "bin_end": 4.188993902439025,
            "count": 0
           },
           {
            "bin_start": 4.188993902439025,
            "bin_end": 4.264207317073171,
            "count": 1
           },
           {
            "bin_start": 4.264207317073171,
            "bin_end": 4.3394207317073175,
            "count": 0
           },
           {
            "bin_start": 4.3394207317073175,
            "bin_end": 4.414634146341464,
            "count": 1
           }
          ]
         }
        },
        {
         "name": "_deepnote_index_column",
         "dtype": "int64"
        }
       ],
       "rows_top": [
        {
         "title": "Twilight (Twilight  #1)",
         "review_cnt": 7,
         "avg_rating": 3.6625,
         "_deepnote_index_column": 0
        },
        {
         "title": "Water for Elephants",
         "review_cnt": 6,
         "avg_rating": 3.9772727272727275,
         "_deepnote_index_column": 1
        },
        {
         "title": "The Glass Castle",
         "review_cnt": 6,
         "avg_rating": 4.206896551724138,
         "_deepnote_index_column": 2
        },
        {
         "title": "Harry Potter and the Prisoner of Azkaban (Harry Potter  #3)",
         "review_cnt": 6,
         "avg_rating": 4.414634146341464,
         "_deepnote_index_column": 3
        },
        {
         "title": "The Curious Incident of the Dog in the Night-Time",
         "review_cnt": 6,
         "avg_rating": 4.081081081081081,
         "_deepnote_index_column": 4
        }
       ],
       "rows_bottom": null
      },
      "text/plain": "                                               title  review_cnt  avg_rating\n0                            Twilight (Twilight  #1)           7    3.662500\n1                                Water for Elephants           6    3.977273\n2                                   The Glass Castle           6    4.206897\n3  Harry Potter and the Prisoner of Azkaban (Harr...           6    4.414634\n4  The Curious Incident of the Dog in the Night-Time           6    4.081081",
      "text/html": "<div>\n<style scoped>\n    .dataframe tbody tr th:only-of-type {\n        vertical-align: middle;\n    }\n\n    .dataframe tbody tr th {\n        vertical-align: top;\n    }\n\n    .dataframe thead th {\n        text-align: right;\n    }\n</style>\n<table border=\"1\" class=\"dataframe\">\n  <thead>\n    <tr style=\"text-align: right;\">\n      <th></th>\n      <th>title</th>\n      <th>review_cnt</th>\n      <th>avg_rating</th>\n    </tr>\n  </thead>\n  <tbody>\n    <tr>\n      <th>0</th>\n      <td>Twilight (Twilight  #1)</td>\n      <td>7</td>\n      <td>3.662500</td>\n    </tr>\n    <tr>\n      <th>1</th>\n      <td>Water for Elephants</td>\n      <td>6</td>\n      <td>3.977273</td>\n    </tr>\n    <tr>\n      <th>2</th>\n      <td>The Glass Castle</td>\n      <td>6</td>\n      <td>4.206897</td>\n    </tr>\n    <tr>\n      <th>3</th>\n      <td>Harry Potter and the Prisoner of Azkaban (Harr...</td>\n      <td>6</td>\n      <td>4.414634</td>\n    </tr>\n    <tr>\n      <th>4</th>\n      <td>The Curious Incident of the Dog in the Night-Time</td>\n      <td>6</td>\n      <td>4.081081</td>\n    </tr>\n  </tbody>\n</table>\n</div>"
     },
     "metadata": {}
    }
   ]
  },
  {
   "cell_type": "markdown",
   "source": "Имеем на текущий момент максимум 7 обзоров для одной книги.",
   "metadata": {
    "tags": [],
    "cell_id": "00020-f1fd5dd3-541e-4203-a15a-9436a90aa3d5",
    "deepnote_cell_type": "markdown"
   }
  },
  {
   "cell_type": "code",
   "metadata": {
    "tags": [],
    "cell_id": "00022-0fba6129-6ba0-4b51-a03e-7b7b255ced39",
    "deepnote_to_be_reexecuted": false,
    "source_hash": "b376994f",
    "execution_start": 1626259740944,
    "execution_millis": 872,
    "deepnote_cell_type": "code"
   },
   "source": "temp['review_cnt'].hist(alpha=.8)\nplt.axvline(temp['review_cnt'].mean(), label='Среднее значение', c='green', ls='--')\nplt.title('Распределение количества обзоров на книгу')\nplt.legend()\nplt.show()",
   "execution_count": null,
   "outputs": [
    {
     "data": {
      "text/plain": "<Figure size 1360x560 with 1 Axes>",
      "image/png": "[encoded data removed]"
     },
     "metadata": {
      "image/png": {
       "width": 1103,
       "height": 479
      }
     },
     "output_type": "display_data"
    }
   ]
  },
  {
   "cell_type": "code",
   "metadata": {
    "tags": [],
    "cell_id": "00023-5a0d437c-72b0-46e8-aed7-a72ad2b794d0",
    "deepnote_to_be_reexecuted": false,
    "source_hash": "4f447373",
    "execution_start": 1626259741816,
    "execution_millis": 1051,
    "deepnote_cell_type": "code"
   },
   "source": "temp['avg_rating'].hist(alpha=.8)\nplt.axvline(temp['avg_rating'].mean(), label='Среднее значение', c='green', ls='--')\nplt.title('Распределение средних оценок на книгу')\nplt.legend()\nplt.show()",
   "execution_count": null,
   "outputs": [
    {
     "data": {
      "text/plain": "<Figure size 1360x560 with 1 Axes>",
      "image/png": "[encoded data removed]"
     },
     "metadata": {
      "image/png": {
       "width": 1103,
       "height": 479
      }
     },
     "output_type": "display_data"
    }
   ]
  },
  {
   "cell_type": "markdown",
   "source": "Количество рецензий в среднем равно двум-трём, а большинство оценок лежат в диапазоне 4-4.5 баллов.\n<br>\nПосмотрим на издательства, которые выпустили больше всего книг (от 50 страниц):",
   "metadata": {
    "tags": [],
    "cell_id": "00024-661b54ae-6450-4c0a-965f-b57c460918c6",
    "deepnote_cell_type": "markdown"
   }
  },
  {
   "cell_type": "code",
   "metadata": {
    "tags": [],
    "cell_id": "00025-f45ee7c4-fbc2-4cba-b455-7076b406f675",
    "deepnote_to_be_reexecuted": false,
    "source_hash": "42f4df5a",
    "execution_start": 1626259742864,
    "execution_millis": 817,
    "deepnote_cell_type": "code"
   },
   "source": "q = \"\"\"\nSELECT\n    p.publisher,\n    COUNT(b.book_id) as book_cnt\nFROM\n    books b\nLEFT JOIN\n    publishers p on b.publisher_id = p.publisher_id\nWHERE\n    b.num_pages > 50\nGROUP BY\n    p.publisher\nORDER BY\n    book_cnt DESC\n\"\"\"\n\ntemp = sql(q)\ntemp.head()",
   "execution_count": null,
   "outputs": [
    {
     "output_type": "execute_result",
     "execution_count": 13,
     "data": {
      "application/vnd.deepnote.dataframe.v2+json": {
       "row_count": 5,
       "column_count": 2,
       "columns": [
        {
         "name": "publisher",
         "dtype": "object",
         "stats": {
          "unique_count": 5,
          "nan_count": 0,
          "categories": [
           {
            "name": "Penguin Books",
            "count": 1
           },
           {
            "name": "Vintage",
            "count": 1
           },
           {
            "name": "3 others",
            "count": 3
           }
          ]
         }
        },
        {
         "name": "book_cnt",
         "dtype": "int64",
         "stats": {
          "unique_count": 5,
          "nan_count": 0,
          "min": "19",
          "max": "42",
          "histogram": [
           {
            "bin_start": 19,
            "bin_end": 21.3,
            "count": 1
           },
           {
            "bin_start": 21.3,
            "bin_end": 23.6,
            "count": 0
           },
           {
            "bin_start": 23.6,
            "bin_end": 25.9,
            "count": 2
           },
           {
            "bin_start": 25.9,
            "bin_end": 28.2,
            "count": 0
           },
           {
            "bin_start": 28.2,
            "bin_end": 30.5,
            "count": 0
           },
           {
            "bin_start": 30.5,
            "bin_end": 32.8,
            "count": 1
           },
           {
            "bin_start": 32.8,
            "bin_end": 35.099999999999994,
            "count": 0
           },
           {
            "bin_start": 35.099999999999994,
            "bin_end": 37.4,
            "count": 0
           },
           {
            "bin_start": 37.4,
            "bin_end": 39.7,
            "count": 0
           },
           {
            "bin_start": 39.7,
            "bin_end": 42,
            "count": 1
           }
          ]
         }
        },
        {
         "name": "_deepnote_index_column",
         "dtype": "int64"
        }
       ],
       "rows_top": [
        {
         "publisher": "Penguin Books",
         "book_cnt": 42,
         "_deepnote_index_column": 0
        },
        {
         "publisher": "Vintage",
         "book_cnt": 31,
         "_deepnote_index_column": 1
        },
        {
         "publisher": "Grand Central Publishing",
         "book_cnt": 25,
         "_deepnote_index_column": 2
        },
        {
         "publisher": "Penguin Classics",
         "book_cnt": 24,
         "_deepnote_index_column": 3
        },
        {
         "publisher": "Ballantine Books",
         "book_cnt": 19,
         "_deepnote_index_column": 4
        }
       ],
       "rows_bottom": null
      },
      "text/plain": "                  publisher  book_cnt\n0             Penguin Books        42\n1                   Vintage        31\n2  Grand Central Publishing        25\n3          Penguin Classics        24\n4          Ballantine Books        19",
      "text/html": "<div>\n<style scoped>\n    .dataframe tbody tr th:only-of-type {\n        vertical-align: middle;\n    }\n\n    .dataframe tbody tr th {\n        vertical-align: top;\n    }\n\n    .dataframe thead th {\n        text-align: right;\n    }\n</style>\n<table border=\"1\" class=\"dataframe\">\n  <thead>\n    <tr style=\"text-align: right;\">\n      <th></th>\n      <th>publisher</th>\n      <th>book_cnt</th>\n    </tr>\n  </thead>\n  <tbody>\n    <tr>\n      <th>0</th>\n      <td>Penguin Books</td>\n      <td>42</td>\n    </tr>\n    <tr>\n      <th>1</th>\n      <td>Vintage</td>\n      <td>31</td>\n    </tr>\n    <tr>\n      <th>2</th>\n      <td>Grand Central Publishing</td>\n      <td>25</td>\n    </tr>\n    <tr>\n      <th>3</th>\n      <td>Penguin Classics</td>\n      <td>24</td>\n    </tr>\n    <tr>\n      <th>4</th>\n      <td>Ballantine Books</td>\n      <td>19</td>\n    </tr>\n  </tbody>\n</table>\n</div>"
     },
     "metadata": {}
    }
   ]
  },
  {
   "cell_type": "markdown",
   "source": "Максимум книг у одного издательства - 42.",
   "metadata": {
    "tags": [],
    "cell_id": "00026-00643f67-a80f-45e2-a534-d9375262465d",
    "deepnote_cell_type": "markdown"
   }
  },
  {
   "cell_type": "code",
   "metadata": {
    "tags": [],
    "cell_id": "00027-cbeb2f83-cef3-45cc-933f-e1efda6424a0",
    "deepnote_to_be_reexecuted": false,
    "source_hash": "c7a7c681",
    "execution_start": 1626259743684,
    "execution_millis": 755,
    "deepnote_cell_type": "code"
   },
   "source": "temp['book_cnt'].hist(alpha=.8)\nplt.axvline(temp['book_cnt'].mean(), ls='--', c='green')\nplt.title('Распределение количества книг по издательствам')\nplt.show()",
   "execution_count": null,
   "outputs": [
    {
     "data": {
      "text/plain": "<Figure size 1360x560 with 1 Axes>",
      "image/png": "[encoded data removed]"
     },
     "metadata": {
      "image/png": {
       "width": 1103,
       "height": 479
      }
     },
     "output_type": "display_data"
    }
   ]
  },
  {
   "cell_type": "markdown",
   "source": "Но большинство издательств выпустили меньше 5 книг.\n<br>\nПосмотрим на авторов с самыми высокими оценками популярных книг (от 50 оценок):",
   "metadata": {
    "tags": [],
    "cell_id": "00028-a5da9092-f391-4b9b-af6f-db1882dcc448",
    "deepnote_cell_type": "markdown"
   }
  },
  {
   "cell_type": "code",
   "metadata": {
    "tags": [],
    "cell_id": "00029-3ad7a1fc-e5e9-440d-a1d1-627f02058d5f",
    "deepnote_to_be_reexecuted": false,
    "source_hash": "79e1b57e",
    "execution_start": 1626259744502,
    "execution_millis": 743,
    "deepnote_cell_type": "code"
   },
   "source": "q = \"\"\"\nSELECT\n    subq.author,\n    AVG(subq.avg_rating) as avg_rating\nFROM\n    (\n        SELECT\n            a.author,\n            b.book_id,\n            AVG(r.rating) as avg_rating\n        FROM\n            authors a\n        LEFT JOIN \n            books b on a.author_id = b.author_id\n        LEFT JOIN\n            ratings r on b.book_id = r.book_id\n        GROUP BY\n            a.author,\n            b.book_id\n        HAVING\n            COUNT(rating) > 50\n    ) subq\nGROUP BY\n    subq.author\nORDER BY\n    avg_rating DESC\n\"\"\"\n\nsql(q)",
   "execution_count": null,
   "outputs": [
    {
     "output_type": "execute_result",
     "execution_count": 15,
     "data": {
      "application/vnd.deepnote.dataframe.v2+json": {
       "row_count": 14,
       "column_count": 2,
       "columns": [
        {
         "name": "author",
         "dtype": "object",
         "stats": {
          "unique_count": 14,
          "nan_count": 0,
          "categories": [
           {
            "name": "J.K. Rowling/Mary GrandPré",
            "count": 1
           },
           {
            "name": "Markus Zusak/Cao Xuân Việt Khương",
            "count": 1
           },
           {
            "name": "12 others",
            "count": 12
           }
          ]
         }
        },
        {
         "name": "avg_rating",
         "dtype": "float64",
         "stats": {
          "unique_count": 14,
          "nan_count": 0,
          "min": "3.622950819672131",
          "max": "4.283844038868471",
          "histogram": [
           {
            "bin_start": 3.622950819672131,
            "bin_end": 3.689040141591765,
            "count": 2
           },
           {
            "bin_start": 3.689040141591765,
            "bin_end": 3.755129463511399,
            "count": 3
           },
           {
            "bin_start": 3.755129463511399,
            "bin_end": 3.821218785431033,
            "count": 2
           },
           {
            "bin_start": 3.821218785431033,
            "bin_end": 3.887308107350667,
            "count": 1
           },
           {
            "bin_start": 3.887308107350667,
            "bin_end": 3.953397429270301,
            "count": 1
           },
           {
            "bin_start": 3.953397429270301,
            "bin_end": 4.019486751189935,
            "count": 0
           },
           {
            "bin_start": 4.019486751189935,
            "bin_end": 4.08557607310957,
            "count": 1
           },
           {
            "bin_start": 4.08557607310957,
            "bin_end": 4.1516653950292035,
            "count": 0
           },
           {
            "bin_start": 4.1516653950292035,
            "bin_end": 4.217754716948837,
            "count": 1
           },
           {
            "bin_start": 4.217754716948837,
            "bin_end": 4.283844038868471,
            "count": 3
           }
          ]
         }
        },
        {
         "name": "_deepnote_index_column",
         "dtype": "int64"
        }
       ],
       "rows_top": [
        {
         "author": "J.K. Rowling/Mary GrandPré",
         "avg_rating": 4.283844038868471,
         "_deepnote_index_column": 0
        },
        {
         "author": "Markus Zusak/Cao Xuân Việt Khương",
         "avg_rating": 4.264150943396227,
         "_deepnote_index_column": 1
        },
        {
         "author": "J.R.R. Tolkien",
         "avg_rating": 4.258445945945946,
         "_deepnote_index_column": 2
        },
        {
         "author": "Louisa May Alcott",
         "avg_rating": 4.1923076923076925,
         "_deepnote_index_column": 3
        },
        {
         "author": "Rick Riordan",
         "avg_rating": 4.080645161290323,
         "_deepnote_index_column": 4
        },
        {
         "author": "William Golding",
         "avg_rating": 3.9014084507042255,
         "_deepnote_index_column": 5
        },
        {
         "author": "J.D. Salinger",
         "avg_rating": 3.8255813953488373,
         "_deepnote_index_column": 6
        },
        {
         "author": "Paulo Coelho/Alan R. Clarke/Özdemir İnce",
         "avg_rating": 3.789473684210526,
         "_deepnote_index_column": 7
        },
        {
         "author": "William Shakespeare/Paul Werstine/Barbara A. Mowat",
         "avg_rating": 3.787878787878788,
         "_deepnote_index_column": 8
        },
        {
         "author": "Dan Brown",
         "avg_rating": 3.75453995157385,
         "_deepnote_index_column": 9
        },
        {
         "author": "Lois Lowry",
         "avg_rating": 3.75,
         "_deepnote_index_column": 10
        },
        {
         "author": "George Orwell/Boris Grabnar/Peter Škerl",
         "avg_rating": 3.72972972972973,
         "_deepnote_index_column": 11
        },
        {
         "author": "Stephenie Meyer",
         "avg_rating": 3.6625,
         "_deepnote_index_column": 12
        },
        {
         "author": "John Steinbeck",
         "avg_rating": 3.622950819672131,
         "_deepnote_index_column": 13
        }
       ],
       "rows_bottom": null
      },
      "text/plain": "                                               author  avg_rating\n0                          J.K. Rowling/Mary GrandPré    4.283844\n1                   Markus Zusak/Cao Xuân Việt Khương    4.264151\n2                                      J.R.R. Tolkien    4.258446\n3                                   Louisa May Alcott    4.192308\n4                                        Rick Riordan    4.080645\n5                                     William Golding    3.901408\n6                                       J.D. Salinger    3.825581\n7            Paulo Coelho/Alan R. Clarke/Özdemir İnce    3.789474\n8   William Shakespeare/Paul Werstine/Barbara A. M...    3.787879\n9                                           Dan Brown    3.754540\n10                                         Lois Lowry    3.750000\n11            George Orwell/Boris Grabnar/Peter Škerl    3.729730\n12                                    Stephenie Meyer    3.662500\n13                                     John Steinbeck    3.622951",
      "text/html": "<div>\n<style scoped>\n    .dataframe tbody tr th:only-of-type {\n        vertical-align: middle;\n    }\n\n    .dataframe tbody tr th {\n        vertical-align: top;\n    }\n\n    .dataframe thead th {\n        text-align: right;\n    }\n</style>\n<table border=\"1\" class=\"dataframe\">\n  <thead>\n    <tr style=\"text-align: right;\">\n      <th></th>\n      <th>author</th>\n      <th>avg_rating</th>\n    </tr>\n  </thead>\n  <tbody>\n    <tr>\n      <th>0</th>\n      <td>J.K. Rowling/Mary GrandPré</td>\n      <td>4.283844</td>\n    </tr>\n    <tr>\n      <th>1</th>\n      <td>Markus Zusak/Cao Xuân Việt Khương</td>\n      <td>4.264151</td>\n    </tr>\n    <tr>\n      <th>2</th>\n      <td>J.R.R. Tolkien</td>\n      <td>4.258446</td>\n    </tr>\n    <tr>\n      <th>3</th>\n      <td>Louisa May Alcott</td>\n      <td>4.192308</td>\n    </tr>\n    <tr>\n      <th>4</th>\n      <td>Rick Riordan</td>\n      <td>4.080645</td>\n    </tr>\n    <tr>\n      <th>5</th>\n      <td>William Golding</td>\n      <td>3.901408</td>\n    </tr>\n    <tr>\n      <th>6</th>\n      <td>J.D. Salinger</td>\n      <td>3.825581</td>\n    </tr>\n    <tr>\n      <th>7</th>\n      <td>Paulo Coelho/Alan R. Clarke/Özdemir İnce</td>\n      <td>3.789474</td>\n    </tr>\n    <tr>\n      <th>8</th>\n      <td>William Shakespeare/Paul Werstine/Barbara A. M...</td>\n      <td>3.787879</td>\n    </tr>\n    <tr>\n      <th>9</th>\n      <td>Dan Brown</td>\n      <td>3.754540</td>\n    </tr>\n    <tr>\n      <th>10</th>\n      <td>Lois Lowry</td>\n      <td>3.750000</td>\n    </tr>\n    <tr>\n      <th>11</th>\n      <td>George Orwell/Boris Grabnar/Peter Škerl</td>\n      <td>3.729730</td>\n    </tr>\n    <tr>\n      <th>12</th>\n      <td>Stephenie Meyer</td>\n      <td>3.662500</td>\n    </tr>\n    <tr>\n      <th>13</th>\n      <td>John Steinbeck</td>\n      <td>3.622951</td>\n    </tr>\n  </tbody>\n</table>\n</div>"
     },
     "metadata": {}
    }
   ]
  },
  {
   "cell_type": "markdown",
   "source": "Имеем всего 14 авторов, у которых есть книги с более чем 50 оценками. Самый рейтинговый автор - Дж.К.Роулинг.\n<br>\nПосмотрим, как часто активные люди (от 50 оценок) пишут отзывы:",
   "metadata": {
    "tags": [],
    "cell_id": "00030-ef659c42-f0cc-44fc-814f-3c1ca08ce1f4",
    "deepnote_cell_type": "markdown"
   }
  },
  {
   "cell_type": "code",
   "metadata": {
    "tags": [],
    "cell_id": "00031-0400b2f6-6850-4c80-8d7d-870151732cbf",
    "deepnote_to_be_reexecuted": false,
    "source_hash": "d63e225f",
    "execution_start": 1626259745255,
    "execution_millis": 793,
    "deepnote_cell_type": "code"
   },
   "source": "q = \"\"\"\nSELECT\n    AVG(subq.review_cnt) as avg_review_cnt\nFROM\n    (\n        SELECT\n            COUNT(re.review_id) as review_cnt\n        FROM\n            reviews re\n        WHERE\n            username in (\n                SELECT\n                    ra.username \n                FROM\n                    ratings ra\n                GROUP BY\n                    ra.username\n                HAVING\n                    COUNT(ra.rating) > 50\n            )\n        GROUP BY\n            re.username\n    ) as subq\n\"\"\"\n\nsql(q)",
   "execution_count": null,
   "outputs": [
    {
     "output_type": "execute_result",
     "execution_count": 16,
     "data": {
      "application/vnd.deepnote.dataframe.v2+json": {
       "row_count": 1,
       "column_count": 1,
       "columns": [
        {
         "name": "avg_review_cnt",
         "dtype": "float64",
         "stats": {
          "unique_count": 1,
          "nan_count": 0,
          "min": "24.333333333333332",
          "max": "24.333333333333332",
          "histogram": [
           {
            "bin_start": 23.833333333333332,
            "bin_end": 23.933333333333334,
            "count": 0
           },
           {
            "bin_start": 23.933333333333334,
            "bin_end": 24.03333333333333,
            "count": 0
           },
           {
            "bin_start": 24.03333333333333,
            "bin_end": 24.133333333333333,
            "count": 0
           },
           {
            "bin_start": 24.133333333333333,
            "bin_end": 24.23333333333333,
            "count": 0
           },
           {
            "bin_start": 24.23333333333333,
            "bin_end": 24.333333333333332,
            "count": 0
           },
           {
            "bin_start": 24.333333333333332,
            "bin_end": 24.433333333333334,
            "count": 1
           },
           {
            "bin_start": 24.433333333333334,
            "bin_end": 24.53333333333333,
            "count": 0
           },
           {
            "bin_start": 24.53333333333333,
            "bin_end": 24.633333333333333,
            "count": 0
           },
           {
            "bin_start": 24.633333333333333,
            "bin_end": 24.73333333333333,
            "count": 0
           },
           {
            "bin_start": 24.73333333333333,
            "bin_end": 24.833333333333332,
            "count": 0
           }
          ]
         }
        },
        {
         "name": "_deepnote_index_column",
         "dtype": "int64"
        }
       ],
       "rows_top": [
        {
         "avg_review_cnt": 24.333333333333332,
         "_deepnote_index_column": 0
        }
       ],
       "rows_bottom": null
      },
      "text/plain": "   avg_review_cnt\n0       24.333333",
      "text/html": "<div>\n<style scoped>\n    .dataframe tbody tr th:only-of-type {\n        vertical-align: middle;\n    }\n\n    .dataframe tbody tr th {\n        vertical-align: top;\n    }\n\n    .dataframe thead th {\n        text-align: right;\n    }\n</style>\n<table border=\"1\" class=\"dataframe\">\n  <thead>\n    <tr style=\"text-align: right;\">\n      <th></th>\n      <th>avg_review_cnt</th>\n    </tr>\n  </thead>\n  <tbody>\n    <tr>\n      <th>0</th>\n      <td>24.333333</td>\n    </tr>\n  </tbody>\n</table>\n</div>"
     },
     "metadata": {}
    }
   ]
  },
  {
   "cell_type": "markdown",
   "source": "Среднее число отзывов от активных пользователей - 24.",
   "metadata": {
    "tags": [],
    "cell_id": "00032-409a0250-5eac-418e-b4d1-24ee07ca21f7",
    "deepnote_cell_type": "markdown"
   }
  },
  {
   "cell_type": "markdown",
   "source": "---",
   "metadata": {
    "tags": [],
    "cell_id": "00033-c05767fd-02c4-4854-956a-05e6aeae3c97",
    "deepnote_cell_type": "markdown"
   }
  },
  {
   "cell_type": "markdown",
   "source": "## Выводы\n<a name='conclusions' id='conclusions'></a>\nПодведём итоги",
   "metadata": {
    "tags": [],
    "cell_id": "00034-01782bba-c497-4782-9763-06aac7436f0c",
    "deepnote_cell_type": "markdown"
   }
  },
  {
   "cell_type": "markdown",
   "source": "Проведя анализ имеющихся данных, можно сделать следующие выводы:\n- после 1 января 2000 года вышло 821 книг\n- Самое большое количество обзоров у книги *Twilling #1* (7). Среднее количество обзоров - чуть меньше трёх\n- Больше всего книг выпустило издательство *Penguin Books* (42 книги)\n- Самую высокую среднюю оценку за популярные книги имеет *Дж.К.Роулинг* - 4.28\n- Среднее количество от активных пользователей - 24.3",
   "metadata": {
    "tags": [],
    "cell_id": "00035-ead03db8-eff5-4941-ae46-6ddf8dda45f4",
    "deepnote_cell_type": "markdown"
   }
  },
  {
   "cell_type": "markdown",
   "source": "<a style='text-decoration:none;line-height:16px;display:flex;color:#5B5B62;padding:10px;justify-content:end;' href='https://deepnote.com?utm_source=created-in-deepnote-cell&projectId=73c6fdc9-2380-4d92-b495-95da9dd36eb1' target=\"_blank\">\n<img alt='Created in deepnote.com' style='display:inline;max-height:16px;margin:0px;margin-right:7.5px;' src='data:image/svg+xml;base64,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' > </img>\nCreated in <span style='font-weight:600;margin-left:4px;'>Deepnote</span></a>",
   "metadata": {
    "tags": [],
    "created_in_deepnote_cell": true,
    "deepnote_cell_type": "markdown"
   }
  }
 ],
 "nbformat": 4,
 "nbformat_minor": 2,
 "metadata": {
  "orig_nbformat": 2,
  "deepnote": {
   "is_reactive": false
  },
  "deepnote_notebook_id": "9d06ee90-dc62-41da-a968-9b250811a071",
  "deepnote_execution_queue": []
 }
}