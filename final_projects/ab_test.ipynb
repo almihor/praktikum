{
 "cells": [
  {
   "cell_type": "markdown",
   "source": "# Проверка корректности проведения A/B теста",
   "metadata": {
    "tags": [],
    "cell_id": "00002-01b52982-fbba-42e0-bcc4-b857eafdc9b9",
    "deepnote_cell_type": "markdown"
   }
  },
  {
   "cell_type": "markdown",
   "source": "## Техническое задание\n- Название теста - **recommender_system_test**\n- группы:\n    * А - контрольная\n    * В - новая платёжная воронка\n- дата запуска - *2020-12-07*\n- дата остановки набора пользователей - *2020-12-21*\n- дата остановки - *2021-01-04*\n- аудитория - 15% новых пользователей региона **EU**\n- назначение теста - тестирование изменений, связанных с внедрением улучшенной рекомендательной системы\n- ожидаемое количество участников - *6000*\n- ожидаемый эффект - за *14* дней с момента регистрации пользователи покажут улучшение кажой метрики не менее, чем на *10%*:\n    * просмотр карточек товаров (*product_page*)\n    * просмотр корзины (*product_cart*)\n    * покупка (*purchase*)",
   "metadata": {
    "tags": [],
    "cell_id": "00003-dcedc9c3-bcdb-4c42-bdf4-af99ba28e060",
    "deepnote_cell_type": "markdown"
   }
  },
  {
   "cell_type": "markdown",
   "source": "## Структура\n1. [Начало](#inception)\n1. [Предобработка](#preprocessing)\n1. [EDA](#eda)\n1. [Гипотезы](#hypothesis)\n1. [Выводы](#conclusions)",
   "metadata": {
    "tags": [],
    "cell_id": "00004-f4a17f4a-28dc-45a2-8a6f-7123b887f493",
    "deepnote_cell_type": "markdown"
   }
  },
  {
   "cell_type": "markdown",
   "source": "---",
   "metadata": {
    "tags": [],
    "cell_id": "00005-54adce86-03f8-4455-abfe-17e077903e06",
    "deepnote_cell_type": "markdown"
   }
  },
  {
   "cell_type": "markdown",
   "source": "## Начало работы\n<a name='inception' id='inception'></a>\nИмпортируем библиотеки, считаем данные",
   "metadata": {
    "tags": [],
    "cell_id": "00007-c929aa88-d3bf-49b4-b4b8-d89fd9ad1afc",
    "deepnote_cell_type": "markdown"
   }
  },
  {
   "cell_type": "code",
   "metadata": {
    "deepnote_to_be_reexecuted": false,
    "execution_millis": 5665,
    "execution_start": 1626129201145,
    "source_hash": "559f29fb",
    "tags": [],
    "cell_id": "00008-1b823524-fe15-44b9-972a-5ab7ad2c4a09",
    "deepnote_cell_type": "code"
   },
   "source": "!pip install pandas seaborn --upgrade -q",
   "outputs": [],
   "execution_count": 1
  },
  {
   "cell_type": "code",
   "metadata": {
    "deepnote_to_be_reexecuted": false,
    "execution_millis": 1210,
    "execution_start": 1626129206806,
    "source_hash": "77c38789",
    "tags": [],
    "cell_id": "00009-1714d1ff-466a-4c4e-8081-16b65bd6ced5",
    "deepnote_cell_type": "code"
   },
   "source": "import pandas as pd\nimport numpy as np\n\nimport matplotlib.pyplot as plt\nimport seaborn as sns\n\nimport re\nimport os\n\nfrom scipy import stats as st\n\nfrom warnings import filterwarnings \nfilterwarnings('ignore')",
   "outputs": [],
   "execution_count": 2
  },
  {
   "cell_type": "code",
   "metadata": {
    "deepnote_to_be_reexecuted": false,
    "execution_millis": 4,
    "execution_start": 1626129208027,
    "source_hash": "4564ffa5",
    "tags": [],
    "cell_id": "00011-0be214cb-3a87-4b0d-b532-9a37f0f6a849",
    "deepnote_cell_type": "code"
   },
   "source": "pd.set_option(\n    'display.float_format', lambda x: '%.3f' % x\n)\n\nsns.set(\n    rc = {\n        'figure.figsize': (17, 7),\n        'figure.dpi': 80,\n        'axes.grid': True,\n        'axes.grid.axis': 'x',\n        'axes.grid.which': 'both',\n        'grid.alpha': .4,\n        'xtick.minor.visible': True,\n        },\n    palette = 'colorblind',\n    style = 'ticks'\n)",
   "outputs": [],
   "execution_count": 3
  },
  {
   "cell_type": "code",
   "metadata": {
    "deepnote_to_be_reexecuted": false,
    "execution_millis": 17,
    "execution_start": 1626129208040,
    "source_hash": "236d0e08",
    "tags": [],
    "cell_id": "00012-ff6cbd37-5fff-4950-a47e-8893c9015f93",
    "deepnote_cell_type": "code"
   },
   "source": "LOCAL_PATH = '/datasets'\nNEW_USERS_DATE_RANGE = pd.date_range('2020-12-07', '2020-12-21')\nTEST_DATE_RANGE = pd.date_range('2020-12-07', '2021-01-04')",
   "outputs": [],
   "execution_count": 4
  },
  {
   "cell_type": "code",
   "metadata": {
    "deepnote_to_be_reexecuted": false,
    "execution_millis": 12,
    "execution_start": 1626129208060,
    "source_hash": "21927742",
    "tags": [],
    "cell_id": "00013-47e572fa-eac4-406a-b644-bf4992efb7a0",
    "deepnote_cell_type": "code"
   },
   "source": "def read_csv(func: \"pd.read_csv\" = pd.read_csv) -> pd.DataFrame:\n    \"\"\"Wrapper for pd.read_csv.\"\"\"\n\n    def wrapper(*args, **kwargs: \"pd.read_csv parameters\") -> pd.DataFrame:\n        \"\"\"\n        Return a DataFrame from csv with true and ordered columns and sort by\n        datetime, and display 5 randow rows and df.info().\n        \"\"\"\n        df = func(*args, **kwargs)\n\n        if kwargs.get(\"names\", None) is None:\n            df.columns = [\n                re.sub(\"([a-z])([A-Z]+)\", r\"\\1_\\2\", col)\n                .strip()\n                .lower()\n                .replace(\" \", \"_\")\n                for col in df.columns\n            ]\n\n        parse_dates = kwargs.get(\"parse_dates\", None)\n        if parse_dates is not None and df.select_dtypes(\"datetime\").isnull:\n            df.iloc[:, parse_dates[0]] = pd.to_datetime(\n                df.iloc[:, parse_dates[0]], unit=\"s\"\n            )\n\n        if not df.select_dtypes(\"datetime\").isnull:\n            date_column = df.select_dtypes(\"datetime\").columns[0]\n            df = df.sort_values(date_column).reset_index(drop=True)\n\n        columns_indeces = kwargs.get(\"usecols\", np.arange(df.shape[1]))\n        df = df.iloc[:, columns_indeces]\n\n        dtypes = df.dtypes.unique()\n        \n        display(df.sample(5, random_state=42).sort_index())\n        print(\"---------------------------------\")\n        for dtype in dtypes:\n            print(f'describe для {dtype}')\n            display(df.select_dtypes(dtype).describe())\n        print(\"---------------------------------\")\n        df.info(memory_usage=\"deep\")\n\n        return df\n\n    return wrapper\n\n\ntrue_read_csv = read_csv()",
   "outputs": [],
   "execution_count": 5
  },
  {
   "cell_type": "markdown",
   "source": "Пользователи:",
   "metadata": {
    "tags": [],
    "cell_id": "00014-0ea66cf0-dad0-4009-b5af-e589447ae45d",
    "deepnote_cell_type": "markdown"
   }
  },
  {
   "cell_type": "code",
   "metadata": {
    "deepnote_to_be_reexecuted": false,
    "execution_millis": 2102,
    "execution_start": 1626129208072,
    "source_hash": "6c61ac8a",
    "tags": [],
    "cell_id": "00015-69718a68-8780-4701-a60e-4b9a9e292c68",
    "deepnote_cell_type": "code"
   },
   "source": "PATH = os.environ.get('NEW_USERS', f'{LOCAL_PATH}/final_ab_new_users.csv')\n\nusers = true_read_csv(\n    filepath_or_buffer = PATH,\n    parse_dates = [1]\n)",
   "outputs": [
    {
     "data": {
      "text/html": "<div>\n<style scoped>\n    .dataframe tbody tr th:only-of-type {\n        vertical-align: middle;\n    }\n\n    .dataframe tbody tr th {\n        vertical-align: top;\n    }\n\n    .dataframe thead th {\n        text-align: right;\n    }\n</style>\n<table border=\"1\" class=\"dataframe\">\n  <thead>\n    <tr style=\"text-align: right;\">\n      <th></th>\n      <th>user_id</th>\n      <th>first_date</th>\n      <th>region</th>\n      <th>device</th>\n    </tr>\n  </thead>\n  <tbody>\n    <tr>\n      <th>17063</th>\n      <td>3F6B817BBAD660EB</td>\n      <td>2020-12-21</td>\n      <td>CIS</td>\n      <td>Mac</td>\n    </tr>\n    <tr>\n      <th>28700</th>\n      <td>486F743845EA72F5</td>\n      <td>2020-12-09</td>\n      <td>EU</td>\n      <td>Android</td>\n    </tr>\n    <tr>\n      <th>39514</th>\n      <td>7879260D030DEA35</td>\n      <td>2020-12-11</td>\n      <td>EU</td>\n      <td>Android</td>\n    </tr>\n    <tr>\n      <th>48038</th>\n      <td>A26522355BF18795</td>\n      <td>2020-12-12</td>\n      <td>EU</td>\n      <td>Android</td>\n    </tr>\n    <tr>\n      <th>58723</th>\n      <td>8FE6B7855247D76D</td>\n      <td>2020-12-20</td>\n      <td>EU</td>\n      <td>Android</td>\n    </tr>\n  </tbody>\n</table>\n</div>",
      "text/plain": "                user_id first_date region   device\n17063  3F6B817BBAD660EB 2020-12-21    CIS      Mac\n28700  486F743845EA72F5 2020-12-09     EU  Android\n39514  7879260D030DEA35 2020-12-11     EU  Android\n48038  A26522355BF18795 2020-12-12     EU  Android\n58723  8FE6B7855247D76D 2020-12-20     EU  Android"
     },
     "metadata": {},
     "output_type": "display_data"
    },
    {
     "name": "stdout",
     "output_type": "stream",
     "text": "---------------------------------\ndescribe для object\n"
    },
    {
     "data": {
      "text/html": "<div>\n<style scoped>\n    .dataframe tbody tr th:only-of-type {\n        vertical-align: middle;\n    }\n\n    .dataframe tbody tr th {\n        vertical-align: top;\n    }\n\n    .dataframe thead th {\n        text-align: right;\n    }\n</style>\n<table border=\"1\" class=\"dataframe\">\n  <thead>\n    <tr style=\"text-align: right;\">\n      <th></th>\n      <th>user_id</th>\n      <th>region</th>\n      <th>device</th>\n    </tr>\n  </thead>\n  <tbody>\n    <tr>\n      <th>count</th>\n      <td>61733</td>\n      <td>61733</td>\n      <td>61733</td>\n    </tr>\n    <tr>\n      <th>unique</th>\n      <td>61733</td>\n      <td>4</td>\n      <td>4</td>\n    </tr>\n    <tr>\n      <th>top</th>\n      <td>D72A72121175D8BE</td>\n      <td>EU</td>\n      <td>Android</td>\n    </tr>\n    <tr>\n      <th>freq</th>\n      <td>1</td>\n      <td>46270</td>\n      <td>27520</td>\n    </tr>\n  </tbody>\n</table>\n</div>",
      "text/plain": "                 user_id region   device\ncount              61733  61733    61733\nunique             61733      4        4\ntop     D72A72121175D8BE     EU  Android\nfreq                   1  46270    27520"
     },
     "metadata": {},
     "output_type": "display_data"
    },
    {
     "name": "stdout",
     "output_type": "stream",
     "text": "describe для datetime64[ns]\n"
    },
    {
     "data": {
      "text/html": "<div>\n<style scoped>\n    .dataframe tbody tr th:only-of-type {\n        vertical-align: middle;\n    }\n\n    .dataframe tbody tr th {\n        vertical-align: top;\n    }\n\n    .dataframe thead th {\n        text-align: right;\n    }\n</style>\n<table border=\"1\" class=\"dataframe\">\n  <thead>\n    <tr style=\"text-align: right;\">\n      <th></th>\n      <th>first_date</th>\n    </tr>\n  </thead>\n  <tbody>\n    <tr>\n      <th>count</th>\n      <td>61733</td>\n    </tr>\n    <tr>\n      <th>unique</th>\n      <td>17</td>\n    </tr>\n    <tr>\n      <th>top</th>\n      <td>2020-12-21 00:00:00</td>\n    </tr>\n    <tr>\n      <th>freq</th>\n      <td>6290</td>\n    </tr>\n    <tr>\n      <th>first</th>\n      <td>2020-12-07 00:00:00</td>\n    </tr>\n    <tr>\n      <th>last</th>\n      <td>2020-12-23 00:00:00</td>\n    </tr>\n  </tbody>\n</table>\n</div>",
      "text/plain": "                 first_date\ncount                 61733\nunique                   17\ntop     2020-12-21 00:00:00\nfreq                   6290\nfirst   2020-12-07 00:00:00\nlast    2020-12-23 00:00:00"
     },
     "metadata": {},
     "output_type": "display_data"
    },
    {
     "name": "stdout",
     "output_type": "stream",
     "text": "---------------------------------\n<class 'pandas.core.frame.DataFrame'>\nRangeIndex: 61733 entries, 0 to 61732\nData columns (total 4 columns):\n #   Column      Non-Null Count  Dtype         \n---  ------      --------------  -----         \n 0   user_id     61733 non-null  object        \n 1   first_date  61733 non-null  datetime64[ns]\n 2   region      61733 non-null  object        \n 3   device      61733 non-null  object        \ndtypes: datetime64[ns](1), object(3)\nmemory usage: 12.0 MB\n"
    }
   ],
   "execution_count": 6
  },
  {
   "cell_type": "markdown",
   "source": "Пользователи не дублируются, 4 региона (целевой *EU* самый частый), 4 устройства, даты немного выходят за диапазон. Пропусков нет.",
   "metadata": {
    "tags": [],
    "cell_id": "00016-ac94cef1-761a-494d-855f-8112f8b89afc",
    "deepnote_cell_type": "markdown"
   }
  },
  {
   "cell_type": "markdown",
   "source": "События:",
   "metadata": {
    "tags": [],
    "cell_id": "00017-b8c2fb58-e8f8-4a6d-80e2-63ff258486d9",
    "deepnote_cell_type": "markdown"
   }
  },
  {
   "cell_type": "code",
   "metadata": {
    "deepnote_to_be_reexecuted": false,
    "execution_millis": 6403,
    "execution_start": 1626129210171,
    "source_hash": "47bbf64a",
    "tags": [],
    "cell_id": "00018-d066b467-791b-49fe-8ea9-b99ea823213b",
    "deepnote_cell_type": "code"
   },
   "source": "PATH = os.environ.get('EVENTS', f'{LOCAL_PATH}/final_ab_events.csv')\n\nevents = true_read_csv(\n    filepath_or_buffer = PATH,\n    parse_dates = [1],\n)",
   "outputs": [
    {
     "data": {
      "text/html": "<div>\n<style scoped>\n    .dataframe tbody tr th:only-of-type {\n        vertical-align: middle;\n    }\n\n    .dataframe tbody tr th {\n        vertical-align: top;\n    }\n\n    .dataframe thead th {\n        text-align: right;\n    }\n</style>\n<table border=\"1\" class=\"dataframe\">\n  <thead>\n    <tr style=\"text-align: right;\">\n      <th></th>\n      <th>user_id</th>\n      <th>event_dt</th>\n      <th>event_name</th>\n      <th>details</th>\n    </tr>\n  </thead>\n  <tbody>\n    <tr>\n      <th>39945</th>\n      <td>A157AAA506AA21C3</td>\n      <td>2020-12-21 21:41:19</td>\n      <td>purchase</td>\n      <td>4.990</td>\n    </tr>\n    <tr>\n      <th>50693</th>\n      <td>3F0E9ABE2DB30444</td>\n      <td>2020-12-23 04:37:13</td>\n      <td>purchase</td>\n      <td>4.990</td>\n    </tr>\n    <tr>\n      <th>204789</th>\n      <td>E72CAC67E18A2A6B</td>\n      <td>2020-12-21 11:34:53</td>\n      <td>product_page</td>\n      <td>NaN</td>\n    </tr>\n    <tr>\n      <th>218582</th>\n      <td>D6CDDC77A39840F8</td>\n      <td>2020-12-22 04:00:50</td>\n      <td>product_page</td>\n      <td>NaN</td>\n    </tr>\n    <tr>\n      <th>372358</th>\n      <td>B628EB26058A769A</td>\n      <td>2020-12-21 12:47:49</td>\n      <td>login</td>\n      <td>NaN</td>\n    </tr>\n  </tbody>\n</table>\n</div>",
      "text/plain": "                 user_id            event_dt    event_name  details\n39945   A157AAA506AA21C3 2020-12-21 21:41:19      purchase    4.990\n50693   3F0E9ABE2DB30444 2020-12-23 04:37:13      purchase    4.990\n204789  E72CAC67E18A2A6B 2020-12-21 11:34:53  product_page      NaN\n218582  D6CDDC77A39840F8 2020-12-22 04:00:50  product_page      NaN\n372358  B628EB26058A769A 2020-12-21 12:47:49         login      NaN"
     },
     "metadata": {},
     "output_type": "display_data"
    },
    {
     "name": "stdout",
     "output_type": "stream",
     "text": "---------------------------------\ndescribe для object\n"
    },
    {
     "data": {
      "text/html": "<div>\n<style scoped>\n    .dataframe tbody tr th:only-of-type {\n        vertical-align: middle;\n    }\n\n    .dataframe tbody tr th {\n        vertical-align: top;\n    }\n\n    .dataframe thead th {\n        text-align: right;\n    }\n</style>\n<table border=\"1\" class=\"dataframe\">\n  <thead>\n    <tr style=\"text-align: right;\">\n      <th></th>\n      <th>user_id</th>\n      <th>event_name</th>\n    </tr>\n  </thead>\n  <tbody>\n    <tr>\n      <th>count</th>\n      <td>440317</td>\n      <td>440317</td>\n    </tr>\n    <tr>\n      <th>unique</th>\n      <td>58703</td>\n      <td>4</td>\n    </tr>\n    <tr>\n      <th>top</th>\n      <td>A3917F81482141F2</td>\n      <td>login</td>\n    </tr>\n    <tr>\n      <th>freq</th>\n      <td>36</td>\n      <td>189552</td>\n    </tr>\n  </tbody>\n</table>\n</div>",
      "text/plain": "                 user_id event_name\ncount             440317     440317\nunique             58703          4\ntop     A3917F81482141F2      login\nfreq                  36     189552"
     },
     "metadata": {},
     "output_type": "display_data"
    },
    {
     "name": "stdout",
     "output_type": "stream",
     "text": "describe для datetime64[ns]\n"
    },
    {
     "data": {
      "text/html": "<div>\n<style scoped>\n    .dataframe tbody tr th:only-of-type {\n        vertical-align: middle;\n    }\n\n    .dataframe tbody tr th {\n        vertical-align: top;\n    }\n\n    .dataframe thead th {\n        text-align: right;\n    }\n</style>\n<table border=\"1\" class=\"dataframe\">\n  <thead>\n    <tr style=\"text-align: right;\">\n      <th></th>\n      <th>event_dt</th>\n    </tr>\n  </thead>\n  <tbody>\n    <tr>\n      <th>count</th>\n      <td>440317</td>\n    </tr>\n    <tr>\n      <th>unique</th>\n      <td>267268</td>\n    </tr>\n    <tr>\n      <th>top</th>\n      <td>2020-12-23 02:37:24</td>\n    </tr>\n    <tr>\n      <th>freq</th>\n      <td>10</td>\n    </tr>\n    <tr>\n      <th>first</th>\n      <td>2020-12-07 00:00:33</td>\n    </tr>\n    <tr>\n      <th>last</th>\n      <td>2020-12-30 23:36:33</td>\n    </tr>\n  </tbody>\n</table>\n</div>",
      "text/plain": "                   event_dt\ncount                440317\nunique               267268\ntop     2020-12-23 02:37:24\nfreq                     10\nfirst   2020-12-07 00:00:33\nlast    2020-12-30 23:36:33"
     },
     "metadata": {},
     "output_type": "display_data"
    },
    {
     "name": "stdout",
     "output_type": "stream",
     "text": "describe для float64\n"
    },
    {
     "data": {
      "text/html": "<div>\n<style scoped>\n    .dataframe tbody tr th:only-of-type {\n        vertical-align: middle;\n    }\n\n    .dataframe tbody tr th {\n        vertical-align: top;\n    }\n\n    .dataframe thead th {\n        text-align: right;\n    }\n</style>\n<table border=\"1\" class=\"dataframe\">\n  <thead>\n    <tr style=\"text-align: right;\">\n      <th></th>\n      <th>details</th>\n    </tr>\n  </thead>\n  <tbody>\n    <tr>\n      <th>count</th>\n      <td>62740.000</td>\n    </tr>\n    <tr>\n      <th>mean</th>\n      <td>23.878</td>\n    </tr>\n    <tr>\n      <th>std</th>\n      <td>72.180</td>\n    </tr>\n    <tr>\n      <th>min</th>\n      <td>4.990</td>\n    </tr>\n    <tr>\n      <th>25%</th>\n      <td>4.990</td>\n    </tr>\n    <tr>\n      <th>50%</th>\n      <td>4.990</td>\n    </tr>\n    <tr>\n      <th>75%</th>\n      <td>9.990</td>\n    </tr>\n    <tr>\n      <th>max</th>\n      <td>499.990</td>\n    </tr>\n  </tbody>\n</table>\n</div>",
      "text/plain": "        details\ncount 62740.000\nmean     23.878\nstd      72.180\nmin       4.990\n25%       4.990\n50%       4.990\n75%       9.990\nmax     499.990"
     },
     "metadata": {},
     "output_type": "display_data"
    },
    {
     "name": "stdout",
     "output_type": "stream",
     "text": "---------------------------------\n<class 'pandas.core.frame.DataFrame'>\nRangeIndex: 440317 entries, 0 to 440316\nData columns (total 4 columns):\n #   Column      Non-Null Count   Dtype         \n---  ------      --------------   -----         \n 0   user_id     440317 non-null  object        \n 1   event_dt    440317 non-null  datetime64[ns]\n 2   event_name  440317 non-null  object        \n 3   details     62740 non-null   float64       \ndtypes: datetime64[ns](1), float64(1), object(2)\nmemory usage: 64.8 MB\n"
    }
   ],
   "execution_count": 7
  },
  {
   "cell_type": "markdown",
   "source": "Диапазон дат не дотягивает до нужного (данные не полные), пропуски в поле *details* (не для всех событий есть дополнительные данные, не критично)",
   "metadata": {
    "tags": [],
    "cell_id": "00019-59bfaae9-5c35-4fc9-8bf4-c471a00bfacb",
    "deepnote_cell_type": "markdown"
   }
  },
  {
   "cell_type": "markdown",
   "source": "Маркетинговые события:",
   "metadata": {
    "tags": [],
    "cell_id": "00020-e8a91ab1-a094-4b71-9069-9116a0e342ca",
    "deepnote_cell_type": "markdown"
   }
  },
  {
   "cell_type": "code",
   "metadata": {
    "deepnote_to_be_reexecuted": false,
    "execution_millis": 600,
    "execution_start": 1626129216580,
    "source_hash": "6017ca21",
    "tags": [],
    "cell_id": "00021-5bd51b11-8ecc-4477-a5ca-fb945ed3e1c1",
    "deepnote_cell_type": "code"
   },
   "source": "PATH = os.environ.get('MARKETING_EVENTS', f'{LOCAL_PATH}/ab_project_marketing_events.csv')\n\nmarketing_events = true_read_csv(\n    filepath_or_buffer = PATH,\n    parse_dates = [2, 3],\n    usecols = [2, 3, 0, 1]\n)",
   "outputs": [
    {
     "data": {
      "text/html": "<div>\n<style scoped>\n    .dataframe tbody tr th:only-of-type {\n        vertical-align: middle;\n    }\n\n    .dataframe tbody tr th {\n        vertical-align: top;\n    }\n\n    .dataframe thead th {\n        text-align: right;\n    }\n</style>\n<table border=\"1\" class=\"dataframe\">\n  <thead>\n    <tr style=\"text-align: right;\">\n      <th></th>\n      <th>start_dt</th>\n      <th>finish_dt</th>\n      <th>name</th>\n      <th>regions</th>\n    </tr>\n  </thead>\n  <tbody>\n    <tr>\n      <th>0</th>\n      <td>2020-12-25</td>\n      <td>2021-01-03</td>\n      <td>Christmas&amp;New Year Promo</td>\n      <td>EU, N.America</td>\n    </tr>\n    <tr>\n      <th>5</th>\n      <td>2020-11-26</td>\n      <td>2020-12-01</td>\n      <td>Black Friday Ads Campaign</td>\n      <td>EU, CIS, APAC, N.America</td>\n    </tr>\n    <tr>\n      <th>9</th>\n      <td>2020-05-09</td>\n      <td>2020-05-11</td>\n      <td>Victory Day CIS (May 9th) Event</td>\n      <td>CIS</td>\n    </tr>\n    <tr>\n      <th>11</th>\n      <td>2020-06-25</td>\n      <td>2020-07-01</td>\n      <td>Dragon Boat Festival Giveaway</td>\n      <td>APAC</td>\n    </tr>\n    <tr>\n      <th>12</th>\n      <td>2020-11-11</td>\n      <td>2020-11-12</td>\n      <td>Single's Day Gift Promo</td>\n      <td>APAC</td>\n    </tr>\n  </tbody>\n</table>\n</div>",
      "text/plain": "     start_dt  finish_dt                             name  \\\n0  2020-12-25 2021-01-03         Christmas&New Year Promo   \n5  2020-11-26 2020-12-01        Black Friday Ads Campaign   \n9  2020-05-09 2020-05-11  Victory Day CIS (May 9th) Event   \n11 2020-06-25 2020-07-01    Dragon Boat Festival Giveaway   \n12 2020-11-11 2020-11-12          Single's Day Gift Promo   \n\n                     regions  \n0              EU, N.America  \n5   EU, CIS, APAC, N.America  \n9                        CIS  \n11                      APAC  \n12                      APAC  "
     },
     "metadata": {},
     "output_type": "display_data"
    },
    {
     "name": "stdout",
     "output_type": "stream",
     "text": "---------------------------------\ndescribe для datetime64[ns]\n"
    },
    {
     "data": {
      "text/html": "<div>\n<style scoped>\n    .dataframe tbody tr th:only-of-type {\n        vertical-align: middle;\n    }\n\n    .dataframe tbody tr th {\n        vertical-align: top;\n    }\n\n    .dataframe thead th {\n        text-align: right;\n    }\n</style>\n<table border=\"1\" class=\"dataframe\">\n  <thead>\n    <tr style=\"text-align: right;\">\n      <th></th>\n      <th>start_dt</th>\n      <th>finish_dt</th>\n    </tr>\n  </thead>\n  <tbody>\n    <tr>\n      <th>count</th>\n      <td>14</td>\n      <td>14</td>\n    </tr>\n    <tr>\n      <th>unique</th>\n      <td>14</td>\n      <td>14</td>\n    </tr>\n    <tr>\n      <th>top</th>\n      <td>2020-12-25 00:00:00</td>\n      <td>2021-01-03 00:00:00</td>\n    </tr>\n    <tr>\n      <th>freq</th>\n      <td>1</td>\n      <td>1</td>\n    </tr>\n    <tr>\n      <th>first</th>\n      <td>2020-01-25 00:00:00</td>\n      <td>2020-02-07 00:00:00</td>\n    </tr>\n    <tr>\n      <th>last</th>\n      <td>2020-12-30 00:00:00</td>\n      <td>2021-01-07 00:00:00</td>\n    </tr>\n  </tbody>\n</table>\n</div>",
      "text/plain": "                   start_dt            finish_dt\ncount                    14                   14\nunique                   14                   14\ntop     2020-12-25 00:00:00  2021-01-03 00:00:00\nfreq                      1                    1\nfirst   2020-01-25 00:00:00  2020-02-07 00:00:00\nlast    2020-12-30 00:00:00  2021-01-07 00:00:00"
     },
     "metadata": {},
     "output_type": "display_data"
    },
    {
     "name": "stdout",
     "output_type": "stream",
     "text": "describe для object\n"
    },
    {
     "data": {
      "text/html": "<div>\n<style scoped>\n    .dataframe tbody tr th:only-of-type {\n        vertical-align: middle;\n    }\n\n    .dataframe tbody tr th {\n        vertical-align: top;\n    }\n\n    .dataframe thead th {\n        text-align: right;\n    }\n</style>\n<table border=\"1\" class=\"dataframe\">\n  <thead>\n    <tr style=\"text-align: right;\">\n      <th></th>\n      <th>name</th>\n      <th>regions</th>\n    </tr>\n  </thead>\n  <tbody>\n    <tr>\n      <th>count</th>\n      <td>14</td>\n      <td>14</td>\n    </tr>\n    <tr>\n      <th>unique</th>\n      <td>14</td>\n      <td>6</td>\n    </tr>\n    <tr>\n      <th>top</th>\n      <td>Christmas&amp;New Year Promo</td>\n      <td>APAC</td>\n    </tr>\n    <tr>\n      <th>freq</th>\n      <td>1</td>\n      <td>4</td>\n    </tr>\n  </tbody>\n</table>\n</div>",
      "text/plain": "                            name regions\ncount                         14      14\nunique                        14       6\ntop     Christmas&New Year Promo    APAC\nfreq                           1       4"
     },
     "metadata": {},
     "output_type": "display_data"
    },
    {
     "name": "stdout",
     "output_type": "stream",
     "text": "---------------------------------\n<class 'pandas.core.frame.DataFrame'>\nRangeIndex: 14 entries, 0 to 13\nData columns (total 4 columns):\n #   Column     Non-Null Count  Dtype         \n---  ------     --------------  -----         \n 0   start_dt   14 non-null     datetime64[ns]\n 1   finish_dt  14 non-null     datetime64[ns]\n 2   name       14 non-null     object        \n 3   regions    14 non-null     object        \ndtypes: datetime64[ns](2), object(2)\nmemory usage: 2.4 KB\n"
    }
   ],
   "execution_count": 8
  },
  {
   "cell_type": "markdown",
   "source": "Всё в пределах нормы.",
   "metadata": {
    "tags": [],
    "cell_id": "00022-62444f58-8c51-465f-834c-a85b19225824",
    "deepnote_cell_type": "markdown"
   }
  },
  {
   "cell_type": "markdown",
   "source": "Участники теста:",
   "metadata": {
    "deepnote_to_be_reexecuted": false,
    "execution_millis": 0,
    "execution_start": 1626108945143,
    "source_hash": "b5cbd7ed",
    "tags": [],
    "cell_id": "00023-7a15bcc1-8320-48c3-952d-37dead5d6816",
    "deepnote_cell_type": "markdown"
   }
  },
  {
   "cell_type": "code",
   "metadata": {
    "deepnote_to_be_reexecuted": false,
    "execution_millis": 1147,
    "execution_start": 1626129217184,
    "source_hash": "7dede8e8",
    "tags": [],
    "cell_id": "00024-676d50a0-d6ea-4dab-8d7b-46ce715cdfda",
    "deepnote_cell_type": "code"
   },
   "source": "PATH = os.environ.get('PARTICIPANTS', f'{LOCAL_PATH}/final_ab_participants.csv')\n\nparticipants = true_read_csv(\n    filepath_or_buffer = PATH\n)",
   "outputs": [
    {
     "data": {
      "text/html": "<div>\n<style scoped>\n    .dataframe tbody tr th:only-of-type {\n        vertical-align: middle;\n    }\n\n    .dataframe tbody tr th {\n        vertical-align: top;\n    }\n\n    .dataframe thead th {\n        text-align: right;\n    }\n</style>\n<table border=\"1\" class=\"dataframe\">\n  <thead>\n    <tr style=\"text-align: right;\">\n      <th></th>\n      <th>user_id</th>\n      <th>group</th>\n      <th>ab_test</th>\n    </tr>\n  </thead>\n  <tbody>\n    <tr>\n      <th>1570</th>\n      <td>F36F4FC5A884C3DA</td>\n      <td>A</td>\n      <td>recommender_system_test</td>\n    </tr>\n    <tr>\n      <th>3310</th>\n      <td>FDBCCC4C6B301DA1</td>\n      <td>A</td>\n      <td>recommender_system_test</td>\n    </tr>\n    <tr>\n      <th>4084</th>\n      <td>51B7F3ADA62C28CE</td>\n      <td>B</td>\n      <td>recommender_system_test</td>\n    </tr>\n    <tr>\n      <th>4525</th>\n      <td>1BC8D784255D5E67</td>\n      <td>A</td>\n      <td>recommender_system_test</td>\n    </tr>\n    <tr>\n      <th>15737</th>\n      <td>8FF91E21E27A330D</td>\n      <td>A</td>\n      <td>interface_eu_test</td>\n    </tr>\n  </tbody>\n</table>\n</div>",
      "text/plain": "                user_id group                  ab_test\n1570   F36F4FC5A884C3DA     A  recommender_system_test\n3310   FDBCCC4C6B301DA1     A  recommender_system_test\n4084   51B7F3ADA62C28CE     B  recommender_system_test\n4525   1BC8D784255D5E67     A  recommender_system_test\n15737  8FF91E21E27A330D     A        interface_eu_test"
     },
     "metadata": {},
     "output_type": "display_data"
    },
    {
     "name": "stdout",
     "output_type": "stream",
     "text": "---------------------------------\ndescribe для object\n"
    },
    {
     "data": {
      "text/html": "<div>\n<style scoped>\n    .dataframe tbody tr th:only-of-type {\n        vertical-align: middle;\n    }\n\n    .dataframe tbody tr th {\n        vertical-align: top;\n    }\n\n    .dataframe thead th {\n        text-align: right;\n    }\n</style>\n<table border=\"1\" class=\"dataframe\">\n  <thead>\n    <tr style=\"text-align: right;\">\n      <th></th>\n      <th>user_id</th>\n      <th>group</th>\n      <th>ab_test</th>\n    </tr>\n  </thead>\n  <tbody>\n    <tr>\n      <th>count</th>\n      <td>18268</td>\n      <td>18268</td>\n      <td>18268</td>\n    </tr>\n    <tr>\n      <th>unique</th>\n      <td>16666</td>\n      <td>2</td>\n      <td>2</td>\n    </tr>\n    <tr>\n      <th>top</th>\n      <td>0FDFDA0B2DEC2D91</td>\n      <td>A</td>\n      <td>interface_eu_test</td>\n    </tr>\n    <tr>\n      <th>freq</th>\n      <td>2</td>\n      <td>9655</td>\n      <td>11567</td>\n    </tr>\n  </tbody>\n</table>\n</div>",
      "text/plain": "                 user_id  group            ab_test\ncount              18268  18268              18268\nunique             16666      2                  2\ntop     0FDFDA0B2DEC2D91      A  interface_eu_test\nfreq                   2   9655              11567"
     },
     "metadata": {},
     "output_type": "display_data"
    },
    {
     "name": "stdout",
     "output_type": "stream",
     "text": "---------------------------------\n<class 'pandas.core.frame.DataFrame'>\nRangeIndex: 18268 entries, 0 to 18267\nData columns (total 3 columns):\n #   Column   Non-Null Count  Dtype \n---  ------   --------------  ----- \n 0   user_id  18268 non-null  object\n 1   group    18268 non-null  object\n 2   ab_test  18268 non-null  object\ndtypes: object(3)\nmemory usage: 3.6 MB\n"
    }
   ],
   "execution_count": 9
  },
  {
   "cell_type": "markdown",
   "source": "Есть дублирующиеся пользователи (скорее всего, участвуют в обоих тестах), два эксперимента и две группы.",
   "metadata": {
    "tags": [],
    "cell_id": "00025-4fd78f82-c911-47bf-a6d2-7d5be196883a",
    "deepnote_cell_type": "markdown"
   }
  },
  {
   "cell_type": "markdown",
   "source": "## Предобработка\n<a name='preprocessing' id ='preprocessing'></a>\nПочистим разный мусор",
   "metadata": {
    "tags": [],
    "cell_id": "00027-d05b4b55-8bca-4168-be13-d8b0545637dd",
    "deepnote_cell_type": "markdown"
   }
  },
  {
   "cell_type": "markdown",
   "source": "Для начала нужно отфильтровать пользователей. Условия нашего теста - начало набора *12-07*, остановка набора *12-21*, регион *EU*.",
   "metadata": {
    "tags": [],
    "cell_id": "00028-22ae8be6-4ffc-4c13-965a-d5fde362fa5c",
    "deepnote_cell_type": "markdown"
   }
  },
  {
   "cell_type": "code",
   "metadata": {
    "deepnote_to_be_reexecuted": false,
    "execution_millis": 16,
    "execution_start": 1626129218326,
    "source_hash": "ddabeb9a",
    "tags": [],
    "cell_id": "00029-317b11af-62ed-4cf1-ab89-a6f73e444d08",
    "deepnote_cell_type": "code"
   },
   "source": "users = users[\n    (users['region'] == 'EU')\n    &(users['first_date'].isin(NEW_USERS_DATE_RANGE))\n]",
   "outputs": [],
   "execution_count": 10
  },
  {
   "cell_type": "markdown",
   "source": "Тест - только *recommender_system_test*. Но сначала посмотрим, нет ли пользователей сразу в двух тестах:",
   "metadata": {
    "tags": [],
    "cell_id": "00030-c01f8017-5b0e-46b5-bc8a-30e09913bed3",
    "deepnote_cell_type": "markdown"
   }
  },
  {
   "cell_type": "code",
   "metadata": {
    "deepnote_to_be_reexecuted": false,
    "execution_millis": 36,
    "execution_start": 1626129218347,
    "source_hash": "5eaf7b00",
    "tags": [],
    "cell_id": "00031-374f488e-53da-41d7-be03-52185c35e7de",
    "deepnote_cell_type": "code"
   },
   "source": "(participants.groupby('user_id')['ab_test'].nunique() > 1).sum()",
   "outputs": [
    {
     "data": {
      "text/plain": "1602"
     },
     "execution_count": 11,
     "metadata": {},
     "output_type": "execute_result"
    }
   ],
   "execution_count": 11
  },
  {
   "cell_type": "markdown",
   "source": "Таких пользователей 1602 (в копилку нарушений). Вынесем их пока что в отдельную переменную, и забудем об этом:",
   "metadata": {
    "tags": [],
    "cell_id": "00032-77cf7c30-741d-4f32-acce-84be72389885",
    "deepnote_cell_type": "markdown"
   }
  },
  {
   "cell_type": "code",
   "metadata": {
    "deepnote_to_be_reexecuted": false,
    "execution_millis": 2281,
    "execution_start": 1626129218386,
    "source_hash": "f8b90144",
    "tags": [],
    "cell_id": "00033-65ad32bb-d756-4362-9f60-c9ed92a972a6",
    "deepnote_cell_type": "code"
   },
   "source": "two_test_ids = participants.groupby('user_id')['ab_test'].apply(\n    lambda x: 1 if x.nunique() > 1 else 0\n    )",
   "outputs": [],
   "execution_count": 12
  },
  {
   "cell_type": "code",
   "metadata": {
    "deepnote_to_be_reexecuted": false,
    "execution_millis": 4,
    "execution_start": 1626129220674,
    "source_hash": "841c8bba",
    "tags": [],
    "cell_id": "00035-f1843a35-9207-4dac-9d86-d940f199bde8",
    "deepnote_cell_type": "code"
   },
   "source": "participants = participants[\n    participants['ab_test'] == 'recommender_system_test'\n]",
   "outputs": [],
   "execution_count": 13
  },
  {
   "cell_type": "markdown",
   "source": "Возьмём только целевых пользователей (которые участвуют в нужном тесте):",
   "metadata": {
    "tags": [],
    "cell_id": "00036-984f70d7-74b3-4aa5-accc-03892adcb19e",
    "deepnote_cell_type": "markdown"
   }
  },
  {
   "cell_type": "code",
   "metadata": {
    "deepnote_to_be_reexecuted": false,
    "execution_millis": 10,
    "execution_start": 1626129220695,
    "source_hash": "b3ab0d4b",
    "tags": [],
    "cell_id": "00037-52ee60cf-5226-4f23-8aed-703f05cb2c47",
    "deepnote_cell_type": "code"
   },
   "source": "targets = users.merge(participants[['user_id', 'group']], on='user_id')",
   "outputs": [],
   "execution_count": 14
  },
  {
   "cell_type": "markdown",
   "source": "И сразу проверим, какой процент целевых пользователей среди всех из региона *EU*:",
   "metadata": {
    "tags": [],
    "cell_id": "00038-1ba63dc5-2ebe-456e-a0c6-fd2f7c36babb",
    "deepnote_cell_type": "markdown"
   }
  },
  {
   "cell_type": "code",
   "metadata": {
    "deepnote_to_be_reexecuted": false,
    "execution_millis": 24,
    "execution_start": 1626129220715,
    "source_hash": "1c5a435",
    "tags": [],
    "cell_id": "00039-07ea9d2b-b089-4e9e-b027-1e7c5c5001d8",
    "deepnote_cell_type": "code"
   },
   "source": "targets['user_id'].nunique() / users['user_id'].nunique()",
   "outputs": [
    {
     "data": {
      "text/plain": "0.15"
     },
     "execution_count": 15,
     "metadata": {},
     "output_type": "execute_result"
    }
   ],
   "execution_count": 15
  },
  {
   "cell_type": "markdown",
   "source": "В требования к аудитории мы попали.\n<br>\nПроверим пользователей сразу в двух группах:",
   "metadata": {
    "tags": [],
    "cell_id": "00041-b038d413-90c6-4c72-bb63-c2e87f0405b3",
    "deepnote_cell_type": "markdown"
   }
  },
  {
   "cell_type": "code",
   "metadata": {
    "deepnote_to_be_reexecuted": false,
    "execution_millis": 22,
    "execution_start": 1626129220734,
    "source_hash": "77d25ba0",
    "tags": [],
    "cell_id": "00042-60be2f77-e732-4011-a6c3-2c0033bd7aa8",
    "deepnote_cell_type": "code"
   },
   "source": "(targets.groupby('user_id')['group'].nunique() > 1).sum()",
   "outputs": [
    {
     "data": {
      "text/plain": "0"
     },
     "execution_count": 16,
     "metadata": {},
     "output_type": "execute_result"
    }
   ],
   "execution_count": 16
  },
  {
   "cell_type": "markdown",
   "source": "Объединим датасет с пользователями с датасетом с их действиями:",
   "metadata": {
    "tags": [],
    "cell_id": "00043-ecec6d56-6f9a-45a7-bde0-8e8daf2da417",
    "deepnote_cell_type": "markdown"
   }
  },
  {
   "cell_type": "code",
   "metadata": {
    "deepnote_to_be_reexecuted": false,
    "execution_millis": 93,
    "execution_start": 1626129220794,
    "source_hash": "568c66db",
    "tags": [],
    "cell_id": "00044-79494f03-bd4b-4d78-bc74-fd609773cd61",
    "deepnote_cell_type": "code"
   },
   "source": "df = targets.merge(events, on='user_id', how='left')",
   "outputs": [],
   "execution_count": 17
  },
  {
   "cell_type": "markdown",
   "source": "И оставим только действия за первые 14 дней с момента регистрации:",
   "metadata": {
    "tags": [],
    "cell_id": "00045-b453deb5-1cb3-4dfe-a8d2-30261dcce366",
    "deepnote_cell_type": "markdown"
   }
  },
  {
   "cell_type": "code",
   "metadata": {
    "deepnote_to_be_reexecuted": false,
    "execution_millis": 0,
    "execution_start": 1626129220932,
    "source_hash": "12d5727d",
    "tags": [],
    "cell_id": "00046-7a53cd03-9501-4421-b0c3-ce0dbcbba4e3",
    "deepnote_cell_type": "code"
   },
   "source": "df['delta'] = df['event_dt'] - df['first_date']",
   "outputs": [],
   "execution_count": 18
  },
  {
   "cell_type": "code",
   "metadata": {
    "deepnote_to_be_reexecuted": false,
    "execution_millis": 7,
    "execution_start": 1626129220933,
    "source_hash": "6ef54783",
    "tags": [],
    "cell_id": "00047-2b92f17d-60d0-4baf-a75f-fe3a2c2e52df",
    "deepnote_cell_type": "code"
   },
   "source": "x = df.shape[0]\ndf['delta'] = df['event_dt'] - df['first_date']\ndf = df[df['delta'].isna()|(df['delta'] < pd.Timedelta('14D'))]\n1 - df.shape[0] / x",
   "outputs": [
    {
     "data": {
      "text/plain": "0.030429821224800313"
     },
     "execution_count": 19,
     "metadata": {},
     "output_type": "execute_result"
    }
   ],
   "execution_count": 19
  },
  {
   "cell_type": "markdown",
   "source": "Удалилось 3% событий.",
   "metadata": {
    "tags": [],
    "cell_id": "00048-46f57b44-6eeb-46c9-bce6-d634e27a09c9",
    "deepnote_cell_type": "markdown"
   }
  },
  {
   "cell_type": "markdown",
   "source": "---",
   "metadata": {
    "tags": [],
    "cell_id": "00050-4b95190b-9dde-4e42-be9e-1665edeac76a",
    "deepnote_cell_type": "markdown"
   }
  },
  {
   "cell_type": "markdown",
   "source": "## EDA\n<a name='eda' id='eda'></a>\nПосмотрим на разные распределения и на результаты теста",
   "metadata": {
    "tags": [],
    "cell_id": "00051-eb8e855e-2b06-4d1d-ae0b-fa4ea2d2ce28",
    "deepnote_cell_type": "markdown"
   }
  },
  {
   "cell_type": "markdown",
   "source": "Начнём с распределения среди целевых пользователей (размеры тестовой и контрольной групп, распределение устройств внутри групп, всё такое):",
   "metadata": {
    "tags": [],
    "cell_id": "00052-7c66bab0-5334-4fd9-9245-97e8087644d2",
    "deepnote_cell_type": "markdown"
   }
  },
  {
   "cell_type": "code",
   "metadata": {
    "deepnote_to_be_reexecuted": false,
    "execution_millis": 7,
    "execution_start": 1626129220933,
    "source_hash": "d6741a57",
    "tags": [],
    "cell_id": "00053-05d99fc0-50e9-4fff-ae57-c74b37c78156",
    "deepnote_cell_type": "code"
   },
   "source": "targets['group'].value_counts(normalize=True)",
   "outputs": [
    {
     "data": {
      "text/plain": "A   0.572\nB   0.428\nName: group, dtype: float64"
     },
     "execution_count": 20,
     "metadata": {},
     "output_type": "execute_result"
    }
   ],
   "execution_count": 20
  },
  {
   "cell_type": "markdown",
   "source": "Распределение пользователей между тестовой и контрольной группами некорректное (в ту же копилку нарушений). Посмотрим на распределение устройств в обеих группах:",
   "metadata": {
    "tags": [],
    "cell_id": "00054-17946d43-8570-4954-abe9-de76a4d225d2",
    "deepnote_cell_type": "markdown"
   }
  },
  {
   "cell_type": "code",
   "metadata": {
    "deepnote_to_be_reexecuted": false,
    "execution_millis": 520,
    "execution_start": 1626129220936,
    "source_hash": "add2f260",
    "tags": [],
    "cell_id": "00055-c399681a-a259-440a-9b6a-3c2f742be9a1",
    "deepnote_cell_type": "code"
   },
   "source": "sns.histplot(\n    data = targets,\n    x = 'device',\n    hue = 'group',\n    )\n\nplt.title('Распределение устройств в обеих группах')\nplt.ylabel('')\nplt.show()",
   "outputs": [
    {
     "data": {
      "image/png": "[encoded data removed]",
      "text/plain": "<Figure size 1360x560 with 1 Axes>"
     },
     "metadata": {
      "image/png": {
       "width": 1111,
       "height": 496
      }
     },
     "output_type": "display_data"
    }
   ],
   "execution_count": 21
  },
  {
   "cell_type": "markdown",
   "source": "Распределения в целом похожи, но сказывается перекос в сторону контрольной группы.\n<br>\nПосмотрим на действия пользователей:",
   "metadata": {
    "tags": [],
    "cell_id": "00056-ded47336-1bd1-4251-9db1-21ae24eab921",
    "deepnote_cell_type": "markdown"
   }
  },
  {
   "cell_type": "code",
   "metadata": {
    "deepnote_to_be_reexecuted": false,
    "execution_millis": 28,
    "execution_start": 1626129221453,
    "source_hash": "d794f466",
    "tags": [],
    "cell_id": "00057-750392bb-95f1-4eb5-806c-e568bea44fa4",
    "deepnote_cell_type": "code"
   },
   "source": "df.isna().sum()",
   "outputs": [
    {
     "data": {
      "text/plain": "user_id           0\nfirst_date        0\nregion            0\ndevice            0\ngroup             0\nevent_dt       2870\nevent_name     2870\ndetails       22387\ndelta          2870\ndtype: int64"
     },
     "execution_count": 22,
     "metadata": {},
     "output_type": "execute_result"
    }
   ],
   "execution_count": 22
  },
  {
   "cell_type": "code",
   "metadata": {
    "deepnote_to_be_reexecuted": false,
    "execution_millis": 28,
    "execution_start": 1626129221472,
    "source_hash": "c477a84c",
    "tags": [],
    "cell_id": "00058-d7890639-2050-4379-b8bd-bf8baa186b4d",
    "deepnote_cell_type": "code"
   },
   "source": "df[df['event_dt'].isna()].groupby('group')['user_id'].nunique() / df.groupby('group')['user_id'].nunique()",
   "outputs": [
    {
     "data": {
      "text/plain": "group\nA   0.283\nB   0.677\nName: user_id, dtype: float64"
     },
     "execution_count": 23,
     "metadata": {},
     "output_type": "execute_result"
    }
   ],
   "execution_count": 23
  },
  {
   "cell_type": "markdown",
   "source": "67% пользователей из тестовой группы не совершили ни одной покупки за время теста, после этого в принципе можно перестать исследовать результаты теста, отправив его на перезапуск.\n<br>\nПосмотрим на маркетинговые события, которые могли дополнительно повлиять на качество теста (куда уж ещё больше):",
   "metadata": {
    "tags": [],
    "cell_id": "00059-e846bc57-13fb-43d8-9613-aabcc6753b5e",
    "deepnote_cell_type": "markdown"
   }
  },
  {
   "cell_type": "code",
   "metadata": {
    "deepnote_to_be_reexecuted": false,
    "execution_millis": 64,
    "execution_start": 1626129221495,
    "source_hash": "9e236b03",
    "tags": [],
    "cell_id": "00060-2d56222f-e582-4101-865e-63fbb6d67c21",
    "deepnote_cell_type": "code"
   },
   "source": "marketing_events[\n    marketing_events[\"regions\"].str.contains(\"EU\")\n    & (\n        (marketing_events[\"start_dt\"].isin(TEST_DATE_RANGE))\n        | (marketing_events[\"finish_dt\"].isin(TEST_DATE_RANGE))\n    )\n]",
   "outputs": [
    {
     "data": {
      "text/html": "<div>\n<style scoped>\n    .dataframe tbody tr th:only-of-type {\n        vertical-align: middle;\n    }\n\n    .dataframe tbody tr th {\n        vertical-align: top;\n    }\n\n    .dataframe thead th {\n        text-align: right;\n    }\n</style>\n<table border=\"1\" class=\"dataframe\">\n  <thead>\n    <tr style=\"text-align: right;\">\n      <th></th>\n      <th>start_dt</th>\n      <th>finish_dt</th>\n      <th>name</th>\n      <th>regions</th>\n    </tr>\n  </thead>\n  <tbody>\n    <tr>\n      <th>0</th>\n      <td>2020-12-25</td>\n      <td>2021-01-03</td>\n      <td>Christmas&amp;New Year Promo</td>\n      <td>EU, N.America</td>\n    </tr>\n  </tbody>\n</table>\n</div>",
      "text/plain": "    start_dt  finish_dt                      name        regions\n0 2020-12-25 2021-01-03  Christmas&New Year Promo  EU, N.America"
     },
     "execution_count": 24,
     "metadata": {},
     "output_type": "execute_result"
    }
   ],
   "execution_count": 24
  },
  {
   "cell_type": "markdown",
   "source": "Наш тест выпал на новый год и рождество, дела всё хуже и хуже)\n<br>\nПосмотрим на распределение регистраций и событий во времени по группам:",
   "metadata": {
    "tags": [],
    "cell_id": "00062-24a72a8a-26d2-463e-a703-31b4a008a6c3",
    "deepnote_cell_type": "markdown"
   }
  },
  {
   "cell_type": "code",
   "metadata": {
    "deepnote_to_be_reexecuted": false,
    "execution_millis": 855,
    "execution_start": 1626129221553,
    "source_hash": "dd5008a4",
    "tags": [],
    "cell_id": "00063-2e9e0ea8-08c6-4bbb-bde5-d34c57b57bcb",
    "deepnote_cell_type": "code"
   },
   "source": "sns.histplot(\n    data = df,\n    x = 'first_date',\n    hue = 'group'\n)\n\nplt.title('Распределение времени регистрации по группам')\nplt.ylabel('')\nplt.xlabel('Дата регистрации')\nplt.show()",
   "outputs": [
    {
     "data": {
      "image/png": "[encoded data removed]",
      "text/plain": "<Figure size 1360x560 with 1 Axes>"
     },
     "metadata": {
      "image/png": {
       "width": 1111,
       "height": 496
      }
     },
     "output_type": "display_data"
    }
   ],
   "execution_count": 25
  },
  {
   "cell_type": "code",
   "metadata": {
    "deepnote_to_be_reexecuted": false,
    "execution_millis": 807,
    "execution_start": 1626129222410,
    "source_hash": "1c6ec548",
    "tags": [],
    "cell_id": "00064-488bb955-f580-4643-96a9-0e0f71f50e40",
    "deepnote_cell_type": "code"
   },
   "source": "sns.histplot(\n    data = df,\n    x = 'event_dt',\n    hue = 'group'\n)\n\nplt.title('Распределение времени события по группам')\nplt.ylabel('')\nplt.xlabel('Дата события')\nplt.show()",
   "outputs": [
    {
     "data": {
      "image/png": "[encoded data removed]",
      "text/plain": "<Figure size 1360x560 with 1 Axes>"
     },
     "metadata": {
      "image/png": {
       "width": 1103,
       "height": 496
      }
     },
     "output_type": "display_data"
    }
   ],
   "execution_count": 26
  },
  {
   "cell_type": "markdown",
   "source": "В очередной раз видим, как всё плохо - в начале распределения были примерно одинаковые, но на второй неделе набора пользователей в тест что-то произошло и бо'льшая часть пользователей стала попадать в контрольную группу, что убило весь эксперимент.\n<br>\nПосмотрим на события. Сначала сделаем сводную таблицу с количеством событий в правильном порядке:",
   "metadata": {
    "tags": [],
    "cell_id": "00065-eda78724-e03d-41b6-ad23-84fb7c2f808d",
    "deepnote_cell_type": "markdown"
   }
  },
  {
   "cell_type": "code",
   "metadata": {
    "deepnote_to_be_reexecuted": false,
    "execution_millis": 171,
    "execution_start": 1626129223213,
    "source_hash": "a218b89d",
    "tags": [],
    "cell_id": "00067-007ec95d-9880-497e-85a8-01c084933b31",
    "deepnote_cell_type": "code"
   },
   "source": "temp = (\n    df.pivot_table(\n        index = 'event_name',\n        columns = 'group',\n        values = 'user_id',\n        aggfunc = 'nunique',\n        margins = True,\n        dropna = False,\n        margins_name = 'registration'\n    ).rename(columns={'registration': 'AB'})\n     .reindex([\n         'registration', \n         'login', \n         'product_page', \n         'product_cart', \n         'purchase'\n         ]))\n\ntemp",
   "outputs": [
    {
     "data": {
      "text/html": "<div>\n<style scoped>\n    .dataframe tbody tr th:only-of-type {\n        vertical-align: middle;\n    }\n\n    .dataframe tbody tr th {\n        vertical-align: top;\n    }\n\n    .dataframe thead th {\n        text-align: right;\n    }\n</style>\n<table border=\"1\" class=\"dataframe\">\n  <thead>\n    <tr style=\"text-align: right;\">\n      <th>group</th>\n      <th>A</th>\n      <th>B</th>\n      <th>AB</th>\n    </tr>\n    <tr>\n      <th>event_name</th>\n      <th></th>\n      <th></th>\n      <th></th>\n    </tr>\n  </thead>\n  <tbody>\n    <tr>\n      <th>registration</th>\n      <td>3634</td>\n      <td>2717</td>\n      <td>6351</td>\n    </tr>\n    <tr>\n      <th>login</th>\n      <td>2604</td>\n      <td>876</td>\n      <td>3480</td>\n    </tr>\n    <tr>\n      <th>product_page</th>\n      <td>1685</td>\n      <td>493</td>\n      <td>2178</td>\n    </tr>\n    <tr>\n      <th>product_cart</th>\n      <td>782</td>\n      <td>244</td>\n      <td>1026</td>\n    </tr>\n    <tr>\n      <th>purchase</th>\n      <td>833</td>\n      <td>249</td>\n      <td>1082</td>\n    </tr>\n  </tbody>\n</table>\n</div>",
      "text/plain": "group            A     B    AB\nevent_name                    \nregistration  3634  2717  6351\nlogin         2604   876  3480\nproduct_page  1685   493  2178\nproduct_cart   782   244  1026\npurchase       833   249  1082"
     },
     "execution_count": 27,
     "metadata": {},
     "output_type": "execute_result"
    }
   ],
   "execution_count": 27
  },
  {
   "cell_type": "markdown",
   "source": "Посмотрим на конверсию в каждый шаг из регистрации:",
   "metadata": {
    "tags": [],
    "cell_id": "00068-8c68c8b8-9505-4e10-8d1f-c1a3ac9b36f3",
    "deepnote_cell_type": "markdown"
   }
  },
  {
   "cell_type": "code",
   "metadata": {
    "deepnote_to_be_reexecuted": false,
    "execution_millis": 333,
    "execution_start": 1626129223376,
    "source_hash": "f684741a",
    "tags": [],
    "cell_id": "00069-b6631e45-8ad9-4552-b687-8c886a617bef",
    "deepnote_cell_type": "code"
   },
   "source": "sns.heatmap(\n    (temp / temp.loc['registration']).iloc[1:], \n    annot=True, \n    fmt='.2%', \n    cbar=None\n)\n\nplt.title('Конверсия в каждый шаг из регистрации')\nplt.ylabel('')\nplt.yticks(rotation=0)\nplt.show()",
   "outputs": [
    {
     "data": {
      "image/png": "[encoded data removed]",
      "text/plain": "<Figure size 1360x560 with 1 Axes>"
     },
     "metadata": {
      "image/png": {
       "width": 1164,
       "height": 496
      }
     },
     "output_type": "display_data"
    }
   ],
   "execution_count": 28
  },
  {
   "cell_type": "code",
   "metadata": {
    "deepnote_to_be_reexecuted": false,
    "execution_millis": 24,
    "execution_start": 1626129223711,
    "source_hash": "1e0088ff",
    "tags": [],
    "cell_id": "00071-8a9b3bc8-163e-4171-8657-be2d4830d4d9",
    "deepnote_cell_type": "code"
   },
   "source": "temp.pct_change() ",
   "outputs": [
    {
     "data": {
      "text/html": "<div>\n<style scoped>\n    .dataframe tbody tr th:only-of-type {\n        vertical-align: middle;\n    }\n\n    .dataframe tbody tr th {\n        vertical-align: top;\n    }\n\n    .dataframe thead th {\n        text-align: right;\n    }\n</style>\n<table border=\"1\" class=\"dataframe\">\n  <thead>\n    <tr style=\"text-align: right;\">\n      <th>group</th>\n      <th>A</th>\n      <th>B</th>\n      <th>AB</th>\n    </tr>\n    <tr>\n      <th>event_name</th>\n      <th></th>\n      <th></th>\n      <th></th>\n    </tr>\n  </thead>\n  <tbody>\n    <tr>\n      <th>registration</th>\n      <td>NaN</td>\n      <td>NaN</td>\n      <td>NaN</td>\n    </tr>\n    <tr>\n      <th>login</th>\n      <td>-0.283</td>\n      <td>-0.678</td>\n      <td>-0.452</td>\n    </tr>\n    <tr>\n      <th>product_page</th>\n      <td>-0.353</td>\n      <td>-0.437</td>\n      <td>-0.374</td>\n    </tr>\n    <tr>\n      <th>product_cart</th>\n      <td>-0.536</td>\n      <td>-0.505</td>\n      <td>-0.529</td>\n    </tr>\n    <tr>\n      <th>purchase</th>\n      <td>0.065</td>\n      <td>0.020</td>\n      <td>0.055</td>\n    </tr>\n  </tbody>\n</table>\n</div>",
      "text/plain": "group             A      B     AB\nevent_name                       \nregistration    NaN    NaN    NaN\nlogin        -0.283 -0.678 -0.452\nproduct_page -0.353 -0.437 -0.374\nproduct_cart -0.536 -0.505 -0.529\npurchase      0.065  0.020  0.055"
     },
     "execution_count": 29,
     "metadata": {},
     "output_type": "execute_result"
    }
   ],
   "execution_count": 29
  },
  {
   "cell_type": "markdown",
   "source": "Положительные изменения на шаге покупки связаны, скорее всего, с возможностью купить товар в один клик (в обход корзины).\n<br>\nПроверим (зачем-то) различия в конверсии на стат.значимость.",
   "metadata": {
    "tags": [],
    "cell_id": "00072-1d849e64-4958-4aa0-82cf-57168f3f7723",
    "deepnote_cell_type": "markdown"
   }
  },
  {
   "cell_type": "markdown",
   "source": "---",
   "metadata": {
    "tags": [],
    "cell_id": "00074-053a405d-82f2-4e1f-bd7d-ed5fc2a8c727",
    "deepnote_cell_type": "markdown"
   }
  },
  {
   "cell_type": "markdown",
   "source": "## Гипотезы\n<a name='hypothesis' id='hypothesis'></a>\nПроверим гипотезы",
   "metadata": {
    "tags": [],
    "cell_id": "00075-1c648689-5a93-425e-ae1e-826ab44e3c40",
    "deepnote_cell_type": "markdown"
   }
  },
  {
   "cell_type": "markdown",
   "source": "$H_0 - {Конверсия\\ в\\ контрольной\\ и\\ тестовой\\ группах\\ не\\ отличается}$\n<br>\n$H_1 - {Конверсия\\ в\\ контрольной\\ и\\ тестовой\\ группах\\ отличается}$\n<br>\n$\\alpha = 5\\%$",
   "metadata": {
    "deepnote_to_be_reexecuted": false,
    "execution_millis": 10,
    "execution_start": 1626128590502,
    "source_hash": "474350e9",
    "tags": [],
    "cell_id": "00076-bacf6369-2643-4b01-9b77-888608809d75",
    "deepnote_cell_type": "markdown"
   }
  },
  {
   "cell_type": "code",
   "metadata": {
    "deepnote_to_be_reexecuted": false,
    "execution_millis": 14,
    "execution_start": 1626129223732,
    "source_hash": "9e46b6e9",
    "tags": [],
    "cell_id": "00077-941aa369-ca93-4dae-9fbb-568693ec3e1b",
    "deepnote_cell_type": "code"
   },
   "source": "temp",
   "outputs": [
    {
     "data": {
      "text/html": "<div>\n<style scoped>\n    .dataframe tbody tr th:only-of-type {\n        vertical-align: middle;\n    }\n\n    .dataframe tbody tr th {\n        vertical-align: top;\n    }\n\n    .dataframe thead th {\n        text-align: right;\n    }\n</style>\n<table border=\"1\" class=\"dataframe\">\n  <thead>\n    <tr style=\"text-align: right;\">\n      <th>group</th>\n      <th>A</th>\n      <th>B</th>\n      <th>AB</th>\n    </tr>\n    <tr>\n      <th>event_name</th>\n      <th></th>\n      <th></th>\n      <th></th>\n    </tr>\n  </thead>\n  <tbody>\n    <tr>\n      <th>registration</th>\n      <td>3634</td>\n      <td>2717</td>\n      <td>6351</td>\n    </tr>\n    <tr>\n      <th>login</th>\n      <td>2604</td>\n      <td>876</td>\n      <td>3480</td>\n    </tr>\n    <tr>\n      <th>product_page</th>\n      <td>1685</td>\n      <td>493</td>\n      <td>2178</td>\n    </tr>\n    <tr>\n      <th>product_cart</th>\n      <td>782</td>\n      <td>244</td>\n      <td>1026</td>\n    </tr>\n    <tr>\n      <th>purchase</th>\n      <td>833</td>\n      <td>249</td>\n      <td>1082</td>\n    </tr>\n  </tbody>\n</table>\n</div>",
      "text/plain": "group            A     B    AB\nevent_name                    \nregistration  3634  2717  6351\nlogin         2604   876  3480\nproduct_page  1685   493  2178\nproduct_cart   782   244  1026\npurchase       833   249  1082"
     },
     "execution_count": 30,
     "metadata": {},
     "output_type": "execute_result"
    }
   ],
   "execution_count": 30
  },
  {
   "cell_type": "code",
   "metadata": {
    "deepnote_to_be_reexecuted": false,
    "execution_millis": 3,
    "execution_start": 1626129223751,
    "source_hash": "cdeee570",
    "tags": [],
    "cell_id": "00078-1f1b6cec-a875-45c3-a530-b5e173ec61ca",
    "deepnote_cell_type": "code"
   },
   "source": "def two_sample_z_test(\n    A: {'type': list, 'help': 'total and success counts from sample A'}, \n    B: {'type': list, 'help': 'total and success counts from sample B'}\n    ) ->{'type': float, 'help': 'p-value for z-test'}:\n    \"\"\"Return p-value for two-sample z-test.\"\"\"\n    p1 = A[1] / A[0]\n    p2 = B[1] / B[0]\n    p = (A[1] + B[1]) / (A[0] + B[0])\n    \n    z_value = (p1 - p2) / np.sqrt(p * (1 - p) * (1/A[0] + 1/B[0]))\n\n    distr = st.norm(0, 1)\n\n    p_value = (1 - distr.cdf(abs(z_value))) * 2\n\n    return p_value",
   "outputs": [],
   "execution_count": 31
  },
  {
   "cell_type": "code",
   "metadata": {
    "deepnote_to_be_reexecuted": false,
    "execution_millis": 6,
    "execution_start": 1626129223810,
    "source_hash": "f3527024",
    "tags": [],
    "cell_id": "00079-96963f86-27ff-44ca-a5df-22b713403e7c",
    "deepnote_cell_type": "code"
   },
   "source": "for event in temp.index[1:]:\n    A = [\n        temp.loc['registration', 'A'], \n        temp.loc[event, 'A']\n        ]\n    B = [\n        temp.loc['registration', 'B'], \n        temp.loc[event, 'B']\n    ]\n    print(f'p-value для {event}: {two_sample_z_test(A, B)}')",
   "outputs": [
    {
     "name": "stdout",
     "output_type": "stream",
     "text": "p-value для login: 0.0\np-value для product_page: 0.0\np-value для product_cart: 0.0\np-value для purchase: 0.0\n"
    }
   ],
   "execution_count": 32
  },
  {
   "cell_type": "markdown",
   "source": "P-value крайне мал, даже без поправки на множественное тестирование можно отклонить нулевую гипотезу о равенстве конверсий и сделать вывод о значительных отличиях.",
   "metadata": {
    "tags": [],
    "cell_id": "00080-bdfdc82f-e1c3-4231-a4ef-f92155cbcb65",
    "deepnote_cell_type": "markdown"
   }
  },
  {
   "cell_type": "markdown",
   "source": "---",
   "metadata": {
    "tags": [],
    "cell_id": "00082-a699def0-c88d-4084-a1aa-f30ddc5e62c3",
    "deepnote_cell_type": "markdown"
   }
  },
  {
   "cell_type": "markdown",
   "source": "## Выводы\n<a name='conclusions' id='conclusions'></a>\nПодведём итоги",
   "metadata": {
    "tags": [],
    "cell_id": "00083-d3b27740-ba27-46da-b1ab-8289159ffed1",
    "deepnote_cell_type": "markdown"
   }
  },
  {
   "cell_type": "markdown",
   "source": "Тест был проведён с огромным количеством и его нужно перезапускать, какие-то выводы по нему делать нельзя.\n- В датасете отсутствуют любые события за *2021-01-01 - 2021-01-03*\n- Одновременно проходил другой тест, с которым есть пересечение по пользователям\n- Последняя неделя теста выпала на рождество и новый год, что тоже является недопустимым\n- Не равные тестовая и контрольная группа\n\nСтоит проанализировать ошибки, исправить их и перезапустить тест, чтобы можно было проанализировать результаты.",
   "metadata": {
    "tags": [],
    "cell_id": "00084-8e260b1f-8f40-4331-8b15-692364da8bde",
    "deepnote_cell_type": "markdown"
   }
  },
  {
   "cell_type": "markdown",
   "source": "<a style='text-decoration:none;line-height:16px;display:flex;color:#5B5B62;padding:10px;justify-content:end;' href='https://deepnote.com?utm_source=created-in-deepnote-cell&projectId=73c6fdc9-2380-4d92-b495-95da9dd36eb1' target=\"_blank\">\n<img alt='Created in deepnote.com' style='display:inline;max-height:16px;margin:0px;margin-right:7.5px;' src='data:image/svg+xml;base64,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' > </img>\nCreated in <span style='font-weight:600;margin-left:4px;'>Deepnote</span></a>",
   "metadata": {
    "tags": [],
    "created_in_deepnote_cell": true,
    "deepnote_cell_type": "markdown"
   }
  }
 ],
 "nbformat": 4,
 "nbformat_minor": 2,
 "metadata": {
  "ExecuteTimeLog": [
   {
    "duration": 310,
    "start_time": "2021-07-13T16:28:37.537Z"
   },
   {
    "duration": 171277,
    "start_time": "2021-07-13T16:29:13.653Z"
   },
   {
    "duration": 1719,
    "start_time": "2021-07-13T16:32:04.932Z"
   },
   {
    "duration": 4,
    "start_time": "2021-07-13T16:32:06.653Z"
   },
   {
    "duration": 8,
    "start_time": "2021-07-13T16:32:06.659Z"
   },
   {
    "duration": 9,
    "start_time": "2021-07-13T16:32:06.669Z"
   },
   {
    "duration": 183,
    "start_time": "2021-07-13T16:32:06.679Z"
   },
   {
    "duration": 852,
    "start_time": "2021-07-13T16:32:06.864Z"
   },
   {
    "duration": 46,
    "start_time": "2021-07-13T16:32:07.719Z"
   },
   {
    "duration": 78,
    "start_time": "2021-07-13T16:32:07.767Z"
   },
   {
    "duration": 15,
    "start_time": "2021-07-13T16:32:07.847Z"
   },
   {
    "duration": 31,
    "start_time": "2021-07-13T16:32:07.864Z"
   },
   {
    "duration": 1087,
    "start_time": "2021-07-13T16:32:07.897Z"
   },
   {
    "duration": 4,
    "start_time": "2021-07-13T16:32:08.986Z"
   },
   {
    "duration": 21,
    "start_time": "2021-07-13T16:32:08.992Z"
   },
   {
    "duration": 26,
    "start_time": "2021-07-13T16:32:09.015Z"
   },
   {
    "duration": 10,
    "start_time": "2021-07-13T16:32:09.042Z"
   },
   {
    "duration": 138,
    "start_time": "2021-07-13T16:32:09.054Z"
   },
   {
    "duration": 4,
    "start_time": "2021-07-13T16:32:09.193Z"
   },
   {
    "duration": 18,
    "start_time": "2021-07-13T16:32:09.199Z"
   },
   {
    "duration": 5,
    "start_time": "2021-07-13T16:32:09.218Z"
   },
   {
    "duration": 387,
    "start_time": "2021-07-13T16:32:09.225Z"
   },
   {
    "duration": 11,
    "start_time": "2021-07-13T16:32:09.614Z"
   },
   {
    "duration": 13,
    "start_time": "2021-07-13T16:32:09.640Z"
   },
   {
    "duration": 9,
    "start_time": "2021-07-13T16:32:09.654Z"
   },
   {
    "duration": 578,
    "start_time": "2021-07-13T16:32:09.665Z"
   },
   {
    "duration": 560,
    "start_time": "2021-07-13T16:32:10.244Z"
   },
   {
    "duration": 60,
    "start_time": "2021-07-13T16:32:10.806Z"
   },
   {
    "duration": 387,
    "start_time": "2021-07-13T16:32:10.867Z"
   },
   {
    "duration": 7,
    "start_time": "2021-07-13T16:32:11.256Z"
   },
   {
    "duration": 8,
    "start_time": "2021-07-13T16:32:11.264Z"
   },
   {
    "duration": 12,
    "start_time": "2021-07-13T16:32:11.274Z"
   },
   {
    "duration": 18,
    "start_time": "2021-07-13T16:32:11.287Z"
   },
   {
    "duration": 18,
    "start_time": "2021-07-13T16:34:17.213Z"
   },
   {
    "duration": 7,
    "start_time": "2021-07-13T16:34:27.773Z"
   },
   {
    "duration": 103,
    "start_time": "2021-07-13T20:56:27.741Z"
   }
  ],
  "deepnote": {
   "is_reactive": false
  },
  "deepnote_execution_queue": [],
  "deepnote_notebook_id": "9deb5217-d09e-40e5-b890-c6fcd627fc4b",
  "kernelspec": {
   "display_name": "Python 3",
   "language": "python",
   "name": "python3"
  },
  "language_info": {
   "codemirror_mode": {
    "name": "ipython",
    "version": 3
   },
   "file_extension": ".py",
   "mimetype": "text/x-python",
   "name": "python",
   "nbconvert_exporter": "python",
   "pygments_lexer": "ipython3",
   "version": "3.7.8"
  },
  "toc": {
   "base_numbering": 1,
   "nav_menu": {},
   "number_sections": true,
   "sideBar": true,
   "skip_h1_title": true,
   "title_cell": "Table of Contents",
   "title_sidebar": "Contents",
   "toc_cell": false,
   "toc_position": {},
   "toc_section_display": true,
   "toc_window_display": false
  }
 }
}