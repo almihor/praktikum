{
 "cells": [
  {
   "cell_type": "markdown",
   "metadata": {
    "id": "ZQyyRN5mNuG9"
   },
   "source": [
    "# Проект 3\n",
    "# Определение перспективного тарифа для телеком-компании\n",
    "\n",
    "Федеральному оператору связи \"Мегалайн\" нужно скорректировать рекламный бюджет, и поэтому коммерческий департамент поставил задачу выяснить, какой из двух тарифов приносит больше денег компании.\n",
    "\n",
    "На рассмотрении два тарифа - \"Смарт\" и \"Ультра\"\n",
    "\n",
    "||Смарт|Ультра|\n",
    "|:-|:-:|:-:|\n",
    "|Пакет|||\n",
    "|Минут|500|3000|\n",
    "|Сообщений|50|1000|\n",
    "|Интернет|15|30|\n",
    "| | | |\n",
    "|Сверх пакета|||\n",
    "|Минута|3|1|\n",
    "|Сообщение|3|1|\n",
    "|Гб|200|150|\n",
    "| | | |\n",
    "|Плата|550|1950|\n",
    "\n",
    "В нашем распоряжении небольшая выборка из данных 500 пользователей за 2018 год: кто, откуда, каким тарифом пользуются, сколько совершают звонков и отправляют сообщений в день. Нужно проанализировать клиентов и выяснить, какой тариф должен быть приоритетнее.\n",
    "\n"
   ]
  },
  {
   "cell_type": "markdown",
   "metadata": {
    "id": "oNEOKVkTOAKe"
   },
   "source": [
    "## Структура проекта\n",
    "1. [Начало работы](#start)\n",
    "2. [Предобработка данных](#preprocessing)\n",
    "3. [Анализ данных](#analisys)\n",
    "4. [Проверка гипотез](#hypothesis)\n",
    "5. [Выводы](#conclusions)"
   ]
  },
  {
   "cell_type": "markdown",
   "metadata": {
    "id": "flC3ft68ctSc"
   },
   "source": [
    "## Начало работы\n",
    "<a id='start'></a>\n",
    "<a name='start'></a>\n",
    "\n",
    "Для начала импортируем необходимые библиотеки:"
   ]
  },
  {
   "cell_type": "code",
   "execution_count": 1,
   "metadata": {
    "id": "Z1CzofBsgtbF"
   },
   "outputs": [],
   "source": [
    "import pandas as pd\n",
    "import numpy as np\n",
    "import seaborn as sns\n",
    "import matplotlib.pyplot as plt\n",
    "import scipy\n",
    "\n",
    "DATE_FORMAT = '%Y-%m-%d'"
   ]
  },
  {
   "cell_type": "markdown",
   "metadata": {
    "id": "KJwDv-77g8NW"
   },
   "source": [
    "Загрузим необходимые датасеты:"
   ]
  },
  {
   "cell_type": "code",
   "execution_count": 4,
   "metadata": {
    "id": "-7JiYHbiPAQv"
   },
   "outputs": [],
   "source": [
    "calls = pd.read_csv('datasets/calls.csv')\n",
    "internet = pd.read_csv('datasets/internet.csv')\n",
    "messages = pd.read_csv('datasets/messages.csv')\n",
    "tariffs = pd.read_csv('datasets/tariffs.csv')\n",
    "users = pd.read_csv('datasets/users.csv')"
   ]
  },
  {
   "cell_type": "markdown",
   "metadata": {
    "id": "H2HmTgHkUKAz"
   },
   "source": [
    "Проведём первичный осмотр данных, чтобы составить дальнейший план действий, и сразу же сделаем базовые необходимые операции (вроде преобразования даты и округления чисел).\n",
    "\n",
    "Начём по порядку - *Calls*:"
   ]
  },
  {
   "cell_type": "code",
   "execution_count": 5,
   "metadata": {
    "colab": {
     "base_uri": "https://localhost:8080/"
    },
    "id": "jR7LlvGJUIf-",
    "outputId": "8306ca42-47e3-493b-f2ad-e77a1ec04a05"
   },
   "outputs": [
    {
     "name": "stdout",
     "output_type": "stream",
     "text": [
      "<class 'pandas.core.frame.DataFrame'>\n",
      "RangeIndex: 202607 entries, 0 to 202606\n",
      "Data columns (total 4 columns):\n",
      "id           202607 non-null object\n",
      "call_date    202607 non-null object\n",
      "duration     202607 non-null float64\n",
      "user_id      202607 non-null int64\n",
      "dtypes: float64(1), int64(1), object(2)\n",
      "memory usage: 6.2+ MB\n"
     ]
    }
   ],
   "source": [
    "calls.info()"
   ]
  },
  {
   "cell_type": "markdown",
   "metadata": {
    "id": "pFW8xerAU9PK"
   },
   "source": [
    "Из сопроводительной информации узнаём о значении каждого поля:\n",
    "    <details>\n",
    "- *id* — уникальный номер звонка\n",
    "- *call_date* — дата звонка\n",
    "- *duration* — длительность звонка в минутах\n",
    "- *user_id* — идентификатор пользователя, сделавшего звонок\n",
    "    </details>\n",
    "\n",
    "Взглянем и на сами данные:"
   ]
  },
  {
   "cell_type": "code",
   "execution_count": 6,
   "metadata": {
    "colab": {
     "base_uri": "https://localhost:8080/",
     "height": 359
    },
    "id": "vFHc66cpV-zW",
    "outputId": "ad0f5632-283a-4b30-acb7-f169d613250a"
   },
   "outputs": [
    {
     "data": {
      "text/html": [
       "<div>\n",
       "<style scoped>\n",
       "    .dataframe tbody tr th:only-of-type {\n",
       "        vertical-align: middle;\n",
       "    }\n",
       "\n",
       "    .dataframe tbody tr th {\n",
       "        vertical-align: top;\n",
       "    }\n",
       "\n",
       "    .dataframe thead th {\n",
       "        text-align: right;\n",
       "    }\n",
       "</style>\n",
       "<table border=\"1\" class=\"dataframe\">\n",
       "  <thead>\n",
       "    <tr style=\"text-align: right;\">\n",
       "      <th></th>\n",
       "      <th>id</th>\n",
       "      <th>call_date</th>\n",
       "      <th>duration</th>\n",
       "      <th>user_id</th>\n",
       "    </tr>\n",
       "  </thead>\n",
       "  <tbody>\n",
       "    <tr>\n",
       "      <td>158741</td>\n",
       "      <td>1392_406</td>\n",
       "      <td>2018-07-09</td>\n",
       "      <td>4.94</td>\n",
       "      <td>1392</td>\n",
       "    </tr>\n",
       "    <tr>\n",
       "      <td>95947</td>\n",
       "      <td>1244_202</td>\n",
       "      <td>2018-11-09</td>\n",
       "      <td>0.00</td>\n",
       "      <td>1244</td>\n",
       "    </tr>\n",
       "    <tr>\n",
       "      <td>10624</td>\n",
       "      <td>1027_494</td>\n",
       "      <td>2018-10-07</td>\n",
       "      <td>3.10</td>\n",
       "      <td>1027</td>\n",
       "    </tr>\n",
       "    <tr>\n",
       "      <td>167423</td>\n",
       "      <td>1412_340</td>\n",
       "      <td>2018-09-25</td>\n",
       "      <td>5.91</td>\n",
       "      <td>1412</td>\n",
       "    </tr>\n",
       "    <tr>\n",
       "      <td>73194</td>\n",
       "      <td>1184_168</td>\n",
       "      <td>2018-09-03</td>\n",
       "      <td>9.86</td>\n",
       "      <td>1184</td>\n",
       "    </tr>\n",
       "    <tr>\n",
       "      <td>176140</td>\n",
       "      <td>1435_58</td>\n",
       "      <td>2018-12-21</td>\n",
       "      <td>2.31</td>\n",
       "      <td>1435</td>\n",
       "    </tr>\n",
       "    <tr>\n",
       "      <td>41601</td>\n",
       "      <td>1102_28</td>\n",
       "      <td>2018-09-21</td>\n",
       "      <td>2.44</td>\n",
       "      <td>1102</td>\n",
       "    </tr>\n",
       "    <tr>\n",
       "      <td>124173</td>\n",
       "      <td>1319_322</td>\n",
       "      <td>2018-12-28</td>\n",
       "      <td>16.24</td>\n",
       "      <td>1319</td>\n",
       "    </tr>\n",
       "    <tr>\n",
       "      <td>19027</td>\n",
       "      <td>1052_176</td>\n",
       "      <td>2018-11-11</td>\n",
       "      <td>15.55</td>\n",
       "      <td>1052</td>\n",
       "    </tr>\n",
       "    <tr>\n",
       "      <td>188175</td>\n",
       "      <td>1464_695</td>\n",
       "      <td>2018-09-01</td>\n",
       "      <td>0.00</td>\n",
       "      <td>1464</td>\n",
       "    </tr>\n",
       "  </tbody>\n",
       "</table>\n",
       "</div>"
      ],
      "text/plain": [
       "              id   call_date  duration  user_id\n",
       "158741  1392_406  2018-07-09      4.94     1392\n",
       "95947   1244_202  2018-11-09      0.00     1244\n",
       "10624   1027_494  2018-10-07      3.10     1027\n",
       "167423  1412_340  2018-09-25      5.91     1412\n",
       "73194   1184_168  2018-09-03      9.86     1184\n",
       "176140   1435_58  2018-12-21      2.31     1435\n",
       "41601    1102_28  2018-09-21      2.44     1102\n",
       "124173  1319_322  2018-12-28     16.24     1319\n",
       "19027   1052_176  2018-11-11     15.55     1052\n",
       "188175  1464_695  2018-09-01      0.00     1464"
      ]
     },
     "execution_count": 6,
     "metadata": {},
     "output_type": "execute_result"
    }
   ],
   "source": [
    "np.random.seed(42)\n",
    "calls.sample(10)"
   ]
  },
  {
   "cell_type": "code",
   "execution_count": 7,
   "metadata": {
    "id": "CxCa9TwbiDEh"
   },
   "outputs": [],
   "source": [
    "def sample(df):\n",
    "    return df.sample(10, random_state=42)"
   ]
  },
  {
   "cell_type": "markdown",
   "metadata": {
    "id": "eGIVvI6Y09lJ"
   },
   "source": [
    "Поле *id* нам не нужно для дальнейшей работы (его можно было бы сократить до цифр после _ (первая часть дублирует user_id) и сделать целочисленным, или ещё лучше просто заполнить целыми числами от 0 до len(calls), так как там могут сбрасываться счётчики для каждого клиента), а вот поле *duration* стоит округлить вверх и сделать целочисленным, а поле *call_date* сделать датой."
   ]
  },
  {
   "cell_type": "markdown",
   "metadata": {
    "id": "SWGBmPI0m5DZ"
   },
   "source": [
    "\n",
    "\n",
    "---\n",
    "\n"
   ]
  },
  {
   "cell_type": "markdown",
   "metadata": {
    "id": "DkLV0WKfedVi"
   },
   "source": [
    "Далее - *internet*:"
   ]
  },
  {
   "cell_type": "code",
   "execution_count": 8,
   "metadata": {
    "colab": {
     "base_uri": "https://localhost:8080/"
    },
    "id": "VTbmzEeyeyFT",
    "outputId": "42c8a87f-1095-49c9-b4b4-945d3b38cc68"
   },
   "outputs": [
    {
     "name": "stdout",
     "output_type": "stream",
     "text": [
      "<class 'pandas.core.frame.DataFrame'>\n",
      "RangeIndex: 149396 entries, 0 to 149395\n",
      "Data columns (total 5 columns):\n",
      "Unnamed: 0      149396 non-null int64\n",
      "id              149396 non-null object\n",
      "mb_used         149396 non-null float64\n",
      "session_date    149396 non-null object\n",
      "user_id         149396 non-null int64\n",
      "dtypes: float64(1), int64(2), object(2)\n",
      "memory usage: 5.7+ MB\n"
     ]
    }
   ],
   "source": [
    "internet.info()"
   ]
  },
  {
   "cell_type": "markdown",
   "metadata": {
    "id": "1LS1OelmfBPS"
   },
   "source": [
    "Из сопроводительной информации узнаем о значении каждого поля:\n",
    "    <details>\n",
    "- *id* — уникальный номер сессии\n",
    "- *mb_used* — объём потраченного за сессию интернет-трафика (в мегабайтах)\n",
    "- *session_date* — дата интернет-сессии\n",
    "- *user_id* — идентификатор пользователя\n",
    "    </details>\n",
    "\n",
    "Сразу удалим столбец *Unnamed: 0*, который возник из-за ошибки выгрузки (скорее всего, потому что он дублирует индексы), и взглянем на сами данные:"
   ]
  },
  {
   "cell_type": "code",
   "execution_count": 9,
   "metadata": {
    "colab": {
     "base_uri": "https://localhost:8080/",
     "height": 359
    },
    "id": "-G4DgjfWe668",
    "outputId": "ca90ba8e-8e6f-41b8-a744-796ea98ae677"
   },
   "outputs": [
    {
     "data": {
      "text/html": [
       "<div>\n",
       "<style scoped>\n",
       "    .dataframe tbody tr th:only-of-type {\n",
       "        vertical-align: middle;\n",
       "    }\n",
       "\n",
       "    .dataframe tbody tr th {\n",
       "        vertical-align: top;\n",
       "    }\n",
       "\n",
       "    .dataframe thead th {\n",
       "        text-align: right;\n",
       "    }\n",
       "</style>\n",
       "<table border=\"1\" class=\"dataframe\">\n",
       "  <thead>\n",
       "    <tr style=\"text-align: right;\">\n",
       "      <th></th>\n",
       "      <th>id</th>\n",
       "      <th>mb_used</th>\n",
       "      <th>session_date</th>\n",
       "      <th>user_id</th>\n",
       "    </tr>\n",
       "  </thead>\n",
       "  <tbody>\n",
       "    <tr>\n",
       "      <td>31737</td>\n",
       "      <td>1110_331</td>\n",
       "      <td>351.71</td>\n",
       "      <td>2018-09-04</td>\n",
       "      <td>1110</td>\n",
       "    </tr>\n",
       "    <tr>\n",
       "      <td>31333</td>\n",
       "      <td>1109_399</td>\n",
       "      <td>257.69</td>\n",
       "      <td>2018-06-09</td>\n",
       "      <td>1109</td>\n",
       "    </tr>\n",
       "    <tr>\n",
       "      <td>61121</td>\n",
       "      <td>1207_191</td>\n",
       "      <td>128.18</td>\n",
       "      <td>2018-11-05</td>\n",
       "      <td>1207</td>\n",
       "    </tr>\n",
       "    <tr>\n",
       "      <td>71184</td>\n",
       "      <td>1241_88</td>\n",
       "      <td>736.71</td>\n",
       "      <td>2018-11-23</td>\n",
       "      <td>1241</td>\n",
       "    </tr>\n",
       "    <tr>\n",
       "      <td>84394</td>\n",
       "      <td>1286_76</td>\n",
       "      <td>900.69</td>\n",
       "      <td>2018-12-18</td>\n",
       "      <td>1286</td>\n",
       "    </tr>\n",
       "    <tr>\n",
       "      <td>146984</td>\n",
       "      <td>1491_256</td>\n",
       "      <td>464.64</td>\n",
       "      <td>2018-07-31</td>\n",
       "      <td>1491</td>\n",
       "    </tr>\n",
       "    <tr>\n",
       "      <td>32352</td>\n",
       "      <td>1113_196</td>\n",
       "      <td>72.39</td>\n",
       "      <td>2018-11-04</td>\n",
       "      <td>1113</td>\n",
       "    </tr>\n",
       "    <tr>\n",
       "      <td>103524</td>\n",
       "      <td>1349_40</td>\n",
       "      <td>779.95</td>\n",
       "      <td>2018-12-23</td>\n",
       "      <td>1349</td>\n",
       "    </tr>\n",
       "    <tr>\n",
       "      <td>26570</td>\n",
       "      <td>1092_236</td>\n",
       "      <td>229.27</td>\n",
       "      <td>2018-11-17</td>\n",
       "      <td>1092</td>\n",
       "    </tr>\n",
       "    <tr>\n",
       "      <td>9728</td>\n",
       "      <td>1033_108</td>\n",
       "      <td>457.25</td>\n",
       "      <td>2018-08-11</td>\n",
       "      <td>1033</td>\n",
       "    </tr>\n",
       "  </tbody>\n",
       "</table>\n",
       "</div>"
      ],
      "text/plain": [
       "              id  mb_used session_date  user_id\n",
       "31737   1110_331   351.71   2018-09-04     1110\n",
       "31333   1109_399   257.69   2018-06-09     1109\n",
       "61121   1207_191   128.18   2018-11-05     1207\n",
       "71184    1241_88   736.71   2018-11-23     1241\n",
       "84394    1286_76   900.69   2018-12-18     1286\n",
       "146984  1491_256   464.64   2018-07-31     1491\n",
       "32352   1113_196    72.39   2018-11-04     1113\n",
       "103524   1349_40   779.95   2018-12-23     1349\n",
       "26570   1092_236   229.27   2018-11-17     1092\n",
       "9728    1033_108   457.25   2018-08-11     1033"
      ]
     },
     "execution_count": 9,
     "metadata": {},
     "output_type": "execute_result"
    }
   ],
   "source": [
    "internet = internet.drop(internet.columns[0], axis=1)\n",
    "sample(internet)"
   ]
  },
  {
   "cell_type": "markdown",
   "metadata": {
    "id": "cQKKMLtg1gg8"
   },
   "source": [
    "Тут такая же история - нужно округлить количество мегабайт вверх и поменять тип данных поля с датой, так же добавим столбец с потраченными Гб."
   ]
  },
  {
   "cell_type": "markdown",
   "metadata": {
    "id": "l5w-qTwtm7Md"
   },
   "source": [
    "\n",
    "\n",
    "---\n",
    "\n"
   ]
  },
  {
   "cell_type": "markdown",
   "metadata": {
    "id": "tJxuDULde_l9"
   },
   "source": [
    "*messages*:"
   ]
  },
  {
   "cell_type": "code",
   "execution_count": 10,
   "metadata": {
    "colab": {
     "base_uri": "https://localhost:8080/"
    },
    "id": "tBoS1PCsg0bv",
    "outputId": "cd81eccf-9b65-46dc-ca58-c27e9ad28308"
   },
   "outputs": [
    {
     "name": "stdout",
     "output_type": "stream",
     "text": [
      "<class 'pandas.core.frame.DataFrame'>\n",
      "RangeIndex: 123036 entries, 0 to 123035\n",
      "Data columns (total 3 columns):\n",
      "id              123036 non-null object\n",
      "message_date    123036 non-null object\n",
      "user_id         123036 non-null int64\n",
      "dtypes: int64(1), object(2)\n",
      "memory usage: 2.8+ MB\n"
     ]
    }
   ],
   "source": [
    "messages.info()"
   ]
  },
  {
   "cell_type": "markdown",
   "metadata": {
    "id": "LjgJgTv0iuhe"
   },
   "source": [
    "Узнаём про кадое поле:\n",
    " <details>\n",
    "- *id* — уникальный номер сообщения  \n",
    "- *message_date* — дата сообщения  \n",
    "- *user_id* — идентификатор пользователя, отправившего сообщение  \n",
    "</details>"
   ]
  },
  {
   "cell_type": "code",
   "execution_count": 11,
   "metadata": {
    "colab": {
     "base_uri": "https://localhost:8080/",
     "height": 359
    },
    "id": "e7degE37h3hP",
    "outputId": "88bfdf38-c4c7-4072-b940-517bf4adf7a0"
   },
   "outputs": [
    {
     "data": {
      "text/html": [
       "<div>\n",
       "<style scoped>\n",
       "    .dataframe tbody tr th:only-of-type {\n",
       "        vertical-align: middle;\n",
       "    }\n",
       "\n",
       "    .dataframe tbody tr th {\n",
       "        vertical-align: top;\n",
       "    }\n",
       "\n",
       "    .dataframe thead th {\n",
       "        text-align: right;\n",
       "    }\n",
       "</style>\n",
       "<table border=\"1\" class=\"dataframe\">\n",
       "  <thead>\n",
       "    <tr style=\"text-align: right;\">\n",
       "      <th></th>\n",
       "      <th>id</th>\n",
       "      <th>message_date</th>\n",
       "      <th>user_id</th>\n",
       "    </tr>\n",
       "  </thead>\n",
       "  <tbody>\n",
       "    <tr>\n",
       "      <td>8581</td>\n",
       "      <td>1033_332</td>\n",
       "      <td>2018-11-08</td>\n",
       "      <td>1033</td>\n",
       "    </tr>\n",
       "    <tr>\n",
       "      <td>12476</td>\n",
       "      <td>1054_32</td>\n",
       "      <td>2018-08-10</td>\n",
       "      <td>1054</td>\n",
       "    </tr>\n",
       "    <tr>\n",
       "      <td>14805</td>\n",
       "      <td>1065_141</td>\n",
       "      <td>2018-05-29</td>\n",
       "      <td>1065</td>\n",
       "    </tr>\n",
       "    <tr>\n",
       "      <td>118278</td>\n",
       "      <td>1481_49</td>\n",
       "      <td>2018-05-24</td>\n",
       "      <td>1481</td>\n",
       "    </tr>\n",
       "    <tr>\n",
       "      <td>23803</td>\n",
       "      <td>1099_10</td>\n",
       "      <td>2018-08-24</td>\n",
       "      <td>1099</td>\n",
       "    </tr>\n",
       "    <tr>\n",
       "      <td>93256</td>\n",
       "      <td>1383_7</td>\n",
       "      <td>2018-11-04</td>\n",
       "      <td>1383</td>\n",
       "    </tr>\n",
       "    <tr>\n",
       "      <td>81126</td>\n",
       "      <td>1340_100</td>\n",
       "      <td>2018-07-01</td>\n",
       "      <td>1340</td>\n",
       "    </tr>\n",
       "    <tr>\n",
       "      <td>41780</td>\n",
       "      <td>1178_3</td>\n",
       "      <td>2018-06-09</td>\n",
       "      <td>1178</td>\n",
       "    </tr>\n",
       "    <tr>\n",
       "      <td>73875</td>\n",
       "      <td>1311_284</td>\n",
       "      <td>2018-10-03</td>\n",
       "      <td>1311</td>\n",
       "    </tr>\n",
       "    <tr>\n",
       "      <td>118967</td>\n",
       "      <td>1482_529</td>\n",
       "      <td>2018-09-24</td>\n",
       "      <td>1482</td>\n",
       "    </tr>\n",
       "  </tbody>\n",
       "</table>\n",
       "</div>"
      ],
      "text/plain": [
       "              id message_date  user_id\n",
       "8581    1033_332   2018-11-08     1033\n",
       "12476    1054_32   2018-08-10     1054\n",
       "14805   1065_141   2018-05-29     1065\n",
       "118278   1481_49   2018-05-24     1481\n",
       "23803    1099_10   2018-08-24     1099\n",
       "93256     1383_7   2018-11-04     1383\n",
       "81126   1340_100   2018-07-01     1340\n",
       "41780     1178_3   2018-06-09     1178\n",
       "73875   1311_284   2018-10-03     1311\n",
       "118967  1482_529   2018-09-24     1482"
      ]
     },
     "execution_count": 11,
     "metadata": {},
     "output_type": "execute_result"
    }
   ],
   "source": [
    "sample(messages)"
   ]
  },
  {
   "cell_type": "markdown",
   "metadata": {
    "id": "YGV0BasD1qGT"
   },
   "source": [
    "Так же нужно будет преобразовать поле даты."
   ]
  },
  {
   "cell_type": "markdown",
   "metadata": {
    "id": "IPo5xmkVm8Q5"
   },
   "source": [
    "\n",
    "\n",
    "---\n",
    "\n"
   ]
  },
  {
   "cell_type": "markdown",
   "metadata": {
    "id": "0kTrRew7jRAF"
   },
   "source": [
    "*tariffs*:"
   ]
  },
  {
   "cell_type": "code",
   "execution_count": 12,
   "metadata": {
    "colab": {
     "base_uri": "https://localhost:8080/"
    },
    "id": "6JoOPtAGjT8x",
    "outputId": "90beceed-acc8-4370-e496-d9a0f2ea2b33"
   },
   "outputs": [
    {
     "name": "stdout",
     "output_type": "stream",
     "text": [
      "<class 'pandas.core.frame.DataFrame'>\n",
      "RangeIndex: 2 entries, 0 to 1\n",
      "Data columns (total 8 columns):\n",
      "messages_included        2 non-null int64\n",
      "mb_per_month_included    2 non-null int64\n",
      "minutes_included         2 non-null int64\n",
      "rub_monthly_fee          2 non-null int64\n",
      "rub_per_gb               2 non-null int64\n",
      "rub_per_message          2 non-null int64\n",
      "rub_per_minute           2 non-null int64\n",
      "tariff_name              2 non-null object\n",
      "dtypes: int64(7), object(1)\n",
      "memory usage: 256.0+ bytes\n"
     ]
    }
   ],
   "source": [
    "tariffs.info()"
   ]
  },
  {
   "cell_type": "code",
   "execution_count": 13,
   "metadata": {
    "colab": {
     "base_uri": "https://localhost:8080/",
     "height": 111
    },
    "id": "uZIPiawMjWnV",
    "outputId": "c8669f5f-bd89-43c9-b62b-5c0ab2a8a81d"
   },
   "outputs": [
    {
     "data": {
      "text/html": [
       "<div>\n",
       "<style scoped>\n",
       "    .dataframe tbody tr th:only-of-type {\n",
       "        vertical-align: middle;\n",
       "    }\n",
       "\n",
       "    .dataframe tbody tr th {\n",
       "        vertical-align: top;\n",
       "    }\n",
       "\n",
       "    .dataframe thead th {\n",
       "        text-align: right;\n",
       "    }\n",
       "</style>\n",
       "<table border=\"1\" class=\"dataframe\">\n",
       "  <thead>\n",
       "    <tr style=\"text-align: right;\">\n",
       "      <th></th>\n",
       "      <th>messages_included</th>\n",
       "      <th>mb_per_month_included</th>\n",
       "      <th>minutes_included</th>\n",
       "      <th>rub_monthly_fee</th>\n",
       "      <th>rub_per_gb</th>\n",
       "      <th>rub_per_message</th>\n",
       "      <th>rub_per_minute</th>\n",
       "      <th>tariff_name</th>\n",
       "    </tr>\n",
       "  </thead>\n",
       "  <tbody>\n",
       "    <tr>\n",
       "      <td>0</td>\n",
       "      <td>50</td>\n",
       "      <td>15360</td>\n",
       "      <td>500</td>\n",
       "      <td>550</td>\n",
       "      <td>200</td>\n",
       "      <td>3</td>\n",
       "      <td>3</td>\n",
       "      <td>smart</td>\n",
       "    </tr>\n",
       "    <tr>\n",
       "      <td>1</td>\n",
       "      <td>1000</td>\n",
       "      <td>30720</td>\n",
       "      <td>3000</td>\n",
       "      <td>1950</td>\n",
       "      <td>150</td>\n",
       "      <td>1</td>\n",
       "      <td>1</td>\n",
       "      <td>ultra</td>\n",
       "    </tr>\n",
       "  </tbody>\n",
       "</table>\n",
       "</div>"
      ],
      "text/plain": [
       "   messages_included  mb_per_month_included  minutes_included  \\\n",
       "0                 50                  15360               500   \n",
       "1               1000                  30720              3000   \n",
       "\n",
       "   rub_monthly_fee  rub_per_gb  rub_per_message  rub_per_minute tariff_name  \n",
       "0              550         200                3               3       smart  \n",
       "1             1950         150                1               1       ultra  "
      ]
     },
     "execution_count": 13,
     "metadata": {},
     "output_type": "execute_result"
    }
   ],
   "source": [
    "tariffs"
   ]
  },
  {
   "cell_type": "markdown",
   "metadata": {
    "id": "Lo4rZD0yjghG"
   },
   "source": [
    "Информация о каждом поле:\n",
    " <details>\n",
    "- *tariff_name* — название тарифа\n",
    "- *rub_monthly_fee* — ежемесячная абонентская плата в рублях\n",
    "- *minutes_included* — количество минут разговора в месяц, включённых в абонентскую плату\n",
    "- *messages_included* — количество сообщений в месяц, включённых в абонентскую плату\n",
    "- *mb_per_month_included* — объём интернет-трафика, включённого в абонентскую плату (в мегабайтах)\n",
    "- *rub_per_minute* — стоимость минуты разговора сверх тарифного пакета (например, если в тарифе 100 минут разговора в месяц, то со 101 минуты будет взиматься плата)\n",
    "- *rub_per_message* — стоимость отправки сообщения сверх тарифного пакета\n",
    "- *rub_per_gb* — стоимость дополнительного гигабайта интернет-трафика сверх тарифного пакета (1 гигабайт = 1024 мегабайта)\n",
    " </details>"
   ]
  },
  {
   "cell_type": "markdown",
   "metadata": {
    "id": "-NFM3939C64a"
   },
   "source": [
    "Нужно будет пересчитать включённые в пакет МБ в ГБ и поменять названия столбцов для удобства."
   ]
  },
  {
   "cell_type": "markdown",
   "metadata": {
    "id": "uJZxuEc0m9kP"
   },
   "source": [
    "\n",
    "\n",
    "---\n",
    "\n"
   ]
  },
  {
   "cell_type": "markdown",
   "metadata": {
    "id": "7CTos2X1kJtu"
   },
   "source": [
    "И, наконец, таблица *users*:"
   ]
  },
  {
   "cell_type": "code",
   "execution_count": 14,
   "metadata": {
    "colab": {
     "base_uri": "https://localhost:8080/"
    },
    "id": "DGbNzTnLkNS9",
    "outputId": "49e8d8d8-d848-4925-8bcb-8281f1500b86"
   },
   "outputs": [
    {
     "name": "stdout",
     "output_type": "stream",
     "text": [
      "<class 'pandas.core.frame.DataFrame'>\n",
      "RangeIndex: 500 entries, 0 to 499\n",
      "Data columns (total 8 columns):\n",
      "user_id       500 non-null int64\n",
      "age           500 non-null int64\n",
      "churn_date    38 non-null object\n",
      "city          500 non-null object\n",
      "first_name    500 non-null object\n",
      "last_name     500 non-null object\n",
      "reg_date      500 non-null object\n",
      "tariff        500 non-null object\n",
      "dtypes: int64(2), object(6)\n",
      "memory usage: 31.4+ KB\n"
     ]
    }
   ],
   "source": [
    "users.info()"
   ]
  },
  {
   "cell_type": "code",
   "execution_count": 15,
   "metadata": {
    "colab": {
     "base_uri": "https://localhost:8080/",
     "height": 359
    },
    "id": "0__VOtAvkSAi",
    "outputId": "925a45ba-e35b-4f12-c58a-f62d143964b3"
   },
   "outputs": [
    {
     "data": {
      "text/html": [
       "<div>\n",
       "<style scoped>\n",
       "    .dataframe tbody tr th:only-of-type {\n",
       "        vertical-align: middle;\n",
       "    }\n",
       "\n",
       "    .dataframe tbody tr th {\n",
       "        vertical-align: top;\n",
       "    }\n",
       "\n",
       "    .dataframe thead th {\n",
       "        text-align: right;\n",
       "    }\n",
       "</style>\n",
       "<table border=\"1\" class=\"dataframe\">\n",
       "  <thead>\n",
       "    <tr style=\"text-align: right;\">\n",
       "      <th></th>\n",
       "      <th>user_id</th>\n",
       "      <th>age</th>\n",
       "      <th>churn_date</th>\n",
       "      <th>city</th>\n",
       "      <th>first_name</th>\n",
       "      <th>last_name</th>\n",
       "      <th>reg_date</th>\n",
       "      <th>tariff</th>\n",
       "    </tr>\n",
       "  </thead>\n",
       "  <tbody>\n",
       "    <tr>\n",
       "      <td>361</td>\n",
       "      <td>1361</td>\n",
       "      <td>38</td>\n",
       "      <td>NaN</td>\n",
       "      <td>Екатеринбург</td>\n",
       "      <td>Рената</td>\n",
       "      <td>Кошелева</td>\n",
       "      <td>2018-09-09</td>\n",
       "      <td>ultra</td>\n",
       "    </tr>\n",
       "    <tr>\n",
       "      <td>73</td>\n",
       "      <td>1073</td>\n",
       "      <td>63</td>\n",
       "      <td>NaN</td>\n",
       "      <td>Владикавказ</td>\n",
       "      <td>Гордей</td>\n",
       "      <td>Павловский</td>\n",
       "      <td>2018-10-04</td>\n",
       "      <td>smart</td>\n",
       "    </tr>\n",
       "    <tr>\n",
       "      <td>374</td>\n",
       "      <td>1374</td>\n",
       "      <td>67</td>\n",
       "      <td>NaN</td>\n",
       "      <td>Махачкала</td>\n",
       "      <td>Леонид</td>\n",
       "      <td>Аркадьев</td>\n",
       "      <td>2018-04-01</td>\n",
       "      <td>smart</td>\n",
       "    </tr>\n",
       "    <tr>\n",
       "      <td>155</td>\n",
       "      <td>1155</td>\n",
       "      <td>71</td>\n",
       "      <td>NaN</td>\n",
       "      <td>Ставрополь</td>\n",
       "      <td>Александр</td>\n",
       "      <td>Чернов</td>\n",
       "      <td>2018-01-02</td>\n",
       "      <td>smart</td>\n",
       "    </tr>\n",
       "    <tr>\n",
       "      <td>104</td>\n",
       "      <td>1104</td>\n",
       "      <td>60</td>\n",
       "      <td>NaN</td>\n",
       "      <td>Нижний Тагил</td>\n",
       "      <td>Габриэль</td>\n",
       "      <td>Поляков</td>\n",
       "      <td>2018-02-21</td>\n",
       "      <td>ultra</td>\n",
       "    </tr>\n",
       "    <tr>\n",
       "      <td>394</td>\n",
       "      <td>1394</td>\n",
       "      <td>47</td>\n",
       "      <td>NaN</td>\n",
       "      <td>Орёл</td>\n",
       "      <td>Ксения</td>\n",
       "      <td>Жукова</td>\n",
       "      <td>2018-01-12</td>\n",
       "      <td>smart</td>\n",
       "    </tr>\n",
       "    <tr>\n",
       "      <td>377</td>\n",
       "      <td>1377</td>\n",
       "      <td>59</td>\n",
       "      <td>NaN</td>\n",
       "      <td>Брянск</td>\n",
       "      <td>Альфред</td>\n",
       "      <td>Семин</td>\n",
       "      <td>2018-02-25</td>\n",
       "      <td>ultra</td>\n",
       "    </tr>\n",
       "    <tr>\n",
       "      <td>124</td>\n",
       "      <td>1124</td>\n",
       "      <td>54</td>\n",
       "      <td>NaN</td>\n",
       "      <td>Махачкала</td>\n",
       "      <td>Альбин</td>\n",
       "      <td>Андрианов</td>\n",
       "      <td>2018-09-24</td>\n",
       "      <td>ultra</td>\n",
       "    </tr>\n",
       "    <tr>\n",
       "      <td>68</td>\n",
       "      <td>1068</td>\n",
       "      <td>34</td>\n",
       "      <td>NaN</td>\n",
       "      <td>Москва</td>\n",
       "      <td>Ким</td>\n",
       "      <td>Демьянов</td>\n",
       "      <td>2018-07-16</td>\n",
       "      <td>smart</td>\n",
       "    </tr>\n",
       "    <tr>\n",
       "      <td>450</td>\n",
       "      <td>1450</td>\n",
       "      <td>53</td>\n",
       "      <td>NaN</td>\n",
       "      <td>Москва</td>\n",
       "      <td>Алиса</td>\n",
       "      <td>Козлова</td>\n",
       "      <td>2018-10-10</td>\n",
       "      <td>smart</td>\n",
       "    </tr>\n",
       "  </tbody>\n",
       "</table>\n",
       "</div>"
      ],
      "text/plain": [
       "     user_id  age churn_date          city first_name   last_name    reg_date  \\\n",
       "361     1361   38        NaN  Екатеринбург     Рената    Кошелева  2018-09-09   \n",
       "73      1073   63        NaN   Владикавказ     Гордей  Павловский  2018-10-04   \n",
       "374     1374   67        NaN     Махачкала     Леонид    Аркадьев  2018-04-01   \n",
       "155     1155   71        NaN    Ставрополь  Александр      Чернов  2018-01-02   \n",
       "104     1104   60        NaN  Нижний Тагил   Габриэль     Поляков  2018-02-21   \n",
       "394     1394   47        NaN          Орёл     Ксения      Жукова  2018-01-12   \n",
       "377     1377   59        NaN        Брянск    Альфред       Семин  2018-02-25   \n",
       "124     1124   54        NaN     Махачкала     Альбин   Андрианов  2018-09-24   \n",
       "68      1068   34        NaN        Москва        Ким    Демьянов  2018-07-16   \n",
       "450     1450   53        NaN        Москва      Алиса     Козлова  2018-10-10   \n",
       "\n",
       "    tariff  \n",
       "361  ultra  \n",
       "73   smart  \n",
       "374  smart  \n",
       "155  smart  \n",
       "104  ultra  \n",
       "394  smart  \n",
       "377  ultra  \n",
       "124  ultra  \n",
       "68   smart  \n",
       "450  smart  "
      ]
     },
     "execution_count": 15,
     "metadata": {},
     "output_type": "execute_result"
    }
   ],
   "source": [
    "sample(users)"
   ]
  },
  {
   "cell_type": "markdown",
   "metadata": {
    "id": "6UriKgHJnByB"
   },
   "source": [
    "Значения полей:\n",
    " <details>\n",
    "- *user_id* — уникальный идентификатор пользователя\n",
    "- *first_name* — имя пользователя\n",
    "- *last_name* — фамилия пользователя\n",
    "- *age* — возраст пользователя (годы)\n",
    "- *reg_date* — дата подключения тарифа (день, месяц, год)\n",
    "- *churn_date* — дата прекращения пользования тарифом (если значение пропущено, то - тариф ещё действовал на момент выгрузки данных)\n",
    "- *city* — город проживания пользователя\n",
    "- *tariff* — название тарифного плана\n",
    "</details>"
   ]
  },
  {
   "cell_type": "markdown",
   "metadata": {
    "id": "9ydo5R4M8B-3"
   },
   "source": [
    "Так же нужно обработать поля с датой, плюс сделаем для удобства поле *user_id* индексом."
   ]
  },
  {
   "cell_type": "markdown",
   "metadata": {
    "id": "ZQn5W4Ud8Fwy"
   },
   "source": [
    "\n",
    "\n",
    "---\n",
    "\n"
   ]
  },
  {
   "cell_type": "markdown",
   "metadata": {
    "id": "pymfcXFuaUiq"
   },
   "source": [
    "Напишем цикл для преобразования полей с датой в формат даты:"
   ]
  },
  {
   "cell_type": "code",
   "execution_count": 16,
   "metadata": {
    "id": "KyF6OhI1agVH"
   },
   "outputs": [],
   "source": [
    "for df in [calls, internet, messages, users]:\n",
    "    for col in df:\n",
    "        if not col.endswith('_date'): continue\n",
    "\n",
    "        df[col] = pd.to_datetime(df[col], \n",
    "                                 format=DATE_FORMAT, \n",
    "                                 errors='coerce')"
   ]
  },
  {
   "cell_type": "markdown",
   "metadata": {
    "id": "V4KnUMM1cmmq"
   },
   "source": [
    "Сделаем оставшиеся необходимые преобразования:"
   ]
  },
  {
   "cell_type": "code",
   "execution_count": 17,
   "metadata": {
    "id": "Uua-H7mKcqJX"
   },
   "outputs": [],
   "source": [
    "calls['duration'] = np.ceil(calls['duration']).astype('int')\n",
    "internet['gb_used'] = np.ceil(internet['mb_used']) / 1024\n",
    "tariffs['mb_per_month_included'] = (tariffs['mb_per_month_included'] / 1024).astype('int')\n",
    "\n",
    "users.index = users['user_id']\n",
    "tariffs.columns = ['msg_included', \n",
    "                   'gb_included', \n",
    "                   'min_included', \n",
    "                   'price', \n",
    "                   'rub_gb', \n",
    "                   'rub_msg', \n",
    "                   'rub_min', \n",
    "                   'tariff',\n",
    "                   ]"
   ]
  },
  {
   "cell_type": "markdown",
   "metadata": {
    "id": "DGB5oCpUoLdk"
   },
   "source": [
    "\n",
    "\n",
    "---\n",
    "\n"
   ]
  },
  {
   "cell_type": "markdown",
   "metadata": {
    "id": "2QvF1rmDoNFF"
   },
   "source": [
    "## Предобработка данных\n",
    "<a name='preprocessing'></a>\n",
    "<a id='preprocessing'></a>\n",
    "\n",
    "Начнём с проверки грубых дубликатов:"
   ]
  },
  {
   "cell_type": "code",
   "execution_count": 18,
   "metadata": {
    "colab": {
     "base_uri": "https://localhost:8080/"
    },
    "id": "OwBMfbmwpSCR",
    "outputId": "db9a5d6c-dac6-4d5d-e792-a39b75477eec"
   },
   "outputs": [
    {
     "name": "stdout",
     "output_type": "stream",
     "text": [
      "0\n",
      "0\n",
      "0\n"
     ]
    },
    {
     "data": {
      "text/plain": [
       "0"
      ]
     },
     "execution_count": 18,
     "metadata": {},
     "output_type": "execute_result"
    }
   ],
   "source": [
    "for df in [messages, calls, internet]:\n",
    "    print(df[['id']].duplicated().sum())\n",
    "\n",
    "users.index.duplicated().sum()"
   ]
  },
  {
   "cell_type": "markdown",
   "metadata": {
    "id": "TvQwD--5DzCC"
   },
   "source": [
    "Проверим данные на ошибки:"
   ]
  },
  {
   "cell_type": "code",
   "execution_count": 19,
   "metadata": {
    "colab": {
     "base_uri": "https://localhost:8080/",
     "height": 308
    },
    "id": "g64o_63RD12E",
    "outputId": "93823a63-8da5-4407-d3f9-bef8b5029e61",
    "scrolled": true
   },
   "outputs": [
    {
     "data": {
      "image/png": "[encoded data removed]",
      "text/plain": [
       "<Figure size 432x288 with 1 Axes>"
      ]
     },
     "metadata": {
      "needs_background": "light"
     },
     "output_type": "display_data"
    }
   ],
   "source": [
    "calls['duration'].hist(bins=40)\n",
    "plt.suptitle('Продолжительность звонков')\n",
    "plt.ylabel('Количество звонков')\n",
    "plt.xlabel('Минуты')\n",
    "plt.show()"
   ]
  },
  {
   "cell_type": "markdown",
   "metadata": {
    "id": "-OdYCnjhFNiP"
   },
   "source": [
    "Распределение похоже на ожилаемое распределение Пуассона (пик на 0 минут объясняется, скорее всего, неотвеченными звонками)"
   ]
  },
  {
   "cell_type": "code",
   "execution_count": 20,
   "metadata": {
    "colab": {
     "base_uri": "https://localhost:8080/",
     "height": 295
    },
    "id": "yPeScLBEFW9y",
    "outputId": "093e5c7b-e179-42f2-f387-7b48eade9cd2"
   },
   "outputs": [
    {
     "data": {
      "image/png": "[encoded data removed]",
      "text/plain": [
       "<Figure size 432x288 with 1 Axes>"
      ]
     },
     "metadata": {
      "needs_background": "light"
     },
     "output_type": "display_data"
    }
   ],
   "source": [
    "internet['gb_used'].hist(bins=40)\n",
    "plt.title('Количество трафика')\n",
    "plt.ylabel('Количество сессий')\n",
    "plt.xlabel('Гигабайты')\n",
    "plt.show()"
   ]
  },
  {
   "cell_type": "markdown",
   "metadata": {
    "id": "IvmGOiESF0wn"
   },
   "source": [
    "Здесь тоже распределение похоже на ожидаемое, а нулевой трафик, скорее всего, означает отсутствие трафика у человека в этот день.\n",
    "\n",
    "Проверим ошибки в поле *user_id* каждой таблицы:"
   ]
  },
  {
   "cell_type": "code",
   "execution_count": 21,
   "metadata": {
    "colab": {
     "base_uri": "https://localhost:8080/"
    },
    "id": "8yluLdGAHuwt",
    "outputId": "7c16fb02-faed-4edc-d866-cfa2252ee616"
   },
   "outputs": [
    {
     "name": "stdout",
     "output_type": "stream",
     "text": [
      "0\n",
      "0\n",
      "0\n",
      "0\n"
     ]
    }
   ],
   "source": [
    "ids = [i for i in range(1000, 1500)]\n",
    "for df in [calls, internet, messages]:\n",
    "    print(\n",
    "        df.loc[~df['user_id'].isin(ids), 'user_id'].count()\n",
    "    )\n",
    "print(users.loc[~users.index.isin(ids), 'age'].count())"
   ]
  },
  {
   "cell_type": "markdown",
   "metadata": {
    "id": "njoKryvVVs_b"
   },
   "source": [
    "Серьёзных ошибок в нужных полях, на первый взгляд, нет. Исправим их, если что-то появится, а пока создадим новый столбец с номером месяца в таблицах *calls, internet, messages*:"
   ]
  },
  {
   "cell_type": "code",
   "execution_count": 22,
   "metadata": {
    "id": "PyfoFqIYV_Nd"
   },
   "outputs": [],
   "source": [
    "for df in [calls, internet, messages]:\n",
    "    column = df.select_dtypes('datetime').columns[0]\n",
    "    df['month'] = df[column].dt.month"
   ]
  },
  {
   "cell_type": "markdown",
   "metadata": {
    "id": "F64-94KwMIIe"
   },
   "source": [
    "Сагрегируем таблицы *calls, messages, internet* по пользователям, посчитав сумму потраченых минут, сообщений и мегабайтов в каждом месяце, объединив всё это в одну таблицу и добавив столбец с тарифом И городом для дальнейших рассчётов:"
   ]
  },
  {
   "cell_type": "code",
   "execution_count": 23,
   "metadata": {
    "id": "pTo9HchVMo4e"
   },
   "outputs": [],
   "source": [
    "df = (calls.groupby(['user_id', 'month'])['duration'].agg(('sum', 'count'))\n",
    ".join(internet.groupby(['user_id', 'month'])['gb_used'].agg('sum'), how='outer')\n",
    ".join(messages.groupby(['user_id', 'month'])['id'].agg('count'), how='outer')\n",
    ".join(users[['tariff', 'city']]))\n",
    "df.columns = ['min', 'count_calls', 'gb', 'msg', 'tariff', 'city']"
   ]
  },
  {
   "cell_type": "markdown",
   "metadata": {
    "id": "O-3aUA-RdahE"
   },
   "source": [
    "Образовавшиеся пропуски заполним нулями (человек в определённом месяце не пользовался смс или интернетом, например, но тариф всё равно оплачивал) и приведём все столбцы к типу *int*, предварительно округлив количество ГБ вверх:"
   ]
  },
  {
   "cell_type": "code",
   "execution_count": 24,
   "metadata": {
    "colab": {
     "base_uri": "https://localhost:8080/"
    },
    "id": "KVF61uOnd8mb",
    "outputId": "ff290b91-16d3-4ede-ad6c-bd56b37dd31c"
   },
   "outputs": [
    {
     "data": {
      "text/plain": [
       "min             int64\n",
       "count_calls     int64\n",
       "gb              int64\n",
       "msg             int64\n",
       "tariff         object\n",
       "city           object\n",
       "dtype: object"
      ]
     },
     "execution_count": 24,
     "metadata": {},
     "output_type": "execute_result"
    }
   ],
   "source": [
    "df['gb'] = np.ceil(df['gb'])\n",
    "df = df.fillna(0).astype('int', errors='ignore')\n",
    "df.dtypes"
   ]
  },
  {
   "cell_type": "markdown",
   "metadata": {
    "id": "cj8Fm6b--wZU"
   },
   "source": [
    "Для удобства создадим словарь с названиями тарифов и заменим их в *df* на их *id*:"
   ]
  },
  {
   "cell_type": "code",
   "execution_count": 25,
   "metadata": {
    "id": "dnvdcz4K_BUV"
   },
   "outputs": [],
   "source": [
    "dict_tariffs = tariffs['tariff'].to_dict()\n",
    "df['tariff'] = df['tariff'].replace({v: k for k, v in dict_tariffs.items()})"
   ]
  },
  {
   "cell_type": "markdown",
   "metadata": {
    "id": "odT8kNBuw66Z"
   },
   "source": [
    "~Так же поступим с названиями городов:~"
   ]
  },
  {
   "cell_type": "code",
   "execution_count": 26,
   "metadata": {
    "id": "78lPtaWRw9hz"
   },
   "outputs": [],
   "source": [
    "# # %%time\n",
    "# dict_city = pd.Series(users['city'].unique()).to_dict()\n",
    "# df['city'] = df['city'].replace({v: k for k, v in dict_city.items()})"
   ]
  },
  {
   "cell_type": "code",
   "execution_count": 27,
   "metadata": {
    "colab": {
     "base_uri": "https://localhost:8080/",
     "height": 235
    },
    "id": "SioTjTenH4Xf",
    "outputId": "394fd938-d330-4c02-f54c-643a4262767f"
   },
   "outputs": [
    {
     "data": {
      "text/html": [
       "<div>\n",
       "<style scoped>\n",
       "    .dataframe tbody tr th:only-of-type {\n",
       "        vertical-align: middle;\n",
       "    }\n",
       "\n",
       "    .dataframe tbody tr th {\n",
       "        vertical-align: top;\n",
       "    }\n",
       "\n",
       "    .dataframe thead th {\n",
       "        text-align: right;\n",
       "    }\n",
       "</style>\n",
       "<table border=\"1\" class=\"dataframe\">\n",
       "  <thead>\n",
       "    <tr style=\"text-align: right;\">\n",
       "      <th></th>\n",
       "      <th></th>\n",
       "      <th>min</th>\n",
       "      <th>count_calls</th>\n",
       "      <th>gb</th>\n",
       "      <th>msg</th>\n",
       "      <th>tariff</th>\n",
       "      <th>city</th>\n",
       "    </tr>\n",
       "    <tr>\n",
       "      <th>user_id</th>\n",
       "      <th>month</th>\n",
       "      <th></th>\n",
       "      <th></th>\n",
       "      <th></th>\n",
       "      <th></th>\n",
       "      <th></th>\n",
       "      <th></th>\n",
       "    </tr>\n",
       "  </thead>\n",
       "  <tbody>\n",
       "    <tr>\n",
       "      <td rowspan=\"5\" valign=\"top\">1000</td>\n",
       "      <td>5</td>\n",
       "      <td>159</td>\n",
       "      <td>22</td>\n",
       "      <td>3</td>\n",
       "      <td>22</td>\n",
       "      <td>1</td>\n",
       "      <td>Краснодар</td>\n",
       "    </tr>\n",
       "    <tr>\n",
       "      <td>6</td>\n",
       "      <td>172</td>\n",
       "      <td>43</td>\n",
       "      <td>23</td>\n",
       "      <td>60</td>\n",
       "      <td>1</td>\n",
       "      <td>Краснодар</td>\n",
       "    </tr>\n",
       "    <tr>\n",
       "      <td>7</td>\n",
       "      <td>340</td>\n",
       "      <td>47</td>\n",
       "      <td>14</td>\n",
       "      <td>75</td>\n",
       "      <td>1</td>\n",
       "      <td>Краснодар</td>\n",
       "    </tr>\n",
       "    <tr>\n",
       "      <td>8</td>\n",
       "      <td>408</td>\n",
       "      <td>52</td>\n",
       "      <td>14</td>\n",
       "      <td>81</td>\n",
       "      <td>1</td>\n",
       "      <td>Краснодар</td>\n",
       "    </tr>\n",
       "    <tr>\n",
       "      <td>9</td>\n",
       "      <td>466</td>\n",
       "      <td>58</td>\n",
       "      <td>15</td>\n",
       "      <td>57</td>\n",
       "      <td>1</td>\n",
       "      <td>Краснодар</td>\n",
       "    </tr>\n",
       "  </tbody>\n",
       "</table>\n",
       "</div>"
      ],
      "text/plain": [
       "               min  count_calls  gb  msg  tariff       city\n",
       "user_id month                                              \n",
       "1000    5      159           22   3   22       1  Краснодар\n",
       "        6      172           43  23   60       1  Краснодар\n",
       "        7      340           47  14   75       1  Краснодар\n",
       "        8      408           52  14   81       1  Краснодар\n",
       "        9      466           58  15   57       1  Краснодар"
      ]
     },
     "execution_count": 27,
     "metadata": {},
     "output_type": "execute_result"
    }
   ],
   "source": [
    "df.head()"
   ]
  },
  {
   "cell_type": "markdown",
   "metadata": {},
   "source": [
    "<font color='blue'>\n",
    "    выше просто разбираюсь со словарями, тут они излишни, на самом деле"
   ]
  },
  {
   "cell_type": "markdown",
   "metadata": {
    "id": "-9PkKFcCx5k8"
   },
   "source": [
    "Напишем функцию для нахождения стоимости каждого месяца пользования тарифом для каждого пользователя:"
   ]
  },
  {
   "cell_type": "code",
   "execution_count": 28,
   "metadata": {
    "id": "JqGc8Wc1SmAS"
   },
   "outputs": [],
   "source": [
    "def payment(row):\n",
    "    tariff = row['tariff']\n",
    "    price = tariffs.loc[tariff, 'price']\n",
    "    \n",
    "    for pack in ['min', 'msg', 'gb']:\n",
    "        over_pack = row[pack] - tariffs.loc[tariff, f'{pack}_included']\n",
    "        price += max(over_pack, 0) * tariffs.loc[tariff, f'rub_{pack}']\n",
    "    \n",
    "    return price"
   ]
  },
  {
   "cell_type": "markdown",
   "metadata": {
    "id": "hfVBpB5HSobu"
   },
   "source": [
    "И создадим поле *payment* с этой суммой:"
   ]
  },
  {
   "cell_type": "code",
   "execution_count": 29,
   "metadata": {
    "id": "dPIgcClk0Hix"
   },
   "outputs": [],
   "source": [
    "df['payment'] = df.apply(payment, axis=1)"
   ]
  },
  {
   "cell_type": "markdown",
   "metadata": {
    "id": "NZu6cD-37GGV"
   },
   "source": [
    "Сбросим индекс для дальнейшего удобства:"
   ]
  },
  {
   "cell_type": "code",
   "execution_count": 30,
   "metadata": {
    "colab": {
     "base_uri": "https://localhost:8080/",
     "height": 419
    },
    "id": "qHpspmsr7J_k",
    "outputId": "aa8c21f5-8efe-4530-b0bc-71b2015d39bc"
   },
   "outputs": [
    {
     "data": {
      "text/html": [
       "<div>\n",
       "<style scoped>\n",
       "    .dataframe tbody tr th:only-of-type {\n",
       "        vertical-align: middle;\n",
       "    }\n",
       "\n",
       "    .dataframe tbody tr th {\n",
       "        vertical-align: top;\n",
       "    }\n",
       "\n",
       "    .dataframe thead th {\n",
       "        text-align: right;\n",
       "    }\n",
       "</style>\n",
       "<table border=\"1\" class=\"dataframe\">\n",
       "  <thead>\n",
       "    <tr style=\"text-align: right;\">\n",
       "      <th></th>\n",
       "      <th>user_id</th>\n",
       "      <th>month</th>\n",
       "      <th>min</th>\n",
       "      <th>count_calls</th>\n",
       "      <th>gb</th>\n",
       "      <th>msg</th>\n",
       "      <th>tariff</th>\n",
       "      <th>city</th>\n",
       "      <th>payment</th>\n",
       "    </tr>\n",
       "  </thead>\n",
       "  <tbody>\n",
       "    <tr>\n",
       "      <td>0</td>\n",
       "      <td>1000</td>\n",
       "      <td>5</td>\n",
       "      <td>159</td>\n",
       "      <td>22</td>\n",
       "      <td>3</td>\n",
       "      <td>22</td>\n",
       "      <td>1</td>\n",
       "      <td>Краснодар</td>\n",
       "      <td>1950</td>\n",
       "    </tr>\n",
       "    <tr>\n",
       "      <td>1</td>\n",
       "      <td>1000</td>\n",
       "      <td>6</td>\n",
       "      <td>172</td>\n",
       "      <td>43</td>\n",
       "      <td>23</td>\n",
       "      <td>60</td>\n",
       "      <td>1</td>\n",
       "      <td>Краснодар</td>\n",
       "      <td>1950</td>\n",
       "    </tr>\n",
       "    <tr>\n",
       "      <td>2</td>\n",
       "      <td>1000</td>\n",
       "      <td>7</td>\n",
       "      <td>340</td>\n",
       "      <td>47</td>\n",
       "      <td>14</td>\n",
       "      <td>75</td>\n",
       "      <td>1</td>\n",
       "      <td>Краснодар</td>\n",
       "      <td>1950</td>\n",
       "    </tr>\n",
       "    <tr>\n",
       "      <td>3</td>\n",
       "      <td>1000</td>\n",
       "      <td>8</td>\n",
       "      <td>408</td>\n",
       "      <td>52</td>\n",
       "      <td>14</td>\n",
       "      <td>81</td>\n",
       "      <td>1</td>\n",
       "      <td>Краснодар</td>\n",
       "      <td>1950</td>\n",
       "    </tr>\n",
       "    <tr>\n",
       "      <td>4</td>\n",
       "      <td>1000</td>\n",
       "      <td>9</td>\n",
       "      <td>466</td>\n",
       "      <td>58</td>\n",
       "      <td>15</td>\n",
       "      <td>57</td>\n",
       "      <td>1</td>\n",
       "      <td>Краснодар</td>\n",
       "      <td>1950</td>\n",
       "    </tr>\n",
       "    <tr>\n",
       "      <td>...</td>\n",
       "      <td>...</td>\n",
       "      <td>...</td>\n",
       "      <td>...</td>\n",
       "      <td>...</td>\n",
       "      <td>...</td>\n",
       "      <td>...</td>\n",
       "      <td>...</td>\n",
       "      <td>...</td>\n",
       "      <td>...</td>\n",
       "    </tr>\n",
       "    <tr>\n",
       "      <td>3209</td>\n",
       "      <td>1498</td>\n",
       "      <td>10</td>\n",
       "      <td>247</td>\n",
       "      <td>41</td>\n",
       "      <td>21</td>\n",
       "      <td>42</td>\n",
       "      <td>0</td>\n",
       "      <td>Владикавказ</td>\n",
       "      <td>1750</td>\n",
       "    </tr>\n",
       "    <tr>\n",
       "      <td>3210</td>\n",
       "      <td>1499</td>\n",
       "      <td>9</td>\n",
       "      <td>70</td>\n",
       "      <td>9</td>\n",
       "      <td>2</td>\n",
       "      <td>11</td>\n",
       "      <td>0</td>\n",
       "      <td>Пермь</td>\n",
       "      <td>550</td>\n",
       "    </tr>\n",
       "    <tr>\n",
       "      <td>3211</td>\n",
       "      <td>1499</td>\n",
       "      <td>10</td>\n",
       "      <td>449</td>\n",
       "      <td>68</td>\n",
       "      <td>18</td>\n",
       "      <td>48</td>\n",
       "      <td>0</td>\n",
       "      <td>Пермь</td>\n",
       "      <td>1150</td>\n",
       "    </tr>\n",
       "    <tr>\n",
       "      <td>3212</td>\n",
       "      <td>1499</td>\n",
       "      <td>11</td>\n",
       "      <td>612</td>\n",
       "      <td>74</td>\n",
       "      <td>18</td>\n",
       "      <td>59</td>\n",
       "      <td>0</td>\n",
       "      <td>Пермь</td>\n",
       "      <td>1513</td>\n",
       "    </tr>\n",
       "    <tr>\n",
       "      <td>3213</td>\n",
       "      <td>1499</td>\n",
       "      <td>12</td>\n",
       "      <td>492</td>\n",
       "      <td>69</td>\n",
       "      <td>13</td>\n",
       "      <td>66</td>\n",
       "      <td>0</td>\n",
       "      <td>Пермь</td>\n",
       "      <td>598</td>\n",
       "    </tr>\n",
       "  </tbody>\n",
       "</table>\n",
       "<p>3214 rows × 9 columns</p>\n",
       "</div>"
      ],
      "text/plain": [
       "      user_id  month  min  count_calls  gb  msg  tariff         city  payment\n",
       "0        1000      5  159           22   3   22       1    Краснодар     1950\n",
       "1        1000      6  172           43  23   60       1    Краснодар     1950\n",
       "2        1000      7  340           47  14   75       1    Краснодар     1950\n",
       "3        1000      8  408           52  14   81       1    Краснодар     1950\n",
       "4        1000      9  466           58  15   57       1    Краснодар     1950\n",
       "...       ...    ...  ...          ...  ..  ...     ...          ...      ...\n",
       "3209     1498     10  247           41  21   42       0  Владикавказ     1750\n",
       "3210     1499      9   70            9   2   11       0        Пермь      550\n",
       "3211     1499     10  449           68  18   48       0        Пермь     1150\n",
       "3212     1499     11  612           74  18   59       0        Пермь     1513\n",
       "3213     1499     12  492           69  13   66       0        Пермь      598\n",
       "\n",
       "[3214 rows x 9 columns]"
      ]
     },
     "execution_count": 30,
     "metadata": {},
     "output_type": "execute_result"
    }
   ],
   "source": [
    "df = df.reset_index()\n",
    "df"
   ]
  },
  {
   "cell_type": "markdown",
   "metadata": {
    "id": "dcY5JyXh7-VQ"
   },
   "source": [
    "\n",
    "\n",
    "---\n",
    "\n"
   ]
  },
  {
   "cell_type": "markdown",
   "metadata": {
    "id": "UNcyMGxB7_qv"
   },
   "source": [
    "## Анализ данных\n",
    "<a id='analisys'></a>\n",
    "<a name='analisys'></a>"
   ]
  },
  {
   "cell_type": "markdown",
   "metadata": {
    "id": "h6FisbRFAVzZ"
   },
   "source": [
    "Для для обоснованного выбора тарифа нужно проанализировать, как пользователи их используют. \n",
    "\n",
    "Для начала посмотрим, как часто пользователи выходят за границы своего тарифа:"
   ]
  },
  {
   "cell_type": "code",
   "execution_count": 49,
   "metadata": {
    "colab": {
     "base_uri": "https://localhost:8080/"
    },
    "id": "rEL7Vr7qoLeb",
    "outputId": "03cd5a02-af36-4ca9-fd02-ffabb3c2042a"
   },
   "outputs": [
    {
     "name": "stdout",
     "output_type": "stream",
     "text": [
      "smart 0.746971736204576\n",
      "ultra 0.13604060913705585\n"
     ]
    }
   ],
   "source": [
    "for tariff in tariffs.index:\n",
    "    mean = (df[df['tariff'] == tariff]['payment'] > \n",
    "     tariffs.loc[tariff, 'price']).mean()\n",
    "\n",
    "    print(tariffs.loc[tariff, 'tariff'], mean)"
   ]
  },
  {
   "cell_type": "markdown",
   "metadata": {
    "id": "onedHCdzDAoP"
   },
   "source": [
    "Как видно, пользователи с тарифом smart намного активнее покупают дополнительные пакеты к своему тарифу, нежели пользователи с тарифом ultra. \n",
    "\n",
    "Посмотрим, какие пакеты покупаются чаще всего:"
   ]
  },
  {
   "cell_type": "code",
   "execution_count": 32,
   "metadata": {
    "id": "_EGreRQqLUda"
   },
   "outputs": [],
   "source": [
    "# %%time\n",
    "mean_buy ={}\n",
    "count_buy = {}\n",
    "\n",
    "for pack in ['min', 'msg', 'gb']:\n",
    "    mean_buy[pack] = []\n",
    "    count_buy[pack] = []\n",
    "    for tariff in tariffs.index:\n",
    "        series = (df.query('tariff == @tariff')[pack] > \n",
    "                tariffs.loc[tariff, f'{pack}_included'])\n",
    "        mean_buy[pack].append(series.mean())\n",
    "        count_buy[pack].append(series.sum())\n",
    "\n",
    "mean_buy = pd.DataFrame(mean_buy).T\n",
    "count_buy = pd.DataFrame(count_buy).T"
   ]
  },
  {
   "cell_type": "code",
   "execution_count": 48,
   "metadata": {
    "colab": {
     "base_uri": "https://localhost:8080/",
     "height": 281
    },
    "id": "a_QhpbYu76nY",
    "outputId": "199f0075-e074-430f-e984-513713f84446"
   },
   "outputs": [
    {
     "data": {
      "image/png": "[encoded data removed]",
      "text/plain": [
       "<Figure size 432x288 with 1 Axes>"
      ]
     },
     "metadata": {
      "needs_background": "light"
     },
     "output_type": "display_data"
    }
   ],
   "source": [
    "count_buy.plot(kind='bar', \n",
    "              title='Количество купленных пакетов', \n",
    "              grid=True)\n",
    "\n",
    "plt.legend(labels=('smart', 'ultra'))\n",
    "plt.xticks(rotation=0)\n",
    "plt.show()"
   ]
  },
  {
   "cell_type": "code",
   "execution_count": 34,
   "metadata": {
    "colab": {
     "base_uri": "https://localhost:8080/",
     "height": 281
    },
    "id": "IU8VdaTu7PpT",
    "outputId": "68b88362-5817-4577-b150-770be8ab0d36"
   },
   "outputs": [
    {
     "data": {
      "image/png": "[encoded data removed]",
      "text/plain": [
       "<Figure size 432x288 with 1 Axes>"
      ]
     },
     "metadata": {
      "needs_background": "light"
     },
     "output_type": "display_data"
    }
   ],
   "source": [
    "mean_buy.plot(kind='bar', \n",
    "              title='Процент покупок пакетов', \n",
    "              grid=True)\n",
    "\n",
    "plt.legend(labels=('smart', 'ultra'))\n",
    "plt.xticks(rotation=0)\n",
    "plt.show()"
   ]
  },
  {
   "cell_type": "markdown",
   "metadata": {
    "id": "Iejjblk5PHBk"
   },
   "source": [
    "Как видно, пользователи покупают чаще всего (а на тарифе ultra и вообще только их) пакеты дополнительного трафика.\n",
    "\n",
    "Взглянем дополнительно на процент использования включенного количества минут, сообщений и гигабайт:"
   ]
  },
  {
   "cell_type": "code",
   "execution_count": 35,
   "metadata": {
    "colab": {
     "base_uri": "https://localhost:8080/",
     "height": 281
    },
    "id": "CXxYmY4VQGEy",
    "outputId": "dc451b2f-6647-45ae-f16a-f6f26932e948"
   },
   "outputs": [
    {
     "data": {
      "image/png": "[encoded data removed]",
      "text/plain": [
       "<Figure size 432x288 with 1 Axes>"
      ]
     },
     "metadata": {
      "needs_background": "light"
     },
     "output_type": "display_data"
    }
   ],
   "source": [
    "piece_pack ={}\n",
    "\n",
    "for pack in ['min', 'msg', 'gb']:\n",
    "    piece_pack[pack] = []\n",
    "    for tariff in tariffs.index:\n",
    "        inpack = tariffs.loc[tariff, f'{pack}_included']\n",
    "        \n",
    "        piece = (df.loc[(df['tariff'] == tariff)&\n",
    "                        (df[pack] <= inpack), pack] / inpack).mean()\n",
    "        \n",
    "        piece_pack[pack].append(piece)\n",
    "\n",
    "pd.DataFrame(piece_pack).T.plot(kind='bar', \n",
    "                                title='Процент использования пакета', \n",
    "                                grid=True)\n",
    "plt.legend(labels=('smart', 'ultra'))\n",
    "plt.xticks(rotation=0)\n",
    "plt.show()"
   ]
  },
  {
   "cell_type": "markdown",
   "metadata": {
    "id": "-mQClUy6UOHn"
   },
   "source": [
    "Из этого графика видно, что пользователи тарифа ultra, которые не покупают доп пакеты, почти совсем не тратят пакеты минут и сообщений, а пакет трафика тратят чуть больше чем наполовину, тогда как пользователи с тарифом smart используют свои пакеты намного активней.\n",
    "\n",
    "Возможно, подобная переплата за невостребованные лимиты может вызвать отток пользователей с тарифа ultra. Попробуем это проверить:"
   ]
  },
  {
   "cell_type": "code",
   "execution_count": 36,
   "metadata": {
    "colab": {
     "base_uri": "https://localhost:8080/"
    },
    "id": "O1kJlKz1U209",
    "outputId": "94f21055-8099-4be3-beae-50120da2d30c"
   },
   "outputs": [
    {
     "data": {
      "text/plain": [
       "Int64Index([1019, 1050, 1063, 1090, 1128, 1201, 1254, 1255, 1265, 1271, 1343,\n",
       "            1367, 1392, 1399, 1416],\n",
       "           dtype='int64', name='user_id')"
      ]
     },
     "execution_count": 36,
     "metadata": {},
     "output_type": "execute_result"
    }
   ],
   "source": [
    "users.loc[(users['tariff'] == 'ultra')&(~users['churn_date'].isna())].index"
   ]
  },
  {
   "cell_type": "code",
   "execution_count": 37,
   "metadata": {
    "colab": {
     "base_uri": "https://localhost:8080/",
     "height": 281
    },
    "id": "vpUdMMnUVl5Y",
    "outputId": "31f6ca8e-57b8-4088-f52f-9e9544d12d32"
   },
   "outputs": [
    {
     "data": {
      "image/png": "[encoded data removed]",
      "text/plain": [
       "<Figure size 432x288 with 1 Axes>"
      ]
     },
     "metadata": {
      "needs_background": "light"
     },
     "output_type": "display_data"
    }
   ],
   "source": [
    "churn_users = users.loc[~users['churn_date'].isna()].index\n",
    "\n",
    "piece_pack ={}\n",
    "\n",
    "for pack in ['min', 'msg', 'gb']:\n",
    "    piece_pack[pack] = []\n",
    "    for tariff in tariffs.index:\n",
    "        inpack = tariffs.loc[tariff, f'{pack}_included']\n",
    "        \n",
    "        piece = (df.loc[(df['tariff'] == tariff)&\n",
    "                        (df[pack] <= inpack)&\n",
    "                        (df['user_id'].isin(churn_users)), pack] / inpack).mean()\n",
    "        \n",
    "        piece_pack[pack].append(piece)\n",
    "\n",
    "pd.DataFrame(piece_pack).T.plot(kind='bar', \n",
    "                                title='Процент использования пакета среди ушедших пользователей', \n",
    "                                grid=True)\n",
    "plt.legend(labels=('smart', 'ultra'))\n",
    "plt.xticks(rotation=0)\n",
    "plt.show()"
   ]
  },
  {
   "cell_type": "markdown",
   "metadata": {
    "id": "QBaN_0-wWbKg"
   },
   "source": [
    "Выборка крайне малая и поэтому совсем не репрезентативная, поэтому какие-либо выводы делать по этому графику нельзя, но можно выдвинуть гипотезу для будущих исследований (когда наберётся достаточно данных):\n",
    "\n",
    ">Пользователи дорогих тарифов, тратящие лишь малую часть своих пакетов, переходят на более дешёвые тарифы, в то время как пользователи дешёвых тарифов, тратящие большую часть своих пакетов, переходят на более дорогие\n",
    "\n",
    "В пользу этого могут говорить уменьшение части использования пакетов пользователей с тарифом ultra и увеличение у пользователей с тарифом smart.\n",
    "\n",
    "Посмотрим, наконец, на суммарные выручки по этим двум тарифам:"
   ]
  },
  {
   "cell_type": "code",
   "execution_count": 38,
   "metadata": {
    "colab": {
     "base_uri": "https://localhost:8080/",
     "height": 312
    },
    "id": "N6UvvsowYLi5",
    "outputId": "0a6b78fe-578b-478b-b959-730e2072e42b"
   },
   "outputs": [
    {
     "data": {
      "text/plain": [
       "(array([0, 1]), <a list of 2 Text xticklabel objects>)"
      ]
     },
     "execution_count": 38,
     "metadata": {},
     "output_type": "execute_result"
    },
    {
     "data": {
      "image/png": "[encoded data removed]",
      "text/plain": [
       "<Figure size 432x288 with 1 Axes>"
      ]
     },
     "metadata": {
      "needs_background": "light"
     },
     "output_type": "display_data"
    }
   ],
   "source": [
    "# df.pivot_table(index='tariff', values='payment', aggfunc='sum')\n",
    "(df.replace({'tariff': dict_tariffs})\n",
    "   .groupby('tariff')['payment']\n",
    "   .sum()\n",
    "   .plot(kind='bar', title='Общая выручка от тарифов за год', grid=True))\n",
    "\n",
    "plt.ylabel('Размер выручки')\n",
    "plt.xlabel('Тариф')\n",
    "plt.xticks(rotation=0)"
   ]
  },
  {
   "cell_type": "markdown",
   "metadata": {
    "id": "iVR58JMgfddj"
   },
   "source": [
    "Годовая выручка по тарифам так же отличается почти на миллион в пользу тарифа smart и пока что всё говорит о выборе именно этого тарифа."
   ]
  },
  {
   "cell_type": "code",
   "execution_count": 39,
   "metadata": {
    "id": "g3dGOCdy16N6"
   },
   "outputs": [],
   "source": [
    "# df['overpay'] = df[['tariff', 'payment']].apply(\n",
    "#     lambda x: x['payment'] - tariffs.loc[x['tariff'], 'price'], axis=1)\n",
    "\n",
    "# overpays = df.pivot_table(\n",
    "#     index=['user_id'], values='overpay', aggfunc='sum'\n",
    "#     ).sort_values(by='overpay', ascending=False).head(100).index\n",
    "\n",
    "# users.loc[overpays, 'tariff'].value_counts(normalize=True)"
   ]
  },
  {
   "cell_type": "markdown",
   "metadata": {
    "id": "6EmNqXJ62G_f"
   },
   "source": [
    "~Тут я пытался посмотреть кто тратит больше всех деленег для выявления ЦА для выводов, но что-то не увидел ничего путного~"
   ]
  },
  {
   "cell_type": "markdown",
   "metadata": {
    "id": "bsm1Wzc413HK"
   },
   "source": [
    "\n",
    "\n",
    "Для окончательного решения нужно проверить гипотезы."
   ]
  },
  {
   "cell_type": "markdown",
   "metadata": {
    "id": "5iCSS887hMof"
   },
   "source": [
    "\n",
    "\n",
    "---\n",
    "\n"
   ]
  },
  {
   "cell_type": "markdown",
   "metadata": {
    "id": "mCV8B222hT7P"
   },
   "source": [
    "## Проверка гипотез\n",
    "<a id='hypothesis'></a>\n",
    "<a name='hypothesis'></a>"
   ]
  },
  {
   "cell_type": "markdown",
   "metadata": {
    "id": "qNrlsXhahi_m"
   },
   "source": [
    "Убедимся в правильности нашего выбора, сравнив среднюю выручку за месяц по каждому тарифу между собой:"
   ]
  },
  {
   "cell_type": "code",
   "execution_count": 40,
   "metadata": {
    "colab": {
     "base_uri": "https://localhost:8080/",
     "height": 295
    },
    "id": "-VQRq1DRh31o",
    "outputId": "9d3f7d7b-08e2-4bad-d7c6-118fb803e7b5"
   },
   "outputs": [
    {
     "data": {
      "image/png": "[encoded data removed]",
      "text/plain": [
       "<Figure size 432x288 with 1 Axes>"
      ]
     },
     "metadata": {
      "needs_background": "light"
     },
     "output_type": "display_data"
    }
   ],
   "source": [
    "sns.boxplot(\n",
    "    data=(df.query('tariff == 0')['payment'], \n",
    "          df.query('tariff == 1')['payment']), \n",
    "    orient=\"h\", \n",
    "    palette=\"Set2\")\n",
    "\n",
    "plt.grid()\n",
    "plt.title(\"Разброс ежемесячных платежей\")\n",
    "plt.yticks(ticks=[0, 1], labels=['smart', 'ultra'])\n",
    "plt.xlabel('Размер платежа')\n",
    "plt.ylabel('Тариф')\n",
    "\n",
    "plt.show()"
   ]
  },
  {
   "cell_type": "markdown",
   "metadata": {
    "id": "Ya9E7VsTma1n"
   },
   "source": [
    "Взглянем дополнительно на `describe()`:"
   ]
  },
  {
   "cell_type": "code",
   "execution_count": 41,
   "metadata": {
    "colab": {
     "base_uri": "https://localhost:8080/",
     "height": 297
    },
    "id": "1fwBLyvmmmIK",
    "outputId": "59834be7-e409-4cc1-e46e-a8ad871611d5"
   },
   "outputs": [
    {
     "data": {
      "text/html": [
       "<div>\n",
       "<style scoped>\n",
       "    .dataframe tbody tr th:only-of-type {\n",
       "        vertical-align: middle;\n",
       "    }\n",
       "\n",
       "    .dataframe tbody tr th {\n",
       "        vertical-align: top;\n",
       "    }\n",
       "\n",
       "    .dataframe thead th {\n",
       "        text-align: right;\n",
       "    }\n",
       "</style>\n",
       "<table border=\"1\" class=\"dataframe\">\n",
       "  <thead>\n",
       "    <tr style=\"text-align: right;\">\n",
       "      <th></th>\n",
       "      <th>payment_smart</th>\n",
       "      <th>payment_ultra</th>\n",
       "    </tr>\n",
       "  </thead>\n",
       "  <tbody>\n",
       "    <tr>\n",
       "      <td>count</td>\n",
       "      <td>2229.000000</td>\n",
       "      <td>985.000000</td>\n",
       "    </tr>\n",
       "    <tr>\n",
       "      <td>mean</td>\n",
       "      <td>1294.639300</td>\n",
       "      <td>2071.065990</td>\n",
       "    </tr>\n",
       "    <tr>\n",
       "      <td>std</td>\n",
       "      <td>820.933202</td>\n",
       "      <td>378.802377</td>\n",
       "    </tr>\n",
       "    <tr>\n",
       "      <td>min</td>\n",
       "      <td>550.000000</td>\n",
       "      <td>1950.000000</td>\n",
       "    </tr>\n",
       "    <tr>\n",
       "      <td>25%</td>\n",
       "      <td>550.000000</td>\n",
       "      <td>1950.000000</td>\n",
       "    </tr>\n",
       "    <tr>\n",
       "      <td>50%</td>\n",
       "      <td>1038.000000</td>\n",
       "      <td>1950.000000</td>\n",
       "    </tr>\n",
       "    <tr>\n",
       "      <td>75%</td>\n",
       "      <td>1750.000000</td>\n",
       "      <td>1950.000000</td>\n",
       "    </tr>\n",
       "    <tr>\n",
       "      <td>max</td>\n",
       "      <td>6770.000000</td>\n",
       "      <td>4800.000000</td>\n",
       "    </tr>\n",
       "  </tbody>\n",
       "</table>\n",
       "</div>"
      ],
      "text/plain": [
       "       payment_smart  payment_ultra\n",
       "count    2229.000000     985.000000\n",
       "mean     1294.639300    2071.065990\n",
       "std       820.933202     378.802377\n",
       "min       550.000000    1950.000000\n",
       "25%       550.000000    1950.000000\n",
       "50%      1038.000000    1950.000000\n",
       "75%      1750.000000    1950.000000\n",
       "max      6770.000000    4800.000000"
      ]
     },
     "execution_count": 41,
     "metadata": {},
     "output_type": "execute_result"
    }
   ],
   "source": [
    "df.query('tariff == 0')['payment'].describe().to_frame().join(\n",
    "    df.query('tariff == 1')['payment'].describe(),\n",
    "    lsuffix='_smart',\n",
    "    rsuffix='_ultra')"
   ]
  },
  {
   "cell_type": "markdown",
   "metadata": {
    "id": "yEmuwKK3nqDl"
   },
   "source": [
    "Проверим, можно ли вообще считать все эти отличия значимыми.\n",
    "\n",
    "- $H_0$ - средние равны\n",
    "- $H_1$ - средние отличаются\n",
    "\n",
    "Используем критерий Стьюдента для проверки гипотезы о равенстве двух средних.\n",
    "\n",
    "*equal_var* передадим *False*, так как стандартное отклонение отличается очень сильно, доверительный интервал примем как стандартные 5%:"
   ]
  },
  {
   "cell_type": "code",
   "execution_count": 42,
   "metadata": {
    "colab": {
     "base_uri": "https://localhost:8080/"
    },
    "id": "hnVUm6OUpaCP",
    "outputId": "24b72124-fccd-4c00-a416-60555312f1e8"
   },
   "outputs": [
    {
     "data": {
      "text/plain": [
       "True"
      ]
     },
     "execution_count": 42,
     "metadata": {},
     "output_type": "execute_result"
    }
   ],
   "source": [
    "pval = scipy.stats.ttest_ind(df.query('tariff == 0')['payment'],\n",
    "                      df.query('tariff == 1')['payment'],\n",
    "                      equal_var=False).pvalue\n",
    "\n",
    "pval < 0.05"
   ]
  },
  {
   "cell_type": "markdown",
   "metadata": {
    "id": "jYlig7RJq83S"
   },
   "source": [
    "У нас есть все основания отклонить нулевую гипотезу. Следовательно, мы можем сделать вывод, что различия между тарифами существенны.\n",
    "\n",
    "Взглянем на выборку только по столице, и сравним её со всей страной.\n",
    "- $H_0$ - средние равны\n",
    "- $H_1$ - средние отличаются\n",
    "\n",
    "На всякий случай проверим дополнительно размер выборки по столице:"
   ]
  },
  {
   "cell_type": "code",
   "execution_count": 43,
   "metadata": {
    "colab": {
     "base_uri": "https://localhost:8080/"
    },
    "id": "jlb9z27zsWkO",
    "outputId": "12b1cc58-7690-414d-e1fe-f1c8e7d00a6c"
   },
   "outputs": [
    {
     "data": {
      "text/plain": [
       "611"
      ]
     },
     "execution_count": 43,
     "metadata": {},
     "output_type": "execute_result"
    }
   ],
   "source": [
    "df.query('city == \"Москва\"')['payment'].count()"
   ]
  },
  {
   "cell_type": "markdown",
   "metadata": {
    "id": "VpEEwOm4sYLG"
   },
   "source": [
    "611 записей достаточно для критерия Стьюдента."
   ]
  },
  {
   "cell_type": "code",
   "execution_count": 44,
   "metadata": {
    "colab": {
     "base_uri": "https://localhost:8080/"
    },
    "id": "DWmGWEqrrS27",
    "outputId": "d198d8d3-38e2-44ac-8b4c-6f0ca20fbd18"
   },
   "outputs": [
    {
     "data": {
      "text/plain": [
       "False"
      ]
     },
     "execution_count": 44,
     "metadata": {},
     "output_type": "execute_result"
    }
   ],
   "source": [
    "pval = scipy.stats.ttest_ind(df.query('city == \"Москва\"')['payment'],\n",
    "                      df.query('city != \"Москва\"')['payment'],\n",
    "                      equal_var=False).pvalue\n",
    "\n",
    "pval < 0.05"
   ]
  },
  {
   "cell_type": "markdown",
   "metadata": {
    "id": "o-L7XdmtrlKi"
   },
   "source": [
    "У нас нет оснований отклонять нулевую гипотезу, следовательно, можно утверждать, что выручка по Москве не отличается от средней выручки по России.\n",
    "\n",
    "Сравним выборки по Москве и Питеру"
   ]
  },
  {
   "cell_type": "code",
   "execution_count": 45,
   "metadata": {
    "colab": {
     "base_uri": "https://localhost:8080/"
    },
    "id": "5PxEP7_AsilX",
    "outputId": "0cbfe6a1-9737-490b-ec21-136f35ea1a57"
   },
   "outputs": [
    {
     "data": {
      "text/plain": [
       "270"
      ]
     },
     "execution_count": 45,
     "metadata": {},
     "output_type": "execute_result"
    }
   ],
   "source": [
    "df.query('city == \"Санкт-Петербург\"')['payment'].count()"
   ]
  },
  {
   "cell_type": "code",
   "execution_count": 46,
   "metadata": {
    "colab": {
     "base_uri": "https://localhost:8080/"
    },
    "id": "GWHZl2IXsj2-",
    "outputId": "bd901243-059c-450a-f46e-a92d1e95c30e"
   },
   "outputs": [
    {
     "data": {
      "text/plain": [
       "False"
      ]
     },
     "execution_count": 46,
     "metadata": {},
     "output_type": "execute_result"
    }
   ],
   "source": [
    "pval = scipy.stats.ttest_ind(df.query('city == \"Москва\"')['payment'],\n",
    "                      df.query('city == \"Санкт-Петербург\"')['payment'],\n",
    "                      equal_var=False).pvalue\n",
    "\n",
    "pval < 0.05"
   ]
  },
  {
   "cell_type": "markdown",
   "metadata": {
    "id": "kGFlduC8sr7-"
   },
   "source": [
    "В данном случае выборки тоже не отличаются друг от друга."
   ]
  },
  {
   "cell_type": "markdown",
   "metadata": {
    "id": "9GHHLxUctQEe"
   },
   "source": [
    "\n",
    "\n",
    "---\n",
    "\n"
   ]
  },
  {
   "cell_type": "markdown",
   "metadata": {
    "id": "rOwQIfHJsx9e"
   },
   "source": [
    "## Выводы\n",
    "<a id='conclusions'></a>\n",
    "<a name='conclusions'></a>"
   ]
  },
  {
   "cell_type": "markdown",
   "metadata": {
    "id": "swDdVsfGtRd5"
   },
   "source": [
    "Проведя анализ выборки из 500 пользователей и подкрепив выводы с помощью проверки гипотезы о равенстве средних, мы с полной уверенностью можем сделать вывод, что наиболее востребованным тарифом является тариф smart.\n",
    "\n",
    "- у него больше пользователей (у 70% пользователей тариф smart)\n",
    "- у него больше выручка за год (3 миллиона против 2)\n",
    "- его пользователи намного чаще покупают дополнительные пакеты минут, трафика и сообщений(74% пользователей против 12%), из-за чего платят намного больше стандартной цены тарифа(среди 100 самых переплативших пользователей 96% - с тарифом smart), что позволит при правильной рекламе зарабатывать ещё больше\n",
    "\n"
   ]
  }
 ],
 "metadata": {
  "colab": {
   "collapsed_sections": [],
   "name": "orlov_project3_v1_review.ipynb",
   "provenance": []
  },
  "kernelspec": {
   "display_name": "Python 3",
   "language": "python",
   "name": "python3"
  },
  "language_info": {
   "codemirror_mode": {
    "name": "ipython",
    "version": 3
   },
   "file_extension": ".py",
   "mimetype": "text/x-python",
   "name": "python",
   "nbconvert_exporter": "python",
   "pygments_lexer": "ipython3",
   "version": "3.8.3"
  },
  "toc": {
   "base_numbering": 1,
   "nav_menu": {},
   "number_sections": true,
   "sideBar": true,
   "skip_h1_title": true,
   "title_cell": "Table of Contents",
   "title_sidebar": "Contents",
   "toc_cell": false,
   "toc_position": {},
   "toc_section_display": true,
   "toc_window_display": false
  }
 },
 "nbformat": 4,
 "nbformat_minor": 1
}
